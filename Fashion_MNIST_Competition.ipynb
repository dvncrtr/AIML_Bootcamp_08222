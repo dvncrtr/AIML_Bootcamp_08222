{
  "nbformat": 4,
  "nbformat_minor": 0,
  "metadata": {
    "colab": {
      "name": "Fashion MNIST Competition",
      "provenance": [],
      "collapsed_sections": [],
      "machine_shape": "hm",
      "include_colab_link": true
    },
    "kernelspec": {
      "name": "python3",
      "display_name": "Python 3"
    },
    "accelerator": "TPU",
    "gpuClass": "standard"
  },
  "cells": [
    {
      "cell_type": "markdown",
      "metadata": {
        "id": "view-in-github",
        "colab_type": "text"
      },
      "source": [
        "<a href=\"https://colab.research.google.com/github/dvncrtr/AIML_Bootcamp_08222/blob/main/Fashion_MNIST_Competition.ipynb\" target=\"_parent\"><img src=\"https://colab.research.google.com/assets/colab-badge.svg\" alt=\"Open In Colab\"/></a>"
      ]
    },
    {
      "cell_type": "markdown",
      "metadata": {
        "id": "uHwxGemYV_FT"
      },
      "source": [
        "# Fashion MNIST Competition!\n",
        "**Author**: W. Tod Newman\n",
        "\n",
        "**Updates**: New Version\n",
        "\n",
        "## Problem\n",
        "\n",
        "Classify images from the \"Fashion MNIST\" data set.   Optimize the test accuracy.\n",
        "\n",
        "## Metrics\n",
        "\n",
        "This competition is evaluated on the mean Dice coefficient. The Dice coefficient can be used to compare the pixel-wise agreement between a predicted segmentation and its corresponding ground truth. The formula is given by:![alt text](https://user-images.githubusercontent.com/26015273/41822460-2ca0a90a-77f0-11e8-9c71-7e88fa6b5c61.gif)\n",
        "\n",
        "\n",
        "The double sum is over the observations `i`, whose number is `N`, and the categories `c`, whose number is `C`. The term `1_{y_i \\in C_c}` is the indicator function of the `i`th observation belonging to the `c`th category. The `p_{model}[y_i \\in C_c]` is the probability predicted by the model for the `i`th observation to belong to the `c`th category. When there are more than two categories, the neural network outputs a vector of `C` probabilities, each giving the probability that the network input should be classified as belonging to the respective category. When the number of categories is just two, the neural network outputs a single probability `\\hat{y}_i`, with the other one being `1` minus the output. This is why the binary cross entropy looks a bit different from categorical cross entropy, despite being a special case of it.\n",
        "\n",
        "## Dataset\n",
        "\n",
        "This dataset is the Fashion MNIST dataset\n",
        "\n",
        "Recently, the researchers at Zalando, an e-commerce company, introduced Fashion MNIST as a drop-in replacement for the original MNIST dataset. Like MNIST, Fashion MNIST consists of a training set consisting of 60,000 examples belonging to 10 different classes and a test set of 10,000 examples. Each training example is a gray-scale image, 28x28 in size. The authors of the work further claim that the Fashion MNIST should actually replace MNIST dataset for benchmarking of new Machine Learning or Computer Vision models.\n",
        "\n",
        "Each image is 28 pixels in height and 28 pixels in width, for a total of 784 pixels in total. Each pixel has a single pixel-value associated with it, indicating the lightness or darkness of that pixel, with higher numbers meaning darker. This pixel-value is an integer between 0 and 255. The training and test data sets have 785 columns. The first column consists of the class labels (see above), and represents the article of clothing. The rest of the columns contain the pixel-values of the associated image.\n",
        "\n",
        "The Labels are:  \n",
        "0 T-shirt/top\n",
        "1 Trouser\n",
        "2 Pullover\n",
        "3 Dress\n",
        "4 Coat\n",
        "5 Sandal\n",
        "6 Shirt\n",
        "7 Sneaker\n",
        "8 Bag\n",
        "9 Ankle boot \n",
        "\n",
        "## Objective\n",
        "\n",
        "In this competition, you can try different variations of the CNN model given as a reference, you may evaluate techniques to squeeze more performance out of a CNN, or you might even try a completely different model, neural network or otherwise.  You will note that there are tips/tricks/techniques documented in many locations on the internet that could be useful.\n",
        "\n",
        "## Rules and Timeline\n",
        "\n",
        "The primary measure for the competition will be the accuracy of prediction on the test data.  Ties will be broken by Precision accuracy first, then Recall Accuracy if needed.\n",
        "\n",
        "The results will be revealed at the end of the last day of class.  Please submit your Metrics blocks (Starts with SUBMIT... and ends with END SUBMISSION) to instructors (wtnewman@raytheon.com) before lunch.\n",
        "\n",
        "A prize will be given to the top finisher(s) based on the judgement of the instructor and the availability of prizes.\n"
      ]
    },
    {
      "cell_type": "code",
      "metadata": {
        "id": "V0A2_Mo0KxWc"
      },
      "source": [
        "from tensorflow import keras\n",
        "from keras.datasets import fashion_mnist\n",
        "from keras.models import Sequential\n",
        "from keras.layers import Dense, Dropout, Flatten,  Conv2D, MaxPooling2D, Activation, BatchNormalization\n",
        "from keras import backend as K\n",
        "from keras.callbacks import EarlyStopping\n",
        "from sklearn import metrics\n",
        "from sklearn.metrics import confusion_matrix\n",
        "import numpy as np\n",
        "import tensorflow as tf\n",
        "import matplotlib.pyplot as plt\n",
        "from sklearn.model_selection import train_test_split\n",
        "from keras.preprocessing.image import ImageDataGenerator\n",
        "from keras.callbacks import TensorBoard,  ModelCheckpoint\n",
        "from keras.layers.advanced_activations import LeakyReLU\n",
        "import os\n",
        "%matplotlib inline\n",
        "os.environ['TF_CPP_MIN_LOG_LEVEL'] = \"2\""
      ],
      "execution_count": 1,
      "outputs": []
    },
    {
      "cell_type": "markdown",
      "metadata": {
        "id": "3y6VjlzZLKPB"
      },
      "source": [
        "## Set Up Variables"
      ]
    },
    {
      "cell_type": "code",
      "metadata": {
        "id": "LtL1H333LHGz"
      },
      "source": [
        "epochs = 800                 # Number of Training Epochs\n",
        "num_classes = 10            # This is the number of classes in the Fashion MNIST dataset\n",
        "batch_size = 1500            # This parameter can be adjusted\n",
        "img_rows, img_cols = 28, 28 # Pixel sizes of the Images in the Dataset"
      ],
      "execution_count": 2,
      "outputs": []
    },
    {
      "cell_type": "markdown",
      "metadata": {
        "id": "4SW52B7dT9H5"
      },
      "source": [
        "## Gather and Process Fashion MNIST data\n",
        "\n",
        "1. First, collect the data from Keras (our goal is someday that our organizational data is this easy to get!)\n",
        "2. Then split into train and test sets.\n",
        "3. Next we need to process the data into the proper shape for the CNN\n",
        "4. Then scale the floats to land between 0 and 1.  Often times we use sklearn's MinMaxScaler for this, but in this case we're going for simplicity.\n",
        "5. Next take the y_train and y_test labels and encode them one-hot.  This will enable the CNN to function."
      ]
    },
    {
      "cell_type": "code",
      "metadata": {
        "id": "GZENio2YLPUy",
        "colab": {
          "base_uri": "https://localhost:8080/"
        },
        "outputId": "7dd1d899-6a44-43e5-8b24-47223ab99669"
      },
      "source": [
        "# Grab the data from the keras repository\n",
        "\n",
        "mnist_data = fashion_mnist.load_data()\n",
        "x = mnist_data[0][0]\n",
        "y = mnist_data[0][1]\n",
        "\n",
        "x_train, x_test, y_train, y_test = train_test_split(x, y, test_size=0.33, random_state=41)\n",
        "\n",
        "# Process the date into the right tensor shape.  This is a good practice, but\n",
        "# usually tensorflow uses channels last (the 'else' here)\n",
        "\n",
        "if K.image_data_format() == \"channels first\":\n",
        "    x_train = x_train.reshape(x_train.shape[0], 1, img_rows, img_cols)\n",
        "    x_test = x_test.reshape(x_test.shape[0], 1, img_rows, img_cols)\n",
        "    input_shape = (1, img_rows, img_cols)\n",
        "else:\n",
        "    x_train = x_train.reshape(x_train.shape[0], img_rows, img_cols, 1)\n",
        "    x_test = x_test.reshape(x_test.shape[0], img_rows, img_cols, 1)\n",
        "    input_shape = (img_rows, img_cols, 1)\n",
        "    \n",
        "#\n",
        "#  Cast to a 32 bit float and then scale so the value is a float between 0 and 1\n",
        "    \n",
        "x_train = x_train.astype(\"float32\")\n",
        "x_test = x_test.astype(\"float32\")\n",
        "x_train /= 255\n",
        "x_test /= 255\n",
        "\n",
        "#\n",
        "# Convert Class Vector to Binary Class Matrices (one-hot encoding).\n",
        "y_train = keras.utils.to_categorical(y_train, num_classes)\n",
        "y_test = keras.utils.to_categorical(y_test, num_classes)\n",
        "print(y_test.shape)\n",
        "\n",
        "#\n",
        "# Function to decode one-hot encoding later on when we want to evaluate performance.\n",
        "def decode_one_hot(y):\n",
        "    y_classes = [np.argmax(yi, axis=None, out=None) for yi in y]\n",
        "    return y_classes\n",
        "\n",
        "'''\n",
        "\n",
        "Below we're experimenting with the Keras ImageDataGenerator.  From my experience, if these parameters\n",
        "are set too aggressively, the loss/accuracy will either never improve or it will take too long to improve.\n",
        "Below is an example of a complex data augmentation regime.  This is just for reference.  See my more simple\n",
        "one at the bottom.\n",
        "\n",
        "    \n",
        "datagen = ImageDataGenerator(rotation_range=0.5, \n",
        "                                 zoom_range=0.1,\n",
        "                                 featurewise_center=True,\n",
        "                                 #featurewise_std_normalization=True,\n",
        "                                 width_shift_range=0.1, \n",
        "                                 height_shift_range=0.1, \n",
        "                                 shear_range=0.1,\n",
        "                                 horizontal_flip=True, \n",
        "                                 fill_mode=\"nearest\")\n",
        "'''\n",
        "#\n",
        "#  Set up our Image Augmentation Data Generator\n",
        "#\n",
        "#datagen = ImageDataGenerator(rotation_range=5)\n",
        "#datagen = ImageDataGenerator(preprocessing_function=tf.keras.applications.vgg16.preprocess_input)\n",
        "datagen = ImageDataGenerator(rotation_range=5,\n",
        "                             #width_shift_range=0.1,\n",
        "                             #height_shift_range=0.1,\n",
        "                             #shear_range=0.1,\n",
        "                             #zoom_range=0.1,\n",
        "                             horizontal_flip=True,\n",
        "                             vertical_flip=True)\n",
        "                             #fill_mode='nearest')\n",
        "datagen.fit(x_train)"
      ],
      "execution_count": 3,
      "outputs": [
        {
          "output_type": "stream",
          "name": "stdout",
          "text": [
            "Downloading data from https://storage.googleapis.com/tensorflow/tf-keras-datasets/train-labels-idx1-ubyte.gz\n",
            "32768/29515 [=================================] - 0s 0us/step\n",
            "40960/29515 [=========================================] - 0s 0us/step\n",
            "Downloading data from https://storage.googleapis.com/tensorflow/tf-keras-datasets/train-images-idx3-ubyte.gz\n",
            "26427392/26421880 [==============================] - 0s 0us/step\n",
            "26435584/26421880 [==============================] - 0s 0us/step\n",
            "Downloading data from https://storage.googleapis.com/tensorflow/tf-keras-datasets/t10k-labels-idx1-ubyte.gz\n",
            "16384/5148 [===============================================================================================] - 0s 0us/step\n",
            "Downloading data from https://storage.googleapis.com/tensorflow/tf-keras-datasets/t10k-images-idx3-ubyte.gz\n",
            "4423680/4422102 [==============================] - 0s 0us/step\n",
            "4431872/4422102 [==============================] - 0s 0us/step\n",
            "(19800, 10)\n"
          ]
        }
      ]
    },
    {
      "cell_type": "markdown",
      "metadata": {
        "id": "8FcFnUPDLvnO"
      },
      "source": [
        "## Build the Model\n",
        "\n",
        "* In this example, we define the below block as a Sequential Model. \n",
        "* See the excellent [Keras Documentation](https://keras.io/guides/sequential_model/) on Sequential Models for info.\n",
        "* Many of these parameters can be experimented with.  The documentation will help you understand how much to experiment."
      ]
    },
    {
      "cell_type": "code",
      "metadata": {
        "id": "8EWdo8mALXB9",
        "colab": {
          "base_uri": "https://localhost:8080/"
        },
        "outputId": "33a908b4-257d-4466-ed76-a53d28d163a0"
      },
      "source": [
        "#\n",
        "# This is what is known as a Tensorflow (Keras) Sequential model\n",
        "# We will talk at some level about each of these layer types in class.\n",
        "#\n",
        "model = Sequential()\n",
        "\n",
        "model.add(Conv2D(32, kernel_size=(3,3), input_shape=input_shape,padding='Same'))\n",
        "model.add(Dropout(0.1))\n",
        "model.add(Activation('relu'))\n",
        "model.add(MaxPooling2D(pool_size=(2,2),strides=2))\n",
        "model.add(Conv2D(32, kernel_size=(3,3),padding='Same'))\n",
        "model.add(LeakyReLU(alpha=0.05))\n",
        "model.add(Dropout(0.1))\n",
        "model.add(MaxPooling2D(pool_size=(2,2),strides=(2,2)))\n",
        "model.add(Activation('relu'))\n",
        "\n",
        "model.add(Conv2D(64, kernel_size=(3,3),padding='Same'))\n",
        "model.add(LeakyReLU(alpha=0.05))\n",
        "model.add(Dropout(0.1))\n",
        "\n",
        "#model.add(Conv2D(64, kernel_size=(3,3),padding='Same'))\n",
        "#model.add(LeakyReLU(alpha=0.05))\n",
        "m#odel.add(Dropout(0.1))\n",
        "\n",
        "model.add(Flatten())\n",
        "#model.add(Dense(128))  \n",
        "#model.add(Activation('relu'))\n",
        "model.add(Dropout(0.3))\n",
        "model.add(Dense(num_classes, activation=\"softmax\"))\n",
        "\n",
        "my_callbacks = [ModelCheckpoint('model_out.hdf5', monitor='acc', save_best_only=True, period=1)]\n"
      ],
      "execution_count": 4,
      "outputs": [
        {
          "output_type": "stream",
          "name": "stderr",
          "text": [
            "WARNING:tensorflow:`period` argument is deprecated. Please use `save_freq` to specify the frequency in number of batches seen.\n"
          ]
        }
      ]
    },
    {
      "cell_type": "markdown",
      "metadata": {
        "id": "fvIfjap-L8TO"
      },
      "source": [
        "## Fit and Evaluate the Model"
      ]
    },
    {
      "cell_type": "code",
      "metadata": {
        "id": "n5U20dV1L-eP",
        "colab": {
          "base_uri": "https://localhost:8080/"
        },
        "outputId": "d0a15534-fb58-44d1-a21c-00fdd182a5b5"
      },
      "source": [
        "# Flag to determine whether we use Keras' Image augmentation data generator\n",
        "augmentation = True\n",
        "\n",
        "#\n",
        "# Compile the model so we can fit it. Researching loss functions and optimizers\n",
        "# might be a good thing to do.\n",
        "#\n",
        "model.compile(loss=keras.losses.categorical_crossentropy, \n",
        "              optimizer=keras.optimizers.Adadelta(), \n",
        "              metrics=['accuracy',\n",
        "                       tf.keras.metrics.Precision(),\n",
        "                       tf.keras.metrics.Recall()])\n",
        "\n",
        "if not augmentation:\n",
        "    #\n",
        "    # Fit the model.  Once the model is trained we'll evaluate the performance.\n",
        "    print('not using image augmentation')\n",
        "    hist = model.fit(x_train, y_train,\n",
        "          batch_size=batch_size,\n",
        "          epochs=epochs,\n",
        "          verbose=1,\n",
        "          validation_data=(x_test, y_test),\n",
        "          callbacks=my_callbacks)\n",
        "else:\n",
        "# fits the model on batches with real-time data augmentation:\n",
        "    hist = model.fit_generator(datagen.flow(x_train, y_train, batch_size=batch_size),\n",
        "                           steps_per_epoch=len(x_train) / batch_size, validation_data=(x_test, y_test),\n",
        "                           epochs=epochs, verbose=1, callbacks=my_callbacks, workers = 2)\n",
        "\n",
        "\n",
        "score = model.evaluate(x_test, y_test)\n",
        "\n",
        "#\n",
        "# Predict on the test data and pass to metrics function\n",
        "yhat = np.argmax(model.predict(x_test), axis=-1)\n",
        "y_dec = decode_one_hot(y_test)\n",
        "\n",
        "print(\"\\nSUBMIT THIS BLOCK for the Competition\\n\")\n",
        "print(metrics.classification_report(y_dec, yhat))\n",
        "print(\"Testing Loss:\", score[0])\n",
        "print(\"Testing Accuracy:\", score[1])\n",
        "print(\"END SUBMISSION BLOCK\\n\")\n",
        "\n",
        "model.summary()\n",
        "\n"
      ],
      "execution_count": 5,
      "outputs": [
        {
          "metadata": {
            "tags": null
          },
          "name": "stderr",
          "output_type": "stream",
          "text": [
            "/usr/local/lib/python3.7/dist-packages/ipykernel_launcher.py:28: UserWarning: `Model.fit_generator` is deprecated and will be removed in a future version. Please use `Model.fit`, which supports generators.\n"
          ]
        },
        {
          "metadata": {
            "tags": null
          },
          "name": "stdout",
          "output_type": "stream",
          "text": [
            "Epoch 1/800\n",
            "58/57 [==============================] - ETA: 0s - loss: 2.3069 - accuracy: 0.0963 - precision: 0.0000e+00 - recall: 0.0000e+00"
          ]
        },
        {
          "metadata": {
            "tags": null
          },
          "name": "stderr",
          "output_type": "stream",
          "text": [
            "WARNING:tensorflow:Can save best model only with acc available, skipping.\n"
          ]
        },
        {
          "metadata": {
            "tags": null
          },
          "name": "stdout",
          "output_type": "stream",
          "text": [
            "57/57 [==============================] - 19s 310ms/step - loss: 2.3069 - accuracy: 0.0963 - precision: 0.0000e+00 - recall: 0.0000e+00 - val_loss: 2.3014 - val_accuracy: 0.1055 - val_precision: 0.0000e+00 - val_recall: 0.0000e+00\n",
            "Epoch 2/800\n",
            "58/57 [==============================] - ETA: 0s - loss: 2.3046 - accuracy: 0.0984 - precision: 0.0000e+00 - recall: 0.0000e+00"
          ]
        },
        {
          "metadata": {
            "tags": null
          },
          "name": "stderr",
          "output_type": "stream",
          "text": [
            "WARNING:tensorflow:Can save best model only with acc available, skipping.\n"
          ]
        },
        {
          "metadata": {
            "tags": null
          },
          "name": "stdout",
          "output_type": "stream",
          "text": [
            "57/57 [==============================] - 17s 298ms/step - loss: 2.3046 - accuracy: 0.0984 - precision: 0.0000e+00 - recall: 0.0000e+00 - val_loss: 2.2994 - val_accuracy: 0.1055 - val_precision: 0.0000e+00 - val_recall: 0.0000e+00\n",
            "Epoch 3/800\n",
            "58/57 [==============================] - ETA: 0s - loss: 2.3018 - accuracy: 0.1019 - precision: 0.0000e+00 - recall: 0.0000e+00"
          ]
        },
        {
          "metadata": {
            "tags": null
          },
          "name": "stderr",
          "output_type": "stream",
          "text": [
            "WARNING:tensorflow:Can save best model only with acc available, skipping.\n"
          ]
        },
        {
          "metadata": {
            "tags": null
          },
          "name": "stdout",
          "output_type": "stream",
          "text": [
            "57/57 [==============================] - 17s 297ms/step - loss: 2.3018 - accuracy: 0.1019 - precision: 0.0000e+00 - recall: 0.0000e+00 - val_loss: 2.2974 - val_accuracy: 0.1055 - val_precision: 0.0000e+00 - val_recall: 0.0000e+00\n",
            "Epoch 4/800\n",
            "58/57 [==============================] - ETA: 0s - loss: 2.3002 - accuracy: 0.1056 - precision: 0.0000e+00 - recall: 0.0000e+00"
          ]
        },
        {
          "metadata": {
            "tags": null
          },
          "name": "stderr",
          "output_type": "stream",
          "text": [
            "WARNING:tensorflow:Can save best model only with acc available, skipping.\n"
          ]
        },
        {
          "metadata": {
            "tags": null
          },
          "name": "stdout",
          "output_type": "stream",
          "text": [
            "57/57 [==============================] - 17s 298ms/step - loss: 2.3002 - accuracy: 0.1056 - precision: 0.0000e+00 - recall: 0.0000e+00 - val_loss: 2.2954 - val_accuracy: 0.1056 - val_precision: 0.0000e+00 - val_recall: 0.0000e+00\n",
            "Epoch 5/800\n",
            "58/57 [==============================] - ETA: 0s - loss: 2.2972 - accuracy: 0.1141 - precision: 0.0000e+00 - recall: 0.0000e+00"
          ]
        },
        {
          "metadata": {
            "tags": null
          },
          "name": "stderr",
          "output_type": "stream",
          "text": [
            "WARNING:tensorflow:Can save best model only with acc available, skipping.\n"
          ]
        },
        {
          "metadata": {
            "tags": null
          },
          "name": "stdout",
          "output_type": "stream",
          "text": [
            "57/57 [==============================] - 17s 295ms/step - loss: 2.2972 - accuracy: 0.1141 - precision: 0.0000e+00 - recall: 0.0000e+00 - val_loss: 2.2934 - val_accuracy: 0.1060 - val_precision: 0.0000e+00 - val_recall: 0.0000e+00\n",
            "Epoch 6/800\n",
            "58/57 [==============================] - ETA: 0s - loss: 2.2954 - accuracy: 0.1129 - precision: 0.0000e+00 - recall: 0.0000e+00"
          ]
        },
        {
          "metadata": {
            "tags": null
          },
          "name": "stderr",
          "output_type": "stream",
          "text": [
            "WARNING:tensorflow:Can save best model only with acc available, skipping.\n"
          ]
        },
        {
          "metadata": {
            "tags": null
          },
          "name": "stdout",
          "output_type": "stream",
          "text": [
            "57/57 [==============================] - 17s 301ms/step - loss: 2.2954 - accuracy: 0.1129 - precision: 0.0000e+00 - recall: 0.0000e+00 - val_loss: 2.2914 - val_accuracy: 0.1065 - val_precision: 0.0000e+00 - val_recall: 0.0000e+00\n",
            "Epoch 7/800\n",
            "58/57 [==============================] - ETA: 0s - loss: 2.2935 - accuracy: 0.1147 - precision: 0.0000e+00 - recall: 0.0000e+00"
          ]
        },
        {
          "metadata": {
            "tags": null
          },
          "name": "stderr",
          "output_type": "stream",
          "text": [
            "WARNING:tensorflow:Can save best model only with acc available, skipping.\n"
          ]
        },
        {
          "metadata": {
            "tags": null
          },
          "name": "stdout",
          "output_type": "stream",
          "text": [
            "57/57 [==============================] - 17s 295ms/step - loss: 2.2935 - accuracy: 0.1147 - precision: 0.0000e+00 - recall: 0.0000e+00 - val_loss: 2.2894 - val_accuracy: 0.1075 - val_precision: 0.0000e+00 - val_recall: 0.0000e+00\n",
            "Epoch 8/800\n",
            "58/57 [==============================] - ETA: 0s - loss: 2.2904 - accuracy: 0.1198 - precision: 0.0000e+00 - recall: 0.0000e+00"
          ]
        },
        {
          "metadata": {
            "tags": null
          },
          "name": "stderr",
          "output_type": "stream",
          "text": [
            "WARNING:tensorflow:Can save best model only with acc available, skipping.\n"
          ]
        },
        {
          "metadata": {
            "tags": null
          },
          "name": "stdout",
          "output_type": "stream",
          "text": [
            "57/57 [==============================] - 18s 305ms/step - loss: 2.2904 - accuracy: 0.1198 - precision: 0.0000e+00 - recall: 0.0000e+00 - val_loss: 2.2874 - val_accuracy: 0.1089 - val_precision: 0.0000e+00 - val_recall: 0.0000e+00\n",
            "Epoch 9/800\n",
            "58/57 [==============================] - ETA: 0s - loss: 2.2886 - accuracy: 0.1241 - precision: 0.0000e+00 - recall: 0.0000e+00"
          ]
        },
        {
          "metadata": {
            "tags": null
          },
          "name": "stderr",
          "output_type": "stream",
          "text": [
            "WARNING:tensorflow:Can save best model only with acc available, skipping.\n"
          ]
        },
        {
          "metadata": {
            "tags": null
          },
          "name": "stdout",
          "output_type": "stream",
          "text": [
            "57/57 [==============================] - 17s 293ms/step - loss: 2.2886 - accuracy: 0.1241 - precision: 0.0000e+00 - recall: 0.0000e+00 - val_loss: 2.2854 - val_accuracy: 0.1104 - val_precision: 0.0000e+00 - val_recall: 0.0000e+00\n",
            "Epoch 10/800\n",
            "58/57 [==============================] - ETA: 0s - loss: 2.2863 - accuracy: 0.1277 - precision: 0.0000e+00 - recall: 0.0000e+00"
          ]
        },
        {
          "metadata": {
            "tags": null
          },
          "name": "stderr",
          "output_type": "stream",
          "text": [
            "WARNING:tensorflow:Can save best model only with acc available, skipping.\n"
          ]
        },
        {
          "metadata": {
            "tags": null
          },
          "name": "stdout",
          "output_type": "stream",
          "text": [
            "57/57 [==============================] - 17s 300ms/step - loss: 2.2863 - accuracy: 0.1277 - precision: 0.0000e+00 - recall: 0.0000e+00 - val_loss: 2.2833 - val_accuracy: 0.1127 - val_precision: 0.0000e+00 - val_recall: 0.0000e+00\n",
            "Epoch 11/800\n",
            "58/57 [==============================] - ETA: 0s - loss: 2.2829 - accuracy: 0.1315 - precision: 0.0000e+00 - recall: 0.0000e+00"
          ]
        },
        {
          "metadata": {
            "tags": null
          },
          "name": "stderr",
          "output_type": "stream",
          "text": [
            "WARNING:tensorflow:Can save best model only with acc available, skipping.\n"
          ]
        },
        {
          "metadata": {
            "tags": null
          },
          "name": "stdout",
          "output_type": "stream",
          "text": [
            "57/57 [==============================] - 17s 297ms/step - loss: 2.2829 - accuracy: 0.1315 - precision: 0.0000e+00 - recall: 0.0000e+00 - val_loss: 2.2812 - val_accuracy: 0.1154 - val_precision: 0.0000e+00 - val_recall: 0.0000e+00\n",
            "Epoch 12/800\n",
            "58/57 [==============================] - ETA: 0s - loss: 2.2819 - accuracy: 0.1343 - precision: 0.0000e+00 - recall: 0.0000e+00"
          ]
        },
        {
          "metadata": {
            "tags": null
          },
          "name": "stderr",
          "output_type": "stream",
          "text": [
            "WARNING:tensorflow:Can save best model only with acc available, skipping.\n"
          ]
        },
        {
          "metadata": {
            "tags": null
          },
          "name": "stdout",
          "output_type": "stream",
          "text": [
            "57/57 [==============================] - 18s 303ms/step - loss: 2.2819 - accuracy: 0.1343 - precision: 0.0000e+00 - recall: 0.0000e+00 - val_loss: 2.2792 - val_accuracy: 0.1192 - val_precision: 0.0000e+00 - val_recall: 0.0000e+00\n",
            "Epoch 13/800\n",
            "58/57 [==============================] - ETA: 0s - loss: 2.2783 - accuracy: 0.1400 - precision: 0.0000e+00 - recall: 0.0000e+00"
          ]
        },
        {
          "metadata": {
            "tags": null
          },
          "name": "stderr",
          "output_type": "stream",
          "text": [
            "WARNING:tensorflow:Can save best model only with acc available, skipping.\n"
          ]
        },
        {
          "metadata": {
            "tags": null
          },
          "name": "stdout",
          "output_type": "stream",
          "text": [
            "57/57 [==============================] - 17s 296ms/step - loss: 2.2783 - accuracy: 0.1400 - precision: 0.0000e+00 - recall: 0.0000e+00 - val_loss: 2.2770 - val_accuracy: 0.1233 - val_precision: 0.0000e+00 - val_recall: 0.0000e+00\n",
            "Epoch 14/800\n",
            "58/57 [==============================] - ETA: 0s - loss: 2.2770 - accuracy: 0.1405 - precision: 0.0000e+00 - recall: 0.0000e+00"
          ]
        },
        {
          "metadata": {
            "tags": null
          },
          "name": "stderr",
          "output_type": "stream",
          "text": [
            "WARNING:tensorflow:Can save best model only with acc available, skipping.\n"
          ]
        },
        {
          "metadata": {
            "tags": null
          },
          "name": "stdout",
          "output_type": "stream",
          "text": [
            "57/57 [==============================] - 17s 299ms/step - loss: 2.2770 - accuracy: 0.1405 - precision: 0.0000e+00 - recall: 0.0000e+00 - val_loss: 2.2748 - val_accuracy: 0.1272 - val_precision: 0.0000e+00 - val_recall: 0.0000e+00\n",
            "Epoch 15/800\n",
            "58/57 [==============================] - ETA: 0s - loss: 2.2736 - accuracy: 0.1459 - precision: 0.0000e+00 - recall: 0.0000e+00"
          ]
        },
        {
          "metadata": {
            "tags": null
          },
          "name": "stderr",
          "output_type": "stream",
          "text": [
            "WARNING:tensorflow:Can save best model only with acc available, skipping.\n"
          ]
        },
        {
          "metadata": {
            "tags": null
          },
          "name": "stdout",
          "output_type": "stream",
          "text": [
            "57/57 [==============================] - 16s 271ms/step - loss: 2.2736 - accuracy: 0.1459 - precision: 0.0000e+00 - recall: 0.0000e+00 - val_loss: 2.2725 - val_accuracy: 0.1312 - val_precision: 0.0000e+00 - val_recall: 0.0000e+00\n",
            "Epoch 16/800\n",
            "58/57 [==============================] - ETA: 0s - loss: 2.2721 - accuracy: 0.1457 - precision: 0.0000e+00 - recall: 0.0000e+00"
          ]
        },
        {
          "metadata": {
            "tags": null
          },
          "name": "stderr",
          "output_type": "stream",
          "text": [
            "WARNING:tensorflow:Can save best model only with acc available, skipping.\n"
          ]
        },
        {
          "metadata": {
            "tags": null
          },
          "name": "stdout",
          "output_type": "stream",
          "text": [
            "57/57 [==============================] - 15s 259ms/step - loss: 2.2721 - accuracy: 0.1457 - precision: 0.0000e+00 - recall: 0.0000e+00 - val_loss: 2.2701 - val_accuracy: 0.1356 - val_precision: 0.0000e+00 - val_recall: 0.0000e+00\n",
            "Epoch 17/800\n",
            "58/57 [==============================] - ETA: 0s - loss: 2.2691 - accuracy: 0.1528 - precision: 0.0000e+00 - recall: 0.0000e+00"
          ]
        },
        {
          "metadata": {
            "tags": null
          },
          "name": "stderr",
          "output_type": "stream",
          "text": [
            "WARNING:tensorflow:Can save best model only with acc available, skipping.\n"
          ]
        },
        {
          "metadata": {
            "tags": null
          },
          "name": "stdout",
          "output_type": "stream",
          "text": [
            "57/57 [==============================] - 15s 256ms/step - loss: 2.2691 - accuracy: 0.1528 - precision: 0.0000e+00 - recall: 0.0000e+00 - val_loss: 2.2677 - val_accuracy: 0.1419 - val_precision: 0.0000e+00 - val_recall: 0.0000e+00\n",
            "Epoch 18/800\n",
            "58/57 [==============================] - ETA: 0s - loss: 2.2658 - accuracy: 0.1549 - precision: 0.0000e+00 - recall: 0.0000e+00"
          ]
        },
        {
          "metadata": {
            "tags": null
          },
          "name": "stderr",
          "output_type": "stream",
          "text": [
            "WARNING:tensorflow:Can save best model only with acc available, skipping.\n"
          ]
        },
        {
          "metadata": {
            "tags": null
          },
          "name": "stdout",
          "output_type": "stream",
          "text": [
            "57/57 [==============================] - 17s 295ms/step - loss: 2.2658 - accuracy: 0.1549 - precision: 0.0000e+00 - recall: 0.0000e+00 - val_loss: 2.2651 - val_accuracy: 0.1486 - val_precision: 0.0000e+00 - val_recall: 0.0000e+00\n",
            "Epoch 19/800\n",
            "58/57 [==============================] - ETA: 0s - loss: 2.2637 - accuracy: 0.1575 - precision: 0.0000e+00 - recall: 0.0000e+00"
          ]
        },
        {
          "metadata": {
            "tags": null
          },
          "name": "stderr",
          "output_type": "stream",
          "text": [
            "WARNING:tensorflow:Can save best model only with acc available, skipping.\n"
          ]
        },
        {
          "metadata": {
            "tags": null
          },
          "name": "stdout",
          "output_type": "stream",
          "text": [
            "57/57 [==============================] - 20s 337ms/step - loss: 2.2637 - accuracy: 0.1575 - precision: 0.0000e+00 - recall: 0.0000e+00 - val_loss: 2.2625 - val_accuracy: 0.1546 - val_precision: 0.0000e+00 - val_recall: 0.0000e+00\n",
            "Epoch 20/800\n",
            "58/57 [==============================] - ETA: 0s - loss: 2.2613 - accuracy: 0.1596 - precision: 0.0000e+00 - recall: 0.0000e+00"
          ]
        },
        {
          "metadata": {
            "tags": null
          },
          "name": "stderr",
          "output_type": "stream",
          "text": [
            "WARNING:tensorflow:Can save best model only with acc available, skipping.\n"
          ]
        },
        {
          "metadata": {
            "tags": null
          },
          "name": "stdout",
          "output_type": "stream",
          "text": [
            "57/57 [==============================] - 20s 352ms/step - loss: 2.2613 - accuracy: 0.1596 - precision: 0.0000e+00 - recall: 0.0000e+00 - val_loss: 2.2598 - val_accuracy: 0.1621 - val_precision: 0.0000e+00 - val_recall: 0.0000e+00\n",
            "Epoch 21/800\n",
            "58/57 [==============================] - ETA: 0s - loss: 2.2580 - accuracy: 0.1652 - precision: 0.0000e+00 - recall: 0.0000e+00"
          ]
        },
        {
          "metadata": {
            "tags": null
          },
          "name": "stderr",
          "output_type": "stream",
          "text": [
            "WARNING:tensorflow:Can save best model only with acc available, skipping.\n"
          ]
        },
        {
          "metadata": {
            "tags": null
          },
          "name": "stdout",
          "output_type": "stream",
          "text": [
            "57/57 [==============================] - 20s 352ms/step - loss: 2.2580 - accuracy: 0.1652 - precision: 0.0000e+00 - recall: 0.0000e+00 - val_loss: 2.2570 - val_accuracy: 0.1698 - val_precision: 0.0000e+00 - val_recall: 0.0000e+00\n",
            "Epoch 22/800\n",
            "58/57 [==============================] - ETA: 0s - loss: 2.2552 - accuracy: 0.1696 - precision: 0.0000e+00 - recall: 0.0000e+00"
          ]
        },
        {
          "metadata": {
            "tags": null
          },
          "name": "stderr",
          "output_type": "stream",
          "text": [
            "WARNING:tensorflow:Can save best model only with acc available, skipping.\n"
          ]
        },
        {
          "metadata": {
            "tags": null
          },
          "name": "stdout",
          "output_type": "stream",
          "text": [
            "57/57 [==============================] - 23s 405ms/step - loss: 2.2552 - accuracy: 0.1696 - precision: 0.0000e+00 - recall: 0.0000e+00 - val_loss: 2.2541 - val_accuracy: 0.1782 - val_precision: 0.0000e+00 - val_recall: 0.0000e+00\n",
            "Epoch 23/800\n",
            "58/57 [==============================] - ETA: 0s - loss: 2.2516 - accuracy: 0.1751 - precision: 0.0000e+00 - recall: 0.0000e+00"
          ]
        },
        {
          "metadata": {
            "tags": null
          },
          "name": "stderr",
          "output_type": "stream",
          "text": [
            "WARNING:tensorflow:Can save best model only with acc available, skipping.\n"
          ]
        },
        {
          "metadata": {
            "tags": null
          },
          "name": "stdout",
          "output_type": "stream",
          "text": [
            "57/57 [==============================] - 24s 419ms/step - loss: 2.2516 - accuracy: 0.1751 - precision: 0.0000e+00 - recall: 0.0000e+00 - val_loss: 2.2511 - val_accuracy: 0.1860 - val_precision: 0.0000e+00 - val_recall: 0.0000e+00\n",
            "Epoch 24/800\n",
            "58/57 [==============================] - ETA: 0s - loss: 2.2480 - accuracy: 0.1798 - precision: 0.0000e+00 - recall: 0.0000e+00"
          ]
        },
        {
          "metadata": {
            "tags": null
          },
          "name": "stderr",
          "output_type": "stream",
          "text": [
            "WARNING:tensorflow:Can save best model only with acc available, skipping.\n"
          ]
        },
        {
          "metadata": {
            "tags": null
          },
          "name": "stdout",
          "output_type": "stream",
          "text": [
            "57/57 [==============================] - 22s 392ms/step - loss: 2.2480 - accuracy: 0.1798 - precision: 0.0000e+00 - recall: 0.0000e+00 - val_loss: 2.2479 - val_accuracy: 0.1949 - val_precision: 0.0000e+00 - val_recall: 0.0000e+00\n",
            "Epoch 25/800\n",
            "58/57 [==============================] - ETA: 0s - loss: 2.2453 - accuracy: 0.1776 - precision: 0.0000e+00 - recall: 0.0000e+00"
          ]
        },
        {
          "metadata": {
            "tags": null
          },
          "name": "stderr",
          "output_type": "stream",
          "text": [
            "WARNING:tensorflow:Can save best model only with acc available, skipping.\n"
          ]
        },
        {
          "metadata": {
            "tags": null
          },
          "name": "stdout",
          "output_type": "stream",
          "text": [
            "57/57 [==============================] - 24s 408ms/step - loss: 2.2453 - accuracy: 0.1776 - precision: 0.0000e+00 - recall: 0.0000e+00 - val_loss: 2.2447 - val_accuracy: 0.2047 - val_precision: 0.0000e+00 - val_recall: 0.0000e+00\n",
            "Epoch 26/800\n",
            "58/57 [==============================] - ETA: 0s - loss: 2.2414 - accuracy: 0.1828 - precision: 0.0000e+00 - recall: 0.0000e+00"
          ]
        },
        {
          "metadata": {
            "tags": null
          },
          "name": "stderr",
          "output_type": "stream",
          "text": [
            "WARNING:tensorflow:Can save best model only with acc available, skipping.\n"
          ]
        },
        {
          "metadata": {
            "tags": null
          },
          "name": "stdout",
          "output_type": "stream",
          "text": [
            "57/57 [==============================] - 27s 461ms/step - loss: 2.2414 - accuracy: 0.1828 - precision: 0.0000e+00 - recall: 0.0000e+00 - val_loss: 2.2412 - val_accuracy: 0.2150 - val_precision: 0.0000e+00 - val_recall: 0.0000e+00\n",
            "Epoch 27/800\n",
            "58/57 [==============================] - ETA: 0s - loss: 2.2371 - accuracy: 0.1877 - precision: 0.0000e+00 - recall: 0.0000e+00"
          ]
        },
        {
          "metadata": {
            "tags": null
          },
          "name": "stderr",
          "output_type": "stream",
          "text": [
            "WARNING:tensorflow:Can save best model only with acc available, skipping.\n"
          ]
        },
        {
          "metadata": {
            "tags": null
          },
          "name": "stdout",
          "output_type": "stream",
          "text": [
            "57/57 [==============================] - 27s 461ms/step - loss: 2.2371 - accuracy: 0.1877 - precision: 0.0000e+00 - recall: 0.0000e+00 - val_loss: 2.2377 - val_accuracy: 0.2262 - val_precision: 0.0000e+00 - val_recall: 0.0000e+00\n",
            "Epoch 28/800\n",
            "58/57 [==============================] - ETA: 0s - loss: 2.2330 - accuracy: 0.1937 - precision: 0.0000e+00 - recall: 0.0000e+00"
          ]
        },
        {
          "metadata": {
            "tags": null
          },
          "name": "stderr",
          "output_type": "stream",
          "text": [
            "WARNING:tensorflow:Can save best model only with acc available, skipping.\n"
          ]
        },
        {
          "metadata": {
            "tags": null
          },
          "name": "stdout",
          "output_type": "stream",
          "text": [
            "57/57 [==============================] - 25s 431ms/step - loss: 2.2330 - accuracy: 0.1937 - precision: 0.0000e+00 - recall: 0.0000e+00 - val_loss: 2.2339 - val_accuracy: 0.2383 - val_precision: 0.0000e+00 - val_recall: 0.0000e+00\n",
            "Epoch 29/800\n",
            "58/57 [==============================] - ETA: 0s - loss: 2.2296 - accuracy: 0.1943 - precision: 0.0000e+00 - recall: 0.0000e+00"
          ]
        },
        {
          "metadata": {
            "tags": null
          },
          "name": "stderr",
          "output_type": "stream",
          "text": [
            "WARNING:tensorflow:Can save best model only with acc available, skipping.\n"
          ]
        },
        {
          "metadata": {
            "tags": null
          },
          "name": "stdout",
          "output_type": "stream",
          "text": [
            "57/57 [==============================] - 25s 440ms/step - loss: 2.2296 - accuracy: 0.1943 - precision: 0.0000e+00 - recall: 0.0000e+00 - val_loss: 2.2300 - val_accuracy: 0.2495 - val_precision: 0.0000e+00 - val_recall: 0.0000e+00\n",
            "Epoch 30/800\n",
            "58/57 [==============================] - ETA: 0s - loss: 2.2255 - accuracy: 0.1982 - precision: 0.0000e+00 - recall: 0.0000e+00"
          ]
        },
        {
          "metadata": {
            "tags": null
          },
          "name": "stderr",
          "output_type": "stream",
          "text": [
            "WARNING:tensorflow:Can save best model only with acc available, skipping.\n"
          ]
        },
        {
          "metadata": {
            "tags": null
          },
          "name": "stdout",
          "output_type": "stream",
          "text": [
            "57/57 [==============================] - 23s 401ms/step - loss: 2.2255 - accuracy: 0.1982 - precision: 0.0000e+00 - recall: 0.0000e+00 - val_loss: 2.2260 - val_accuracy: 0.2616 - val_precision: 0.0000e+00 - val_recall: 0.0000e+00\n",
            "Epoch 31/800\n",
            "58/57 [==============================] - ETA: 0s - loss: 2.2214 - accuracy: 0.2003 - precision: 0.0000e+00 - recall: 0.0000e+00"
          ]
        },
        {
          "metadata": {
            "tags": null
          },
          "name": "stderr",
          "output_type": "stream",
          "text": [
            "WARNING:tensorflow:Can save best model only with acc available, skipping.\n"
          ]
        },
        {
          "metadata": {
            "tags": null
          },
          "name": "stdout",
          "output_type": "stream",
          "text": [
            "57/57 [==============================] - 23s 402ms/step - loss: 2.2214 - accuracy: 0.2003 - precision: 0.0000e+00 - recall: 0.0000e+00 - val_loss: 2.2218 - val_accuracy: 0.2729 - val_precision: 0.0000e+00 - val_recall: 0.0000e+00\n",
            "Epoch 32/800\n",
            "58/57 [==============================] - ETA: 0s - loss: 2.2167 - accuracy: 0.2033 - precision: 0.0000e+00 - recall: 0.0000e+00"
          ]
        },
        {
          "metadata": {
            "tags": null
          },
          "name": "stderr",
          "output_type": "stream",
          "text": [
            "WARNING:tensorflow:Can save best model only with acc available, skipping.\n"
          ]
        },
        {
          "metadata": {
            "tags": null
          },
          "name": "stdout",
          "output_type": "stream",
          "text": [
            "57/57 [==============================] - 21s 360ms/step - loss: 2.2167 - accuracy: 0.2033 - precision: 0.0000e+00 - recall: 0.0000e+00 - val_loss: 2.2174 - val_accuracy: 0.2858 - val_precision: 0.0000e+00 - val_recall: 0.0000e+00\n",
            "Epoch 33/800\n",
            "58/57 [==============================] - ETA: 0s - loss: 2.2121 - accuracy: 0.2098 - precision: 0.0000e+00 - recall: 0.0000e+00"
          ]
        },
        {
          "metadata": {
            "tags": null
          },
          "name": "stderr",
          "output_type": "stream",
          "text": [
            "WARNING:tensorflow:Can save best model only with acc available, skipping.\n"
          ]
        },
        {
          "metadata": {
            "tags": null
          },
          "name": "stdout",
          "output_type": "stream",
          "text": [
            "57/57 [==============================] - 21s 358ms/step - loss: 2.2121 - accuracy: 0.2098 - precision: 0.0000e+00 - recall: 0.0000e+00 - val_loss: 2.2128 - val_accuracy: 0.2972 - val_precision: 0.0000e+00 - val_recall: 0.0000e+00\n",
            "Epoch 34/800\n",
            "58/57 [==============================] - ETA: 0s - loss: 2.2070 - accuracy: 0.2159 - precision: 0.0000e+00 - recall: 0.0000e+00"
          ]
        },
        {
          "metadata": {
            "tags": null
          },
          "name": "stderr",
          "output_type": "stream",
          "text": [
            "WARNING:tensorflow:Can save best model only with acc available, skipping.\n"
          ]
        },
        {
          "metadata": {
            "tags": null
          },
          "name": "stdout",
          "output_type": "stream",
          "text": [
            "57/57 [==============================] - 21s 358ms/step - loss: 2.2070 - accuracy: 0.2159 - precision: 0.0000e+00 - recall: 0.0000e+00 - val_loss: 2.2080 - val_accuracy: 0.3074 - val_precision: 0.0000e+00 - val_recall: 0.0000e+00\n",
            "Epoch 35/800\n",
            "58/57 [==============================] - ETA: 0s - loss: 2.2023 - accuracy: 0.2132 - precision: 0.0000e+00 - recall: 0.0000e+00"
          ]
        },
        {
          "metadata": {
            "tags": null
          },
          "name": "stderr",
          "output_type": "stream",
          "text": [
            "WARNING:tensorflow:Can save best model only with acc available, skipping.\n"
          ]
        },
        {
          "metadata": {
            "tags": null
          },
          "name": "stdout",
          "output_type": "stream",
          "text": [
            "57/57 [==============================] - 21s 357ms/step - loss: 2.2023 - accuracy: 0.2132 - precision: 0.0000e+00 - recall: 0.0000e+00 - val_loss: 2.2029 - val_accuracy: 0.3168 - val_precision: 0.0000e+00 - val_recall: 0.0000e+00\n",
            "Epoch 36/800\n",
            "58/57 [==============================] - ETA: 0s - loss: 2.1961 - accuracy: 0.2210 - precision: 0.0000e+00 - recall: 0.0000e+00"
          ]
        },
        {
          "metadata": {
            "tags": null
          },
          "name": "stderr",
          "output_type": "stream",
          "text": [
            "WARNING:tensorflow:Can save best model only with acc available, skipping.\n"
          ]
        },
        {
          "metadata": {
            "tags": null
          },
          "name": "stdout",
          "output_type": "stream",
          "text": [
            "57/57 [==============================] - 21s 357ms/step - loss: 2.1961 - accuracy: 0.2210 - precision: 0.0000e+00 - recall: 0.0000e+00 - val_loss: 2.1977 - val_accuracy: 0.3247 - val_precision: 0.0000e+00 - val_recall: 0.0000e+00\n",
            "Epoch 37/800\n",
            "58/57 [==============================] - ETA: 0s - loss: 2.1912 - accuracy: 0.2239 - precision: 0.0000e+00 - recall: 0.0000e+00"
          ]
        },
        {
          "metadata": {
            "tags": null
          },
          "name": "stderr",
          "output_type": "stream",
          "text": [
            "WARNING:tensorflow:Can save best model only with acc available, skipping.\n"
          ]
        },
        {
          "metadata": {
            "tags": null
          },
          "name": "stdout",
          "output_type": "stream",
          "text": [
            "57/57 [==============================] - 20s 347ms/step - loss: 2.1912 - accuracy: 0.2239 - precision: 0.0000e+00 - recall: 0.0000e+00 - val_loss: 2.1922 - val_accuracy: 0.3324 - val_precision: 0.0000e+00 - val_recall: 0.0000e+00\n",
            "Epoch 38/800\n",
            "58/57 [==============================] - ETA: 0s - loss: 2.1852 - accuracy: 0.2278 - precision: 0.0000e+00 - recall: 0.0000e+00"
          ]
        },
        {
          "metadata": {
            "tags": null
          },
          "name": "stderr",
          "output_type": "stream",
          "text": [
            "WARNING:tensorflow:Can save best model only with acc available, skipping.\n"
          ]
        },
        {
          "metadata": {
            "tags": null
          },
          "name": "stdout",
          "output_type": "stream",
          "text": [
            "57/57 [==============================] - 20s 357ms/step - loss: 2.1852 - accuracy: 0.2278 - precision: 0.0000e+00 - recall: 0.0000e+00 - val_loss: 2.1864 - val_accuracy: 0.3364 - val_precision: 0.0000e+00 - val_recall: 0.0000e+00\n",
            "Epoch 39/800\n",
            "58/57 [==============================] - ETA: 0s - loss: 2.1793 - accuracy: 0.2308 - precision: 0.0000e+00 - recall: 0.0000e+00"
          ]
        },
        {
          "metadata": {
            "tags": null
          },
          "name": "stderr",
          "output_type": "stream",
          "text": [
            "WARNING:tensorflow:Can save best model only with acc available, skipping.\n"
          ]
        },
        {
          "metadata": {
            "tags": null
          },
          "name": "stdout",
          "output_type": "stream",
          "text": [
            "57/57 [==============================] - 20s 342ms/step - loss: 2.1793 - accuracy: 0.2308 - precision: 0.0000e+00 - recall: 0.0000e+00 - val_loss: 2.1804 - val_accuracy: 0.3415 - val_precision: 0.0000e+00 - val_recall: 0.0000e+00\n",
            "Epoch 40/800\n",
            "58/57 [==============================] - ETA: 0s - loss: 2.1734 - accuracy: 0.2361 - precision: 0.0000e+00 - recall: 0.0000e+00"
          ]
        },
        {
          "metadata": {
            "tags": null
          },
          "name": "stderr",
          "output_type": "stream",
          "text": [
            "WARNING:tensorflow:Can save best model only with acc available, skipping.\n"
          ]
        },
        {
          "metadata": {
            "tags": null
          },
          "name": "stdout",
          "output_type": "stream",
          "text": [
            "57/57 [==============================] - 19s 331ms/step - loss: 2.1734 - accuracy: 0.2361 - precision: 0.0000e+00 - recall: 0.0000e+00 - val_loss: 2.1741 - val_accuracy: 0.3437 - val_precision: 0.0000e+00 - val_recall: 0.0000e+00\n",
            "Epoch 41/800\n",
            "58/57 [==============================] - ETA: 0s - loss: 2.1650 - accuracy: 0.2430 - precision: 0.0000e+00 - recall: 0.0000e+00"
          ]
        },
        {
          "metadata": {
            "tags": null
          },
          "name": "stderr",
          "output_type": "stream",
          "text": [
            "WARNING:tensorflow:Can save best model only with acc available, skipping.\n"
          ]
        },
        {
          "metadata": {
            "tags": null
          },
          "name": "stdout",
          "output_type": "stream",
          "text": [
            "57/57 [==============================] - 19s 330ms/step - loss: 2.1650 - accuracy: 0.2430 - precision: 0.0000e+00 - recall: 0.0000e+00 - val_loss: 2.1674 - val_accuracy: 0.3470 - val_precision: 0.0000e+00 - val_recall: 0.0000e+00\n",
            "Epoch 42/800\n",
            "58/57 [==============================] - ETA: 0s - loss: 2.1597 - accuracy: 0.2430 - precision: 0.0000e+00 - recall: 0.0000e+00"
          ]
        },
        {
          "metadata": {
            "tags": null
          },
          "name": "stderr",
          "output_type": "stream",
          "text": [
            "WARNING:tensorflow:Can save best model only with acc available, skipping.\n"
          ]
        },
        {
          "metadata": {
            "tags": null
          },
          "name": "stdout",
          "output_type": "stream",
          "text": [
            "57/57 [==============================] - 19s 336ms/step - loss: 2.1597 - accuracy: 0.2430 - precision: 0.0000e+00 - recall: 0.0000e+00 - val_loss: 2.1604 - val_accuracy: 0.3508 - val_precision: 0.0000e+00 - val_recall: 0.0000e+00\n",
            "Epoch 43/800\n",
            "58/57 [==============================] - ETA: 0s - loss: 2.1530 - accuracy: 0.2458 - precision: 0.0000e+00 - recall: 0.0000e+00"
          ]
        },
        {
          "metadata": {
            "tags": null
          },
          "name": "stderr",
          "output_type": "stream",
          "text": [
            "WARNING:tensorflow:Can save best model only with acc available, skipping.\n"
          ]
        },
        {
          "metadata": {
            "tags": null
          },
          "name": "stdout",
          "output_type": "stream",
          "text": [
            "57/57 [==============================] - 19s 331ms/step - loss: 2.1530 - accuracy: 0.2458 - precision: 0.0000e+00 - recall: 0.0000e+00 - val_loss: 2.1532 - val_accuracy: 0.3532 - val_precision: 0.0000e+00 - val_recall: 0.0000e+00\n",
            "Epoch 44/800\n",
            "58/57 [==============================] - ETA: 0s - loss: 2.1437 - accuracy: 0.2561 - precision: 0.0000e+00 - recall: 0.0000e+00"
          ]
        },
        {
          "metadata": {
            "tags": null
          },
          "name": "stderr",
          "output_type": "stream",
          "text": [
            "WARNING:tensorflow:Can save best model only with acc available, skipping.\n"
          ]
        },
        {
          "metadata": {
            "tags": null
          },
          "name": "stdout",
          "output_type": "stream",
          "text": [
            "57/57 [==============================] - 19s 324ms/step - loss: 2.1437 - accuracy: 0.2561 - precision: 0.0000e+00 - recall: 0.0000e+00 - val_loss: 2.1455 - val_accuracy: 0.3545 - val_precision: 0.0000e+00 - val_recall: 0.0000e+00\n",
            "Epoch 45/800\n",
            "58/57 [==============================] - ETA: 0s - loss: 2.1376 - accuracy: 0.2554 - precision: 0.0000e+00 - recall: 0.0000e+00"
          ]
        },
        {
          "metadata": {
            "tags": null
          },
          "name": "stderr",
          "output_type": "stream",
          "text": [
            "WARNING:tensorflow:Can save best model only with acc available, skipping.\n"
          ]
        },
        {
          "metadata": {
            "tags": null
          },
          "name": "stdout",
          "output_type": "stream",
          "text": [
            "57/57 [==============================] - 19s 334ms/step - loss: 2.1376 - accuracy: 0.2554 - precision: 0.0000e+00 - recall: 0.0000e+00 - val_loss: 2.1375 - val_accuracy: 0.3554 - val_precision: 0.0000e+00 - val_recall: 0.0000e+00\n",
            "Epoch 46/800\n",
            "58/57 [==============================] - ETA: 0s - loss: 2.1291 - accuracy: 0.2631 - precision: 0.0000e+00 - recall: 0.0000e+00"
          ]
        },
        {
          "metadata": {
            "tags": null
          },
          "name": "stderr",
          "output_type": "stream",
          "text": [
            "WARNING:tensorflow:Can save best model only with acc available, skipping.\n"
          ]
        },
        {
          "metadata": {
            "tags": null
          },
          "name": "stdout",
          "output_type": "stream",
          "text": [
            "57/57 [==============================] - 19s 332ms/step - loss: 2.1291 - accuracy: 0.2631 - precision: 0.0000e+00 - recall: 0.0000e+00 - val_loss: 2.1292 - val_accuracy: 0.3563 - val_precision: 0.0000e+00 - val_recall: 0.0000e+00\n",
            "Epoch 47/800\n",
            "58/57 [==============================] - ETA: 0s - loss: 2.1213 - accuracy: 0.2636 - precision: 0.0000e+00 - recall: 0.0000e+00"
          ]
        },
        {
          "metadata": {
            "tags": null
          },
          "name": "stderr",
          "output_type": "stream",
          "text": [
            "WARNING:tensorflow:Can save best model only with acc available, skipping.\n"
          ]
        },
        {
          "metadata": {
            "tags": null
          },
          "name": "stdout",
          "output_type": "stream",
          "text": [
            "57/57 [==============================] - 19s 323ms/step - loss: 2.1213 - accuracy: 0.2636 - precision: 0.0000e+00 - recall: 0.0000e+00 - val_loss: 2.1205 - val_accuracy: 0.3570 - val_precision: 0.0000e+00 - val_recall: 0.0000e+00\n",
            "Epoch 48/800\n",
            "58/57 [==============================] - ETA: 0s - loss: 2.1091 - accuracy: 0.2730 - precision: 0.0000e+00 - recall: 0.0000e+00"
          ]
        },
        {
          "metadata": {
            "tags": null
          },
          "name": "stderr",
          "output_type": "stream",
          "text": [
            "WARNING:tensorflow:Can save best model only with acc available, skipping.\n"
          ]
        },
        {
          "metadata": {
            "tags": null
          },
          "name": "stdout",
          "output_type": "stream",
          "text": [
            "57/57 [==============================] - 19s 332ms/step - loss: 2.1091 - accuracy: 0.2730 - precision: 0.0000e+00 - recall: 0.0000e+00 - val_loss: 2.1112 - val_accuracy: 0.3583 - val_precision: 0.0000e+00 - val_recall: 0.0000e+00\n",
            "Epoch 49/800\n",
            "58/57 [==============================] - ETA: 0s - loss: 2.1010 - accuracy: 0.2733 - precision: 0.0000e+00 - recall: 0.0000e+00"
          ]
        },
        {
          "metadata": {
            "tags": null
          },
          "name": "stderr",
          "output_type": "stream",
          "text": [
            "WARNING:tensorflow:Can save best model only with acc available, skipping.\n"
          ]
        },
        {
          "metadata": {
            "tags": null
          },
          "name": "stdout",
          "output_type": "stream",
          "text": [
            "57/57 [==============================] - 19s 330ms/step - loss: 2.1010 - accuracy: 0.2733 - precision: 0.0000e+00 - recall: 0.0000e+00 - val_loss: 2.1017 - val_accuracy: 0.3600 - val_precision: 0.0000e+00 - val_recall: 0.0000e+00\n",
            "Epoch 50/800\n",
            "58/57 [==============================] - ETA: 0s - loss: 2.0935 - accuracy: 0.2745 - precision: 0.0000e+00 - recall: 0.0000e+00"
          ]
        },
        {
          "metadata": {
            "tags": null
          },
          "name": "stderr",
          "output_type": "stream",
          "text": [
            "WARNING:tensorflow:Can save best model only with acc available, skipping.\n"
          ]
        },
        {
          "metadata": {
            "tags": null
          },
          "name": "stdout",
          "output_type": "stream",
          "text": [
            "57/57 [==============================] - 19s 331ms/step - loss: 2.0935 - accuracy: 0.2745 - precision: 0.0000e+00 - recall: 0.0000e+00 - val_loss: 2.0918 - val_accuracy: 0.3609 - val_precision: 0.0000e+00 - val_recall: 0.0000e+00\n",
            "Epoch 51/800\n",
            "58/57 [==============================] - ETA: 0s - loss: 2.0815 - accuracy: 0.2796 - precision: 0.0000e+00 - recall: 0.0000e+00"
          ]
        },
        {
          "metadata": {
            "tags": null
          },
          "name": "stderr",
          "output_type": "stream",
          "text": [
            "WARNING:tensorflow:Can save best model only with acc available, skipping.\n"
          ]
        },
        {
          "metadata": {
            "tags": null
          },
          "name": "stdout",
          "output_type": "stream",
          "text": [
            "57/57 [==============================] - 19s 326ms/step - loss: 2.0815 - accuracy: 0.2796 - precision: 0.0000e+00 - recall: 0.0000e+00 - val_loss: 2.0814 - val_accuracy: 0.3633 - val_precision: 0.0000e+00 - val_recall: 0.0000e+00\n",
            "Epoch 52/800\n",
            "58/57 [==============================] - ETA: 0s - loss: 2.0758 - accuracy: 0.2813 - precision: 0.0000e+00 - recall: 0.0000e+00"
          ]
        },
        {
          "metadata": {
            "tags": null
          },
          "name": "stderr",
          "output_type": "stream",
          "text": [
            "WARNING:tensorflow:Can save best model only with acc available, skipping.\n"
          ]
        },
        {
          "metadata": {
            "tags": null
          },
          "name": "stdout",
          "output_type": "stream",
          "text": [
            "57/57 [==============================] - 19s 331ms/step - loss: 2.0758 - accuracy: 0.2813 - precision: 0.0000e+00 - recall: 0.0000e+00 - val_loss: 2.0708 - val_accuracy: 0.3650 - val_precision: 0.0000e+00 - val_recall: 0.0000e+00\n",
            "Epoch 53/800\n",
            "58/57 [==============================] - ETA: 0s - loss: 2.0588 - accuracy: 0.2895 - precision: 0.0000e+00 - recall: 0.0000e+00"
          ]
        },
        {
          "metadata": {
            "tags": null
          },
          "name": "stderr",
          "output_type": "stream",
          "text": [
            "WARNING:tensorflow:Can save best model only with acc available, skipping.\n"
          ]
        },
        {
          "metadata": {
            "tags": null
          },
          "name": "stdout",
          "output_type": "stream",
          "text": [
            "57/57 [==============================] - 19s 337ms/step - loss: 2.0588 - accuracy: 0.2895 - precision: 0.0000e+00 - recall: 0.0000e+00 - val_loss: 2.0595 - val_accuracy: 0.3660 - val_precision: 0.0000e+00 - val_recall: 0.0000e+00\n",
            "Epoch 54/800\n",
            "58/57 [==============================] - ETA: 0s - loss: 2.0478 - accuracy: 0.2928 - precision: 0.0000e+00 - recall: 0.0000e+00"
          ]
        },
        {
          "metadata": {
            "tags": null
          },
          "name": "stderr",
          "output_type": "stream",
          "text": [
            "WARNING:tensorflow:Can save best model only with acc available, skipping.\n"
          ]
        },
        {
          "metadata": {
            "tags": null
          },
          "name": "stdout",
          "output_type": "stream",
          "text": [
            "57/57 [==============================] - 20s 337ms/step - loss: 2.0478 - accuracy: 0.2928 - precision: 0.0000e+00 - recall: 0.0000e+00 - val_loss: 2.0478 - val_accuracy: 0.3669 - val_precision: 0.0000e+00 - val_recall: 0.0000e+00\n",
            "Epoch 55/800\n",
            "58/57 [==============================] - ETA: 0s - loss: 2.0403 - accuracy: 0.2927 - precision: 1.0000 - recall: 2.4876e-05"
          ]
        },
        {
          "metadata": {
            "tags": null
          },
          "name": "stderr",
          "output_type": "stream",
          "text": [
            "WARNING:tensorflow:Can save best model only with acc available, skipping.\n"
          ]
        },
        {
          "metadata": {
            "tags": null
          },
          "name": "stdout",
          "output_type": "stream",
          "text": [
            "57/57 [==============================] - 20s 345ms/step - loss: 2.0403 - accuracy: 0.2927 - precision: 1.0000 - recall: 2.4876e-05 - val_loss: 2.0359 - val_accuracy: 0.3677 - val_precision: 0.0000e+00 - val_recall: 0.0000e+00\n",
            "Epoch 56/800\n",
            "58/57 [==============================] - ETA: 0s - loss: 2.0290 - accuracy: 0.2961 - precision: 0.0000e+00 - recall: 0.0000e+00"
          ]
        },
        {
          "metadata": {
            "tags": null
          },
          "name": "stderr",
          "output_type": "stream",
          "text": [
            "WARNING:tensorflow:Can save best model only with acc available, skipping.\n"
          ]
        },
        {
          "metadata": {
            "tags": null
          },
          "name": "stdout",
          "output_type": "stream",
          "text": [
            "57/57 [==============================] - 20s 342ms/step - loss: 2.0290 - accuracy: 0.2961 - precision: 0.0000e+00 - recall: 0.0000e+00 - val_loss: 2.0237 - val_accuracy: 0.3687 - val_precision: 0.0000e+00 - val_recall: 0.0000e+00\n",
            "Epoch 57/800\n",
            "58/57 [==============================] - ETA: 0s - loss: 2.0161 - accuracy: 0.2973 - precision: 1.0000 - recall: 7.4627e-05"
          ]
        },
        {
          "metadata": {
            "tags": null
          },
          "name": "stderr",
          "output_type": "stream",
          "text": [
            "WARNING:tensorflow:Can save best model only with acc available, skipping.\n"
          ]
        },
        {
          "metadata": {
            "tags": null
          },
          "name": "stdout",
          "output_type": "stream",
          "text": [
            "57/57 [==============================] - 19s 329ms/step - loss: 2.0161 - accuracy: 0.2973 - precision: 1.0000 - recall: 7.4627e-05 - val_loss: 2.0109 - val_accuracy: 0.3679 - val_precision: 0.0000e+00 - val_recall: 0.0000e+00\n",
            "Epoch 58/800\n",
            "58/57 [==============================] - ETA: 0s - loss: 2.0056 - accuracy: 0.2990 - precision: 1.0000 - recall: 7.4627e-05"
          ]
        },
        {
          "metadata": {
            "tags": null
          },
          "name": "stderr",
          "output_type": "stream",
          "text": [
            "WARNING:tensorflow:Can save best model only with acc available, skipping.\n"
          ]
        },
        {
          "metadata": {
            "tags": null
          },
          "name": "stdout",
          "output_type": "stream",
          "text": [
            "57/57 [==============================] - 19s 328ms/step - loss: 2.0056 - accuracy: 0.2990 - precision: 1.0000 - recall: 7.4627e-05 - val_loss: 1.9980 - val_accuracy: 0.3699 - val_precision: 0.0000e+00 - val_recall: 0.0000e+00\n",
            "Epoch 59/800\n",
            "58/57 [==============================] - ETA: 0s - loss: 1.9924 - accuracy: 0.3056 - precision: 0.6000 - recall: 7.4627e-05"
          ]
        },
        {
          "metadata": {
            "tags": null
          },
          "name": "stderr",
          "output_type": "stream",
          "text": [
            "WARNING:tensorflow:Can save best model only with acc available, skipping.\n"
          ]
        },
        {
          "metadata": {
            "tags": null
          },
          "name": "stdout",
          "output_type": "stream",
          "text": [
            "57/57 [==============================] - 19s 330ms/step - loss: 1.9924 - accuracy: 0.3056 - precision: 0.6000 - recall: 7.4627e-05 - val_loss: 1.9848 - val_accuracy: 0.3700 - val_precision: 0.0000e+00 - val_recall: 0.0000e+00\n",
            "Epoch 60/800\n",
            "58/57 [==============================] - ETA: 0s - loss: 1.9817 - accuracy: 0.3050 - precision: 0.8750 - recall: 1.7413e-04"
          ]
        },
        {
          "metadata": {
            "tags": null
          },
          "name": "stderr",
          "output_type": "stream",
          "text": [
            "WARNING:tensorflow:Can save best model only with acc available, skipping.\n"
          ]
        },
        {
          "metadata": {
            "tags": null
          },
          "name": "stdout",
          "output_type": "stream",
          "text": [
            "57/57 [==============================] - 19s 331ms/step - loss: 1.9817 - accuracy: 0.3050 - precision: 0.8750 - recall: 1.7413e-04 - val_loss: 1.9714 - val_accuracy: 0.3706 - val_precision: 0.0000e+00 - val_recall: 0.0000e+00\n",
            "Epoch 61/800\n",
            "58/57 [==============================] - ETA: 0s - loss: 1.9702 - accuracy: 0.3038 - precision: 0.9286 - recall: 3.2338e-04"
          ]
        },
        {
          "metadata": {
            "tags": null
          },
          "name": "stderr",
          "output_type": "stream",
          "text": [
            "WARNING:tensorflow:Can save best model only with acc available, skipping.\n"
          ]
        },
        {
          "metadata": {
            "tags": null
          },
          "name": "stdout",
          "output_type": "stream",
          "text": [
            "57/57 [==============================] - 19s 333ms/step - loss: 1.9702 - accuracy: 0.3038 - precision: 0.9286 - recall: 3.2338e-04 - val_loss: 1.9578 - val_accuracy: 0.3712 - val_precision: 0.0000e+00 - val_recall: 0.0000e+00\n",
            "Epoch 62/800\n",
            "58/57 [==============================] - ETA: 0s - loss: 1.9584 - accuracy: 0.3113 - precision: 0.8333 - recall: 4.9751e-04"
          ]
        },
        {
          "metadata": {
            "tags": null
          },
          "name": "stderr",
          "output_type": "stream",
          "text": [
            "WARNING:tensorflow:Can save best model only with acc available, skipping.\n"
          ]
        },
        {
          "metadata": {
            "tags": null
          },
          "name": "stdout",
          "output_type": "stream",
          "text": [
            "57/57 [==============================] - 19s 337ms/step - loss: 1.9584 - accuracy: 0.3113 - precision: 0.8333 - recall: 4.9751e-04 - val_loss: 1.9441 - val_accuracy: 0.3715 - val_precision: 0.0000e+00 - val_recall: 0.0000e+00\n",
            "Epoch 63/800\n",
            "58/57 [==============================] - ETA: 0s - loss: 1.9447 - accuracy: 0.3138 - precision: 0.7174 - recall: 8.2090e-04"
          ]
        },
        {
          "metadata": {
            "tags": null
          },
          "name": "stderr",
          "output_type": "stream",
          "text": [
            "WARNING:tensorflow:Can save best model only with acc available, skipping.\n"
          ]
        },
        {
          "metadata": {
            "tags": null
          },
          "name": "stdout",
          "output_type": "stream",
          "text": [
            "57/57 [==============================] - 20s 338ms/step - loss: 1.9447 - accuracy: 0.3138 - precision: 0.7174 - recall: 8.2090e-04 - val_loss: 1.9303 - val_accuracy: 0.3729 - val_precision: 0.0000e+00 - val_recall: 0.0000e+00\n",
            "Epoch 64/800\n",
            "58/57 [==============================] - ETA: 0s - loss: 1.9312 - accuracy: 0.3151 - precision: 0.7841 - recall: 0.0017"
          ]
        },
        {
          "metadata": {
            "tags": null
          },
          "name": "stderr",
          "output_type": "stream",
          "text": [
            "WARNING:tensorflow:Can save best model only with acc available, skipping.\n"
          ]
        },
        {
          "metadata": {
            "tags": null
          },
          "name": "stdout",
          "output_type": "stream",
          "text": [
            "57/57 [==============================] - 19s 326ms/step - loss: 1.9312 - accuracy: 0.3151 - precision: 0.7841 - recall: 0.0017 - val_loss: 1.9163 - val_accuracy: 0.3737 - val_precision: 0.0000e+00 - val_recall: 0.0000e+00\n",
            "Epoch 65/800\n",
            "58/57 [==============================] - ETA: 0s - loss: 1.9223 - accuracy: 0.3152 - precision: 0.7868 - recall: 0.0027"
          ]
        },
        {
          "metadata": {
            "tags": null
          },
          "name": "stderr",
          "output_type": "stream",
          "text": [
            "WARNING:tensorflow:Can save best model only with acc available, skipping.\n"
          ]
        },
        {
          "metadata": {
            "tags": null
          },
          "name": "stdout",
          "output_type": "stream",
          "text": [
            "57/57 [==============================] - 19s 326ms/step - loss: 1.9223 - accuracy: 0.3152 - precision: 0.7868 - recall: 0.0027 - val_loss: 1.9025 - val_accuracy: 0.3753 - val_precision: 0.0000e+00 - val_recall: 0.0000e+00\n",
            "Epoch 66/800\n",
            "58/57 [==============================] - ETA: 0s - loss: 1.9107 - accuracy: 0.3162 - precision: 0.7471 - recall: 0.0032"
          ]
        },
        {
          "metadata": {
            "tags": null
          },
          "name": "stderr",
          "output_type": "stream",
          "text": [
            "WARNING:tensorflow:Can save best model only with acc available, skipping.\n"
          ]
        },
        {
          "metadata": {
            "tags": null
          },
          "name": "stdout",
          "output_type": "stream",
          "text": [
            "57/57 [==============================] - 19s 324ms/step - loss: 1.9107 - accuracy: 0.3162 - precision: 0.7471 - recall: 0.0032 - val_loss: 1.8887 - val_accuracy: 0.3765 - val_precision: 0.0000e+00 - val_recall: 0.0000e+00\n",
            "Epoch 67/800\n",
            "58/57 [==============================] - ETA: 0s - loss: 1.8969 - accuracy: 0.3190 - precision: 0.7705 - recall: 0.0056"
          ]
        },
        {
          "metadata": {
            "tags": null
          },
          "name": "stderr",
          "output_type": "stream",
          "text": [
            "WARNING:tensorflow:Can save best model only with acc available, skipping.\n"
          ]
        },
        {
          "metadata": {
            "tags": null
          },
          "name": "stdout",
          "output_type": "stream",
          "text": [
            "57/57 [==============================] - 19s 321ms/step - loss: 1.8969 - accuracy: 0.3190 - precision: 0.7705 - recall: 0.0056 - val_loss: 1.8750 - val_accuracy: 0.3778 - val_precision: 0.0000e+00 - val_recall: 0.0000e+00\n",
            "Epoch 68/800\n",
            "58/57 [==============================] - ETA: 0s - loss: 1.8863 - accuracy: 0.3200 - precision: 0.8092 - recall: 0.0065"
          ]
        },
        {
          "metadata": {
            "tags": null
          },
          "name": "stderr",
          "output_type": "stream",
          "text": [
            "WARNING:tensorflow:Can save best model only with acc available, skipping.\n"
          ]
        },
        {
          "metadata": {
            "tags": null
          },
          "name": "stdout",
          "output_type": "stream",
          "text": [
            "57/57 [==============================] - 18s 319ms/step - loss: 1.8863 - accuracy: 0.3200 - precision: 0.8092 - recall: 0.0065 - val_loss: 1.8613 - val_accuracy: 0.3797 - val_precision: 0.0000e+00 - val_recall: 0.0000e+00\n",
            "Epoch 69/800\n",
            "58/57 [==============================] - ETA: 0s - loss: 1.8710 - accuracy: 0.3208 - precision: 0.7996 - recall: 0.0096"
          ]
        },
        {
          "metadata": {
            "tags": null
          },
          "name": "stderr",
          "output_type": "stream",
          "text": [
            "WARNING:tensorflow:Can save best model only with acc available, skipping.\n"
          ]
        },
        {
          "metadata": {
            "tags": null
          },
          "name": "stdout",
          "output_type": "stream",
          "text": [
            "57/57 [==============================] - 19s 329ms/step - loss: 1.8710 - accuracy: 0.3208 - precision: 0.7996 - recall: 0.0096 - val_loss: 1.8477 - val_accuracy: 0.3819 - val_precision: 0.0000e+00 - val_recall: 0.0000e+00\n",
            "Epoch 70/800\n",
            "58/57 [==============================] - ETA: 0s - loss: 1.8643 - accuracy: 0.3247 - precision: 0.7629 - recall: 0.0106"
          ]
        },
        {
          "metadata": {
            "tags": null
          },
          "name": "stderr",
          "output_type": "stream",
          "text": [
            "WARNING:tensorflow:Can save best model only with acc available, skipping.\n"
          ]
        },
        {
          "metadata": {
            "tags": null
          },
          "name": "stdout",
          "output_type": "stream",
          "text": [
            "57/57 [==============================] - 20s 339ms/step - loss: 1.8643 - accuracy: 0.3247 - precision: 0.7629 - recall: 0.0106 - val_loss: 1.8345 - val_accuracy: 0.3849 - val_precision: 0.0000e+00 - val_recall: 0.0000e+00\n",
            "Epoch 71/800\n",
            "58/57 [==============================] - ETA: 0s - loss: 1.8542 - accuracy: 0.3229 - precision: 0.7543 - recall: 0.0142"
          ]
        },
        {
          "metadata": {
            "tags": null
          },
          "name": "stderr",
          "output_type": "stream",
          "text": [
            "WARNING:tensorflow:Can save best model only with acc available, skipping.\n"
          ]
        },
        {
          "metadata": {
            "tags": null
          },
          "name": "stdout",
          "output_type": "stream",
          "text": [
            "57/57 [==============================] - 19s 328ms/step - loss: 1.8542 - accuracy: 0.3229 - precision: 0.7543 - recall: 0.0142 - val_loss: 1.8215 - val_accuracy: 0.3874 - val_precision: 1.0000 - val_recall: 1.0101e-04\n",
            "Epoch 72/800\n",
            "58/57 [==============================] - ETA: 0s - loss: 1.8401 - accuracy: 0.3282 - precision: 0.7665 - recall: 0.0173"
          ]
        },
        {
          "metadata": {
            "tags": null
          },
          "name": "stderr",
          "output_type": "stream",
          "text": [
            "WARNING:tensorflow:Can save best model only with acc available, skipping.\n"
          ]
        },
        {
          "metadata": {
            "tags": null
          },
          "name": "stdout",
          "output_type": "stream",
          "text": [
            "57/57 [==============================] - 19s 331ms/step - loss: 1.8401 - accuracy: 0.3282 - precision: 0.7665 - recall: 0.0173 - val_loss: 1.8087 - val_accuracy: 0.3907 - val_precision: 0.8571 - val_recall: 3.0303e-04\n",
            "Epoch 73/800\n",
            "58/57 [==============================] - ETA: 0s - loss: 1.8293 - accuracy: 0.3279 - precision: 0.7437 - recall: 0.0199"
          ]
        },
        {
          "metadata": {
            "tags": null
          },
          "name": "stderr",
          "output_type": "stream",
          "text": [
            "WARNING:tensorflow:Can save best model only with acc available, skipping.\n"
          ]
        },
        {
          "metadata": {
            "tags": null
          },
          "name": "stdout",
          "output_type": "stream",
          "text": [
            "57/57 [==============================] - 20s 340ms/step - loss: 1.8293 - accuracy: 0.3279 - precision: 0.7437 - recall: 0.0199 - val_loss: 1.7962 - val_accuracy: 0.3935 - val_precision: 0.8000 - val_recall: 6.0606e-04\n",
            "Epoch 74/800\n",
            "58/57 [==============================] - ETA: 0s - loss: 1.8224 - accuracy: 0.3290 - precision: 0.7213 - recall: 0.0222"
          ]
        },
        {
          "metadata": {
            "tags": null
          },
          "name": "stderr",
          "output_type": "stream",
          "text": [
            "WARNING:tensorflow:Can save best model only with acc available, skipping.\n"
          ]
        },
        {
          "metadata": {
            "tags": null
          },
          "name": "stdout",
          "output_type": "stream",
          "text": [
            "57/57 [==============================] - 19s 336ms/step - loss: 1.8224 - accuracy: 0.3290 - precision: 0.7213 - recall: 0.0222 - val_loss: 1.7842 - val_accuracy: 0.3970 - val_precision: 0.9091 - val_recall: 0.0015\n",
            "Epoch 75/800\n",
            "58/57 [==============================] - ETA: 0s - loss: 1.8085 - accuracy: 0.3345 - precision: 0.7180 - recall: 0.0265"
          ]
        },
        {
          "metadata": {
            "tags": null
          },
          "name": "stderr",
          "output_type": "stream",
          "text": [
            "WARNING:tensorflow:Can save best model only with acc available, skipping.\n"
          ]
        },
        {
          "metadata": {
            "tags": null
          },
          "name": "stdout",
          "output_type": "stream",
          "text": [
            "57/57 [==============================] - 19s 333ms/step - loss: 1.8085 - accuracy: 0.3345 - precision: 0.7180 - recall: 0.0265 - val_loss: 1.7721 - val_accuracy: 0.4006 - val_precision: 0.9167 - val_recall: 0.0028\n",
            "Epoch 76/800\n",
            "58/57 [==============================] - ETA: 0s - loss: 1.7987 - accuracy: 0.3331 - precision: 0.7245 - recall: 0.0315"
          ]
        },
        {
          "metadata": {
            "tags": null
          },
          "name": "stderr",
          "output_type": "stream",
          "text": [
            "WARNING:tensorflow:Can save best model only with acc available, skipping.\n"
          ]
        },
        {
          "metadata": {
            "tags": null
          },
          "name": "stdout",
          "output_type": "stream",
          "text": [
            "57/57 [==============================] - 19s 334ms/step - loss: 1.7987 - accuracy: 0.3331 - precision: 0.7245 - recall: 0.0315 - val_loss: 1.7605 - val_accuracy: 0.4049 - val_precision: 0.9348 - val_recall: 0.0043\n",
            "Epoch 77/800\n",
            "58/57 [==============================] - ETA: 0s - loss: 1.7896 - accuracy: 0.3366 - precision: 0.7191 - recall: 0.0330"
          ]
        },
        {
          "metadata": {
            "tags": null
          },
          "name": "stderr",
          "output_type": "stream",
          "text": [
            "WARNING:tensorflow:Can save best model only with acc available, skipping.\n"
          ]
        },
        {
          "metadata": {
            "tags": null
          },
          "name": "stdout",
          "output_type": "stream",
          "text": [
            "57/57 [==============================] - 20s 342ms/step - loss: 1.7896 - accuracy: 0.3366 - precision: 0.7191 - recall: 0.0330 - val_loss: 1.7493 - val_accuracy: 0.4101 - val_precision: 0.9268 - val_recall: 0.0058\n",
            "Epoch 78/800\n",
            "58/57 [==============================] - ETA: 0s - loss: 1.7807 - accuracy: 0.3369 - precision: 0.7153 - recall: 0.0374"
          ]
        },
        {
          "metadata": {
            "tags": null
          },
          "name": "stderr",
          "output_type": "stream",
          "text": [
            "WARNING:tensorflow:Can save best model only with acc available, skipping.\n"
          ]
        },
        {
          "metadata": {
            "tags": null
          },
          "name": "stdout",
          "output_type": "stream",
          "text": [
            "57/57 [==============================] - 20s 344ms/step - loss: 1.7807 - accuracy: 0.3369 - precision: 0.7153 - recall: 0.0374 - val_loss: 1.7384 - val_accuracy: 0.4162 - val_precision: 0.9309 - val_recall: 0.0088\n",
            "Epoch 79/800\n",
            "58/57 [==============================] - ETA: 0s - loss: 1.7697 - accuracy: 0.3375 - precision: 0.6911 - recall: 0.0396"
          ]
        },
        {
          "metadata": {
            "tags": null
          },
          "name": "stderr",
          "output_type": "stream",
          "text": [
            "WARNING:tensorflow:Can save best model only with acc available, skipping.\n"
          ]
        },
        {
          "metadata": {
            "tags": null
          },
          "name": "stdout",
          "output_type": "stream",
          "text": [
            "57/57 [==============================] - 20s 354ms/step - loss: 1.7697 - accuracy: 0.3375 - precision: 0.6911 - recall: 0.0396 - val_loss: 1.7277 - val_accuracy: 0.4202 - val_precision: 0.9323 - val_recall: 0.0118\n",
            "Epoch 80/800\n",
            "58/57 [==============================] - ETA: 0s - loss: 1.7620 - accuracy: 0.3409 - precision: 0.6954 - recall: 0.0438"
          ]
        },
        {
          "metadata": {
            "tags": null
          },
          "name": "stderr",
          "output_type": "stream",
          "text": [
            "WARNING:tensorflow:Can save best model only with acc available, skipping.\n"
          ]
        },
        {
          "metadata": {
            "tags": null
          },
          "name": "stdout",
          "output_type": "stream",
          "text": [
            "57/57 [==============================] - 21s 354ms/step - loss: 1.7620 - accuracy: 0.3409 - precision: 0.6954 - recall: 0.0438 - val_loss: 1.7174 - val_accuracy: 0.4251 - val_precision: 0.9188 - val_recall: 0.0143\n",
            "Epoch 81/800\n",
            "58/57 [==============================] - ETA: 0s - loss: 1.7503 - accuracy: 0.3398 - precision: 0.6960 - recall: 0.0485"
          ]
        },
        {
          "metadata": {
            "tags": null
          },
          "name": "stderr",
          "output_type": "stream",
          "text": [
            "WARNING:tensorflow:Can save best model only with acc available, skipping.\n"
          ]
        },
        {
          "metadata": {
            "tags": null
          },
          "name": "stdout",
          "output_type": "stream",
          "text": [
            "57/57 [==============================] - 20s 351ms/step - loss: 1.7503 - accuracy: 0.3398 - precision: 0.6960 - recall: 0.0485 - val_loss: 1.7072 - val_accuracy: 0.4306 - val_precision: 0.9205 - val_recall: 0.0170\n",
            "Epoch 82/800\n",
            "58/57 [==============================] - ETA: 0s - loss: 1.7452 - accuracy: 0.3443 - precision: 0.6838 - recall: 0.0485"
          ]
        },
        {
          "metadata": {
            "tags": null
          },
          "name": "stderr",
          "output_type": "stream",
          "text": [
            "WARNING:tensorflow:Can save best model only with acc available, skipping.\n"
          ]
        },
        {
          "metadata": {
            "tags": null
          },
          "name": "stdout",
          "output_type": "stream",
          "text": [
            "57/57 [==============================] - 20s 352ms/step - loss: 1.7452 - accuracy: 0.3443 - precision: 0.6838 - recall: 0.0485 - val_loss: 1.6975 - val_accuracy: 0.4353 - val_precision: 0.9233 - val_recall: 0.0194\n",
            "Epoch 83/800\n",
            "58/57 [==============================] - ETA: 0s - loss: 1.7366 - accuracy: 0.3442 - precision: 0.6833 - recall: 0.0525"
          ]
        },
        {
          "metadata": {
            "tags": null
          },
          "name": "stderr",
          "output_type": "stream",
          "text": [
            "WARNING:tensorflow:Can save best model only with acc available, skipping.\n"
          ]
        },
        {
          "metadata": {
            "tags": null
          },
          "name": "stdout",
          "output_type": "stream",
          "text": [
            "57/57 [==============================] - 21s 364ms/step - loss: 1.7366 - accuracy: 0.3442 - precision: 0.6833 - recall: 0.0525 - val_loss: 1.6880 - val_accuracy: 0.4399 - val_precision: 0.9184 - val_recall: 0.0222\n",
            "Epoch 84/800\n",
            "58/57 [==============================] - ETA: 0s - loss: 1.7276 - accuracy: 0.3450 - precision: 0.6832 - recall: 0.0565"
          ]
        },
        {
          "metadata": {
            "tags": null
          },
          "name": "stderr",
          "output_type": "stream",
          "text": [
            "WARNING:tensorflow:Can save best model only with acc available, skipping.\n"
          ]
        },
        {
          "metadata": {
            "tags": null
          },
          "name": "stdout",
          "output_type": "stream",
          "text": [
            "57/57 [==============================] - 20s 349ms/step - loss: 1.7276 - accuracy: 0.3450 - precision: 0.6832 - recall: 0.0565 - val_loss: 1.6788 - val_accuracy: 0.4433 - val_precision: 0.9138 - val_recall: 0.0252\n",
            "Epoch 85/800\n",
            "58/57 [==============================] - ETA: 0s - loss: 1.7180 - accuracy: 0.3486 - precision: 0.6781 - recall: 0.0611"
          ]
        },
        {
          "metadata": {
            "tags": null
          },
          "name": "stderr",
          "output_type": "stream",
          "text": [
            "WARNING:tensorflow:Can save best model only with acc available, skipping.\n"
          ]
        },
        {
          "metadata": {
            "tags": null
          },
          "name": "stdout",
          "output_type": "stream",
          "text": [
            "57/57 [==============================] - 20s 349ms/step - loss: 1.7180 - accuracy: 0.3486 - precision: 0.6781 - recall: 0.0611 - val_loss: 1.6697 - val_accuracy: 0.4475 - val_precision: 0.9066 - val_recall: 0.0279\n",
            "Epoch 86/800\n",
            "58/57 [==============================] - ETA: 0s - loss: 1.7152 - accuracy: 0.3490 - precision: 0.6669 - recall: 0.0622"
          ]
        },
        {
          "metadata": {
            "tags": null
          },
          "name": "stderr",
          "output_type": "stream",
          "text": [
            "WARNING:tensorflow:Can save best model only with acc available, skipping.\n"
          ]
        },
        {
          "metadata": {
            "tags": null
          },
          "name": "stdout",
          "output_type": "stream",
          "text": [
            "57/57 [==============================] - 21s 358ms/step - loss: 1.7152 - accuracy: 0.3490 - precision: 0.6669 - recall: 0.0622 - val_loss: 1.6611 - val_accuracy: 0.4535 - val_precision: 0.8982 - val_recall: 0.0303\n",
            "Epoch 87/800\n",
            "58/57 [==============================] - ETA: 0s - loss: 1.7018 - accuracy: 0.3516 - precision: 0.6672 - recall: 0.0653"
          ]
        },
        {
          "metadata": {
            "tags": null
          },
          "name": "stderr",
          "output_type": "stream",
          "text": [
            "WARNING:tensorflow:Can save best model only with acc available, skipping.\n"
          ]
        },
        {
          "metadata": {
            "tags": null
          },
          "name": "stdout",
          "output_type": "stream",
          "text": [
            "57/57 [==============================] - 21s 357ms/step - loss: 1.7018 - accuracy: 0.3516 - precision: 0.6672 - recall: 0.0653 - val_loss: 1.6526 - val_accuracy: 0.4576 - val_precision: 0.8963 - val_recall: 0.0327\n",
            "Epoch 88/800\n",
            "58/57 [==============================] - ETA: 0s - loss: 1.6997 - accuracy: 0.3513 - precision: 0.6743 - recall: 0.0697"
          ]
        },
        {
          "metadata": {
            "tags": null
          },
          "name": "stderr",
          "output_type": "stream",
          "text": [
            "WARNING:tensorflow:Can save best model only with acc available, skipping.\n"
          ]
        },
        {
          "metadata": {
            "tags": null
          },
          "name": "stdout",
          "output_type": "stream",
          "text": [
            "57/57 [==============================] - 21s 360ms/step - loss: 1.6997 - accuracy: 0.3513 - precision: 0.6743 - recall: 0.0697 - val_loss: 1.6444 - val_accuracy: 0.4632 - val_precision: 0.8924 - val_recall: 0.0343\n",
            "Epoch 89/800\n",
            "58/57 [==============================] - ETA: 0s - loss: 1.6869 - accuracy: 0.3562 - precision: 0.6690 - recall: 0.0719"
          ]
        },
        {
          "metadata": {
            "tags": null
          },
          "name": "stderr",
          "output_type": "stream",
          "text": [
            "WARNING:tensorflow:Can save best model only with acc available, skipping.\n"
          ]
        },
        {
          "metadata": {
            "tags": null
          },
          "name": "stdout",
          "output_type": "stream",
          "text": [
            "57/57 [==============================] - 20s 353ms/step - loss: 1.6869 - accuracy: 0.3562 - precision: 0.6690 - recall: 0.0719 - val_loss: 1.6363 - val_accuracy: 0.4666 - val_precision: 0.8894 - val_recall: 0.0358\n",
            "Epoch 90/800\n",
            "58/57 [==============================] - ETA: 0s - loss: 1.6854 - accuracy: 0.3535 - precision: 0.6581 - recall: 0.0743"
          ]
        },
        {
          "metadata": {
            "tags": null
          },
          "name": "stderr",
          "output_type": "stream",
          "text": [
            "WARNING:tensorflow:Can save best model only with acc available, skipping.\n"
          ]
        },
        {
          "metadata": {
            "tags": null
          },
          "name": "stdout",
          "output_type": "stream",
          "text": [
            "57/57 [==============================] - 20s 353ms/step - loss: 1.6854 - accuracy: 0.3535 - precision: 0.6581 - recall: 0.0743 - val_loss: 1.6287 - val_accuracy: 0.4700 - val_precision: 0.8855 - val_recall: 0.0371\n",
            "Epoch 91/800\n",
            "58/57 [==============================] - ETA: 0s - loss: 1.6776 - accuracy: 0.3568 - precision: 0.6422 - recall: 0.0747"
          ]
        },
        {
          "metadata": {
            "tags": null
          },
          "name": "stderr",
          "output_type": "stream",
          "text": [
            "WARNING:tensorflow:Can save best model only with acc available, skipping.\n"
          ]
        },
        {
          "metadata": {
            "tags": null
          },
          "name": "stdout",
          "output_type": "stream",
          "text": [
            "57/57 [==============================] - 21s 357ms/step - loss: 1.6776 - accuracy: 0.3568 - precision: 0.6422 - recall: 0.0747 - val_loss: 1.6212 - val_accuracy: 0.4741 - val_precision: 0.8791 - val_recall: 0.0382\n",
            "Epoch 92/800\n",
            "58/57 [==============================] - ETA: 0s - loss: 1.6714 - accuracy: 0.3577 - precision: 0.6499 - recall: 0.0777"
          ]
        },
        {
          "metadata": {
            "tags": null
          },
          "name": "stderr",
          "output_type": "stream",
          "text": [
            "WARNING:tensorflow:Can save best model only with acc available, skipping.\n"
          ]
        },
        {
          "metadata": {
            "tags": null
          },
          "name": "stdout",
          "output_type": "stream",
          "text": [
            "57/57 [==============================] - 21s 361ms/step - loss: 1.6714 - accuracy: 0.3577 - precision: 0.6499 - recall: 0.0777 - val_loss: 1.6139 - val_accuracy: 0.4775 - val_precision: 0.8721 - val_recall: 0.0396\n",
            "Epoch 93/800\n",
            "58/57 [==============================] - ETA: 0s - loss: 1.6654 - accuracy: 0.3588 - precision: 0.6596 - recall: 0.0839"
          ]
        },
        {
          "metadata": {
            "tags": null
          },
          "name": "stderr",
          "output_type": "stream",
          "text": [
            "WARNING:tensorflow:Can save best model only with acc available, skipping.\n"
          ]
        },
        {
          "metadata": {
            "tags": null
          },
          "name": "stdout",
          "output_type": "stream",
          "text": [
            "57/57 [==============================] - 20s 353ms/step - loss: 1.6654 - accuracy: 0.3588 - precision: 0.6596 - recall: 0.0839 - val_loss: 1.6069 - val_accuracy: 0.4805 - val_precision: 0.8684 - val_recall: 0.0407\n",
            "Epoch 94/800\n",
            "58/57 [==============================] - ETA: 0s - loss: 1.6645 - accuracy: 0.3571 - precision: 0.6369 - recall: 0.0822"
          ]
        },
        {
          "metadata": {
            "tags": null
          },
          "name": "stderr",
          "output_type": "stream",
          "text": [
            "WARNING:tensorflow:Can save best model only with acc available, skipping.\n"
          ]
        },
        {
          "metadata": {
            "tags": null
          },
          "name": "stdout",
          "output_type": "stream",
          "text": [
            "57/57 [==============================] - 20s 352ms/step - loss: 1.6645 - accuracy: 0.3571 - precision: 0.6369 - recall: 0.0822 - val_loss: 1.6002 - val_accuracy: 0.4842 - val_precision: 0.8636 - val_recall: 0.0416\n",
            "Epoch 95/800\n",
            "58/57 [==============================] - ETA: 0s - loss: 1.6474 - accuracy: 0.3672 - precision: 0.6455 - recall: 0.0864"
          ]
        },
        {
          "metadata": {
            "tags": null
          },
          "name": "stderr",
          "output_type": "stream",
          "text": [
            "WARNING:tensorflow:Can save best model only with acc available, skipping.\n"
          ]
        },
        {
          "metadata": {
            "tags": null
          },
          "name": "stdout",
          "output_type": "stream",
          "text": [
            "57/57 [==============================] - 21s 359ms/step - loss: 1.6474 - accuracy: 0.3672 - precision: 0.6455 - recall: 0.0864 - val_loss: 1.5931 - val_accuracy: 0.4872 - val_precision: 0.8593 - val_recall: 0.0423\n",
            "Epoch 96/800\n",
            "58/57 [==============================] - ETA: 0s - loss: 1.6482 - accuracy: 0.3625 - precision: 0.6432 - recall: 0.0873"
          ]
        },
        {
          "metadata": {
            "tags": null
          },
          "name": "stderr",
          "output_type": "stream",
          "text": [
            "WARNING:tensorflow:Can save best model only with acc available, skipping.\n"
          ]
        },
        {
          "metadata": {
            "tags": null
          },
          "name": "stdout",
          "output_type": "stream",
          "text": [
            "57/57 [==============================] - 21s 361ms/step - loss: 1.6482 - accuracy: 0.3625 - precision: 0.6432 - recall: 0.0873 - val_loss: 1.5866 - val_accuracy: 0.4901 - val_precision: 0.8559 - val_recall: 0.0435\n",
            "Epoch 97/800\n",
            "58/57 [==============================] - ETA: 0s - loss: 1.6421 - accuracy: 0.3651 - precision: 0.6476 - recall: 0.0925"
          ]
        },
        {
          "metadata": {
            "tags": null
          },
          "name": "stderr",
          "output_type": "stream",
          "text": [
            "WARNING:tensorflow:Can save best model only with acc available, skipping.\n"
          ]
        },
        {
          "metadata": {
            "tags": null
          },
          "name": "stdout",
          "output_type": "stream",
          "text": [
            "57/57 [==============================] - 20s 352ms/step - loss: 1.6421 - accuracy: 0.3651 - precision: 0.6476 - recall: 0.0925 - val_loss: 1.5803 - val_accuracy: 0.4924 - val_precision: 0.8534 - val_recall: 0.0444\n",
            "Epoch 98/800\n",
            "58/57 [==============================] - ETA: 0s - loss: 1.6330 - accuracy: 0.3678 - precision: 0.6473 - recall: 0.0922"
          ]
        },
        {
          "metadata": {
            "tags": null
          },
          "name": "stderr",
          "output_type": "stream",
          "text": [
            "WARNING:tensorflow:Can save best model only with acc available, skipping.\n"
          ]
        },
        {
          "metadata": {
            "tags": null
          },
          "name": "stdout",
          "output_type": "stream",
          "text": [
            "57/57 [==============================] - 21s 364ms/step - loss: 1.6330 - accuracy: 0.3678 - precision: 0.6473 - recall: 0.0922 - val_loss: 1.5740 - val_accuracy: 0.4941 - val_precision: 0.8519 - val_recall: 0.0459\n",
            "Epoch 99/800\n",
            "58/57 [==============================] - ETA: 0s - loss: 1.6253 - accuracy: 0.3724 - precision: 0.6519 - recall: 0.0967"
          ]
        },
        {
          "metadata": {
            "tags": null
          },
          "name": "stderr",
          "output_type": "stream",
          "text": [
            "WARNING:tensorflow:Can save best model only with acc available, skipping.\n"
          ]
        },
        {
          "metadata": {
            "tags": null
          },
          "name": "stdout",
          "output_type": "stream",
          "text": [
            "57/57 [==============================] - 21s 362ms/step - loss: 1.6253 - accuracy: 0.3724 - precision: 0.6519 - recall: 0.0967 - val_loss: 1.5676 - val_accuracy: 0.4970 - val_precision: 0.8446 - val_recall: 0.0472\n",
            "Epoch 100/800\n",
            "58/57 [==============================] - ETA: 0s - loss: 1.6211 - accuracy: 0.3725 - precision: 0.6320 - recall: 0.0968"
          ]
        },
        {
          "metadata": {
            "tags": null
          },
          "name": "stderr",
          "output_type": "stream",
          "text": [
            "WARNING:tensorflow:Can save best model only with acc available, skipping.\n"
          ]
        },
        {
          "metadata": {
            "tags": null
          },
          "name": "stdout",
          "output_type": "stream",
          "text": [
            "57/57 [==============================] - 21s 363ms/step - loss: 1.6211 - accuracy: 0.3725 - precision: 0.6320 - recall: 0.0968 - val_loss: 1.5615 - val_accuracy: 0.4982 - val_precision: 0.8421 - val_recall: 0.0485\n",
            "Epoch 101/800\n",
            "58/57 [==============================] - ETA: 0s - loss: 1.6182 - accuracy: 0.3693 - precision: 0.6404 - recall: 0.0991"
          ]
        },
        {
          "metadata": {
            "tags": null
          },
          "name": "stderr",
          "output_type": "stream",
          "text": [
            "WARNING:tensorflow:Can save best model only with acc available, skipping.\n"
          ]
        },
        {
          "metadata": {
            "tags": null
          },
          "name": "stdout",
          "output_type": "stream",
          "text": [
            "57/57 [==============================] - 21s 360ms/step - loss: 1.6182 - accuracy: 0.3693 - precision: 0.6404 - recall: 0.0991 - val_loss: 1.5555 - val_accuracy: 0.4999 - val_precision: 0.8326 - val_recall: 0.0503\n",
            "Epoch 102/800\n",
            "58/57 [==============================] - ETA: 0s - loss: 1.6159 - accuracy: 0.3726 - precision: 0.6344 - recall: 0.1021"
          ]
        },
        {
          "metadata": {
            "tags": null
          },
          "name": "stderr",
          "output_type": "stream",
          "text": [
            "WARNING:tensorflow:Can save best model only with acc available, skipping.\n"
          ]
        },
        {
          "metadata": {
            "tags": null
          },
          "name": "stdout",
          "output_type": "stream",
          "text": [
            "57/57 [==============================] - 21s 357ms/step - loss: 1.6159 - accuracy: 0.3726 - precision: 0.6344 - recall: 0.1021 - val_loss: 1.5498 - val_accuracy: 0.5029 - val_precision: 0.8272 - val_recall: 0.0513\n",
            "Epoch 103/800\n",
            "58/57 [==============================] - ETA: 0s - loss: 1.6074 - accuracy: 0.3730 - precision: 0.6310 - recall: 0.1010"
          ]
        },
        {
          "metadata": {
            "tags": null
          },
          "name": "stderr",
          "output_type": "stream",
          "text": [
            "WARNING:tensorflow:Can save best model only with acc available, skipping.\n"
          ]
        },
        {
          "metadata": {
            "tags": null
          },
          "name": "stdout",
          "output_type": "stream",
          "text": [
            "57/57 [==============================] - 20s 353ms/step - loss: 1.6074 - accuracy: 0.3730 - precision: 0.6310 - recall: 0.1010 - val_loss: 1.5441 - val_accuracy: 0.5052 - val_precision: 0.8239 - val_recall: 0.0532\n",
            "Epoch 104/800\n",
            "58/57 [==============================] - ETA: 0s - loss: 1.6020 - accuracy: 0.3780 - precision: 0.6329 - recall: 0.1041"
          ]
        },
        {
          "metadata": {
            "tags": null
          },
          "name": "stderr",
          "output_type": "stream",
          "text": [
            "WARNING:tensorflow:Can save best model only with acc available, skipping.\n"
          ]
        },
        {
          "metadata": {
            "tags": null
          },
          "name": "stdout",
          "output_type": "stream",
          "text": [
            "57/57 [==============================] - 20s 354ms/step - loss: 1.6020 - accuracy: 0.3780 - precision: 0.6329 - recall: 0.1041 - val_loss: 1.5385 - val_accuracy: 0.5065 - val_precision: 0.8187 - val_recall: 0.0552\n",
            "Epoch 105/800\n",
            "58/57 [==============================] - ETA: 0s - loss: 1.5933 - accuracy: 0.3776 - precision: 0.6357 - recall: 0.1074"
          ]
        },
        {
          "metadata": {
            "tags": null
          },
          "name": "stderr",
          "output_type": "stream",
          "text": [
            "WARNING:tensorflow:Can save best model only with acc available, skipping.\n"
          ]
        },
        {
          "metadata": {
            "tags": null
          },
          "name": "stdout",
          "output_type": "stream",
          "text": [
            "57/57 [==============================] - 21s 365ms/step - loss: 1.5933 - accuracy: 0.3776 - precision: 0.6357 - recall: 0.1074 - val_loss: 1.5329 - val_accuracy: 0.5084 - val_precision: 0.8136 - val_recall: 0.0575\n",
            "Epoch 106/800\n",
            "58/57 [==============================] - ETA: 0s - loss: 1.5874 - accuracy: 0.3812 - precision: 0.6445 - recall: 0.1104"
          ]
        },
        {
          "metadata": {
            "tags": null
          },
          "name": "stderr",
          "output_type": "stream",
          "text": [
            "WARNING:tensorflow:Can save best model only with acc available, skipping.\n"
          ]
        },
        {
          "metadata": {
            "tags": null
          },
          "name": "stdout",
          "output_type": "stream",
          "text": [
            "57/57 [==============================] - 22s 382ms/step - loss: 1.5874 - accuracy: 0.3812 - precision: 0.6445 - recall: 0.1104 - val_loss: 1.5272 - val_accuracy: 0.5107 - val_precision: 0.8063 - val_recall: 0.0604\n",
            "Epoch 107/800\n",
            "58/57 [==============================] - ETA: 0s - loss: 1.5879 - accuracy: 0.3790 - precision: 0.6227 - recall: 0.1092"
          ]
        },
        {
          "metadata": {
            "tags": null
          },
          "name": "stderr",
          "output_type": "stream",
          "text": [
            "WARNING:tensorflow:Can save best model only with acc available, skipping.\n"
          ]
        },
        {
          "metadata": {
            "tags": null
          },
          "name": "stdout",
          "output_type": "stream",
          "text": [
            "57/57 [==============================] - 23s 395ms/step - loss: 1.5879 - accuracy: 0.3790 - precision: 0.6227 - recall: 0.1092 - val_loss: 1.5220 - val_accuracy: 0.5120 - val_precision: 0.8023 - val_recall: 0.0621\n",
            "Epoch 108/800\n",
            "58/57 [==============================] - ETA: 0s - loss: 1.5759 - accuracy: 0.3841 - precision: 0.6289 - recall: 0.1112"
          ]
        },
        {
          "metadata": {
            "tags": null
          },
          "name": "stderr",
          "output_type": "stream",
          "text": [
            "WARNING:tensorflow:Can save best model only with acc available, skipping.\n"
          ]
        },
        {
          "metadata": {
            "tags": null
          },
          "name": "stdout",
          "output_type": "stream",
          "text": [
            "57/57 [==============================] - 21s 365ms/step - loss: 1.5759 - accuracy: 0.3841 - precision: 0.6289 - recall: 0.1112 - val_loss: 1.5166 - val_accuracy: 0.5134 - val_precision: 0.7980 - val_recall: 0.0648\n",
            "Epoch 109/800\n",
            "58/57 [==============================] - ETA: 0s - loss: 1.5773 - accuracy: 0.3825 - precision: 0.6351 - recall: 0.1143"
          ]
        },
        {
          "metadata": {
            "tags": null
          },
          "name": "stderr",
          "output_type": "stream",
          "text": [
            "WARNING:tensorflow:Can save best model only with acc available, skipping.\n"
          ]
        },
        {
          "metadata": {
            "tags": null
          },
          "name": "stdout",
          "output_type": "stream",
          "text": [
            "57/57 [==============================] - 22s 372ms/step - loss: 1.5773 - accuracy: 0.3825 - precision: 0.6351 - recall: 0.1143 - val_loss: 1.5116 - val_accuracy: 0.5150 - val_precision: 0.7930 - val_recall: 0.0677\n",
            "Epoch 110/800\n",
            "58/57 [==============================] - ETA: 0s - loss: 1.5727 - accuracy: 0.3838 - precision: 0.6256 - recall: 0.1148"
          ]
        },
        {
          "metadata": {
            "tags": null
          },
          "name": "stderr",
          "output_type": "stream",
          "text": [
            "WARNING:tensorflow:Can save best model only with acc available, skipping.\n"
          ]
        },
        {
          "metadata": {
            "tags": null
          },
          "name": "stdout",
          "output_type": "stream",
          "text": [
            "57/57 [==============================] - 22s 383ms/step - loss: 1.5727 - accuracy: 0.3838 - precision: 0.6256 - recall: 0.1148 - val_loss: 1.5065 - val_accuracy: 0.5168 - val_precision: 0.7897 - val_recall: 0.0700\n",
            "Epoch 111/800\n",
            "58/57 [==============================] - ETA: 0s - loss: 1.5688 - accuracy: 0.3857 - precision: 0.6259 - recall: 0.1179"
          ]
        },
        {
          "metadata": {
            "tags": null
          },
          "name": "stderr",
          "output_type": "stream",
          "text": [
            "WARNING:tensorflow:Can save best model only with acc available, skipping.\n"
          ]
        },
        {
          "metadata": {
            "tags": null
          },
          "name": "stdout",
          "output_type": "stream",
          "text": [
            "57/57 [==============================] - 21s 364ms/step - loss: 1.5688 - accuracy: 0.3857 - precision: 0.6259 - recall: 0.1179 - val_loss: 1.5016 - val_accuracy: 0.5181 - val_precision: 0.7870 - val_recall: 0.0720\n",
            "Epoch 112/800\n",
            "58/57 [==============================] - ETA: 0s - loss: 1.5610 - accuracy: 0.3876 - precision: 0.6256 - recall: 0.1188"
          ]
        },
        {
          "metadata": {
            "tags": null
          },
          "name": "stderr",
          "output_type": "stream",
          "text": [
            "WARNING:tensorflow:Can save best model only with acc available, skipping.\n"
          ]
        },
        {
          "metadata": {
            "tags": null
          },
          "name": "stdout",
          "output_type": "stream",
          "text": [
            "57/57 [==============================] - 21s 365ms/step - loss: 1.5610 - accuracy: 0.3876 - precision: 0.6256 - recall: 0.1188 - val_loss: 1.4967 - val_accuracy: 0.5189 - val_precision: 0.7860 - val_recall: 0.0747\n",
            "Epoch 113/800\n",
            "58/57 [==============================] - ETA: 0s - loss: 1.5567 - accuracy: 0.3900 - precision: 0.6237 - recall: 0.1193"
          ]
        },
        {
          "metadata": {
            "tags": null
          },
          "name": "stderr",
          "output_type": "stream",
          "text": [
            "WARNING:tensorflow:Can save best model only with acc available, skipping.\n"
          ]
        },
        {
          "metadata": {
            "tags": null
          },
          "name": "stdout",
          "output_type": "stream",
          "text": [
            "57/57 [==============================] - 21s 365ms/step - loss: 1.5567 - accuracy: 0.3900 - precision: 0.6237 - recall: 0.1193 - val_loss: 1.4919 - val_accuracy: 0.5197 - val_precision: 0.7851 - val_recall: 0.0782\n",
            "Epoch 114/800\n",
            "58/57 [==============================] - ETA: 0s - loss: 1.5540 - accuracy: 0.3896 - precision: 0.6235 - recall: 0.1215"
          ]
        },
        {
          "metadata": {
            "tags": null
          },
          "name": "stderr",
          "output_type": "stream",
          "text": [
            "WARNING:tensorflow:Can save best model only with acc available, skipping.\n"
          ]
        },
        {
          "metadata": {
            "tags": null
          },
          "name": "stdout",
          "output_type": "stream",
          "text": [
            "57/57 [==============================] - 21s 369ms/step - loss: 1.5540 - accuracy: 0.3896 - precision: 0.6235 - recall: 0.1215 - val_loss: 1.4871 - val_accuracy: 0.5206 - val_precision: 0.7830 - val_recall: 0.0804\n",
            "Epoch 115/800\n",
            "58/57 [==============================] - ETA: 0s - loss: 1.5473 - accuracy: 0.3910 - precision: 0.6246 - recall: 0.1245"
          ]
        },
        {
          "metadata": {
            "tags": null
          },
          "name": "stderr",
          "output_type": "stream",
          "text": [
            "WARNING:tensorflow:Can save best model only with acc available, skipping.\n"
          ]
        },
        {
          "metadata": {
            "tags": null
          },
          "name": "stdout",
          "output_type": "stream",
          "text": [
            "57/57 [==============================] - 22s 378ms/step - loss: 1.5473 - accuracy: 0.3910 - precision: 0.6246 - recall: 0.1245 - val_loss: 1.4824 - val_accuracy: 0.5218 - val_precision: 0.7809 - val_recall: 0.0823\n",
            "Epoch 116/800\n",
            "58/57 [==============================] - ETA: 0s - loss: 1.5476 - accuracy: 0.3920 - precision: 0.6268 - recall: 0.1282"
          ]
        },
        {
          "metadata": {
            "tags": null
          },
          "name": "stderr",
          "output_type": "stream",
          "text": [
            "WARNING:tensorflow:Can save best model only with acc available, skipping.\n"
          ]
        },
        {
          "metadata": {
            "tags": null
          },
          "name": "stdout",
          "output_type": "stream",
          "text": [
            "57/57 [==============================] - 21s 360ms/step - loss: 1.5476 - accuracy: 0.3920 - precision: 0.6268 - recall: 0.1282 - val_loss: 1.4780 - val_accuracy: 0.5227 - val_precision: 0.7794 - val_recall: 0.0830\n",
            "Epoch 117/800\n",
            "58/57 [==============================] - ETA: 0s - loss: 1.5416 - accuracy: 0.3940 - precision: 0.6255 - recall: 0.1283"
          ]
        },
        {
          "metadata": {
            "tags": null
          },
          "name": "stderr",
          "output_type": "stream",
          "text": [
            "WARNING:tensorflow:Can save best model only with acc available, skipping.\n"
          ]
        },
        {
          "metadata": {
            "tags": null
          },
          "name": "stdout",
          "output_type": "stream",
          "text": [
            "57/57 [==============================] - 21s 368ms/step - loss: 1.5416 - accuracy: 0.3940 - precision: 0.6255 - recall: 0.1283 - val_loss: 1.4735 - val_accuracy: 0.5243 - val_precision: 0.7776 - val_recall: 0.0840\n",
            "Epoch 118/800\n",
            "58/57 [==============================] - ETA: 0s - loss: 1.5322 - accuracy: 0.3963 - precision: 0.6205 - recall: 0.1291"
          ]
        },
        {
          "metadata": {
            "tags": null
          },
          "name": "stderr",
          "output_type": "stream",
          "text": [
            "WARNING:tensorflow:Can save best model only with acc available, skipping.\n"
          ]
        },
        {
          "metadata": {
            "tags": null
          },
          "name": "stdout",
          "output_type": "stream",
          "text": [
            "57/57 [==============================] - 21s 365ms/step - loss: 1.5322 - accuracy: 0.3963 - precision: 0.6205 - recall: 0.1291 - val_loss: 1.4690 - val_accuracy: 0.5257 - val_precision: 0.7752 - val_recall: 0.0864\n",
            "Epoch 119/800\n",
            "58/57 [==============================] - ETA: 0s - loss: 1.5330 - accuracy: 0.3978 - precision: 0.6278 - recall: 0.1316"
          ]
        },
        {
          "metadata": {
            "tags": null
          },
          "name": "stderr",
          "output_type": "stream",
          "text": [
            "WARNING:tensorflow:Can save best model only with acc available, skipping.\n"
          ]
        },
        {
          "metadata": {
            "tags": null
          },
          "name": "stdout",
          "output_type": "stream",
          "text": [
            "57/57 [==============================] - 21s 361ms/step - loss: 1.5330 - accuracy: 0.3978 - precision: 0.6278 - recall: 0.1316 - val_loss: 1.4646 - val_accuracy: 0.5263 - val_precision: 0.7750 - val_recall: 0.0885\n",
            "Epoch 120/800\n",
            "58/57 [==============================] - ETA: 0s - loss: 1.5269 - accuracy: 0.4005 - precision: 0.6241 - recall: 0.1332"
          ]
        },
        {
          "metadata": {
            "tags": null
          },
          "name": "stderr",
          "output_type": "stream",
          "text": [
            "WARNING:tensorflow:Can save best model only with acc available, skipping.\n"
          ]
        },
        {
          "metadata": {
            "tags": null
          },
          "name": "stdout",
          "output_type": "stream",
          "text": [
            "57/57 [==============================] - 21s 355ms/step - loss: 1.5269 - accuracy: 0.4005 - precision: 0.6241 - recall: 0.1332 - val_loss: 1.4601 - val_accuracy: 0.5276 - val_precision: 0.7712 - val_recall: 0.0906\n",
            "Epoch 121/800\n",
            "58/57 [==============================] - ETA: 0s - loss: 1.5241 - accuracy: 0.4013 - precision: 0.6207 - recall: 0.1330"
          ]
        },
        {
          "metadata": {
            "tags": null
          },
          "name": "stderr",
          "output_type": "stream",
          "text": [
            "WARNING:tensorflow:Can save best model only with acc available, skipping.\n"
          ]
        },
        {
          "metadata": {
            "tags": null
          },
          "name": "stdout",
          "output_type": "stream",
          "text": [
            "57/57 [==============================] - 21s 354ms/step - loss: 1.5241 - accuracy: 0.4013 - precision: 0.6207 - recall: 0.1330 - val_loss: 1.4558 - val_accuracy: 0.5284 - val_precision: 0.7721 - val_recall: 0.0936\n",
            "Epoch 122/800\n",
            "58/57 [==============================] - ETA: 0s - loss: 1.5191 - accuracy: 0.4024 - precision: 0.6252 - recall: 0.1359"
          ]
        },
        {
          "metadata": {
            "tags": null
          },
          "name": "stderr",
          "output_type": "stream",
          "text": [
            "WARNING:tensorflow:Can save best model only with acc available, skipping.\n"
          ]
        },
        {
          "metadata": {
            "tags": null
          },
          "name": "stdout",
          "output_type": "stream",
          "text": [
            "57/57 [==============================] - 21s 366ms/step - loss: 1.5191 - accuracy: 0.4024 - precision: 0.6252 - recall: 0.1359 - val_loss: 1.4515 - val_accuracy: 0.5292 - val_precision: 0.7732 - val_recall: 0.0952\n",
            "Epoch 123/800\n",
            "58/57 [==============================] - ETA: 0s - loss: 1.5163 - accuracy: 0.4024 - precision: 0.6265 - recall: 0.1368"
          ]
        },
        {
          "metadata": {
            "tags": null
          },
          "name": "stderr",
          "output_type": "stream",
          "text": [
            "WARNING:tensorflow:Can save best model only with acc available, skipping.\n"
          ]
        },
        {
          "metadata": {
            "tags": null
          },
          "name": "stdout",
          "output_type": "stream",
          "text": [
            "57/57 [==============================] - 21s 360ms/step - loss: 1.5163 - accuracy: 0.4024 - precision: 0.6265 - recall: 0.1368 - val_loss: 1.4473 - val_accuracy: 0.5314 - val_precision: 0.7706 - val_recall: 0.0964\n",
            "Epoch 124/800\n",
            "58/57 [==============================] - ETA: 0s - loss: 1.5156 - accuracy: 0.4017 - precision: 0.6207 - recall: 0.1381"
          ]
        },
        {
          "metadata": {
            "tags": null
          },
          "name": "stderr",
          "output_type": "stream",
          "text": [
            "WARNING:tensorflow:Can save best model only with acc available, skipping.\n"
          ]
        },
        {
          "metadata": {
            "tags": null
          },
          "name": "stdout",
          "output_type": "stream",
          "text": [
            "57/57 [==============================] - 21s 360ms/step - loss: 1.5156 - accuracy: 0.4017 - precision: 0.6207 - recall: 0.1381 - val_loss: 1.4433 - val_accuracy: 0.5328 - val_precision: 0.7717 - val_recall: 0.0978\n",
            "Epoch 125/800\n",
            "58/57 [==============================] - ETA: 0s - loss: 1.5015 - accuracy: 0.4086 - precision: 0.6304 - recall: 0.1395"
          ]
        },
        {
          "metadata": {
            "tags": null
          },
          "name": "stderr",
          "output_type": "stream",
          "text": [
            "WARNING:tensorflow:Can save best model only with acc available, skipping.\n"
          ]
        },
        {
          "metadata": {
            "tags": null
          },
          "name": "stdout",
          "output_type": "stream",
          "text": [
            "57/57 [==============================] - 21s 356ms/step - loss: 1.5015 - accuracy: 0.4086 - precision: 0.6304 - recall: 0.1395 - val_loss: 1.4389 - val_accuracy: 0.5334 - val_precision: 0.7686 - val_recall: 0.0995\n",
            "Epoch 126/800\n",
            "58/57 [==============================] - ETA: 0s - loss: 1.5010 - accuracy: 0.4111 - precision: 0.6232 - recall: 0.1421"
          ]
        },
        {
          "metadata": {
            "tags": null
          },
          "name": "stderr",
          "output_type": "stream",
          "text": [
            "WARNING:tensorflow:Can save best model only with acc available, skipping.\n"
          ]
        },
        {
          "metadata": {
            "tags": null
          },
          "name": "stdout",
          "output_type": "stream",
          "text": [
            "57/57 [==============================] - 21s 361ms/step - loss: 1.5010 - accuracy: 0.4111 - precision: 0.6232 - recall: 0.1421 - val_loss: 1.4348 - val_accuracy: 0.5342 - val_precision: 0.7664 - val_recall: 0.1013\n",
            "Epoch 127/800\n",
            "58/57 [==============================] - ETA: 0s - loss: 1.4977 - accuracy: 0.4097 - precision: 0.6221 - recall: 0.1445"
          ]
        },
        {
          "metadata": {
            "tags": null
          },
          "name": "stderr",
          "output_type": "stream",
          "text": [
            "WARNING:tensorflow:Can save best model only with acc available, skipping.\n"
          ]
        },
        {
          "metadata": {
            "tags": null
          },
          "name": "stdout",
          "output_type": "stream",
          "text": [
            "57/57 [==============================] - 21s 354ms/step - loss: 1.4977 - accuracy: 0.4097 - precision: 0.6221 - recall: 0.1445 - val_loss: 1.4306 - val_accuracy: 0.5354 - val_precision: 0.7670 - val_recall: 0.1031\n",
            "Epoch 128/800\n",
            "58/57 [==============================] - ETA: 0s - loss: 1.4907 - accuracy: 0.4144 - precision: 0.6293 - recall: 0.1450"
          ]
        },
        {
          "metadata": {
            "tags": null
          },
          "name": "stderr",
          "output_type": "stream",
          "text": [
            "WARNING:tensorflow:Can save best model only with acc available, skipping.\n"
          ]
        },
        {
          "metadata": {
            "tags": null
          },
          "name": "stdout",
          "output_type": "stream",
          "text": [
            "57/57 [==============================] - 20s 353ms/step - loss: 1.4907 - accuracy: 0.4144 - precision: 0.6293 - recall: 0.1450 - val_loss: 1.4265 - val_accuracy: 0.5366 - val_precision: 0.7668 - val_recall: 0.1044\n",
            "Epoch 129/800\n",
            "58/57 [==============================] - ETA: 0s - loss: 1.4873 - accuracy: 0.4141 - precision: 0.6263 - recall: 0.1475"
          ]
        },
        {
          "metadata": {
            "tags": null
          },
          "name": "stderr",
          "output_type": "stream",
          "text": [
            "WARNING:tensorflow:Can save best model only with acc available, skipping.\n"
          ]
        },
        {
          "metadata": {
            "tags": null
          },
          "name": "stdout",
          "output_type": "stream",
          "text": [
            "57/57 [==============================] - 21s 359ms/step - loss: 1.4873 - accuracy: 0.4141 - precision: 0.6263 - recall: 0.1475 - val_loss: 1.4223 - val_accuracy: 0.5377 - val_precision: 0.7670 - val_recall: 0.1059\n",
            "Epoch 130/800\n",
            "58/57 [==============================] - ETA: 0s - loss: 1.4830 - accuracy: 0.4175 - precision: 0.6266 - recall: 0.1494"
          ]
        },
        {
          "metadata": {
            "tags": null
          },
          "name": "stderr",
          "output_type": "stream",
          "text": [
            "WARNING:tensorflow:Can save best model only with acc available, skipping.\n"
          ]
        },
        {
          "metadata": {
            "tags": null
          },
          "name": "stdout",
          "output_type": "stream",
          "text": [
            "57/57 [==============================] - 21s 368ms/step - loss: 1.4830 - accuracy: 0.4175 - precision: 0.6266 - recall: 0.1494 - val_loss: 1.4181 - val_accuracy: 0.5383 - val_precision: 0.7650 - val_recall: 0.1070\n",
            "Epoch 131/800\n",
            "58/57 [==============================] - ETA: 0s - loss: 1.4837 - accuracy: 0.4121 - precision: 0.6262 - recall: 0.1503"
          ]
        },
        {
          "metadata": {
            "tags": null
          },
          "name": "stderr",
          "output_type": "stream",
          "text": [
            "WARNING:tensorflow:Can save best model only with acc available, skipping.\n"
          ]
        },
        {
          "metadata": {
            "tags": null
          },
          "name": "stdout",
          "output_type": "stream",
          "text": [
            "57/57 [==============================] - 21s 369ms/step - loss: 1.4837 - accuracy: 0.4121 - precision: 0.6262 - recall: 0.1503 - val_loss: 1.4142 - val_accuracy: 0.5389 - val_precision: 0.7631 - val_recall: 0.1083\n",
            "Epoch 132/800\n",
            "58/57 [==============================] - ETA: 0s - loss: 1.4787 - accuracy: 0.4187 - precision: 0.6221 - recall: 0.1522"
          ]
        },
        {
          "metadata": {
            "tags": null
          },
          "name": "stderr",
          "output_type": "stream",
          "text": [
            "WARNING:tensorflow:Can save best model only with acc available, skipping.\n"
          ]
        },
        {
          "metadata": {
            "tags": null
          },
          "name": "stdout",
          "output_type": "stream",
          "text": [
            "57/57 [==============================] - 21s 369ms/step - loss: 1.4787 - accuracy: 0.4187 - precision: 0.6221 - recall: 0.1522 - val_loss: 1.4104 - val_accuracy: 0.5400 - val_precision: 0.7632 - val_recall: 0.1097\n",
            "Epoch 133/800\n",
            "58/57 [==============================] - ETA: 0s - loss: 1.4719 - accuracy: 0.4221 - precision: 0.6317 - recall: 0.1550"
          ]
        },
        {
          "metadata": {
            "tags": null
          },
          "name": "stderr",
          "output_type": "stream",
          "text": [
            "WARNING:tensorflow:Can save best model only with acc available, skipping.\n"
          ]
        },
        {
          "metadata": {
            "tags": null
          },
          "name": "stdout",
          "output_type": "stream",
          "text": [
            "57/57 [==============================] - 22s 375ms/step - loss: 1.4719 - accuracy: 0.4221 - precision: 0.6317 - recall: 0.1550 - val_loss: 1.4065 - val_accuracy: 0.5411 - val_precision: 0.7637 - val_recall: 0.1107\n",
            "Epoch 134/800\n",
            "58/57 [==============================] - ETA: 0s - loss: 1.4735 - accuracy: 0.4199 - precision: 0.6281 - recall: 0.1572"
          ]
        },
        {
          "metadata": {
            "tags": null
          },
          "name": "stderr",
          "output_type": "stream",
          "text": [
            "WARNING:tensorflow:Can save best model only with acc available, skipping.\n"
          ]
        },
        {
          "metadata": {
            "tags": null
          },
          "name": "stdout",
          "output_type": "stream",
          "text": [
            "57/57 [==============================] - 22s 374ms/step - loss: 1.4735 - accuracy: 0.4199 - precision: 0.6281 - recall: 0.1572 - val_loss: 1.4030 - val_accuracy: 0.5421 - val_precision: 0.7634 - val_recall: 0.1116\n",
            "Epoch 135/800\n",
            "58/57 [==============================] - ETA: 0s - loss: 1.4641 - accuracy: 0.4204 - precision: 0.6310 - recall: 0.1576"
          ]
        },
        {
          "metadata": {
            "tags": null
          },
          "name": "stderr",
          "output_type": "stream",
          "text": [
            "WARNING:tensorflow:Can save best model only with acc available, skipping.\n"
          ]
        },
        {
          "metadata": {
            "tags": null
          },
          "name": "stdout",
          "output_type": "stream",
          "text": [
            "57/57 [==============================] - 21s 362ms/step - loss: 1.4641 - accuracy: 0.4204 - precision: 0.6310 - recall: 0.1576 - val_loss: 1.3992 - val_accuracy: 0.5440 - val_precision: 0.7630 - val_recall: 0.1119\n",
            "Epoch 136/800\n",
            "58/57 [==============================] - ETA: 0s - loss: 1.4631 - accuracy: 0.4250 - precision: 0.6280 - recall: 0.1568"
          ]
        },
        {
          "metadata": {
            "tags": null
          },
          "name": "stderr",
          "output_type": "stream",
          "text": [
            "WARNING:tensorflow:Can save best model only with acc available, skipping.\n"
          ]
        },
        {
          "metadata": {
            "tags": null
          },
          "name": "stdout",
          "output_type": "stream",
          "text": [
            "57/57 [==============================] - 21s 366ms/step - loss: 1.4631 - accuracy: 0.4250 - precision: 0.6280 - recall: 0.1568 - val_loss: 1.3953 - val_accuracy: 0.5446 - val_precision: 0.7613 - val_recall: 0.1135\n",
            "Epoch 137/800\n",
            "58/57 [==============================] - ETA: 0s - loss: 1.4573 - accuracy: 0.4239 - precision: 0.6275 - recall: 0.1597"
          ]
        },
        {
          "metadata": {
            "tags": null
          },
          "name": "stderr",
          "output_type": "stream",
          "text": [
            "WARNING:tensorflow:Can save best model only with acc available, skipping.\n"
          ]
        },
        {
          "metadata": {
            "tags": null
          },
          "name": "stdout",
          "output_type": "stream",
          "text": [
            "57/57 [==============================] - 21s 354ms/step - loss: 1.4573 - accuracy: 0.4239 - precision: 0.6275 - recall: 0.1597 - val_loss: 1.3916 - val_accuracy: 0.5454 - val_precision: 0.7606 - val_recall: 0.1152\n",
            "Epoch 138/800\n",
            "58/57 [==============================] - ETA: 0s - loss: 1.4533 - accuracy: 0.4285 - precision: 0.6358 - recall: 0.1634"
          ]
        },
        {
          "metadata": {
            "tags": null
          },
          "name": "stderr",
          "output_type": "stream",
          "text": [
            "WARNING:tensorflow:Can save best model only with acc available, skipping.\n"
          ]
        },
        {
          "metadata": {
            "tags": null
          },
          "name": "stdout",
          "output_type": "stream",
          "text": [
            "57/57 [==============================] - 22s 377ms/step - loss: 1.4533 - accuracy: 0.4285 - precision: 0.6358 - recall: 0.1634 - val_loss: 1.3878 - val_accuracy: 0.5469 - val_precision: 0.7602 - val_recall: 0.1158\n",
            "Epoch 139/800\n",
            "58/57 [==============================] - ETA: 0s - loss: 1.4496 - accuracy: 0.4302 - precision: 0.6290 - recall: 0.1621"
          ]
        },
        {
          "metadata": {
            "tags": null
          },
          "name": "stderr",
          "output_type": "stream",
          "text": [
            "WARNING:tensorflow:Can save best model only with acc available, skipping.\n"
          ]
        },
        {
          "metadata": {
            "tags": null
          },
          "name": "stdout",
          "output_type": "stream",
          "text": [
            "57/57 [==============================] - 21s 358ms/step - loss: 1.4496 - accuracy: 0.4302 - precision: 0.6290 - recall: 0.1621 - val_loss: 1.3839 - val_accuracy: 0.5476 - val_precision: 0.7604 - val_recall: 0.1173\n",
            "Epoch 140/800\n",
            "58/57 [==============================] - ETA: 0s - loss: 1.4537 - accuracy: 0.4261 - precision: 0.6301 - recall: 0.1646"
          ]
        },
        {
          "metadata": {
            "tags": null
          },
          "name": "stderr",
          "output_type": "stream",
          "text": [
            "WARNING:tensorflow:Can save best model only with acc available, skipping.\n"
          ]
        },
        {
          "metadata": {
            "tags": null
          },
          "name": "stdout",
          "output_type": "stream",
          "text": [
            "57/57 [==============================] - 21s 359ms/step - loss: 1.4537 - accuracy: 0.4261 - precision: 0.6301 - recall: 0.1646 - val_loss: 1.3806 - val_accuracy: 0.5484 - val_precision: 0.7601 - val_recall: 0.1183\n",
            "Epoch 141/800\n",
            "58/57 [==============================] - ETA: 0s - loss: 1.4469 - accuracy: 0.4301 - precision: 0.6344 - recall: 0.1685"
          ]
        },
        {
          "metadata": {
            "tags": null
          },
          "name": "stderr",
          "output_type": "stream",
          "text": [
            "WARNING:tensorflow:Can save best model only with acc available, skipping.\n"
          ]
        },
        {
          "metadata": {
            "tags": null
          },
          "name": "stdout",
          "output_type": "stream",
          "text": [
            "57/57 [==============================] - 21s 362ms/step - loss: 1.4469 - accuracy: 0.4301 - precision: 0.6344 - recall: 0.1685 - val_loss: 1.3770 - val_accuracy: 0.5497 - val_precision: 0.7591 - val_recall: 0.1190\n",
            "Epoch 142/800\n",
            "58/57 [==============================] - ETA: 0s - loss: 1.4412 - accuracy: 0.4308 - precision: 0.6315 - recall: 0.1693"
          ]
        },
        {
          "metadata": {
            "tags": null
          },
          "name": "stderr",
          "output_type": "stream",
          "text": [
            "WARNING:tensorflow:Can save best model only with acc available, skipping.\n"
          ]
        },
        {
          "metadata": {
            "tags": null
          },
          "name": "stdout",
          "output_type": "stream",
          "text": [
            "57/57 [==============================] - 21s 361ms/step - loss: 1.4412 - accuracy: 0.4308 - precision: 0.6315 - recall: 0.1693 - val_loss: 1.3734 - val_accuracy: 0.5506 - val_precision: 0.7569 - val_recall: 0.1198\n",
            "Epoch 143/800\n",
            "58/57 [==============================] - ETA: 0s - loss: 1.4383 - accuracy: 0.4346 - precision: 0.6396 - recall: 0.1695"
          ]
        },
        {
          "metadata": {
            "tags": null
          },
          "name": "stderr",
          "output_type": "stream",
          "text": [
            "WARNING:tensorflow:Can save best model only with acc available, skipping.\n"
          ]
        },
        {
          "metadata": {
            "tags": null
          },
          "name": "stdout",
          "output_type": "stream",
          "text": [
            "57/57 [==============================] - 21s 363ms/step - loss: 1.4383 - accuracy: 0.4346 - precision: 0.6396 - recall: 0.1695 - val_loss: 1.3699 - val_accuracy: 0.5516 - val_precision: 0.7553 - val_recall: 0.1205\n",
            "Epoch 144/800\n",
            "58/57 [==============================] - ETA: 0s - loss: 1.4374 - accuracy: 0.4305 - precision: 0.6250 - recall: 0.1703"
          ]
        },
        {
          "metadata": {
            "tags": null
          },
          "name": "stderr",
          "output_type": "stream",
          "text": [
            "WARNING:tensorflow:Can save best model only with acc available, skipping.\n"
          ]
        },
        {
          "metadata": {
            "tags": null
          },
          "name": "stdout",
          "output_type": "stream",
          "text": [
            "57/57 [==============================] - 21s 362ms/step - loss: 1.4374 - accuracy: 0.4305 - precision: 0.6250 - recall: 0.1703 - val_loss: 1.3666 - val_accuracy: 0.5523 - val_precision: 0.7558 - val_recall: 0.1218\n",
            "Epoch 145/800\n",
            "58/57 [==============================] - ETA: 0s - loss: 1.4356 - accuracy: 0.4332 - precision: 0.6282 - recall: 0.1723"
          ]
        },
        {
          "metadata": {
            "tags": null
          },
          "name": "stderr",
          "output_type": "stream",
          "text": [
            "WARNING:tensorflow:Can save best model only with acc available, skipping.\n"
          ]
        },
        {
          "metadata": {
            "tags": null
          },
          "name": "stdout",
          "output_type": "stream",
          "text": [
            "57/57 [==============================] - 21s 365ms/step - loss: 1.4356 - accuracy: 0.4332 - precision: 0.6282 - recall: 0.1723 - val_loss: 1.3633 - val_accuracy: 0.5533 - val_precision: 0.7545 - val_recall: 0.1228\n",
            "Epoch 146/800\n",
            "58/57 [==============================] - ETA: 0s - loss: 1.4280 - accuracy: 0.4372 - precision: 0.6335 - recall: 0.1746"
          ]
        },
        {
          "metadata": {
            "tags": null
          },
          "name": "stderr",
          "output_type": "stream",
          "text": [
            "WARNING:tensorflow:Can save best model only with acc available, skipping.\n"
          ]
        },
        {
          "metadata": {
            "tags": null
          },
          "name": "stdout",
          "output_type": "stream",
          "text": [
            "57/57 [==============================] - 21s 359ms/step - loss: 1.4280 - accuracy: 0.4372 - precision: 0.6335 - recall: 0.1746 - val_loss: 1.3599 - val_accuracy: 0.5541 - val_precision: 0.7545 - val_recall: 0.1240\n",
            "Epoch 147/800\n",
            "58/57 [==============================] - ETA: 0s - loss: 1.4238 - accuracy: 0.4404 - precision: 0.6348 - recall: 0.1778"
          ]
        },
        {
          "metadata": {
            "tags": null
          },
          "name": "stderr",
          "output_type": "stream",
          "text": [
            "WARNING:tensorflow:Can save best model only with acc available, skipping.\n"
          ]
        },
        {
          "metadata": {
            "tags": null
          },
          "name": "stdout",
          "output_type": "stream",
          "text": [
            "57/57 [==============================] - 21s 363ms/step - loss: 1.4238 - accuracy: 0.4404 - precision: 0.6348 - recall: 0.1778 - val_loss: 1.3563 - val_accuracy: 0.5553 - val_precision: 0.7554 - val_recall: 0.1246\n",
            "Epoch 148/800\n",
            "58/57 [==============================] - ETA: 0s - loss: 1.4220 - accuracy: 0.4390 - precision: 0.6295 - recall: 0.1761"
          ]
        },
        {
          "metadata": {
            "tags": null
          },
          "name": "stderr",
          "output_type": "stream",
          "text": [
            "WARNING:tensorflow:Can save best model only with acc available, skipping.\n"
          ]
        },
        {
          "metadata": {
            "tags": null
          },
          "name": "stdout",
          "output_type": "stream",
          "text": [
            "57/57 [==============================] - 21s 364ms/step - loss: 1.4220 - accuracy: 0.4390 - precision: 0.6295 - recall: 0.1761 - val_loss: 1.3530 - val_accuracy: 0.5563 - val_precision: 0.7558 - val_recall: 0.1257\n",
            "Epoch 149/800\n",
            "58/57 [==============================] - ETA: 0s - loss: 1.4191 - accuracy: 0.4429 - precision: 0.6305 - recall: 0.1799"
          ]
        },
        {
          "metadata": {
            "tags": null
          },
          "name": "stderr",
          "output_type": "stream",
          "text": [
            "WARNING:tensorflow:Can save best model only with acc available, skipping.\n"
          ]
        },
        {
          "metadata": {
            "tags": null
          },
          "name": "stdout",
          "output_type": "stream",
          "text": [
            "57/57 [==============================] - 21s 367ms/step - loss: 1.4191 - accuracy: 0.4429 - precision: 0.6305 - recall: 0.1799 - val_loss: 1.3496 - val_accuracy: 0.5578 - val_precision: 0.7555 - val_recall: 0.1267\n",
            "Epoch 150/800\n",
            "58/57 [==============================] - ETA: 0s - loss: 1.4145 - accuracy: 0.4431 - precision: 0.6356 - recall: 0.1789"
          ]
        },
        {
          "metadata": {
            "tags": null
          },
          "name": "stderr",
          "output_type": "stream",
          "text": [
            "WARNING:tensorflow:Can save best model only with acc available, skipping.\n"
          ]
        },
        {
          "metadata": {
            "tags": null
          },
          "name": "stdout",
          "output_type": "stream",
          "text": [
            "57/57 [==============================] - 21s 370ms/step - loss: 1.4145 - accuracy: 0.4431 - precision: 0.6356 - recall: 0.1789 - val_loss: 1.3462 - val_accuracy: 0.5589 - val_precision: 0.7550 - val_recall: 0.1276\n",
            "Epoch 151/800\n",
            "58/57 [==============================] - ETA: 0s - loss: 1.4070 - accuracy: 0.4494 - precision: 0.6371 - recall: 0.1852"
          ]
        },
        {
          "metadata": {
            "tags": null
          },
          "name": "stderr",
          "output_type": "stream",
          "text": [
            "WARNING:tensorflow:Can save best model only with acc available, skipping.\n"
          ]
        },
        {
          "metadata": {
            "tags": null
          },
          "name": "stdout",
          "output_type": "stream",
          "text": [
            "57/57 [==============================] - 21s 357ms/step - loss: 1.4070 - accuracy: 0.4494 - precision: 0.6371 - recall: 0.1852 - val_loss: 1.3427 - val_accuracy: 0.5600 - val_precision: 0.7550 - val_recall: 0.1284\n",
            "Epoch 152/800\n",
            "58/57 [==============================] - ETA: 0s - loss: 1.4089 - accuracy: 0.4424 - precision: 0.6315 - recall: 0.1827"
          ]
        },
        {
          "metadata": {
            "tags": null
          },
          "name": "stderr",
          "output_type": "stream",
          "text": [
            "WARNING:tensorflow:Can save best model only with acc available, skipping.\n"
          ]
        },
        {
          "metadata": {
            "tags": null
          },
          "name": "stdout",
          "output_type": "stream",
          "text": [
            "57/57 [==============================] - 21s 364ms/step - loss: 1.4089 - accuracy: 0.4424 - precision: 0.6315 - recall: 0.1827 - val_loss: 1.3394 - val_accuracy: 0.5611 - val_precision: 0.7544 - val_recall: 0.1288\n",
            "Epoch 153/800\n",
            "58/57 [==============================] - ETA: 0s - loss: 1.4042 - accuracy: 0.4477 - precision: 0.6456 - recall: 0.1873"
          ]
        },
        {
          "metadata": {
            "tags": null
          },
          "name": "stderr",
          "output_type": "stream",
          "text": [
            "WARNING:tensorflow:Can save best model only with acc available, skipping.\n"
          ]
        },
        {
          "metadata": {
            "tags": null
          },
          "name": "stdout",
          "output_type": "stream",
          "text": [
            "57/57 [==============================] - 21s 365ms/step - loss: 1.4042 - accuracy: 0.4477 - precision: 0.6456 - recall: 0.1873 - val_loss: 1.3362 - val_accuracy: 0.5619 - val_precision: 0.7539 - val_recall: 0.1301\n",
            "Epoch 154/800\n",
            "58/57 [==============================] - ETA: 0s - loss: 1.4026 - accuracy: 0.4454 - precision: 0.6343 - recall: 0.1870"
          ]
        },
        {
          "metadata": {
            "tags": null
          },
          "name": "stderr",
          "output_type": "stream",
          "text": [
            "WARNING:tensorflow:Can save best model only with acc available, skipping.\n"
          ]
        },
        {
          "metadata": {
            "tags": null
          },
          "name": "stdout",
          "output_type": "stream",
          "text": [
            "57/57 [==============================] - 21s 366ms/step - loss: 1.4026 - accuracy: 0.4454 - precision: 0.6343 - recall: 0.1870 - val_loss: 1.3332 - val_accuracy: 0.5627 - val_precision: 0.7547 - val_recall: 0.1308\n",
            "Epoch 155/800\n",
            "58/57 [==============================] - ETA: 0s - loss: 1.3975 - accuracy: 0.4513 - precision: 0.6387 - recall: 0.1898"
          ]
        },
        {
          "metadata": {
            "tags": null
          },
          "name": "stderr",
          "output_type": "stream",
          "text": [
            "WARNING:tensorflow:Can save best model only with acc available, skipping.\n"
          ]
        },
        {
          "metadata": {
            "tags": null
          },
          "name": "stdout",
          "output_type": "stream",
          "text": [
            "57/57 [==============================] - 21s 359ms/step - loss: 1.3975 - accuracy: 0.4513 - precision: 0.6387 - recall: 0.1898 - val_loss: 1.3298 - val_accuracy: 0.5637 - val_precision: 0.7548 - val_recall: 0.1318\n",
            "Epoch 156/800\n",
            "58/57 [==============================] - ETA: 0s - loss: 1.3958 - accuracy: 0.4527 - precision: 0.6474 - recall: 0.1936"
          ]
        },
        {
          "metadata": {
            "tags": null
          },
          "name": "stderr",
          "output_type": "stream",
          "text": [
            "WARNING:tensorflow:Can save best model only with acc available, skipping.\n"
          ]
        },
        {
          "metadata": {
            "tags": null
          },
          "name": "stdout",
          "output_type": "stream",
          "text": [
            "57/57 [==============================] - 21s 356ms/step - loss: 1.3958 - accuracy: 0.4527 - precision: 0.6474 - recall: 0.1936 - val_loss: 1.3267 - val_accuracy: 0.5651 - val_precision: 0.7556 - val_recall: 0.1330\n",
            "Epoch 157/800\n",
            "58/57 [==============================] - ETA: 0s - loss: 1.3920 - accuracy: 0.4518 - precision: 0.6386 - recall: 0.1921"
          ]
        },
        {
          "metadata": {
            "tags": null
          },
          "name": "stderr",
          "output_type": "stream",
          "text": [
            "WARNING:tensorflow:Can save best model only with acc available, skipping.\n"
          ]
        },
        {
          "metadata": {
            "tags": null
          },
          "name": "stdout",
          "output_type": "stream",
          "text": [
            "57/57 [==============================] - 20s 354ms/step - loss: 1.3920 - accuracy: 0.4518 - precision: 0.6386 - recall: 0.1921 - val_loss: 1.3236 - val_accuracy: 0.5658 - val_precision: 0.7561 - val_recall: 0.1337\n",
            "Epoch 158/800\n",
            "58/57 [==============================] - ETA: 0s - loss: 1.3886 - accuracy: 0.4567 - precision: 0.6422 - recall: 0.1952"
          ]
        },
        {
          "metadata": {
            "tags": null
          },
          "name": "stderr",
          "output_type": "stream",
          "text": [
            "WARNING:tensorflow:Can save best model only with acc available, skipping.\n"
          ]
        },
        {
          "metadata": {
            "tags": null
          },
          "name": "stdout",
          "output_type": "stream",
          "text": [
            "57/57 [==============================] - 21s 357ms/step - loss: 1.3886 - accuracy: 0.4567 - precision: 0.6422 - recall: 0.1952 - val_loss: 1.3204 - val_accuracy: 0.5665 - val_precision: 0.7573 - val_recall: 0.1352\n",
            "Epoch 159/800\n",
            "58/57 [==============================] - ETA: 0s - loss: 1.3839 - accuracy: 0.4585 - precision: 0.6425 - recall: 0.1963"
          ]
        },
        {
          "metadata": {
            "tags": null
          },
          "name": "stderr",
          "output_type": "stream",
          "text": [
            "WARNING:tensorflow:Can save best model only with acc available, skipping.\n"
          ]
        },
        {
          "metadata": {
            "tags": null
          },
          "name": "stdout",
          "output_type": "stream",
          "text": [
            "57/57 [==============================] - 20s 354ms/step - loss: 1.3839 - accuracy: 0.4585 - precision: 0.6425 - recall: 0.1963 - val_loss: 1.3172 - val_accuracy: 0.5678 - val_precision: 0.7564 - val_recall: 0.1366\n",
            "Epoch 160/800\n",
            "58/57 [==============================] - ETA: 0s - loss: 1.3834 - accuracy: 0.4568 - precision: 0.6411 - recall: 0.1968"
          ]
        },
        {
          "metadata": {
            "tags": null
          },
          "name": "stderr",
          "output_type": "stream",
          "text": [
            "WARNING:tensorflow:Can save best model only with acc available, skipping.\n"
          ]
        },
        {
          "metadata": {
            "tags": null
          },
          "name": "stdout",
          "output_type": "stream",
          "text": [
            "57/57 [==============================] - 21s 358ms/step - loss: 1.3834 - accuracy: 0.4568 - precision: 0.6411 - recall: 0.1968 - val_loss: 1.3143 - val_accuracy: 0.5684 - val_precision: 0.7566 - val_recall: 0.1374\n",
            "Epoch 161/800\n",
            "58/57 [==============================] - ETA: 0s - loss: 1.3756 - accuracy: 0.4623 - precision: 0.6480 - recall: 0.2000"
          ]
        },
        {
          "metadata": {
            "tags": null
          },
          "name": "stderr",
          "output_type": "stream",
          "text": [
            "WARNING:tensorflow:Can save best model only with acc available, skipping.\n"
          ]
        },
        {
          "metadata": {
            "tags": null
          },
          "name": "stdout",
          "output_type": "stream",
          "text": [
            "57/57 [==============================] - 21s 361ms/step - loss: 1.3756 - accuracy: 0.4623 - precision: 0.6480 - recall: 0.2000 - val_loss: 1.3109 - val_accuracy: 0.5694 - val_precision: 0.7568 - val_recall: 0.1386\n",
            "Epoch 162/800\n",
            "58/57 [==============================] - ETA: 0s - loss: 1.3730 - accuracy: 0.4627 - precision: 0.6463 - recall: 0.2013"
          ]
        },
        {
          "metadata": {
            "tags": null
          },
          "name": "stderr",
          "output_type": "stream",
          "text": [
            "WARNING:tensorflow:Can save best model only with acc available, skipping.\n"
          ]
        },
        {
          "metadata": {
            "tags": null
          },
          "name": "stdout",
          "output_type": "stream",
          "text": [
            "57/57 [==============================] - 21s 366ms/step - loss: 1.3730 - accuracy: 0.4627 - precision: 0.6463 - recall: 0.2013 - val_loss: 1.3078 - val_accuracy: 0.5708 - val_precision: 0.7582 - val_recall: 0.1397\n",
            "Epoch 163/800\n",
            "58/57 [==============================] - ETA: 0s - loss: 1.3726 - accuracy: 0.4608 - precision: 0.6438 - recall: 0.2018"
          ]
        },
        {
          "metadata": {
            "tags": null
          },
          "name": "stderr",
          "output_type": "stream",
          "text": [
            "WARNING:tensorflow:Can save best model only with acc available, skipping.\n"
          ]
        },
        {
          "metadata": {
            "tags": null
          },
          "name": "stdout",
          "output_type": "stream",
          "text": [
            "57/57 [==============================] - 21s 368ms/step - loss: 1.3726 - accuracy: 0.4608 - precision: 0.6438 - recall: 0.2018 - val_loss: 1.3046 - val_accuracy: 0.5723 - val_precision: 0.7578 - val_recall: 0.1408\n",
            "Epoch 164/800\n",
            "58/57 [==============================] - ETA: 0s - loss: 1.3739 - accuracy: 0.4595 - precision: 0.6487 - recall: 0.2038"
          ]
        },
        {
          "metadata": {
            "tags": null
          },
          "name": "stderr",
          "output_type": "stream",
          "text": [
            "WARNING:tensorflow:Can save best model only with acc available, skipping.\n"
          ]
        },
        {
          "metadata": {
            "tags": null
          },
          "name": "stdout",
          "output_type": "stream",
          "text": [
            "57/57 [==============================] - 22s 375ms/step - loss: 1.3739 - accuracy: 0.4595 - precision: 0.6487 - recall: 0.2038 - val_loss: 1.3018 - val_accuracy: 0.5731 - val_precision: 0.7589 - val_recall: 0.1425\n",
            "Epoch 165/800\n",
            "58/57 [==============================] - ETA: 0s - loss: 1.3642 - accuracy: 0.4643 - precision: 0.6474 - recall: 0.2080"
          ]
        },
        {
          "metadata": {
            "tags": null
          },
          "name": "stderr",
          "output_type": "stream",
          "text": [
            "WARNING:tensorflow:Can save best model only with acc available, skipping.\n"
          ]
        },
        {
          "metadata": {
            "tags": null
          },
          "name": "stdout",
          "output_type": "stream",
          "text": [
            "57/57 [==============================] - 21s 360ms/step - loss: 1.3642 - accuracy: 0.4643 - precision: 0.6474 - recall: 0.2080 - val_loss: 1.2987 - val_accuracy: 0.5742 - val_precision: 0.7597 - val_recall: 0.1437\n",
            "Epoch 166/800\n",
            "58/57 [==============================] - ETA: 0s - loss: 1.3637 - accuracy: 0.4637 - precision: 0.6429 - recall: 0.2064"
          ]
        },
        {
          "metadata": {
            "tags": null
          },
          "name": "stderr",
          "output_type": "stream",
          "text": [
            "WARNING:tensorflow:Can save best model only with acc available, skipping.\n"
          ]
        },
        {
          "metadata": {
            "tags": null
          },
          "name": "stdout",
          "output_type": "stream",
          "text": [
            "57/57 [==============================] - 21s 359ms/step - loss: 1.3637 - accuracy: 0.4637 - precision: 0.6429 - recall: 0.2064 - val_loss: 1.2958 - val_accuracy: 0.5755 - val_precision: 0.7607 - val_recall: 0.1457\n",
            "Epoch 167/800\n",
            "58/57 [==============================] - ETA: 0s - loss: 1.3625 - accuracy: 0.4677 - precision: 0.6448 - recall: 0.2098"
          ]
        },
        {
          "metadata": {
            "tags": null
          },
          "name": "stderr",
          "output_type": "stream",
          "text": [
            "WARNING:tensorflow:Can save best model only with acc available, skipping.\n"
          ]
        },
        {
          "metadata": {
            "tags": null
          },
          "name": "stdout",
          "output_type": "stream",
          "text": [
            "57/57 [==============================] - 20s 349ms/step - loss: 1.3625 - accuracy: 0.4677 - precision: 0.6448 - recall: 0.2098 - val_loss: 1.2930 - val_accuracy: 0.5759 - val_precision: 0.7620 - val_recall: 0.1473\n",
            "Epoch 168/800\n",
            "58/57 [==============================] - ETA: 0s - loss: 1.3619 - accuracy: 0.4670 - precision: 0.6474 - recall: 0.2113"
          ]
        },
        {
          "metadata": {
            "tags": null
          },
          "name": "stderr",
          "output_type": "stream",
          "text": [
            "WARNING:tensorflow:Can save best model only with acc available, skipping.\n"
          ]
        },
        {
          "metadata": {
            "tags": null
          },
          "name": "stdout",
          "output_type": "stream",
          "text": [
            "57/57 [==============================] - 20s 340ms/step - loss: 1.3619 - accuracy: 0.4670 - precision: 0.6474 - recall: 0.2113 - val_loss: 1.2902 - val_accuracy: 0.5769 - val_precision: 0.7629 - val_recall: 0.1488\n",
            "Epoch 169/800\n",
            "58/57 [==============================] - ETA: 0s - loss: 1.3590 - accuracy: 0.4666 - precision: 0.6456 - recall: 0.2114"
          ]
        },
        {
          "metadata": {
            "tags": null
          },
          "name": "stderr",
          "output_type": "stream",
          "text": [
            "WARNING:tensorflow:Can save best model only with acc available, skipping.\n"
          ]
        },
        {
          "metadata": {
            "tags": null
          },
          "name": "stdout",
          "output_type": "stream",
          "text": [
            "57/57 [==============================] - 19s 336ms/step - loss: 1.3590 - accuracy: 0.4666 - precision: 0.6456 - recall: 0.2114 - val_loss: 1.2874 - val_accuracy: 0.5782 - val_precision: 0.7644 - val_recall: 0.1503\n",
            "Epoch 170/800\n",
            "58/57 [==============================] - ETA: 0s - loss: 1.3515 - accuracy: 0.4708 - precision: 0.6529 - recall: 0.2136"
          ]
        },
        {
          "metadata": {
            "tags": null
          },
          "name": "stderr",
          "output_type": "stream",
          "text": [
            "WARNING:tensorflow:Can save best model only with acc available, skipping.\n"
          ]
        },
        {
          "metadata": {
            "tags": null
          },
          "name": "stdout",
          "output_type": "stream",
          "text": [
            "57/57 [==============================] - 20s 338ms/step - loss: 1.3515 - accuracy: 0.4708 - precision: 0.6529 - recall: 0.2136 - val_loss: 1.2846 - val_accuracy: 0.5790 - val_precision: 0.7651 - val_recall: 0.1515\n",
            "Epoch 171/800\n",
            "58/57 [==============================] - ETA: 0s - loss: 1.3510 - accuracy: 0.4713 - precision: 0.6500 - recall: 0.2162"
          ]
        },
        {
          "metadata": {
            "tags": null
          },
          "name": "stderr",
          "output_type": "stream",
          "text": [
            "WARNING:tensorflow:Can save best model only with acc available, skipping.\n"
          ]
        },
        {
          "metadata": {
            "tags": null
          },
          "name": "stdout",
          "output_type": "stream",
          "text": [
            "57/57 [==============================] - 19s 329ms/step - loss: 1.3510 - accuracy: 0.4713 - precision: 0.6500 - recall: 0.2162 - val_loss: 1.2817 - val_accuracy: 0.5801 - val_precision: 0.7672 - val_recall: 0.1535\n",
            "Epoch 172/800\n",
            "58/57 [==============================] - ETA: 0s - loss: 1.3491 - accuracy: 0.4680 - precision: 0.6493 - recall: 0.2171"
          ]
        },
        {
          "metadata": {
            "tags": null
          },
          "name": "stderr",
          "output_type": "stream",
          "text": [
            "WARNING:tensorflow:Can save best model only with acc available, skipping.\n"
          ]
        },
        {
          "metadata": {
            "tags": null
          },
          "name": "stdout",
          "output_type": "stream",
          "text": [
            "57/57 [==============================] - 19s 324ms/step - loss: 1.3491 - accuracy: 0.4680 - precision: 0.6493 - recall: 0.2171 - val_loss: 1.2790 - val_accuracy: 0.5808 - val_precision: 0.7686 - val_recall: 0.1554\n",
            "Epoch 173/800\n",
            "58/57 [==============================] - ETA: 0s - loss: 1.3414 - accuracy: 0.4761 - precision: 0.6582 - recall: 0.2212"
          ]
        },
        {
          "metadata": {
            "tags": null
          },
          "name": "stderr",
          "output_type": "stream",
          "text": [
            "WARNING:tensorflow:Can save best model only with acc available, skipping.\n"
          ]
        },
        {
          "metadata": {
            "tags": null
          },
          "name": "stdout",
          "output_type": "stream",
          "text": [
            "57/57 [==============================] - 19s 322ms/step - loss: 1.3414 - accuracy: 0.4761 - precision: 0.6582 - recall: 0.2212 - val_loss: 1.2760 - val_accuracy: 0.5825 - val_precision: 0.7694 - val_recall: 0.1571\n",
            "Epoch 174/800\n",
            "58/57 [==============================] - ETA: 0s - loss: 1.3396 - accuracy: 0.4756 - precision: 0.6577 - recall: 0.2204"
          ]
        },
        {
          "metadata": {
            "tags": null
          },
          "name": "stderr",
          "output_type": "stream",
          "text": [
            "WARNING:tensorflow:Can save best model only with acc available, skipping.\n"
          ]
        },
        {
          "metadata": {
            "tags": null
          },
          "name": "stdout",
          "output_type": "stream",
          "text": [
            "57/57 [==============================] - 18s 318ms/step - loss: 1.3396 - accuracy: 0.4756 - precision: 0.6577 - recall: 0.2204 - val_loss: 1.2730 - val_accuracy: 0.5833 - val_precision: 0.7717 - val_recall: 0.1591\n",
            "Epoch 175/800\n",
            "58/57 [==============================] - ETA: 0s - loss: 1.3371 - accuracy: 0.4802 - precision: 0.6549 - recall: 0.2240"
          ]
        },
        {
          "metadata": {
            "tags": null
          },
          "name": "stderr",
          "output_type": "stream",
          "text": [
            "WARNING:tensorflow:Can save best model only with acc available, skipping.\n"
          ]
        },
        {
          "metadata": {
            "tags": null
          },
          "name": "stdout",
          "output_type": "stream",
          "text": [
            "57/57 [==============================] - 19s 324ms/step - loss: 1.3371 - accuracy: 0.4802 - precision: 0.6549 - recall: 0.2240 - val_loss: 1.2702 - val_accuracy: 0.5843 - val_precision: 0.7721 - val_recall: 0.1605\n",
            "Epoch 176/800\n",
            "58/57 [==============================] - ETA: 0s - loss: 1.3326 - accuracy: 0.4801 - precision: 0.6569 - recall: 0.2266"
          ]
        },
        {
          "metadata": {
            "tags": null
          },
          "name": "stderr",
          "output_type": "stream",
          "text": [
            "WARNING:tensorflow:Can save best model only with acc available, skipping.\n"
          ]
        },
        {
          "metadata": {
            "tags": null
          },
          "name": "stdout",
          "output_type": "stream",
          "text": [
            "57/57 [==============================] - 19s 322ms/step - loss: 1.3326 - accuracy: 0.4801 - precision: 0.6569 - recall: 0.2266 - val_loss: 1.2674 - val_accuracy: 0.5856 - val_precision: 0.7730 - val_recall: 0.1620\n",
            "Epoch 177/800\n",
            "58/57 [==============================] - ETA: 0s - loss: 1.3373 - accuracy: 0.4771 - precision: 0.6564 - recall: 0.2244"
          ]
        },
        {
          "metadata": {
            "tags": null
          },
          "name": "stderr",
          "output_type": "stream",
          "text": [
            "WARNING:tensorflow:Can save best model only with acc available, skipping.\n"
          ]
        },
        {
          "metadata": {
            "tags": null
          },
          "name": "stdout",
          "output_type": "stream",
          "text": [
            "57/57 [==============================] - 18s 319ms/step - loss: 1.3373 - accuracy: 0.4771 - precision: 0.6564 - recall: 0.2244 - val_loss: 1.2648 - val_accuracy: 0.5868 - val_precision: 0.7743 - val_recall: 0.1629\n",
            "Epoch 178/800\n",
            "58/57 [==============================] - ETA: 0s - loss: 1.3353 - accuracy: 0.4779 - precision: 0.6499 - recall: 0.2235"
          ]
        },
        {
          "metadata": {
            "tags": null
          },
          "name": "stderr",
          "output_type": "stream",
          "text": [
            "WARNING:tensorflow:Can save best model only with acc available, skipping.\n"
          ]
        },
        {
          "metadata": {
            "tags": null
          },
          "name": "stdout",
          "output_type": "stream",
          "text": [
            "57/57 [==============================] - 19s 327ms/step - loss: 1.3353 - accuracy: 0.4779 - precision: 0.6499 - recall: 0.2235 - val_loss: 1.2622 - val_accuracy: 0.5874 - val_precision: 0.7754 - val_recall: 0.1644\n",
            "Epoch 179/800\n",
            "58/57 [==============================] - ETA: 0s - loss: 1.3292 - accuracy: 0.4831 - precision: 0.6578 - recall: 0.2279"
          ]
        },
        {
          "metadata": {
            "tags": null
          },
          "name": "stderr",
          "output_type": "stream",
          "text": [
            "WARNING:tensorflow:Can save best model only with acc available, skipping.\n"
          ]
        },
        {
          "metadata": {
            "tags": null
          },
          "name": "stdout",
          "output_type": "stream",
          "text": [
            "57/57 [==============================] - 19s 320ms/step - loss: 1.3292 - accuracy: 0.4831 - precision: 0.6578 - recall: 0.2279 - val_loss: 1.2597 - val_accuracy: 0.5881 - val_precision: 0.7766 - val_recall: 0.1658\n",
            "Epoch 180/800\n",
            "58/57 [==============================] - ETA: 0s - loss: 1.3241 - accuracy: 0.4835 - precision: 0.6611 - recall: 0.2315"
          ]
        },
        {
          "metadata": {
            "tags": null
          },
          "name": "stderr",
          "output_type": "stream",
          "text": [
            "WARNING:tensorflow:Can save best model only with acc available, skipping.\n"
          ]
        },
        {
          "metadata": {
            "tags": null
          },
          "name": "stdout",
          "output_type": "stream",
          "text": [
            "57/57 [==============================] - 19s 333ms/step - loss: 1.3241 - accuracy: 0.4835 - precision: 0.6611 - recall: 0.2315 - val_loss: 1.2570 - val_accuracy: 0.5893 - val_precision: 0.7782 - val_recall: 0.1678\n",
            "Epoch 181/800\n",
            "58/57 [==============================] - ETA: 0s - loss: 1.3235 - accuracy: 0.4847 - precision: 0.6606 - recall: 0.2307"
          ]
        },
        {
          "metadata": {
            "tags": null
          },
          "name": "stderr",
          "output_type": "stream",
          "text": [
            "WARNING:tensorflow:Can save best model only with acc available, skipping.\n"
          ]
        },
        {
          "metadata": {
            "tags": null
          },
          "name": "stdout",
          "output_type": "stream",
          "text": [
            "57/57 [==============================] - 19s 322ms/step - loss: 1.3235 - accuracy: 0.4847 - precision: 0.6606 - recall: 0.2307 - val_loss: 1.2542 - val_accuracy: 0.5899 - val_precision: 0.7801 - val_recall: 0.1698\n",
            "Epoch 182/800\n",
            "58/57 [==============================] - ETA: 0s - loss: 1.3230 - accuracy: 0.4815 - precision: 0.6643 - recall: 0.2349"
          ]
        },
        {
          "metadata": {
            "tags": null
          },
          "name": "stderr",
          "output_type": "stream",
          "text": [
            "WARNING:tensorflow:Can save best model only with acc available, skipping.\n"
          ]
        },
        {
          "metadata": {
            "tags": null
          },
          "name": "stdout",
          "output_type": "stream",
          "text": [
            "57/57 [==============================] - 19s 325ms/step - loss: 1.3230 - accuracy: 0.4815 - precision: 0.6643 - recall: 0.2349 - val_loss: 1.2517 - val_accuracy: 0.5905 - val_precision: 0.7813 - val_recall: 0.1712\n",
            "Epoch 183/800\n",
            "58/57 [==============================] - ETA: 0s - loss: 1.3188 - accuracy: 0.4901 - precision: 0.6665 - recall: 0.2359"
          ]
        },
        {
          "metadata": {
            "tags": null
          },
          "name": "stderr",
          "output_type": "stream",
          "text": [
            "WARNING:tensorflow:Can save best model only with acc available, skipping.\n"
          ]
        },
        {
          "metadata": {
            "tags": null
          },
          "name": "stdout",
          "output_type": "stream",
          "text": [
            "57/57 [==============================] - 19s 324ms/step - loss: 1.3188 - accuracy: 0.4901 - precision: 0.6665 - recall: 0.2359 - val_loss: 1.2490 - val_accuracy: 0.5912 - val_precision: 0.7829 - val_recall: 0.1725\n",
            "Epoch 184/800\n",
            "58/57 [==============================] - ETA: 0s - loss: 1.3146 - accuracy: 0.4908 - precision: 0.6631 - recall: 0.2376"
          ]
        },
        {
          "metadata": {
            "tags": null
          },
          "name": "stderr",
          "output_type": "stream",
          "text": [
            "WARNING:tensorflow:Can save best model only with acc available, skipping.\n"
          ]
        },
        {
          "metadata": {
            "tags": null
          },
          "name": "stdout",
          "output_type": "stream",
          "text": [
            "57/57 [==============================] - 19s 325ms/step - loss: 1.3146 - accuracy: 0.4908 - precision: 0.6631 - recall: 0.2376 - val_loss: 1.2464 - val_accuracy: 0.5920 - val_precision: 0.7845 - val_recall: 0.1745\n",
            "Epoch 185/800\n",
            "58/57 [==============================] - ETA: 0s - loss: 1.3119 - accuracy: 0.4895 - precision: 0.6661 - recall: 0.2413"
          ]
        },
        {
          "metadata": {
            "tags": null
          },
          "name": "stderr",
          "output_type": "stream",
          "text": [
            "WARNING:tensorflow:Can save best model only with acc available, skipping.\n"
          ]
        },
        {
          "metadata": {
            "tags": null
          },
          "name": "stdout",
          "output_type": "stream",
          "text": [
            "57/57 [==============================] - 19s 321ms/step - loss: 1.3119 - accuracy: 0.4895 - precision: 0.6661 - recall: 0.2413 - val_loss: 1.2438 - val_accuracy: 0.5925 - val_precision: 0.7860 - val_recall: 0.1766\n",
            "Epoch 186/800\n",
            "58/57 [==============================] - ETA: 0s - loss: 1.3079 - accuracy: 0.4939 - precision: 0.6705 - recall: 0.2442"
          ]
        },
        {
          "metadata": {
            "tags": null
          },
          "name": "stderr",
          "output_type": "stream",
          "text": [
            "WARNING:tensorflow:Can save best model only with acc available, skipping.\n"
          ]
        },
        {
          "metadata": {
            "tags": null
          },
          "name": "stdout",
          "output_type": "stream",
          "text": [
            "57/57 [==============================] - 19s 323ms/step - loss: 1.3079 - accuracy: 0.4939 - precision: 0.6705 - recall: 0.2442 - val_loss: 1.2411 - val_accuracy: 0.5928 - val_precision: 0.7859 - val_recall: 0.1783\n",
            "Epoch 187/800\n",
            "58/57 [==============================] - ETA: 0s - loss: 1.3043 - accuracy: 0.4923 - precision: 0.6671 - recall: 0.2435"
          ]
        },
        {
          "metadata": {
            "tags": null
          },
          "name": "stderr",
          "output_type": "stream",
          "text": [
            "WARNING:tensorflow:Can save best model only with acc available, skipping.\n"
          ]
        },
        {
          "metadata": {
            "tags": null
          },
          "name": "stdout",
          "output_type": "stream",
          "text": [
            "57/57 [==============================] - 19s 321ms/step - loss: 1.3043 - accuracy: 0.4923 - precision: 0.6671 - recall: 0.2435 - val_loss: 1.2383 - val_accuracy: 0.5936 - val_precision: 0.7873 - val_recall: 0.1804\n",
            "Epoch 188/800\n",
            "58/57 [==============================] - ETA: 0s - loss: 1.3053 - accuracy: 0.4951 - precision: 0.6713 - recall: 0.2458"
          ]
        },
        {
          "metadata": {
            "tags": null
          },
          "name": "stderr",
          "output_type": "stream",
          "text": [
            "WARNING:tensorflow:Can save best model only with acc available, skipping.\n"
          ]
        },
        {
          "metadata": {
            "tags": null
          },
          "name": "stdout",
          "output_type": "stream",
          "text": [
            "57/57 [==============================] - 19s 328ms/step - loss: 1.3053 - accuracy: 0.4951 - precision: 0.6713 - recall: 0.2458 - val_loss: 1.2359 - val_accuracy: 0.5940 - val_precision: 0.7888 - val_recall: 0.1822\n",
            "Epoch 189/800\n",
            "58/57 [==============================] - ETA: 0s - loss: 1.3001 - accuracy: 0.4961 - precision: 0.6676 - recall: 0.2490"
          ]
        },
        {
          "metadata": {
            "tags": null
          },
          "name": "stderr",
          "output_type": "stream",
          "text": [
            "WARNING:tensorflow:Can save best model only with acc available, skipping.\n"
          ]
        },
        {
          "metadata": {
            "tags": null
          },
          "name": "stdout",
          "output_type": "stream",
          "text": [
            "57/57 [==============================] - 19s 322ms/step - loss: 1.3001 - accuracy: 0.4961 - precision: 0.6676 - recall: 0.2490 - val_loss: 1.2334 - val_accuracy: 0.5947 - val_precision: 0.7905 - val_recall: 0.1839\n",
            "Epoch 190/800\n",
            "58/57 [==============================] - ETA: 0s - loss: 1.2984 - accuracy: 0.4955 - precision: 0.6730 - recall: 0.2500"
          ]
        },
        {
          "metadata": {
            "tags": null
          },
          "name": "stderr",
          "output_type": "stream",
          "text": [
            "WARNING:tensorflow:Can save best model only with acc available, skipping.\n"
          ]
        },
        {
          "metadata": {
            "tags": null
          },
          "name": "stdout",
          "output_type": "stream",
          "text": [
            "57/57 [==============================] - 19s 323ms/step - loss: 1.2984 - accuracy: 0.4955 - precision: 0.6730 - recall: 0.2500 - val_loss: 1.2308 - val_accuracy: 0.5952 - val_precision: 0.7927 - val_recall: 0.1860\n",
            "Epoch 191/800\n",
            "58/57 [==============================] - ETA: 0s - loss: 1.2929 - accuracy: 0.4980 - precision: 0.6687 - recall: 0.2525"
          ]
        },
        {
          "metadata": {
            "tags": null
          },
          "name": "stderr",
          "output_type": "stream",
          "text": [
            "WARNING:tensorflow:Can save best model only with acc available, skipping.\n"
          ]
        },
        {
          "metadata": {
            "tags": null
          },
          "name": "stdout",
          "output_type": "stream",
          "text": [
            "57/57 [==============================] - 19s 321ms/step - loss: 1.2929 - accuracy: 0.4980 - precision: 0.6687 - recall: 0.2525 - val_loss: 1.2282 - val_accuracy: 0.5956 - val_precision: 0.7935 - val_recall: 0.1876\n",
            "Epoch 192/800\n",
            "58/57 [==============================] - ETA: 0s - loss: 1.2923 - accuracy: 0.4985 - precision: 0.6671 - recall: 0.2529"
          ]
        },
        {
          "metadata": {
            "tags": null
          },
          "name": "stderr",
          "output_type": "stream",
          "text": [
            "WARNING:tensorflow:Can save best model only with acc available, skipping.\n"
          ]
        },
        {
          "metadata": {
            "tags": null
          },
          "name": "stdout",
          "output_type": "stream",
          "text": [
            "57/57 [==============================] - 18s 315ms/step - loss: 1.2923 - accuracy: 0.4985 - precision: 0.6671 - recall: 0.2529 - val_loss: 1.2256 - val_accuracy: 0.5962 - val_precision: 0.7944 - val_recall: 0.1893\n",
            "Epoch 193/800\n",
            "58/57 [==============================] - ETA: 0s - loss: 1.2958 - accuracy: 0.4969 - precision: 0.6703 - recall: 0.2533"
          ]
        },
        {
          "metadata": {
            "tags": null
          },
          "name": "stderr",
          "output_type": "stream",
          "text": [
            "WARNING:tensorflow:Can save best model only with acc available, skipping.\n"
          ]
        },
        {
          "metadata": {
            "tags": null
          },
          "name": "stdout",
          "output_type": "stream",
          "text": [
            "57/57 [==============================] - 18s 317ms/step - loss: 1.2958 - accuracy: 0.4969 - precision: 0.6703 - recall: 0.2533 - val_loss: 1.2233 - val_accuracy: 0.5970 - val_precision: 0.7959 - val_recall: 0.1905\n",
            "Epoch 194/800\n",
            "58/57 [==============================] - ETA: 0s - loss: 1.2876 - accuracy: 0.5015 - precision: 0.6772 - recall: 0.2580"
          ]
        },
        {
          "metadata": {
            "tags": null
          },
          "name": "stderr",
          "output_type": "stream",
          "text": [
            "WARNING:tensorflow:Can save best model only with acc available, skipping.\n"
          ]
        },
        {
          "metadata": {
            "tags": null
          },
          "name": "stdout",
          "output_type": "stream",
          "text": [
            "57/57 [==============================] - 19s 320ms/step - loss: 1.2876 - accuracy: 0.5015 - precision: 0.6772 - recall: 0.2580 - val_loss: 1.2208 - val_accuracy: 0.5976 - val_precision: 0.7974 - val_recall: 0.1927\n",
            "Epoch 195/800\n",
            "58/57 [==============================] - ETA: 0s - loss: 1.2891 - accuracy: 0.4980 - precision: 0.6729 - recall: 0.2589"
          ]
        },
        {
          "metadata": {
            "tags": null
          },
          "name": "stderr",
          "output_type": "stream",
          "text": [
            "WARNING:tensorflow:Can save best model only with acc available, skipping.\n"
          ]
        },
        {
          "metadata": {
            "tags": null
          },
          "name": "stdout",
          "output_type": "stream",
          "text": [
            "57/57 [==============================] - 19s 321ms/step - loss: 1.2891 - accuracy: 0.4980 - precision: 0.6729 - recall: 0.2589 - val_loss: 1.2184 - val_accuracy: 0.5978 - val_precision: 0.8000 - val_recall: 0.1953\n",
            "Epoch 196/800\n",
            "58/57 [==============================] - ETA: 0s - loss: 1.2855 - accuracy: 0.5032 - precision: 0.6836 - recall: 0.2608"
          ]
        },
        {
          "metadata": {
            "tags": null
          },
          "name": "stderr",
          "output_type": "stream",
          "text": [
            "WARNING:tensorflow:Can save best model only with acc available, skipping.\n"
          ]
        },
        {
          "metadata": {
            "tags": null
          },
          "name": "stdout",
          "output_type": "stream",
          "text": [
            "57/57 [==============================] - 19s 320ms/step - loss: 1.2855 - accuracy: 0.5032 - precision: 0.6836 - recall: 0.2608 - val_loss: 1.2160 - val_accuracy: 0.5986 - val_precision: 0.8017 - val_recall: 0.1974\n",
            "Epoch 197/800\n",
            "58/57 [==============================] - ETA: 0s - loss: 1.2815 - accuracy: 0.5035 - precision: 0.6736 - recall: 0.2607"
          ]
        },
        {
          "metadata": {
            "tags": null
          },
          "name": "stderr",
          "output_type": "stream",
          "text": [
            "WARNING:tensorflow:Can save best model only with acc available, skipping.\n"
          ]
        },
        {
          "metadata": {
            "tags": null
          },
          "name": "stdout",
          "output_type": "stream",
          "text": [
            "57/57 [==============================] - 19s 320ms/step - loss: 1.2815 - accuracy: 0.5035 - precision: 0.6736 - recall: 0.2607 - val_loss: 1.2136 - val_accuracy: 0.5996 - val_precision: 0.8034 - val_recall: 0.1990\n",
            "Epoch 198/800\n",
            "58/57 [==============================] - ETA: 0s - loss: 1.2789 - accuracy: 0.5060 - precision: 0.6762 - recall: 0.2624"
          ]
        },
        {
          "metadata": {
            "tags": null
          },
          "name": "stderr",
          "output_type": "stream",
          "text": [
            "WARNING:tensorflow:Can save best model only with acc available, skipping.\n"
          ]
        },
        {
          "metadata": {
            "tags": null
          },
          "name": "stdout",
          "output_type": "stream",
          "text": [
            "57/57 [==============================] - 18s 320ms/step - loss: 1.2789 - accuracy: 0.5060 - precision: 0.6762 - recall: 0.2624 - val_loss: 1.2112 - val_accuracy: 0.6004 - val_precision: 0.8036 - val_recall: 0.2006\n",
            "Epoch 199/800\n",
            "58/57 [==============================] - ETA: 0s - loss: 1.2729 - accuracy: 0.5064 - precision: 0.6817 - recall: 0.2668"
          ]
        },
        {
          "metadata": {
            "tags": null
          },
          "name": "stderr",
          "output_type": "stream",
          "text": [
            "WARNING:tensorflow:Can save best model only with acc available, skipping.\n"
          ]
        },
        {
          "metadata": {
            "tags": null
          },
          "name": "stdout",
          "output_type": "stream",
          "text": [
            "57/57 [==============================] - 19s 320ms/step - loss: 1.2729 - accuracy: 0.5064 - precision: 0.6817 - recall: 0.2668 - val_loss: 1.2087 - val_accuracy: 0.6003 - val_precision: 0.8057 - val_recall: 0.2030\n",
            "Epoch 200/800\n",
            "58/57 [==============================] - ETA: 0s - loss: 1.2742 - accuracy: 0.5082 - precision: 0.6801 - recall: 0.2682"
          ]
        },
        {
          "metadata": {
            "tags": null
          },
          "name": "stderr",
          "output_type": "stream",
          "text": [
            "WARNING:tensorflow:Can save best model only with acc available, skipping.\n"
          ]
        },
        {
          "metadata": {
            "tags": null
          },
          "name": "stdout",
          "output_type": "stream",
          "text": [
            "57/57 [==============================] - 19s 320ms/step - loss: 1.2742 - accuracy: 0.5082 - precision: 0.6801 - recall: 0.2682 - val_loss: 1.2064 - val_accuracy: 0.6012 - val_precision: 0.8072 - val_recall: 0.2049\n",
            "Epoch 201/800\n",
            "58/57 [==============================] - ETA: 0s - loss: 1.2789 - accuracy: 0.5069 - precision: 0.6759 - recall: 0.2684"
          ]
        },
        {
          "metadata": {
            "tags": null
          },
          "name": "stderr",
          "output_type": "stream",
          "text": [
            "WARNING:tensorflow:Can save best model only with acc available, skipping.\n"
          ]
        },
        {
          "metadata": {
            "tags": null
          },
          "name": "stdout",
          "output_type": "stream",
          "text": [
            "57/57 [==============================] - 19s 322ms/step - loss: 1.2789 - accuracy: 0.5069 - precision: 0.6759 - recall: 0.2684 - val_loss: 1.2043 - val_accuracy: 0.6014 - val_precision: 0.8073 - val_recall: 0.2063\n",
            "Epoch 202/800\n",
            "58/57 [==============================] - ETA: 0s - loss: 1.2688 - accuracy: 0.5097 - precision: 0.6826 - recall: 0.2705"
          ]
        },
        {
          "metadata": {
            "tags": null
          },
          "name": "stderr",
          "output_type": "stream",
          "text": [
            "WARNING:tensorflow:Can save best model only with acc available, skipping.\n"
          ]
        },
        {
          "metadata": {
            "tags": null
          },
          "name": "stdout",
          "output_type": "stream",
          "text": [
            "57/57 [==============================] - 19s 321ms/step - loss: 1.2688 - accuracy: 0.5097 - precision: 0.6826 - recall: 0.2705 - val_loss: 1.2018 - val_accuracy: 0.6020 - val_precision: 0.8088 - val_recall: 0.2088\n",
            "Epoch 203/800\n",
            "58/57 [==============================] - ETA: 0s - loss: 1.2669 - accuracy: 0.5095 - precision: 0.6873 - recall: 0.2746"
          ]
        },
        {
          "metadata": {
            "tags": null
          },
          "name": "stderr",
          "output_type": "stream",
          "text": [
            "WARNING:tensorflow:Can save best model only with acc available, skipping.\n"
          ]
        },
        {
          "metadata": {
            "tags": null
          },
          "name": "stdout",
          "output_type": "stream",
          "text": [
            "57/57 [==============================] - 18s 317ms/step - loss: 1.2669 - accuracy: 0.5095 - precision: 0.6873 - recall: 0.2746 - val_loss: 1.1991 - val_accuracy: 0.6025 - val_precision: 0.8110 - val_recall: 0.2117\n",
            "Epoch 204/800\n",
            "58/57 [==============================] - ETA: 0s - loss: 1.2612 - accuracy: 0.5133 - precision: 0.6882 - recall: 0.2797"
          ]
        },
        {
          "metadata": {
            "tags": null
          },
          "name": "stderr",
          "output_type": "stream",
          "text": [
            "WARNING:tensorflow:Can save best model only with acc available, skipping.\n"
          ]
        },
        {
          "metadata": {
            "tags": null
          },
          "name": "stdout",
          "output_type": "stream",
          "text": [
            "57/57 [==============================] - 18s 318ms/step - loss: 1.2612 - accuracy: 0.5133 - precision: 0.6882 - recall: 0.2797 - val_loss: 1.1969 - val_accuracy: 0.6035 - val_precision: 0.8129 - val_recall: 0.2133\n",
            "Epoch 205/800\n",
            "58/57 [==============================] - ETA: 0s - loss: 1.2601 - accuracy: 0.5118 - precision: 0.6881 - recall: 0.2800"
          ]
        },
        {
          "metadata": {
            "tags": null
          },
          "name": "stderr",
          "output_type": "stream",
          "text": [
            "WARNING:tensorflow:Can save best model only with acc available, skipping.\n"
          ]
        },
        {
          "metadata": {
            "tags": null
          },
          "name": "stdout",
          "output_type": "stream",
          "text": [
            "57/57 [==============================] - 18s 318ms/step - loss: 1.2601 - accuracy: 0.5118 - precision: 0.6881 - recall: 0.2800 - val_loss: 1.1944 - val_accuracy: 0.6040 - val_precision: 0.8141 - val_recall: 0.2159\n",
            "Epoch 206/800\n",
            "58/57 [==============================] - ETA: 0s - loss: 1.2632 - accuracy: 0.5124 - precision: 0.6838 - recall: 0.2805"
          ]
        },
        {
          "metadata": {
            "tags": null
          },
          "name": "stderr",
          "output_type": "stream",
          "text": [
            "WARNING:tensorflow:Can save best model only with acc available, skipping.\n"
          ]
        },
        {
          "metadata": {
            "tags": null
          },
          "name": "stdout",
          "output_type": "stream",
          "text": [
            "57/57 [==============================] - 18s 317ms/step - loss: 1.2632 - accuracy: 0.5124 - precision: 0.6838 - recall: 0.2805 - val_loss: 1.1924 - val_accuracy: 0.6042 - val_precision: 0.8157 - val_recall: 0.2182\n",
            "Epoch 207/800\n",
            "58/57 [==============================] - ETA: 0s - loss: 1.2599 - accuracy: 0.5156 - precision: 0.6880 - recall: 0.2825"
          ]
        },
        {
          "metadata": {
            "tags": null
          },
          "name": "stderr",
          "output_type": "stream",
          "text": [
            "WARNING:tensorflow:Can save best model only with acc available, skipping.\n"
          ]
        },
        {
          "metadata": {
            "tags": null
          },
          "name": "stdout",
          "output_type": "stream",
          "text": [
            "57/57 [==============================] - 18s 317ms/step - loss: 1.2599 - accuracy: 0.5156 - precision: 0.6880 - recall: 0.2825 - val_loss: 1.1900 - val_accuracy: 0.6049 - val_precision: 0.8168 - val_recall: 0.2200\n",
            "Epoch 208/800\n",
            "58/57 [==============================] - ETA: 0s - loss: 1.2510 - accuracy: 0.5202 - precision: 0.6909 - recall: 0.2860"
          ]
        },
        {
          "metadata": {
            "tags": null
          },
          "name": "stderr",
          "output_type": "stream",
          "text": [
            "WARNING:tensorflow:Can save best model only with acc available, skipping.\n"
          ]
        },
        {
          "metadata": {
            "tags": null
          },
          "name": "stdout",
          "output_type": "stream",
          "text": [
            "57/57 [==============================] - 18s 320ms/step - loss: 1.2510 - accuracy: 0.5202 - precision: 0.6909 - recall: 0.2860 - val_loss: 1.1878 - val_accuracy: 0.6049 - val_precision: 0.8166 - val_recall: 0.2220\n",
            "Epoch 209/800\n",
            "58/57 [==============================] - ETA: 0s - loss: 1.2554 - accuracy: 0.5169 - precision: 0.6903 - recall: 0.2837"
          ]
        },
        {
          "metadata": {
            "tags": null
          },
          "name": "stderr",
          "output_type": "stream",
          "text": [
            "WARNING:tensorflow:Can save best model only with acc available, skipping.\n"
          ]
        },
        {
          "metadata": {
            "tags": null
          },
          "name": "stdout",
          "output_type": "stream",
          "text": [
            "57/57 [==============================] - 18s 320ms/step - loss: 1.2554 - accuracy: 0.5169 - precision: 0.6903 - recall: 0.2837 - val_loss: 1.1853 - val_accuracy: 0.6051 - val_precision: 0.8172 - val_recall: 0.2245\n",
            "Epoch 210/800\n",
            "58/57 [==============================] - ETA: 0s - loss: 1.2519 - accuracy: 0.5181 - precision: 0.6832 - recall: 0.2878"
          ]
        },
        {
          "metadata": {
            "tags": null
          },
          "name": "stderr",
          "output_type": "stream",
          "text": [
            "WARNING:tensorflow:Can save best model only with acc available, skipping.\n"
          ]
        },
        {
          "metadata": {
            "tags": null
          },
          "name": "stdout",
          "output_type": "stream",
          "text": [
            "57/57 [==============================] - 19s 320ms/step - loss: 1.2519 - accuracy: 0.5181 - precision: 0.6832 - recall: 0.2878 - val_loss: 1.1832 - val_accuracy: 0.6052 - val_precision: 0.8191 - val_recall: 0.2270\n",
            "Epoch 211/800\n",
            "58/57 [==============================] - ETA: 0s - loss: 1.2479 - accuracy: 0.5175 - precision: 0.6888 - recall: 0.2866"
          ]
        },
        {
          "metadata": {
            "tags": null
          },
          "name": "stderr",
          "output_type": "stream",
          "text": [
            "WARNING:tensorflow:Can save best model only with acc available, skipping.\n"
          ]
        },
        {
          "metadata": {
            "tags": null
          },
          "name": "stdout",
          "output_type": "stream",
          "text": [
            "57/57 [==============================] - 18s 318ms/step - loss: 1.2479 - accuracy: 0.5175 - precision: 0.6888 - recall: 0.2866 - val_loss: 1.1809 - val_accuracy: 0.6063 - val_precision: 0.8212 - val_recall: 0.2298\n",
            "Epoch 212/800\n",
            "58/57 [==============================] - ETA: 0s - loss: 1.2514 - accuracy: 0.5145 - precision: 0.6901 - recall: 0.2889"
          ]
        },
        {
          "metadata": {
            "tags": null
          },
          "name": "stderr",
          "output_type": "stream",
          "text": [
            "WARNING:tensorflow:Can save best model only with acc available, skipping.\n"
          ]
        },
        {
          "metadata": {
            "tags": null
          },
          "name": "stdout",
          "output_type": "stream",
          "text": [
            "57/57 [==============================] - 18s 315ms/step - loss: 1.2514 - accuracy: 0.5145 - precision: 0.6901 - recall: 0.2889 - val_loss: 1.1790 - val_accuracy: 0.6064 - val_precision: 0.8228 - val_recall: 0.2319\n",
            "Epoch 213/800\n",
            "58/57 [==============================] - ETA: 0s - loss: 1.2434 - accuracy: 0.5224 - precision: 0.6931 - recall: 0.2934"
          ]
        },
        {
          "metadata": {
            "tags": null
          },
          "name": "stderr",
          "output_type": "stream",
          "text": [
            "WARNING:tensorflow:Can save best model only with acc available, skipping.\n"
          ]
        },
        {
          "metadata": {
            "tags": null
          },
          "name": "stdout",
          "output_type": "stream",
          "text": [
            "57/57 [==============================] - 18s 319ms/step - loss: 1.2434 - accuracy: 0.5224 - precision: 0.6931 - recall: 0.2934 - val_loss: 1.1766 - val_accuracy: 0.6075 - val_precision: 0.8246 - val_recall: 0.2346\n",
            "Epoch 214/800\n",
            "58/57 [==============================] - ETA: 0s - loss: 1.2452 - accuracy: 0.5230 - precision: 0.6964 - recall: 0.2982"
          ]
        },
        {
          "metadata": {
            "tags": null
          },
          "name": "stderr",
          "output_type": "stream",
          "text": [
            "WARNING:tensorflow:Can save best model only with acc available, skipping.\n"
          ]
        },
        {
          "metadata": {
            "tags": null
          },
          "name": "stdout",
          "output_type": "stream",
          "text": [
            "57/57 [==============================] - 19s 323ms/step - loss: 1.2452 - accuracy: 0.5230 - precision: 0.6964 - recall: 0.2982 - val_loss: 1.1747 - val_accuracy: 0.6076 - val_precision: 0.8264 - val_recall: 0.2368\n",
            "Epoch 215/800\n",
            "58/57 [==============================] - ETA: 0s - loss: 1.2408 - accuracy: 0.5232 - precision: 0.6996 - recall: 0.2955"
          ]
        },
        {
          "metadata": {
            "tags": null
          },
          "name": "stderr",
          "output_type": "stream",
          "text": [
            "WARNING:tensorflow:Can save best model only with acc available, skipping.\n"
          ]
        },
        {
          "metadata": {
            "tags": null
          },
          "name": "stdout",
          "output_type": "stream",
          "text": [
            "57/57 [==============================] - 18s 318ms/step - loss: 1.2408 - accuracy: 0.5232 - precision: 0.6996 - recall: 0.2955 - val_loss: 1.1726 - val_accuracy: 0.6080 - val_precision: 0.8271 - val_recall: 0.2384\n",
            "Epoch 216/800\n",
            "58/57 [==============================] - ETA: 0s - loss: 1.2368 - accuracy: 0.5255 - precision: 0.6960 - recall: 0.2982"
          ]
        },
        {
          "metadata": {
            "tags": null
          },
          "name": "stderr",
          "output_type": "stream",
          "text": [
            "WARNING:tensorflow:Can save best model only with acc available, skipping.\n"
          ]
        },
        {
          "metadata": {
            "tags": null
          },
          "name": "stdout",
          "output_type": "stream",
          "text": [
            "57/57 [==============================] - 18s 318ms/step - loss: 1.2368 - accuracy: 0.5255 - precision: 0.6960 - recall: 0.2982 - val_loss: 1.1704 - val_accuracy: 0.6088 - val_precision: 0.8283 - val_recall: 0.2407\n",
            "Epoch 217/800\n",
            "58/57 [==============================] - ETA: 0s - loss: 1.2327 - accuracy: 0.5283 - precision: 0.6980 - recall: 0.3017"
          ]
        },
        {
          "metadata": {
            "tags": null
          },
          "name": "stderr",
          "output_type": "stream",
          "text": [
            "WARNING:tensorflow:Can save best model only with acc available, skipping.\n"
          ]
        },
        {
          "metadata": {
            "tags": null
          },
          "name": "stdout",
          "output_type": "stream",
          "text": [
            "57/57 [==============================] - 18s 319ms/step - loss: 1.2327 - accuracy: 0.5283 - precision: 0.6980 - recall: 0.3017 - val_loss: 1.1682 - val_accuracy: 0.6094 - val_precision: 0.8293 - val_recall: 0.2427\n",
            "Epoch 218/800\n",
            "58/57 [==============================] - ETA: 0s - loss: 1.2315 - accuracy: 0.5273 - precision: 0.6989 - recall: 0.3028"
          ]
        },
        {
          "metadata": {
            "tags": null
          },
          "name": "stderr",
          "output_type": "stream",
          "text": [
            "WARNING:tensorflow:Can save best model only with acc available, skipping.\n"
          ]
        },
        {
          "metadata": {
            "tags": null
          },
          "name": "stdout",
          "output_type": "stream",
          "text": [
            "57/57 [==============================] - 18s 313ms/step - loss: 1.2315 - accuracy: 0.5273 - precision: 0.6989 - recall: 0.3028 - val_loss: 1.1660 - val_accuracy: 0.6095 - val_precision: 0.8300 - val_recall: 0.2454\n",
            "Epoch 219/800\n",
            "58/57 [==============================] - ETA: 0s - loss: 1.2293 - accuracy: 0.5299 - precision: 0.7006 - recall: 0.3049"
          ]
        },
        {
          "metadata": {
            "tags": null
          },
          "name": "stderr",
          "output_type": "stream",
          "text": [
            "WARNING:tensorflow:Can save best model only with acc available, skipping.\n"
          ]
        },
        {
          "metadata": {
            "tags": null
          },
          "name": "stdout",
          "output_type": "stream",
          "text": [
            "57/57 [==============================] - 18s 319ms/step - loss: 1.2293 - accuracy: 0.5299 - precision: 0.7006 - recall: 0.3049 - val_loss: 1.1638 - val_accuracy: 0.6099 - val_precision: 0.8315 - val_recall: 0.2472\n",
            "Epoch 220/800\n",
            "58/57 [==============================] - ETA: 0s - loss: 1.2287 - accuracy: 0.5291 - precision: 0.7002 - recall: 0.3053"
          ]
        },
        {
          "metadata": {
            "tags": null
          },
          "name": "stderr",
          "output_type": "stream",
          "text": [
            "WARNING:tensorflow:Can save best model only with acc available, skipping.\n"
          ]
        },
        {
          "metadata": {
            "tags": null
          },
          "name": "stdout",
          "output_type": "stream",
          "text": [
            "57/57 [==============================] - 18s 318ms/step - loss: 1.2287 - accuracy: 0.5291 - precision: 0.7002 - recall: 0.3053 - val_loss: 1.1617 - val_accuracy: 0.6108 - val_precision: 0.8329 - val_recall: 0.2489\n",
            "Epoch 221/800\n",
            "58/57 [==============================] - ETA: 0s - loss: 1.2249 - accuracy: 0.5315 - precision: 0.7029 - recall: 0.3078"
          ]
        },
        {
          "metadata": {
            "tags": null
          },
          "name": "stderr",
          "output_type": "stream",
          "text": [
            "WARNING:tensorflow:Can save best model only with acc available, skipping.\n"
          ]
        },
        {
          "metadata": {
            "tags": null
          },
          "name": "stdout",
          "output_type": "stream",
          "text": [
            "57/57 [==============================] - 18s 317ms/step - loss: 1.2249 - accuracy: 0.5315 - precision: 0.7029 - recall: 0.3078 - val_loss: 1.1595 - val_accuracy: 0.6118 - val_precision: 0.8337 - val_recall: 0.2511\n",
            "Epoch 222/800\n",
            "58/57 [==============================] - ETA: 0s - loss: 1.2266 - accuracy: 0.5273 - precision: 0.6978 - recall: 0.3092"
          ]
        },
        {
          "metadata": {
            "tags": null
          },
          "name": "stderr",
          "output_type": "stream",
          "text": [
            "WARNING:tensorflow:Can save best model only with acc available, skipping.\n"
          ]
        },
        {
          "metadata": {
            "tags": null
          },
          "name": "stdout",
          "output_type": "stream",
          "text": [
            "57/57 [==============================] - 18s 315ms/step - loss: 1.2266 - accuracy: 0.5273 - precision: 0.6978 - recall: 0.3092 - val_loss: 1.1575 - val_accuracy: 0.6120 - val_precision: 0.8349 - val_recall: 0.2530\n",
            "Epoch 223/800\n",
            "58/57 [==============================] - ETA: 0s - loss: 1.2251 - accuracy: 0.5316 - precision: 0.7005 - recall: 0.3091"
          ]
        },
        {
          "metadata": {
            "tags": null
          },
          "name": "stderr",
          "output_type": "stream",
          "text": [
            "WARNING:tensorflow:Can save best model only with acc available, skipping.\n"
          ]
        },
        {
          "metadata": {
            "tags": null
          },
          "name": "stdout",
          "output_type": "stream",
          "text": [
            "57/57 [==============================] - 18s 316ms/step - loss: 1.2251 - accuracy: 0.5316 - precision: 0.7005 - recall: 0.3091 - val_loss: 1.1553 - val_accuracy: 0.6125 - val_precision: 0.8361 - val_recall: 0.2551\n",
            "Epoch 224/800\n",
            "58/57 [==============================] - ETA: 0s - loss: 1.2208 - accuracy: 0.5351 - precision: 0.7070 - recall: 0.3146"
          ]
        },
        {
          "metadata": {
            "tags": null
          },
          "name": "stderr",
          "output_type": "stream",
          "text": [
            "WARNING:tensorflow:Can save best model only with acc available, skipping.\n"
          ]
        },
        {
          "metadata": {
            "tags": null
          },
          "name": "stdout",
          "output_type": "stream",
          "text": [
            "57/57 [==============================] - 18s 317ms/step - loss: 1.2208 - accuracy: 0.5351 - precision: 0.7070 - recall: 0.3146 - val_loss: 1.1533 - val_accuracy: 0.6130 - val_precision: 0.8361 - val_recall: 0.2576\n",
            "Epoch 225/800\n",
            "58/57 [==============================] - ETA: 0s - loss: 1.2213 - accuracy: 0.5315 - precision: 0.7029 - recall: 0.3123"
          ]
        },
        {
          "metadata": {
            "tags": null
          },
          "name": "stderr",
          "output_type": "stream",
          "text": [
            "WARNING:tensorflow:Can save best model only with acc available, skipping.\n"
          ]
        },
        {
          "metadata": {
            "tags": null
          },
          "name": "stdout",
          "output_type": "stream",
          "text": [
            "57/57 [==============================] - 18s 317ms/step - loss: 1.2213 - accuracy: 0.5315 - precision: 0.7029 - recall: 0.3123 - val_loss: 1.1512 - val_accuracy: 0.6137 - val_precision: 0.8382 - val_recall: 0.2598\n",
            "Epoch 226/800\n",
            "58/57 [==============================] - ETA: 0s - loss: 1.2192 - accuracy: 0.5324 - precision: 0.7058 - recall: 0.3181"
          ]
        },
        {
          "metadata": {
            "tags": null
          },
          "name": "stderr",
          "output_type": "stream",
          "text": [
            "WARNING:tensorflow:Can save best model only with acc available, skipping.\n"
          ]
        },
        {
          "metadata": {
            "tags": null
          },
          "name": "stdout",
          "output_type": "stream",
          "text": [
            "57/57 [==============================] - 18s 316ms/step - loss: 1.2192 - accuracy: 0.5324 - precision: 0.7058 - recall: 0.3181 - val_loss: 1.1494 - val_accuracy: 0.6144 - val_precision: 0.8395 - val_recall: 0.2615\n",
            "Epoch 227/800\n",
            "58/57 [==============================] - ETA: 0s - loss: 1.2152 - accuracy: 0.5345 - precision: 0.7068 - recall: 0.3179"
          ]
        },
        {
          "metadata": {
            "tags": null
          },
          "name": "stderr",
          "output_type": "stream",
          "text": [
            "WARNING:tensorflow:Can save best model only with acc available, skipping.\n"
          ]
        },
        {
          "metadata": {
            "tags": null
          },
          "name": "stdout",
          "output_type": "stream",
          "text": [
            "57/57 [==============================] - 18s 316ms/step - loss: 1.2152 - accuracy: 0.5345 - precision: 0.7068 - recall: 0.3179 - val_loss: 1.1475 - val_accuracy: 0.6144 - val_precision: 0.8401 - val_recall: 0.2639\n",
            "Epoch 228/800\n",
            "58/57 [==============================] - ETA: 0s - loss: 1.2124 - accuracy: 0.5378 - precision: 0.7074 - recall: 0.3205"
          ]
        },
        {
          "metadata": {
            "tags": null
          },
          "name": "stderr",
          "output_type": "stream",
          "text": [
            "WARNING:tensorflow:Can save best model only with acc available, skipping.\n"
          ]
        },
        {
          "metadata": {
            "tags": null
          },
          "name": "stdout",
          "output_type": "stream",
          "text": [
            "57/57 [==============================] - 18s 317ms/step - loss: 1.2124 - accuracy: 0.5378 - precision: 0.7074 - recall: 0.3205 - val_loss: 1.1456 - val_accuracy: 0.6144 - val_precision: 0.8405 - val_recall: 0.2657\n",
            "Epoch 229/800\n",
            "58/57 [==============================] - ETA: 0s - loss: 1.2096 - accuracy: 0.5356 - precision: 0.7065 - recall: 0.3210"
          ]
        },
        {
          "metadata": {
            "tags": null
          },
          "name": "stderr",
          "output_type": "stream",
          "text": [
            "WARNING:tensorflow:Can save best model only with acc available, skipping.\n"
          ]
        },
        {
          "metadata": {
            "tags": null
          },
          "name": "stdout",
          "output_type": "stream",
          "text": [
            "57/57 [==============================] - 18s 320ms/step - loss: 1.2096 - accuracy: 0.5356 - precision: 0.7065 - recall: 0.3210 - val_loss: 1.1436 - val_accuracy: 0.6148 - val_precision: 0.8417 - val_recall: 0.2682\n",
            "Epoch 230/800\n",
            "58/57 [==============================] - ETA: 0s - loss: 1.2090 - accuracy: 0.5393 - precision: 0.7097 - recall: 0.3234"
          ]
        },
        {
          "metadata": {
            "tags": null
          },
          "name": "stderr",
          "output_type": "stream",
          "text": [
            "WARNING:tensorflow:Can save best model only with acc available, skipping.\n"
          ]
        },
        {
          "metadata": {
            "tags": null
          },
          "name": "stdout",
          "output_type": "stream",
          "text": [
            "57/57 [==============================] - 19s 321ms/step - loss: 1.2090 - accuracy: 0.5393 - precision: 0.7097 - recall: 0.3234 - val_loss: 1.1418 - val_accuracy: 0.6148 - val_precision: 0.8416 - val_recall: 0.2702\n",
            "Epoch 231/800\n",
            "58/57 [==============================] - ETA: 0s - loss: 1.2093 - accuracy: 0.5406 - precision: 0.7098 - recall: 0.3247"
          ]
        },
        {
          "metadata": {
            "tags": null
          },
          "name": "stderr",
          "output_type": "stream",
          "text": [
            "WARNING:tensorflow:Can save best model only with acc available, skipping.\n"
          ]
        },
        {
          "metadata": {
            "tags": null
          },
          "name": "stdout",
          "output_type": "stream",
          "text": [
            "57/57 [==============================] - 18s 319ms/step - loss: 1.2093 - accuracy: 0.5406 - precision: 0.7098 - recall: 0.3247 - val_loss: 1.1399 - val_accuracy: 0.6148 - val_precision: 0.8417 - val_recall: 0.2726\n",
            "Epoch 232/800\n",
            "58/57 [==============================] - ETA: 0s - loss: 1.2060 - accuracy: 0.5400 - precision: 0.7119 - recall: 0.3277"
          ]
        },
        {
          "metadata": {
            "tags": null
          },
          "name": "stderr",
          "output_type": "stream",
          "text": [
            "WARNING:tensorflow:Can save best model only with acc available, skipping.\n"
          ]
        },
        {
          "metadata": {
            "tags": null
          },
          "name": "stdout",
          "output_type": "stream",
          "text": [
            "57/57 [==============================] - 18s 317ms/step - loss: 1.2060 - accuracy: 0.5400 - precision: 0.7119 - recall: 0.3277 - val_loss: 1.1380 - val_accuracy: 0.6155 - val_precision: 0.8424 - val_recall: 0.2735\n",
            "Epoch 233/800\n",
            "58/57 [==============================] - ETA: 0s - loss: 1.2012 - accuracy: 0.5437 - precision: 0.7141 - recall: 0.3304"
          ]
        },
        {
          "metadata": {
            "tags": null
          },
          "name": "stderr",
          "output_type": "stream",
          "text": [
            "WARNING:tensorflow:Can save best model only with acc available, skipping.\n"
          ]
        },
        {
          "metadata": {
            "tags": null
          },
          "name": "stdout",
          "output_type": "stream",
          "text": [
            "57/57 [==============================] - 18s 317ms/step - loss: 1.2012 - accuracy: 0.5437 - precision: 0.7141 - recall: 0.3304 - val_loss: 1.1361 - val_accuracy: 0.6160 - val_precision: 0.8432 - val_recall: 0.2762\n",
            "Epoch 234/800\n",
            "58/57 [==============================] - ETA: 0s - loss: 1.1989 - accuracy: 0.5427 - precision: 0.7122 - recall: 0.3317"
          ]
        },
        {
          "metadata": {
            "tags": null
          },
          "name": "stderr",
          "output_type": "stream",
          "text": [
            "WARNING:tensorflow:Can save best model only with acc available, skipping.\n"
          ]
        },
        {
          "metadata": {
            "tags": null
          },
          "name": "stdout",
          "output_type": "stream",
          "text": [
            "57/57 [==============================] - 18s 319ms/step - loss: 1.1989 - accuracy: 0.5427 - precision: 0.7122 - recall: 0.3317 - val_loss: 1.1342 - val_accuracy: 0.6164 - val_precision: 0.8439 - val_recall: 0.2780\n",
            "Epoch 235/800\n",
            "58/57 [==============================] - ETA: 0s - loss: 1.1981 - accuracy: 0.5462 - precision: 0.7160 - recall: 0.3341"
          ]
        },
        {
          "metadata": {
            "tags": null
          },
          "name": "stderr",
          "output_type": "stream",
          "text": [
            "WARNING:tensorflow:Can save best model only with acc available, skipping.\n"
          ]
        },
        {
          "metadata": {
            "tags": null
          },
          "name": "stdout",
          "output_type": "stream",
          "text": [
            "57/57 [==============================] - 18s 316ms/step - loss: 1.1981 - accuracy: 0.5462 - precision: 0.7160 - recall: 0.3341 - val_loss: 1.1324 - val_accuracy: 0.6172 - val_precision: 0.8457 - val_recall: 0.2801\n",
            "Epoch 236/800\n",
            "58/57 [==============================] - ETA: 0s - loss: 1.1932 - accuracy: 0.5465 - precision: 0.7163 - recall: 0.3341"
          ]
        },
        {
          "metadata": {
            "tags": null
          },
          "name": "stderr",
          "output_type": "stream",
          "text": [
            "WARNING:tensorflow:Can save best model only with acc available, skipping.\n"
          ]
        },
        {
          "metadata": {
            "tags": null
          },
          "name": "stdout",
          "output_type": "stream",
          "text": [
            "57/57 [==============================] - 18s 315ms/step - loss: 1.1932 - accuracy: 0.5465 - precision: 0.7163 - recall: 0.3341 - val_loss: 1.1304 - val_accuracy: 0.6177 - val_precision: 0.8463 - val_recall: 0.2823\n",
            "Epoch 237/800\n",
            "58/57 [==============================] - ETA: 0s - loss: 1.1943 - accuracy: 0.5470 - precision: 0.7148 - recall: 0.3355"
          ]
        },
        {
          "metadata": {
            "tags": null
          },
          "name": "stderr",
          "output_type": "stream",
          "text": [
            "WARNING:tensorflow:Can save best model only with acc available, skipping.\n"
          ]
        },
        {
          "metadata": {
            "tags": null
          },
          "name": "stdout",
          "output_type": "stream",
          "text": [
            "57/57 [==============================] - 18s 312ms/step - loss: 1.1943 - accuracy: 0.5470 - precision: 0.7148 - recall: 0.3355 - val_loss: 1.1285 - val_accuracy: 0.6177 - val_precision: 0.8481 - val_recall: 0.2849\n",
            "Epoch 238/800\n",
            "58/57 [==============================] - ETA: 0s - loss: 1.1959 - accuracy: 0.5453 - precision: 0.7159 - recall: 0.3373"
          ]
        },
        {
          "metadata": {
            "tags": null
          },
          "name": "stderr",
          "output_type": "stream",
          "text": [
            "WARNING:tensorflow:Can save best model only with acc available, skipping.\n"
          ]
        },
        {
          "metadata": {
            "tags": null
          },
          "name": "stdout",
          "output_type": "stream",
          "text": [
            "57/57 [==============================] - 18s 312ms/step - loss: 1.1959 - accuracy: 0.5453 - precision: 0.7159 - recall: 0.3373 - val_loss: 1.1269 - val_accuracy: 0.6183 - val_precision: 0.8490 - val_recall: 0.2868\n",
            "Epoch 239/800\n",
            "58/57 [==============================] - ETA: 0s - loss: 1.1893 - accuracy: 0.5487 - precision: 0.7217 - recall: 0.3427"
          ]
        },
        {
          "metadata": {
            "tags": null
          },
          "name": "stderr",
          "output_type": "stream",
          "text": [
            "WARNING:tensorflow:Can save best model only with acc available, skipping.\n"
          ]
        },
        {
          "metadata": {
            "tags": null
          },
          "name": "stdout",
          "output_type": "stream",
          "text": [
            "57/57 [==============================] - 18s 318ms/step - loss: 1.1893 - accuracy: 0.5487 - precision: 0.7217 - recall: 0.3427 - val_loss: 1.1250 - val_accuracy: 0.6189 - val_precision: 0.8484 - val_recall: 0.2886\n",
            "Epoch 240/800\n",
            "58/57 [==============================] - ETA: 0s - loss: 1.1889 - accuracy: 0.5477 - precision: 0.7172 - recall: 0.3404"
          ]
        },
        {
          "metadata": {
            "tags": null
          },
          "name": "stderr",
          "output_type": "stream",
          "text": [
            "WARNING:tensorflow:Can save best model only with acc available, skipping.\n"
          ]
        },
        {
          "metadata": {
            "tags": null
          },
          "name": "stdout",
          "output_type": "stream",
          "text": [
            "57/57 [==============================] - 18s 318ms/step - loss: 1.1889 - accuracy: 0.5477 - precision: 0.7172 - recall: 0.3404 - val_loss: 1.1230 - val_accuracy: 0.6194 - val_precision: 0.8491 - val_recall: 0.2904\n",
            "Epoch 241/800\n",
            "58/57 [==============================] - ETA: 0s - loss: 1.1889 - accuracy: 0.5481 - precision: 0.7176 - recall: 0.3412"
          ]
        },
        {
          "metadata": {
            "tags": null
          },
          "name": "stderr",
          "output_type": "stream",
          "text": [
            "WARNING:tensorflow:Can save best model only with acc available, skipping.\n"
          ]
        },
        {
          "metadata": {
            "tags": null
          },
          "name": "stdout",
          "output_type": "stream",
          "text": [
            "57/57 [==============================] - 18s 316ms/step - loss: 1.1889 - accuracy: 0.5481 - precision: 0.7176 - recall: 0.3412 - val_loss: 1.1212 - val_accuracy: 0.6201 - val_precision: 0.8479 - val_recall: 0.2924\n",
            "Epoch 242/800\n",
            "58/57 [==============================] - ETA: 0s - loss: 1.1860 - accuracy: 0.5486 - precision: 0.7199 - recall: 0.3455"
          ]
        },
        {
          "metadata": {
            "tags": null
          },
          "name": "stderr",
          "output_type": "stream",
          "text": [
            "WARNING:tensorflow:Can save best model only with acc available, skipping.\n"
          ]
        },
        {
          "metadata": {
            "tags": null
          },
          "name": "stdout",
          "output_type": "stream",
          "text": [
            "57/57 [==============================] - 18s 315ms/step - loss: 1.1860 - accuracy: 0.5486 - precision: 0.7199 - recall: 0.3455 - val_loss: 1.1195 - val_accuracy: 0.6203 - val_precision: 0.8485 - val_recall: 0.2948\n",
            "Epoch 243/800\n",
            "58/57 [==============================] - ETA: 0s - loss: 1.1833 - accuracy: 0.5491 - precision: 0.7203 - recall: 0.3447"
          ]
        },
        {
          "metadata": {
            "tags": null
          },
          "name": "stderr",
          "output_type": "stream",
          "text": [
            "WARNING:tensorflow:Can save best model only with acc available, skipping.\n"
          ]
        },
        {
          "metadata": {
            "tags": null
          },
          "name": "stdout",
          "output_type": "stream",
          "text": [
            "57/57 [==============================] - 18s 316ms/step - loss: 1.1833 - accuracy: 0.5491 - precision: 0.7203 - recall: 0.3447 - val_loss: 1.1176 - val_accuracy: 0.6208 - val_precision: 0.8507 - val_recall: 0.2965\n",
            "Epoch 244/800\n",
            "58/57 [==============================] - ETA: 0s - loss: 1.1816 - accuracy: 0.5522 - precision: 0.7212 - recall: 0.3499"
          ]
        },
        {
          "metadata": {
            "tags": null
          },
          "name": "stderr",
          "output_type": "stream",
          "text": [
            "WARNING:tensorflow:Can save best model only with acc available, skipping.\n"
          ]
        },
        {
          "metadata": {
            "tags": null
          },
          "name": "stdout",
          "output_type": "stream",
          "text": [
            "57/57 [==============================] - 19s 329ms/step - loss: 1.1816 - accuracy: 0.5522 - precision: 0.7212 - recall: 0.3499 - val_loss: 1.1160 - val_accuracy: 0.6217 - val_precision: 0.8524 - val_recall: 0.2981\n",
            "Epoch 245/800\n",
            "58/57 [==============================] - ETA: 0s - loss: 1.1790 - accuracy: 0.5550 - precision: 0.7227 - recall: 0.3488"
          ]
        },
        {
          "metadata": {
            "tags": null
          },
          "name": "stderr",
          "output_type": "stream",
          "text": [
            "WARNING:tensorflow:Can save best model only with acc available, skipping.\n"
          ]
        },
        {
          "metadata": {
            "tags": null
          },
          "name": "stdout",
          "output_type": "stream",
          "text": [
            "57/57 [==============================] - 19s 330ms/step - loss: 1.1790 - accuracy: 0.5550 - precision: 0.7227 - recall: 0.3488 - val_loss: 1.1144 - val_accuracy: 0.6216 - val_precision: 0.8509 - val_recall: 0.2992\n",
            "Epoch 246/800\n",
            "58/57 [==============================] - ETA: 0s - loss: 1.1807 - accuracy: 0.5493 - precision: 0.7193 - recall: 0.3478"
          ]
        },
        {
          "metadata": {
            "tags": null
          },
          "name": "stderr",
          "output_type": "stream",
          "text": [
            "WARNING:tensorflow:Can save best model only with acc available, skipping.\n"
          ]
        },
        {
          "metadata": {
            "tags": null
          },
          "name": "stdout",
          "output_type": "stream",
          "text": [
            "57/57 [==============================] - 19s 330ms/step - loss: 1.1807 - accuracy: 0.5493 - precision: 0.7193 - recall: 0.3478 - val_loss: 1.1127 - val_accuracy: 0.6222 - val_precision: 0.8534 - val_recall: 0.3011\n",
            "Epoch 247/800\n",
            "58/57 [==============================] - ETA: 0s - loss: 1.1751 - accuracy: 0.5557 - precision: 0.7238 - recall: 0.3523"
          ]
        },
        {
          "metadata": {
            "tags": null
          },
          "name": "stderr",
          "output_type": "stream",
          "text": [
            "WARNING:tensorflow:Can save best model only with acc available, skipping.\n"
          ]
        },
        {
          "metadata": {
            "tags": null
          },
          "name": "stdout",
          "output_type": "stream",
          "text": [
            "57/57 [==============================] - 19s 328ms/step - loss: 1.1751 - accuracy: 0.5557 - precision: 0.7238 - recall: 0.3523 - val_loss: 1.1109 - val_accuracy: 0.6224 - val_precision: 0.8547 - val_recall: 0.3035\n",
            "Epoch 248/800\n",
            "58/57 [==============================] - ETA: 0s - loss: 1.1777 - accuracy: 0.5557 - precision: 0.7218 - recall: 0.3533"
          ]
        },
        {
          "metadata": {
            "tags": null
          },
          "name": "stderr",
          "output_type": "stream",
          "text": [
            "WARNING:tensorflow:Can save best model only with acc available, skipping.\n"
          ]
        },
        {
          "metadata": {
            "tags": null
          },
          "name": "stdout",
          "output_type": "stream",
          "text": [
            "57/57 [==============================] - 19s 324ms/step - loss: 1.1777 - accuracy: 0.5557 - precision: 0.7218 - recall: 0.3533 - val_loss: 1.1094 - val_accuracy: 0.6226 - val_precision: 0.8544 - val_recall: 0.3052\n",
            "Epoch 249/800\n",
            "58/57 [==============================] - ETA: 0s - loss: 1.1748 - accuracy: 0.5536 - precision: 0.7255 - recall: 0.3549"
          ]
        },
        {
          "metadata": {
            "tags": null
          },
          "name": "stderr",
          "output_type": "stream",
          "text": [
            "WARNING:tensorflow:Can save best model only with acc available, skipping.\n"
          ]
        },
        {
          "metadata": {
            "tags": null
          },
          "name": "stdout",
          "output_type": "stream",
          "text": [
            "57/57 [==============================] - 18s 319ms/step - loss: 1.1748 - accuracy: 0.5536 - precision: 0.7255 - recall: 0.3549 - val_loss: 1.1077 - val_accuracy: 0.6227 - val_precision: 0.8551 - val_recall: 0.3067\n",
            "Epoch 250/800\n",
            "58/57 [==============================] - ETA: 0s - loss: 1.1708 - accuracy: 0.5561 - precision: 0.7221 - recall: 0.3551"
          ]
        },
        {
          "metadata": {
            "tags": null
          },
          "name": "stderr",
          "output_type": "stream",
          "text": [
            "WARNING:tensorflow:Can save best model only with acc available, skipping.\n"
          ]
        },
        {
          "metadata": {
            "tags": null
          },
          "name": "stdout",
          "output_type": "stream",
          "text": [
            "57/57 [==============================] - 19s 325ms/step - loss: 1.1708 - accuracy: 0.5561 - precision: 0.7221 - recall: 0.3551 - val_loss: 1.1061 - val_accuracy: 0.6234 - val_precision: 0.8570 - val_recall: 0.3078\n",
            "Epoch 251/800\n",
            "58/57 [==============================] - ETA: 0s - loss: 1.1698 - accuracy: 0.5585 - precision: 0.7265 - recall: 0.3584"
          ]
        },
        {
          "metadata": {
            "tags": null
          },
          "name": "stderr",
          "output_type": "stream",
          "text": [
            "WARNING:tensorflow:Can save best model only with acc available, skipping.\n"
          ]
        },
        {
          "metadata": {
            "tags": null
          },
          "name": "stdout",
          "output_type": "stream",
          "text": [
            "57/57 [==============================] - 20s 347ms/step - loss: 1.1698 - accuracy: 0.5585 - precision: 0.7265 - recall: 0.3584 - val_loss: 1.1044 - val_accuracy: 0.6235 - val_precision: 0.8556 - val_recall: 0.3094\n",
            "Epoch 252/800\n",
            "58/57 [==============================] - ETA: 0s - loss: 1.1667 - accuracy: 0.5590 - precision: 0.7287 - recall: 0.3606"
          ]
        },
        {
          "metadata": {
            "tags": null
          },
          "name": "stderr",
          "output_type": "stream",
          "text": [
            "WARNING:tensorflow:Can save best model only with acc available, skipping.\n"
          ]
        },
        {
          "metadata": {
            "tags": null
          },
          "name": "stdout",
          "output_type": "stream",
          "text": [
            "57/57 [==============================] - 20s 347ms/step - loss: 1.1667 - accuracy: 0.5590 - precision: 0.7287 - recall: 0.3606 - val_loss: 1.1027 - val_accuracy: 0.6237 - val_precision: 0.8555 - val_recall: 0.3110\n",
            "Epoch 253/800\n",
            "58/57 [==============================] - ETA: 0s - loss: 1.1658 - accuracy: 0.5569 - precision: 0.7208 - recall: 0.3586"
          ]
        },
        {
          "metadata": {
            "tags": null
          },
          "name": "stderr",
          "output_type": "stream",
          "text": [
            "WARNING:tensorflow:Can save best model only with acc available, skipping.\n"
          ]
        },
        {
          "metadata": {
            "tags": null
          },
          "name": "stdout",
          "output_type": "stream",
          "text": [
            "57/57 [==============================] - 19s 327ms/step - loss: 1.1658 - accuracy: 0.5569 - precision: 0.7208 - recall: 0.3586 - val_loss: 1.1010 - val_accuracy: 0.6242 - val_precision: 0.8560 - val_recall: 0.3128\n",
            "Epoch 254/800\n",
            "58/57 [==============================] - ETA: 0s - loss: 1.1664 - accuracy: 0.5571 - precision: 0.7240 - recall: 0.3612"
          ]
        },
        {
          "metadata": {
            "tags": null
          },
          "name": "stderr",
          "output_type": "stream",
          "text": [
            "WARNING:tensorflow:Can save best model only with acc available, skipping.\n"
          ]
        },
        {
          "metadata": {
            "tags": null
          },
          "name": "stdout",
          "output_type": "stream",
          "text": [
            "57/57 [==============================] - 19s 320ms/step - loss: 1.1664 - accuracy: 0.5571 - precision: 0.7240 - recall: 0.3612 - val_loss: 1.0996 - val_accuracy: 0.6248 - val_precision: 0.8567 - val_recall: 0.3143\n",
            "Epoch 255/800\n",
            "58/57 [==============================] - ETA: 0s - loss: 1.1620 - accuracy: 0.5570 - precision: 0.7251 - recall: 0.3619"
          ]
        },
        {
          "metadata": {
            "tags": null
          },
          "name": "stderr",
          "output_type": "stream",
          "text": [
            "WARNING:tensorflow:Can save best model only with acc available, skipping.\n"
          ]
        },
        {
          "metadata": {
            "tags": null
          },
          "name": "stdout",
          "output_type": "stream",
          "text": [
            "57/57 [==============================] - 18s 317ms/step - loss: 1.1620 - accuracy: 0.5570 - precision: 0.7251 - recall: 0.3619 - val_loss: 1.0978 - val_accuracy: 0.6257 - val_precision: 0.8569 - val_recall: 0.3158\n",
            "Epoch 256/800\n",
            "58/57 [==============================] - ETA: 0s - loss: 1.1612 - accuracy: 0.5581 - precision: 0.7243 - recall: 0.3647"
          ]
        },
        {
          "metadata": {
            "tags": null
          },
          "name": "stderr",
          "output_type": "stream",
          "text": [
            "WARNING:tensorflow:Can save best model only with acc available, skipping.\n"
          ]
        },
        {
          "metadata": {
            "tags": null
          },
          "name": "stdout",
          "output_type": "stream",
          "text": [
            "57/57 [==============================] - 18s 314ms/step - loss: 1.1612 - accuracy: 0.5581 - precision: 0.7243 - recall: 0.3647 - val_loss: 1.0961 - val_accuracy: 0.6257 - val_precision: 0.8571 - val_recall: 0.3178\n",
            "Epoch 257/800\n",
            "58/57 [==============================] - ETA: 0s - loss: 1.1597 - accuracy: 0.5601 - precision: 0.7273 - recall: 0.3663"
          ]
        },
        {
          "metadata": {
            "tags": null
          },
          "name": "stderr",
          "output_type": "stream",
          "text": [
            "WARNING:tensorflow:Can save best model only with acc available, skipping.\n"
          ]
        },
        {
          "metadata": {
            "tags": null
          },
          "name": "stdout",
          "output_type": "stream",
          "text": [
            "57/57 [==============================] - 18s 312ms/step - loss: 1.1597 - accuracy: 0.5601 - precision: 0.7273 - recall: 0.3663 - val_loss: 1.0947 - val_accuracy: 0.6258 - val_precision: 0.8574 - val_recall: 0.3191\n",
            "Epoch 258/800\n",
            "58/57 [==============================] - ETA: 0s - loss: 1.1586 - accuracy: 0.5606 - precision: 0.7257 - recall: 0.3659"
          ]
        },
        {
          "metadata": {
            "tags": null
          },
          "name": "stderr",
          "output_type": "stream",
          "text": [
            "WARNING:tensorflow:Can save best model only with acc available, skipping.\n"
          ]
        },
        {
          "metadata": {
            "tags": null
          },
          "name": "stdout",
          "output_type": "stream",
          "text": [
            "57/57 [==============================] - 18s 313ms/step - loss: 1.1586 - accuracy: 0.5606 - precision: 0.7257 - recall: 0.3659 - val_loss: 1.0932 - val_accuracy: 0.6262 - val_precision: 0.8574 - val_recall: 0.3204\n",
            "Epoch 259/800\n",
            "58/57 [==============================] - ETA: 0s - loss: 1.1515 - accuracy: 0.5658 - precision: 0.7290 - recall: 0.3687"
          ]
        },
        {
          "metadata": {
            "tags": null
          },
          "name": "stderr",
          "output_type": "stream",
          "text": [
            "WARNING:tensorflow:Can save best model only with acc available, skipping.\n"
          ]
        },
        {
          "metadata": {
            "tags": null
          },
          "name": "stdout",
          "output_type": "stream",
          "text": [
            "57/57 [==============================] - 18s 314ms/step - loss: 1.1515 - accuracy: 0.5658 - precision: 0.7290 - recall: 0.3687 - val_loss: 1.0914 - val_accuracy: 0.6269 - val_precision: 0.8583 - val_recall: 0.3224\n",
            "Epoch 260/800\n",
            "58/57 [==============================] - ETA: 0s - loss: 1.1504 - accuracy: 0.5660 - precision: 0.7275 - recall: 0.3720"
          ]
        },
        {
          "metadata": {
            "tags": null
          },
          "name": "stderr",
          "output_type": "stream",
          "text": [
            "WARNING:tensorflow:Can save best model only with acc available, skipping.\n"
          ]
        },
        {
          "metadata": {
            "tags": null
          },
          "name": "stdout",
          "output_type": "stream",
          "text": [
            "57/57 [==============================] - 18s 318ms/step - loss: 1.1504 - accuracy: 0.5660 - precision: 0.7275 - recall: 0.3720 - val_loss: 1.0896 - val_accuracy: 0.6272 - val_precision: 0.8579 - val_recall: 0.3241\n",
            "Epoch 261/800\n",
            "58/57 [==============================] - ETA: 0s - loss: 1.1541 - accuracy: 0.5645 - precision: 0.7305 - recall: 0.3692"
          ]
        },
        {
          "metadata": {
            "tags": null
          },
          "name": "stderr",
          "output_type": "stream",
          "text": [
            "WARNING:tensorflow:Can save best model only with acc available, skipping.\n"
          ]
        },
        {
          "metadata": {
            "tags": null
          },
          "name": "stdout",
          "output_type": "stream",
          "text": [
            "57/57 [==============================] - 18s 317ms/step - loss: 1.1541 - accuracy: 0.5645 - precision: 0.7305 - recall: 0.3692 - val_loss: 1.0882 - val_accuracy: 0.6282 - val_precision: 0.8581 - val_recall: 0.3256\n",
            "Epoch 262/800\n",
            "58/57 [==============================] - ETA: 0s - loss: 1.1526 - accuracy: 0.5655 - precision: 0.7332 - recall: 0.3732"
          ]
        },
        {
          "metadata": {
            "tags": null
          },
          "name": "stderr",
          "output_type": "stream",
          "text": [
            "WARNING:tensorflow:Can save best model only with acc available, skipping.\n"
          ]
        },
        {
          "metadata": {
            "tags": null
          },
          "name": "stdout",
          "output_type": "stream",
          "text": [
            "57/57 [==============================] - 18s 317ms/step - loss: 1.1526 - accuracy: 0.5655 - precision: 0.7332 - recall: 0.3732 - val_loss: 1.0867 - val_accuracy: 0.6285 - val_precision: 0.8599 - val_recall: 0.3270\n",
            "Epoch 263/800\n",
            "58/57 [==============================] - ETA: 0s - loss: 1.1510 - accuracy: 0.5642 - precision: 0.7276 - recall: 0.3713"
          ]
        },
        {
          "metadata": {
            "tags": null
          },
          "name": "stderr",
          "output_type": "stream",
          "text": [
            "WARNING:tensorflow:Can save best model only with acc available, skipping.\n"
          ]
        },
        {
          "metadata": {
            "tags": null
          },
          "name": "stdout",
          "output_type": "stream",
          "text": [
            "57/57 [==============================] - 18s 317ms/step - loss: 1.1510 - accuracy: 0.5642 - precision: 0.7276 - recall: 0.3713 - val_loss: 1.0854 - val_accuracy: 0.6280 - val_precision: 0.8591 - val_recall: 0.3282\n",
            "Epoch 264/800\n",
            "58/57 [==============================] - ETA: 0s - loss: 1.1482 - accuracy: 0.5654 - precision: 0.7319 - recall: 0.3754"
          ]
        },
        {
          "metadata": {
            "tags": null
          },
          "name": "stderr",
          "output_type": "stream",
          "text": [
            "WARNING:tensorflow:Can save best model only with acc available, skipping.\n"
          ]
        },
        {
          "metadata": {
            "tags": null
          },
          "name": "stdout",
          "output_type": "stream",
          "text": [
            "57/57 [==============================] - 19s 323ms/step - loss: 1.1482 - accuracy: 0.5654 - precision: 0.7319 - recall: 0.3754 - val_loss: 1.0838 - val_accuracy: 0.6286 - val_precision: 0.8589 - val_recall: 0.3297\n",
            "Epoch 265/800\n",
            "58/57 [==============================] - ETA: 0s - loss: 1.1468 - accuracy: 0.5626 - precision: 0.7272 - recall: 0.3734"
          ]
        },
        {
          "metadata": {
            "tags": null
          },
          "name": "stderr",
          "output_type": "stream",
          "text": [
            "WARNING:tensorflow:Can save best model only with acc available, skipping.\n"
          ]
        },
        {
          "metadata": {
            "tags": null
          },
          "name": "stdout",
          "output_type": "stream",
          "text": [
            "57/57 [==============================] - 18s 318ms/step - loss: 1.1468 - accuracy: 0.5626 - precision: 0.7272 - recall: 0.3734 - val_loss: 1.0820 - val_accuracy: 0.6299 - val_precision: 0.8595 - val_recall: 0.3313\n",
            "Epoch 266/800\n",
            "58/57 [==============================] - ETA: 0s - loss: 1.1452 - accuracy: 0.5683 - precision: 0.7333 - recall: 0.3802"
          ]
        },
        {
          "metadata": {
            "tags": null
          },
          "name": "stderr",
          "output_type": "stream",
          "text": [
            "WARNING:tensorflow:Can save best model only with acc available, skipping.\n"
          ]
        },
        {
          "metadata": {
            "tags": null
          },
          "name": "stdout",
          "output_type": "stream",
          "text": [
            "57/57 [==============================] - 18s 318ms/step - loss: 1.1452 - accuracy: 0.5683 - precision: 0.7333 - recall: 0.3802 - val_loss: 1.0806 - val_accuracy: 0.6304 - val_precision: 0.8603 - val_recall: 0.3324\n",
            "Epoch 267/800\n",
            "58/57 [==============================] - ETA: 0s - loss: 1.1450 - accuracy: 0.5667 - precision: 0.7292 - recall: 0.3766"
          ]
        },
        {
          "metadata": {
            "tags": null
          },
          "name": "stderr",
          "output_type": "stream",
          "text": [
            "WARNING:tensorflow:Can save best model only with acc available, skipping.\n"
          ]
        },
        {
          "metadata": {
            "tags": null
          },
          "name": "stdout",
          "output_type": "stream",
          "text": [
            "57/57 [==============================] - 18s 314ms/step - loss: 1.1450 - accuracy: 0.5667 - precision: 0.7292 - recall: 0.3766 - val_loss: 1.0793 - val_accuracy: 0.6306 - val_precision: 0.8612 - val_recall: 0.3345\n",
            "Epoch 268/800\n",
            "58/57 [==============================] - ETA: 0s - loss: 1.1427 - accuracy: 0.5681 - precision: 0.7317 - recall: 0.3787"
          ]
        },
        {
          "metadata": {
            "tags": null
          },
          "name": "stderr",
          "output_type": "stream",
          "text": [
            "WARNING:tensorflow:Can save best model only with acc available, skipping.\n"
          ]
        },
        {
          "metadata": {
            "tags": null
          },
          "name": "stdout",
          "output_type": "stream",
          "text": [
            "57/57 [==============================] - 18s 314ms/step - loss: 1.1427 - accuracy: 0.5681 - precision: 0.7317 - recall: 0.3787 - val_loss: 1.0776 - val_accuracy: 0.6309 - val_precision: 0.8616 - val_recall: 0.3356\n",
            "Epoch 269/800\n",
            "58/57 [==============================] - ETA: 0s - loss: 1.1438 - accuracy: 0.5670 - precision: 0.7306 - recall: 0.3788"
          ]
        },
        {
          "metadata": {
            "tags": null
          },
          "name": "stderr",
          "output_type": "stream",
          "text": [
            "WARNING:tensorflow:Can save best model only with acc available, skipping.\n"
          ]
        },
        {
          "metadata": {
            "tags": null
          },
          "name": "stdout",
          "output_type": "stream",
          "text": [
            "57/57 [==============================] - 18s 315ms/step - loss: 1.1438 - accuracy: 0.5670 - precision: 0.7306 - recall: 0.3788 - val_loss: 1.0762 - val_accuracy: 0.6314 - val_precision: 0.8623 - val_recall: 0.3373\n",
            "Epoch 270/800\n",
            "58/57 [==============================] - ETA: 0s - loss: 1.1405 - accuracy: 0.5702 - precision: 0.7320 - recall: 0.3820"
          ]
        },
        {
          "metadata": {
            "tags": null
          },
          "name": "stderr",
          "output_type": "stream",
          "text": [
            "WARNING:tensorflow:Can save best model only with acc available, skipping.\n"
          ]
        },
        {
          "metadata": {
            "tags": null
          },
          "name": "stdout",
          "output_type": "stream",
          "text": [
            "57/57 [==============================] - 18s 316ms/step - loss: 1.1405 - accuracy: 0.5702 - precision: 0.7320 - recall: 0.3820 - val_loss: 1.0748 - val_accuracy: 0.6314 - val_precision: 0.8618 - val_recall: 0.3390\n",
            "Epoch 271/800\n",
            "58/57 [==============================] - ETA: 0s - loss: 1.1389 - accuracy: 0.5718 - precision: 0.7369 - recall: 0.3836"
          ]
        },
        {
          "metadata": {
            "tags": null
          },
          "name": "stderr",
          "output_type": "stream",
          "text": [
            "WARNING:tensorflow:Can save best model only with acc available, skipping.\n"
          ]
        },
        {
          "metadata": {
            "tags": null
          },
          "name": "stdout",
          "output_type": "stream",
          "text": [
            "57/57 [==============================] - 18s 314ms/step - loss: 1.1389 - accuracy: 0.5718 - precision: 0.7369 - recall: 0.3836 - val_loss: 1.0733 - val_accuracy: 0.6320 - val_precision: 0.8630 - val_recall: 0.3404\n",
            "Epoch 272/800\n",
            "58/57 [==============================] - ETA: 0s - loss: 1.1391 - accuracy: 0.5712 - precision: 0.7366 - recall: 0.3857"
          ]
        },
        {
          "metadata": {
            "tags": null
          },
          "name": "stderr",
          "output_type": "stream",
          "text": [
            "WARNING:tensorflow:Can save best model only with acc available, skipping.\n"
          ]
        },
        {
          "metadata": {
            "tags": null
          },
          "name": "stdout",
          "output_type": "stream",
          "text": [
            "57/57 [==============================] - 18s 318ms/step - loss: 1.1391 - accuracy: 0.5712 - precision: 0.7366 - recall: 0.3857 - val_loss: 1.0720 - val_accuracy: 0.6319 - val_precision: 0.8623 - val_recall: 0.3415\n",
            "Epoch 273/800\n",
            "58/57 [==============================] - ETA: 0s - loss: 1.1331 - accuracy: 0.5737 - precision: 0.7375 - recall: 0.3866"
          ]
        },
        {
          "metadata": {
            "tags": null
          },
          "name": "stderr",
          "output_type": "stream",
          "text": [
            "WARNING:tensorflow:Can save best model only with acc available, skipping.\n"
          ]
        },
        {
          "metadata": {
            "tags": null
          },
          "name": "stdout",
          "output_type": "stream",
          "text": [
            "57/57 [==============================] - 18s 317ms/step - loss: 1.1331 - accuracy: 0.5737 - precision: 0.7375 - recall: 0.3866 - val_loss: 1.0705 - val_accuracy: 0.6322 - val_precision: 0.8625 - val_recall: 0.3428\n",
            "Epoch 274/800\n",
            "58/57 [==============================] - ETA: 0s - loss: 1.1367 - accuracy: 0.5713 - precision: 0.7343 - recall: 0.3857"
          ]
        },
        {
          "metadata": {
            "tags": null
          },
          "name": "stderr",
          "output_type": "stream",
          "text": [
            "WARNING:tensorflow:Can save best model only with acc available, skipping.\n"
          ]
        },
        {
          "metadata": {
            "tags": null
          },
          "name": "stdout",
          "output_type": "stream",
          "text": [
            "57/57 [==============================] - 19s 320ms/step - loss: 1.1367 - accuracy: 0.5713 - precision: 0.7343 - recall: 0.3857 - val_loss: 1.0690 - val_accuracy: 0.6326 - val_precision: 0.8624 - val_recall: 0.3441\n",
            "Epoch 275/800\n",
            "58/57 [==============================] - ETA: 0s - loss: 1.1341 - accuracy: 0.5705 - precision: 0.7367 - recall: 0.3881"
          ]
        },
        {
          "metadata": {
            "tags": null
          },
          "name": "stderr",
          "output_type": "stream",
          "text": [
            "WARNING:tensorflow:Can save best model only with acc available, skipping.\n"
          ]
        },
        {
          "metadata": {
            "tags": null
          },
          "name": "stdout",
          "output_type": "stream",
          "text": [
            "57/57 [==============================] - 18s 318ms/step - loss: 1.1341 - accuracy: 0.5705 - precision: 0.7367 - recall: 0.3881 - val_loss: 1.0676 - val_accuracy: 0.6326 - val_precision: 0.8625 - val_recall: 0.3455\n",
            "Epoch 276/800\n",
            "58/57 [==============================] - ETA: 0s - loss: 1.1314 - accuracy: 0.5709 - precision: 0.7384 - recall: 0.3921"
          ]
        },
        {
          "metadata": {
            "tags": null
          },
          "name": "stderr",
          "output_type": "stream",
          "text": [
            "WARNING:tensorflow:Can save best model only with acc available, skipping.\n"
          ]
        },
        {
          "metadata": {
            "tags": null
          },
          "name": "stdout",
          "output_type": "stream",
          "text": [
            "57/57 [==============================] - 18s 315ms/step - loss: 1.1314 - accuracy: 0.5709 - precision: 0.7384 - recall: 0.3921 - val_loss: 1.0662 - val_accuracy: 0.6328 - val_precision: 0.8617 - val_recall: 0.3461\n",
            "Epoch 277/800\n",
            "58/57 [==============================] - ETA: 0s - loss: 1.1316 - accuracy: 0.5700 - precision: 0.7354 - recall: 0.3884"
          ]
        },
        {
          "metadata": {
            "tags": null
          },
          "name": "stderr",
          "output_type": "stream",
          "text": [
            "WARNING:tensorflow:Can save best model only with acc available, skipping.\n"
          ]
        },
        {
          "metadata": {
            "tags": null
          },
          "name": "stdout",
          "output_type": "stream",
          "text": [
            "57/57 [==============================] - 18s 316ms/step - loss: 1.1316 - accuracy: 0.5700 - precision: 0.7354 - recall: 0.3884 - val_loss: 1.0649 - val_accuracy: 0.6330 - val_precision: 0.8631 - val_recall: 0.3477\n",
            "Epoch 278/800\n",
            "58/57 [==============================] - ETA: 0s - loss: 1.1246 - accuracy: 0.5758 - precision: 0.7409 - recall: 0.3919"
          ]
        },
        {
          "metadata": {
            "tags": null
          },
          "name": "stderr",
          "output_type": "stream",
          "text": [
            "WARNING:tensorflow:Can save best model only with acc available, skipping.\n"
          ]
        },
        {
          "metadata": {
            "tags": null
          },
          "name": "stdout",
          "output_type": "stream",
          "text": [
            "57/57 [==============================] - 18s 319ms/step - loss: 1.1246 - accuracy: 0.5758 - precision: 0.7409 - recall: 0.3919 - val_loss: 1.0634 - val_accuracy: 0.6327 - val_precision: 0.8615 - val_recall: 0.3490\n",
            "Epoch 279/800\n",
            "58/57 [==============================] - ETA: 0s - loss: 1.1262 - accuracy: 0.5760 - precision: 0.7375 - recall: 0.3894"
          ]
        },
        {
          "metadata": {
            "tags": null
          },
          "name": "stderr",
          "output_type": "stream",
          "text": [
            "WARNING:tensorflow:Can save best model only with acc available, skipping.\n"
          ]
        },
        {
          "metadata": {
            "tags": null
          },
          "name": "stdout",
          "output_type": "stream",
          "text": [
            "57/57 [==============================] - 18s 318ms/step - loss: 1.1262 - accuracy: 0.5760 - precision: 0.7375 - recall: 0.3894 - val_loss: 1.0621 - val_accuracy: 0.6331 - val_precision: 0.8619 - val_recall: 0.3510\n",
            "Epoch 280/800\n",
            "58/57 [==============================] - ETA: 0s - loss: 1.1234 - accuracy: 0.5788 - precision: 0.7419 - recall: 0.3944"
          ]
        },
        {
          "metadata": {
            "tags": null
          },
          "name": "stderr",
          "output_type": "stream",
          "text": [
            "WARNING:tensorflow:Can save best model only with acc available, skipping.\n"
          ]
        },
        {
          "metadata": {
            "tags": null
          },
          "name": "stdout",
          "output_type": "stream",
          "text": [
            "57/57 [==============================] - 18s 317ms/step - loss: 1.1234 - accuracy: 0.5788 - precision: 0.7419 - recall: 0.3944 - val_loss: 1.0604 - val_accuracy: 0.6341 - val_precision: 0.8626 - val_recall: 0.3528\n",
            "Epoch 281/800\n",
            "58/57 [==============================] - ETA: 0s - loss: 1.1178 - accuracy: 0.5815 - precision: 0.7447 - recall: 0.3958"
          ]
        },
        {
          "metadata": {
            "tags": null
          },
          "name": "stderr",
          "output_type": "stream",
          "text": [
            "WARNING:tensorflow:Can save best model only with acc available, skipping.\n"
          ]
        },
        {
          "metadata": {
            "tags": null
          },
          "name": "stdout",
          "output_type": "stream",
          "text": [
            "57/57 [==============================] - 18s 318ms/step - loss: 1.1178 - accuracy: 0.5815 - precision: 0.7447 - recall: 0.3958 - val_loss: 1.0589 - val_accuracy: 0.6347 - val_precision: 0.8628 - val_recall: 0.3546\n",
            "Epoch 282/800\n",
            "58/57 [==============================] - ETA: 0s - loss: 1.1209 - accuracy: 0.5777 - precision: 0.7440 - recall: 0.3977"
          ]
        },
        {
          "metadata": {
            "tags": null
          },
          "name": "stderr",
          "output_type": "stream",
          "text": [
            "WARNING:tensorflow:Can save best model only with acc available, skipping.\n"
          ]
        },
        {
          "metadata": {
            "tags": null
          },
          "name": "stdout",
          "output_type": "stream",
          "text": [
            "57/57 [==============================] - 19s 322ms/step - loss: 1.1209 - accuracy: 0.5777 - precision: 0.7440 - recall: 0.3977 - val_loss: 1.0576 - val_accuracy: 0.6351 - val_precision: 0.8626 - val_recall: 0.3563\n",
            "Epoch 283/800\n",
            "58/57 [==============================] - ETA: 0s - loss: 1.1249 - accuracy: 0.5780 - precision: 0.7408 - recall: 0.3963"
          ]
        },
        {
          "metadata": {
            "tags": null
          },
          "name": "stderr",
          "output_type": "stream",
          "text": [
            "WARNING:tensorflow:Can save best model only with acc available, skipping.\n"
          ]
        },
        {
          "metadata": {
            "tags": null
          },
          "name": "stdout",
          "output_type": "stream",
          "text": [
            "57/57 [==============================] - 18s 319ms/step - loss: 1.1249 - accuracy: 0.5780 - precision: 0.7408 - recall: 0.3963 - val_loss: 1.0564 - val_accuracy: 0.6359 - val_precision: 0.8630 - val_recall: 0.3579\n",
            "Epoch 284/800\n",
            "58/57 [==============================] - ETA: 0s - loss: 1.1247 - accuracy: 0.5787 - precision: 0.7396 - recall: 0.3946"
          ]
        },
        {
          "metadata": {
            "tags": null
          },
          "name": "stderr",
          "output_type": "stream",
          "text": [
            "WARNING:tensorflow:Can save best model only with acc available, skipping.\n"
          ]
        },
        {
          "metadata": {
            "tags": null
          },
          "name": "stdout",
          "output_type": "stream",
          "text": [
            "57/57 [==============================] - 18s 317ms/step - loss: 1.1247 - accuracy: 0.5787 - precision: 0.7396 - recall: 0.3946 - val_loss: 1.0551 - val_accuracy: 0.6366 - val_precision: 0.8642 - val_recall: 0.3587\n",
            "Epoch 285/800\n",
            "58/57 [==============================] - ETA: 0s - loss: 1.1199 - accuracy: 0.5772 - precision: 0.7375 - recall: 0.3963"
          ]
        },
        {
          "metadata": {
            "tags": null
          },
          "name": "stderr",
          "output_type": "stream",
          "text": [
            "WARNING:tensorflow:Can save best model only with acc available, skipping.\n"
          ]
        },
        {
          "metadata": {
            "tags": null
          },
          "name": "stdout",
          "output_type": "stream",
          "text": [
            "57/57 [==============================] - 19s 329ms/step - loss: 1.1199 - accuracy: 0.5772 - precision: 0.7375 - recall: 0.3963 - val_loss: 1.0539 - val_accuracy: 0.6370 - val_precision: 0.8643 - val_recall: 0.3598\n",
            "Epoch 286/800\n",
            "58/57 [==============================] - ETA: 0s - loss: 1.1161 - accuracy: 0.5806 - precision: 0.7406 - recall: 0.3976"
          ]
        },
        {
          "metadata": {
            "tags": null
          },
          "name": "stderr",
          "output_type": "stream",
          "text": [
            "WARNING:tensorflow:Can save best model only with acc available, skipping.\n"
          ]
        },
        {
          "metadata": {
            "tags": null
          },
          "name": "stdout",
          "output_type": "stream",
          "text": [
            "57/57 [==============================] - 19s 322ms/step - loss: 1.1161 - accuracy: 0.5806 - precision: 0.7406 - recall: 0.3976 - val_loss: 1.0525 - val_accuracy: 0.6384 - val_precision: 0.8655 - val_recall: 0.3617\n",
            "Epoch 287/800\n",
            "58/57 [==============================] - ETA: 0s - loss: 1.1159 - accuracy: 0.5820 - precision: 0.7430 - recall: 0.4016"
          ]
        },
        {
          "metadata": {
            "tags": null
          },
          "name": "stderr",
          "output_type": "stream",
          "text": [
            "WARNING:tensorflow:Can save best model only with acc available, skipping.\n"
          ]
        },
        {
          "metadata": {
            "tags": null
          },
          "name": "stdout",
          "output_type": "stream",
          "text": [
            "57/57 [==============================] - 18s 319ms/step - loss: 1.1159 - accuracy: 0.5820 - precision: 0.7430 - recall: 0.4016 - val_loss: 1.0515 - val_accuracy: 0.6378 - val_precision: 0.8642 - val_recall: 0.3622\n",
            "Epoch 288/800\n",
            "58/57 [==============================] - ETA: 0s - loss: 1.1139 - accuracy: 0.5812 - precision: 0.7426 - recall: 0.4019"
          ]
        },
        {
          "metadata": {
            "tags": null
          },
          "name": "stderr",
          "output_type": "stream",
          "text": [
            "WARNING:tensorflow:Can save best model only with acc available, skipping.\n"
          ]
        },
        {
          "metadata": {
            "tags": null
          },
          "name": "stdout",
          "output_type": "stream",
          "text": [
            "57/57 [==============================] - 18s 315ms/step - loss: 1.1139 - accuracy: 0.5812 - precision: 0.7426 - recall: 0.4019 - val_loss: 1.0500 - val_accuracy: 0.6389 - val_precision: 0.8652 - val_recall: 0.3636\n",
            "Epoch 289/800\n",
            "58/57 [==============================] - ETA: 0s - loss: 1.1123 - accuracy: 0.5813 - precision: 0.7408 - recall: 0.4017"
          ]
        },
        {
          "metadata": {
            "tags": null
          },
          "name": "stderr",
          "output_type": "stream",
          "text": [
            "WARNING:tensorflow:Can save best model only with acc available, skipping.\n"
          ]
        },
        {
          "metadata": {
            "tags": null
          },
          "name": "stdout",
          "output_type": "stream",
          "text": [
            "57/57 [==============================] - 19s 320ms/step - loss: 1.1123 - accuracy: 0.5813 - precision: 0.7408 - recall: 0.4017 - val_loss: 1.0488 - val_accuracy: 0.6389 - val_precision: 0.8655 - val_recall: 0.3645\n",
            "Epoch 290/800\n",
            "58/57 [==============================] - ETA: 0s - loss: 1.1125 - accuracy: 0.5802 - precision: 0.7422 - recall: 0.4011"
          ]
        },
        {
          "metadata": {
            "tags": null
          },
          "name": "stderr",
          "output_type": "stream",
          "text": [
            "WARNING:tensorflow:Can save best model only with acc available, skipping.\n"
          ]
        },
        {
          "metadata": {
            "tags": null
          },
          "name": "stdout",
          "output_type": "stream",
          "text": [
            "57/57 [==============================] - 18s 319ms/step - loss: 1.1125 - accuracy: 0.5802 - precision: 0.7422 - recall: 0.4011 - val_loss: 1.0476 - val_accuracy: 0.6395 - val_precision: 0.8657 - val_recall: 0.3661\n",
            "Epoch 291/800\n",
            "58/57 [==============================] - ETA: 0s - loss: 1.1093 - accuracy: 0.5819 - precision: 0.7449 - recall: 0.4052"
          ]
        },
        {
          "metadata": {
            "tags": null
          },
          "name": "stderr",
          "output_type": "stream",
          "text": [
            "WARNING:tensorflow:Can save best model only with acc available, skipping.\n"
          ]
        },
        {
          "metadata": {
            "tags": null
          },
          "name": "stdout",
          "output_type": "stream",
          "text": [
            "57/57 [==============================] - 18s 311ms/step - loss: 1.1093 - accuracy: 0.5819 - precision: 0.7449 - recall: 0.4052 - val_loss: 1.0462 - val_accuracy: 0.6402 - val_precision: 0.8654 - val_recall: 0.3670\n",
            "Epoch 292/800\n",
            "58/57 [==============================] - ETA: 0s - loss: 1.1094 - accuracy: 0.5857 - precision: 0.7447 - recall: 0.4059"
          ]
        },
        {
          "metadata": {
            "tags": null
          },
          "name": "stderr",
          "output_type": "stream",
          "text": [
            "WARNING:tensorflow:Can save best model only with acc available, skipping.\n"
          ]
        },
        {
          "metadata": {
            "tags": null
          },
          "name": "stdout",
          "output_type": "stream",
          "text": [
            "57/57 [==============================] - 19s 323ms/step - loss: 1.1094 - accuracy: 0.5857 - precision: 0.7447 - recall: 0.4059 - val_loss: 1.0449 - val_accuracy: 0.6408 - val_precision: 0.8658 - val_recall: 0.3677\n",
            "Epoch 293/800\n",
            "58/57 [==============================] - ETA: 0s - loss: 1.1064 - accuracy: 0.5854 - precision: 0.7455 - recall: 0.4074"
          ]
        },
        {
          "metadata": {
            "tags": null
          },
          "name": "stderr",
          "output_type": "stream",
          "text": [
            "WARNING:tensorflow:Can save best model only with acc available, skipping.\n"
          ]
        },
        {
          "metadata": {
            "tags": null
          },
          "name": "stdout",
          "output_type": "stream",
          "text": [
            "57/57 [==============================] - 19s 320ms/step - loss: 1.1064 - accuracy: 0.5854 - precision: 0.7455 - recall: 0.4074 - val_loss: 1.0433 - val_accuracy: 0.6414 - val_precision: 0.8664 - val_recall: 0.3693\n",
            "Epoch 294/800\n",
            "58/57 [==============================] - ETA: 0s - loss: 1.1061 - accuracy: 0.5849 - precision: 0.7454 - recall: 0.4085"
          ]
        },
        {
          "metadata": {
            "tags": null
          },
          "name": "stderr",
          "output_type": "stream",
          "text": [
            "WARNING:tensorflow:Can save best model only with acc available, skipping.\n"
          ]
        },
        {
          "metadata": {
            "tags": null
          },
          "name": "stdout",
          "output_type": "stream",
          "text": [
            "57/57 [==============================] - 18s 316ms/step - loss: 1.1061 - accuracy: 0.5849 - precision: 0.7454 - recall: 0.4085 - val_loss: 1.0423 - val_accuracy: 0.6414 - val_precision: 0.8659 - val_recall: 0.3701\n",
            "Epoch 295/800\n",
            "58/57 [==============================] - ETA: 0s - loss: 1.1045 - accuracy: 0.5844 - precision: 0.7411 - recall: 0.4077"
          ]
        },
        {
          "metadata": {
            "tags": null
          },
          "name": "stderr",
          "output_type": "stream",
          "text": [
            "WARNING:tensorflow:Can save best model only with acc available, skipping.\n"
          ]
        },
        {
          "metadata": {
            "tags": null
          },
          "name": "stdout",
          "output_type": "stream",
          "text": [
            "57/57 [==============================] - 19s 324ms/step - loss: 1.1045 - accuracy: 0.5844 - precision: 0.7411 - recall: 0.4077 - val_loss: 1.0412 - val_accuracy: 0.6411 - val_precision: 0.8663 - val_recall: 0.3707\n",
            "Epoch 296/800\n",
            "58/57 [==============================] - ETA: 0s - loss: 1.1069 - accuracy: 0.5840 - precision: 0.7431 - recall: 0.4067"
          ]
        },
        {
          "metadata": {
            "tags": null
          },
          "name": "stderr",
          "output_type": "stream",
          "text": [
            "WARNING:tensorflow:Can save best model only with acc available, skipping.\n"
          ]
        },
        {
          "metadata": {
            "tags": null
          },
          "name": "stdout",
          "output_type": "stream",
          "text": [
            "57/57 [==============================] - 18s 316ms/step - loss: 1.1069 - accuracy: 0.5840 - precision: 0.7431 - recall: 0.4067 - val_loss: 1.0399 - val_accuracy: 0.6417 - val_precision: 0.8666 - val_recall: 0.3722\n",
            "Epoch 297/800\n",
            "58/57 [==============================] - ETA: 0s - loss: 1.1020 - accuracy: 0.5857 - precision: 0.7427 - recall: 0.4102"
          ]
        },
        {
          "metadata": {
            "tags": null
          },
          "name": "stderr",
          "output_type": "stream",
          "text": [
            "WARNING:tensorflow:Can save best model only with acc available, skipping.\n"
          ]
        },
        {
          "metadata": {
            "tags": null
          },
          "name": "stdout",
          "output_type": "stream",
          "text": [
            "57/57 [==============================] - 20s 345ms/step - loss: 1.1020 - accuracy: 0.5857 - precision: 0.7427 - recall: 0.4102 - val_loss: 1.0388 - val_accuracy: 0.6422 - val_precision: 0.8674 - val_recall: 0.3736\n",
            "Epoch 298/800\n",
            "58/57 [==============================] - ETA: 0s - loss: 1.0996 - accuracy: 0.5879 - precision: 0.7460 - recall: 0.4087"
          ]
        },
        {
          "metadata": {
            "tags": null
          },
          "name": "stderr",
          "output_type": "stream",
          "text": [
            "WARNING:tensorflow:Can save best model only with acc available, skipping.\n"
          ]
        },
        {
          "metadata": {
            "tags": null
          },
          "name": "stdout",
          "output_type": "stream",
          "text": [
            "57/57 [==============================] - 21s 355ms/step - loss: 1.0996 - accuracy: 0.5879 - precision: 0.7460 - recall: 0.4087 - val_loss: 1.0374 - val_accuracy: 0.6426 - val_precision: 0.8673 - val_recall: 0.3752\n",
            "Epoch 299/800\n",
            "58/57 [==============================] - ETA: 0s - loss: 1.0999 - accuracy: 0.5872 - precision: 0.7483 - recall: 0.4108"
          ]
        },
        {
          "metadata": {
            "tags": null
          },
          "name": "stderr",
          "output_type": "stream",
          "text": [
            "WARNING:tensorflow:Can save best model only with acc available, skipping.\n"
          ]
        },
        {
          "metadata": {
            "tags": null
          },
          "name": "stdout",
          "output_type": "stream",
          "text": [
            "57/57 [==============================] - 20s 352ms/step - loss: 1.0999 - accuracy: 0.5872 - precision: 0.7483 - recall: 0.4108 - val_loss: 1.0364 - val_accuracy: 0.6428 - val_precision: 0.8661 - val_recall: 0.3769\n",
            "Epoch 300/800\n",
            "58/57 [==============================] - ETA: 0s - loss: 1.0975 - accuracy: 0.5901 - precision: 0.7501 - recall: 0.4133"
          ]
        },
        {
          "metadata": {
            "tags": null
          },
          "name": "stderr",
          "output_type": "stream",
          "text": [
            "WARNING:tensorflow:Can save best model only with acc available, skipping.\n"
          ]
        },
        {
          "metadata": {
            "tags": null
          },
          "name": "stdout",
          "output_type": "stream",
          "text": [
            "57/57 [==============================] - 20s 350ms/step - loss: 1.0975 - accuracy: 0.5901 - precision: 0.7501 - recall: 0.4133 - val_loss: 1.0351 - val_accuracy: 0.6431 - val_precision: 0.8656 - val_recall: 0.3782\n",
            "Epoch 301/800\n",
            "58/57 [==============================] - ETA: 0s - loss: 1.0977 - accuracy: 0.5866 - precision: 0.7490 - recall: 0.4137"
          ]
        },
        {
          "metadata": {
            "tags": null
          },
          "name": "stderr",
          "output_type": "stream",
          "text": [
            "WARNING:tensorflow:Can save best model only with acc available, skipping.\n"
          ]
        },
        {
          "metadata": {
            "tags": null
          },
          "name": "stdout",
          "output_type": "stream",
          "text": [
            "57/57 [==============================] - 20s 351ms/step - loss: 1.0977 - accuracy: 0.5866 - precision: 0.7490 - recall: 0.4137 - val_loss: 1.0340 - val_accuracy: 0.6435 - val_precision: 0.8655 - val_recall: 0.3787\n",
            "Epoch 302/800\n",
            "58/57 [==============================] - ETA: 0s - loss: 1.0922 - accuracy: 0.5922 - precision: 0.7435 - recall: 0.4140"
          ]
        },
        {
          "metadata": {
            "tags": null
          },
          "name": "stderr",
          "output_type": "stream",
          "text": [
            "WARNING:tensorflow:Can save best model only with acc available, skipping.\n"
          ]
        },
        {
          "metadata": {
            "tags": null
          },
          "name": "stdout",
          "output_type": "stream",
          "text": [
            "57/57 [==============================] - 19s 336ms/step - loss: 1.0922 - accuracy: 0.5922 - precision: 0.7435 - recall: 0.4140 - val_loss: 1.0327 - val_accuracy: 0.6435 - val_precision: 0.8649 - val_recall: 0.3796\n",
            "Epoch 303/800\n",
            "58/57 [==============================] - ETA: 0s - loss: 1.0908 - accuracy: 0.5901 - precision: 0.7539 - recall: 0.4189"
          ]
        },
        {
          "metadata": {
            "tags": null
          },
          "name": "stderr",
          "output_type": "stream",
          "text": [
            "WARNING:tensorflow:Can save best model only with acc available, skipping.\n"
          ]
        },
        {
          "metadata": {
            "tags": null
          },
          "name": "stdout",
          "output_type": "stream",
          "text": [
            "57/57 [==============================] - 19s 336ms/step - loss: 1.0908 - accuracy: 0.5901 - precision: 0.7539 - recall: 0.4189 - val_loss: 1.0316 - val_accuracy: 0.6441 - val_precision: 0.8645 - val_recall: 0.3808\n",
            "Epoch 304/800\n",
            "58/57 [==============================] - ETA: 0s - loss: 1.0970 - accuracy: 0.5882 - precision: 0.7466 - recall: 0.4137"
          ]
        },
        {
          "metadata": {
            "tags": null
          },
          "name": "stderr",
          "output_type": "stream",
          "text": [
            "WARNING:tensorflow:Can save best model only with acc available, skipping.\n"
          ]
        },
        {
          "metadata": {
            "tags": null
          },
          "name": "stdout",
          "output_type": "stream",
          "text": [
            "57/57 [==============================] - 19s 332ms/step - loss: 1.0970 - accuracy: 0.5882 - precision: 0.7466 - recall: 0.4137 - val_loss: 1.0306 - val_accuracy: 0.6443 - val_precision: 0.8648 - val_recall: 0.3821\n",
            "Epoch 305/800\n",
            "58/57 [==============================] - ETA: 0s - loss: 1.0953 - accuracy: 0.5903 - precision: 0.7473 - recall: 0.4166"
          ]
        },
        {
          "metadata": {
            "tags": null
          },
          "name": "stderr",
          "output_type": "stream",
          "text": [
            "WARNING:tensorflow:Can save best model only with acc available, skipping.\n"
          ]
        },
        {
          "metadata": {
            "tags": null
          },
          "name": "stdout",
          "output_type": "stream",
          "text": [
            "57/57 [==============================] - 19s 326ms/step - loss: 1.0953 - accuracy: 0.5903 - precision: 0.7473 - recall: 0.4166 - val_loss: 1.0295 - val_accuracy: 0.6449 - val_precision: 0.8646 - val_recall: 0.3828\n",
            "Epoch 306/800\n",
            "58/57 [==============================] - ETA: 0s - loss: 1.0906 - accuracy: 0.5907 - precision: 0.7493 - recall: 0.4180"
          ]
        },
        {
          "metadata": {
            "tags": null
          },
          "name": "stderr",
          "output_type": "stream",
          "text": [
            "WARNING:tensorflow:Can save best model only with acc available, skipping.\n"
          ]
        },
        {
          "metadata": {
            "tags": null
          },
          "name": "stdout",
          "output_type": "stream",
          "text": [
            "57/57 [==============================] - 19s 325ms/step - loss: 1.0906 - accuracy: 0.5907 - precision: 0.7493 - recall: 0.4180 - val_loss: 1.0285 - val_accuracy: 0.6454 - val_precision: 0.8650 - val_recall: 0.3839\n",
            "Epoch 307/800\n",
            "58/57 [==============================] - ETA: 0s - loss: 1.0918 - accuracy: 0.5908 - precision: 0.7485 - recall: 0.4196"
          ]
        },
        {
          "metadata": {
            "tags": null
          },
          "name": "stderr",
          "output_type": "stream",
          "text": [
            "WARNING:tensorflow:Can save best model only with acc available, skipping.\n"
          ]
        },
        {
          "metadata": {
            "tags": null
          },
          "name": "stdout",
          "output_type": "stream",
          "text": [
            "57/57 [==============================] - 20s 349ms/step - loss: 1.0918 - accuracy: 0.5908 - precision: 0.7485 - recall: 0.4196 - val_loss: 1.0274 - val_accuracy: 0.6460 - val_precision: 0.8657 - val_recall: 0.3849\n",
            "Epoch 308/800\n",
            "58/57 [==============================] - ETA: 0s - loss: 1.0850 - accuracy: 0.5950 - precision: 0.7545 - recall: 0.4225"
          ]
        },
        {
          "metadata": {
            "tags": null
          },
          "name": "stderr",
          "output_type": "stream",
          "text": [
            "WARNING:tensorflow:Can save best model only with acc available, skipping.\n"
          ]
        },
        {
          "metadata": {
            "tags": null
          },
          "name": "stdout",
          "output_type": "stream",
          "text": [
            "57/57 [==============================] - 23s 397ms/step - loss: 1.0850 - accuracy: 0.5950 - precision: 0.7545 - recall: 0.4225 - val_loss: 1.0259 - val_accuracy: 0.6462 - val_precision: 0.8659 - val_recall: 0.3863\n",
            "Epoch 309/800\n",
            "58/57 [==============================] - ETA: 0s - loss: 1.0876 - accuracy: 0.5939 - precision: 0.7531 - recall: 0.4224"
          ]
        },
        {
          "metadata": {
            "tags": null
          },
          "name": "stderr",
          "output_type": "stream",
          "text": [
            "WARNING:tensorflow:Can save best model only with acc available, skipping.\n"
          ]
        },
        {
          "metadata": {
            "tags": null
          },
          "name": "stdout",
          "output_type": "stream",
          "text": [
            "57/57 [==============================] - 23s 394ms/step - loss: 1.0876 - accuracy: 0.5939 - precision: 0.7531 - recall: 0.4224 - val_loss: 1.0248 - val_accuracy: 0.6464 - val_precision: 0.8652 - val_recall: 0.3871\n",
            "Epoch 310/800\n",
            "58/57 [==============================] - ETA: 0s - loss: 1.0909 - accuracy: 0.5918 - precision: 0.7465 - recall: 0.4191"
          ]
        },
        {
          "metadata": {
            "tags": null
          },
          "name": "stderr",
          "output_type": "stream",
          "text": [
            "WARNING:tensorflow:Can save best model only with acc available, skipping.\n"
          ]
        },
        {
          "metadata": {
            "tags": null
          },
          "name": "stdout",
          "output_type": "stream",
          "text": [
            "57/57 [==============================] - 23s 393ms/step - loss: 1.0909 - accuracy: 0.5918 - precision: 0.7465 - recall: 0.4191 - val_loss: 1.0240 - val_accuracy: 0.6465 - val_precision: 0.8657 - val_recall: 0.3882\n",
            "Epoch 311/800\n",
            "58/57 [==============================] - ETA: 0s - loss: 1.0831 - accuracy: 0.5943 - precision: 0.7541 - recall: 0.4224"
          ]
        },
        {
          "metadata": {
            "tags": null
          },
          "name": "stderr",
          "output_type": "stream",
          "text": [
            "WARNING:tensorflow:Can save best model only with acc available, skipping.\n"
          ]
        },
        {
          "metadata": {
            "tags": null
          },
          "name": "stdout",
          "output_type": "stream",
          "text": [
            "57/57 [==============================] - 20s 345ms/step - loss: 1.0831 - accuracy: 0.5943 - precision: 0.7541 - recall: 0.4224 - val_loss: 1.0225 - val_accuracy: 0.6470 - val_precision: 0.8658 - val_recall: 0.3883\n",
            "Epoch 312/800\n",
            "58/57 [==============================] - ETA: 0s - loss: 1.0866 - accuracy: 0.5933 - precision: 0.7487 - recall: 0.4206"
          ]
        },
        {
          "metadata": {
            "tags": null
          },
          "name": "stderr",
          "output_type": "stream",
          "text": [
            "WARNING:tensorflow:Can save best model only with acc available, skipping.\n"
          ]
        },
        {
          "metadata": {
            "tags": null
          },
          "name": "stdout",
          "output_type": "stream",
          "text": [
            "57/57 [==============================] - 21s 357ms/step - loss: 1.0866 - accuracy: 0.5933 - precision: 0.7487 - recall: 0.4206 - val_loss: 1.0215 - val_accuracy: 0.6473 - val_precision: 0.8660 - val_recall: 0.3898\n",
            "Epoch 313/800\n",
            "58/57 [==============================] - ETA: 0s - loss: 1.0837 - accuracy: 0.5928 - precision: 0.7477 - recall: 0.4230"
          ]
        },
        {
          "metadata": {
            "tags": null
          },
          "name": "stderr",
          "output_type": "stream",
          "text": [
            "WARNING:tensorflow:Can save best model only with acc available, skipping.\n"
          ]
        },
        {
          "metadata": {
            "tags": null
          },
          "name": "stdout",
          "output_type": "stream",
          "text": [
            "57/57 [==============================] - 21s 363ms/step - loss: 1.0837 - accuracy: 0.5928 - precision: 0.7477 - recall: 0.4230 - val_loss: 1.0204 - val_accuracy: 0.6479 - val_precision: 0.8663 - val_recall: 0.3915\n",
            "Epoch 314/800\n",
            "58/57 [==============================] - ETA: 0s - loss: 1.0783 - accuracy: 0.5970 - precision: 0.7530 - recall: 0.4250"
          ]
        },
        {
          "metadata": {
            "tags": null
          },
          "name": "stderr",
          "output_type": "stream",
          "text": [
            "WARNING:tensorflow:Can save best model only with acc available, skipping.\n"
          ]
        },
        {
          "metadata": {
            "tags": null
          },
          "name": "stdout",
          "output_type": "stream",
          "text": [
            "57/57 [==============================] - 20s 349ms/step - loss: 1.0783 - accuracy: 0.5970 - precision: 0.7530 - recall: 0.4250 - val_loss: 1.0191 - val_accuracy: 0.6481 - val_precision: 0.8660 - val_recall: 0.3926\n",
            "Epoch 315/800\n",
            "58/57 [==============================] - ETA: 0s - loss: 1.0814 - accuracy: 0.5963 - precision: 0.7501 - recall: 0.4254"
          ]
        },
        {
          "metadata": {
            "tags": null
          },
          "name": "stderr",
          "output_type": "stream",
          "text": [
            "WARNING:tensorflow:Can save best model only with acc available, skipping.\n"
          ]
        },
        {
          "metadata": {
            "tags": null
          },
          "name": "stdout",
          "output_type": "stream",
          "text": [
            "57/57 [==============================] - 20s 351ms/step - loss: 1.0814 - accuracy: 0.5963 - precision: 0.7501 - recall: 0.4254 - val_loss: 1.0178 - val_accuracy: 0.6487 - val_precision: 0.8667 - val_recall: 0.3945\n",
            "Epoch 316/800\n",
            "58/57 [==============================] - ETA: 0s - loss: 1.0789 - accuracy: 0.5967 - precision: 0.7537 - recall: 0.4261"
          ]
        },
        {
          "metadata": {
            "tags": null
          },
          "name": "stderr",
          "output_type": "stream",
          "text": [
            "WARNING:tensorflow:Can save best model only with acc available, skipping.\n"
          ]
        },
        {
          "metadata": {
            "tags": null
          },
          "name": "stdout",
          "output_type": "stream",
          "text": [
            "57/57 [==============================] - 20s 354ms/step - loss: 1.0789 - accuracy: 0.5967 - precision: 0.7537 - recall: 0.4261 - val_loss: 1.0169 - val_accuracy: 0.6486 - val_precision: 0.8669 - val_recall: 0.3954\n",
            "Epoch 317/800\n",
            "58/57 [==============================] - ETA: 0s - loss: 1.0765 - accuracy: 0.5981 - precision: 0.7546 - recall: 0.4291"
          ]
        },
        {
          "metadata": {
            "tags": null
          },
          "name": "stderr",
          "output_type": "stream",
          "text": [
            "WARNING:tensorflow:Can save best model only with acc available, skipping.\n"
          ]
        },
        {
          "metadata": {
            "tags": null
          },
          "name": "stdout",
          "output_type": "stream",
          "text": [
            "57/57 [==============================] - 20s 351ms/step - loss: 1.0765 - accuracy: 0.5981 - precision: 0.7546 - recall: 0.4291 - val_loss: 1.0157 - val_accuracy: 0.6492 - val_precision: 0.8671 - val_recall: 0.3964\n",
            "Epoch 318/800\n",
            "58/57 [==============================] - ETA: 0s - loss: 1.0749 - accuracy: 0.6008 - precision: 0.7540 - recall: 0.4282"
          ]
        },
        {
          "metadata": {
            "tags": null
          },
          "name": "stderr",
          "output_type": "stream",
          "text": [
            "WARNING:tensorflow:Can save best model only with acc available, skipping.\n"
          ]
        },
        {
          "metadata": {
            "tags": null
          },
          "name": "stdout",
          "output_type": "stream",
          "text": [
            "57/57 [==============================] - 20s 343ms/step - loss: 1.0749 - accuracy: 0.6008 - precision: 0.7540 - recall: 0.4282 - val_loss: 1.0146 - val_accuracy: 0.6492 - val_precision: 0.8665 - val_recall: 0.3984\n",
            "Epoch 319/800\n",
            "58/57 [==============================] - ETA: 0s - loss: 1.0762 - accuracy: 0.5973 - precision: 0.7554 - recall: 0.4288"
          ]
        },
        {
          "metadata": {
            "tags": null
          },
          "name": "stderr",
          "output_type": "stream",
          "text": [
            "WARNING:tensorflow:Can save best model only with acc available, skipping.\n"
          ]
        },
        {
          "metadata": {
            "tags": null
          },
          "name": "stdout",
          "output_type": "stream",
          "text": [
            "57/57 [==============================] - 20s 351ms/step - loss: 1.0762 - accuracy: 0.5973 - precision: 0.7554 - recall: 0.4288 - val_loss: 1.0133 - val_accuracy: 0.6494 - val_precision: 0.8666 - val_recall: 0.3992\n",
            "Epoch 320/800\n",
            "58/57 [==============================] - ETA: 0s - loss: 1.0755 - accuracy: 0.5968 - precision: 0.7534 - recall: 0.4308"
          ]
        },
        {
          "metadata": {
            "tags": null
          },
          "name": "stderr",
          "output_type": "stream",
          "text": [
            "WARNING:tensorflow:Can save best model only with acc available, skipping.\n"
          ]
        },
        {
          "metadata": {
            "tags": null
          },
          "name": "stdout",
          "output_type": "stream",
          "text": [
            "57/57 [==============================] - 20s 352ms/step - loss: 1.0755 - accuracy: 0.5968 - precision: 0.7534 - recall: 0.4308 - val_loss: 1.0124 - val_accuracy: 0.6495 - val_precision: 0.8665 - val_recall: 0.4006\n",
            "Epoch 321/800\n",
            "58/57 [==============================] - ETA: 0s - loss: 1.0715 - accuracy: 0.5983 - precision: 0.7576 - recall: 0.4310"
          ]
        },
        {
          "metadata": {
            "tags": null
          },
          "name": "stderr",
          "output_type": "stream",
          "text": [
            "WARNING:tensorflow:Can save best model only with acc available, skipping.\n"
          ]
        },
        {
          "metadata": {
            "tags": null
          },
          "name": "stdout",
          "output_type": "stream",
          "text": [
            "57/57 [==============================] - 21s 358ms/step - loss: 1.0715 - accuracy: 0.5983 - precision: 0.7576 - recall: 0.4310 - val_loss: 1.0111 - val_accuracy: 0.6499 - val_precision: 0.8668 - val_recall: 0.4013\n",
            "Epoch 322/800\n",
            "58/57 [==============================] - ETA: 0s - loss: 1.0698 - accuracy: 0.5996 - precision: 0.7571 - recall: 0.4313"
          ]
        },
        {
          "metadata": {
            "tags": null
          },
          "name": "stderr",
          "output_type": "stream",
          "text": [
            "WARNING:tensorflow:Can save best model only with acc available, skipping.\n"
          ]
        },
        {
          "metadata": {
            "tags": null
          },
          "name": "stdout",
          "output_type": "stream",
          "text": [
            "57/57 [==============================] - 20s 351ms/step - loss: 1.0698 - accuracy: 0.5996 - precision: 0.7571 - recall: 0.4313 - val_loss: 1.0103 - val_accuracy: 0.6499 - val_precision: 0.8663 - val_recall: 0.4023\n",
            "Epoch 323/800\n",
            "58/57 [==============================] - ETA: 0s - loss: 1.0747 - accuracy: 0.5985 - precision: 0.7534 - recall: 0.4314"
          ]
        },
        {
          "metadata": {
            "tags": null
          },
          "name": "stderr",
          "output_type": "stream",
          "text": [
            "WARNING:tensorflow:Can save best model only with acc available, skipping.\n"
          ]
        },
        {
          "metadata": {
            "tags": null
          },
          "name": "stdout",
          "output_type": "stream",
          "text": [
            "57/57 [==============================] - 20s 349ms/step - loss: 1.0747 - accuracy: 0.5985 - precision: 0.7534 - recall: 0.4314 - val_loss: 1.0092 - val_accuracy: 0.6506 - val_precision: 0.8667 - val_recall: 0.4033\n",
            "Epoch 324/800\n",
            "58/57 [==============================] - ETA: 0s - loss: 1.0769 - accuracy: 0.5982 - precision: 0.7525 - recall: 0.4293"
          ]
        },
        {
          "metadata": {
            "tags": null
          },
          "name": "stderr",
          "output_type": "stream",
          "text": [
            "WARNING:tensorflow:Can save best model only with acc available, skipping.\n"
          ]
        },
        {
          "metadata": {
            "tags": null
          },
          "name": "stdout",
          "output_type": "stream",
          "text": [
            "57/57 [==============================] - 20s 357ms/step - loss: 1.0769 - accuracy: 0.5982 - precision: 0.7525 - recall: 0.4293 - val_loss: 1.0080 - val_accuracy: 0.6513 - val_precision: 0.8673 - val_recall: 0.4037\n",
            "Epoch 325/800\n",
            "58/57 [==============================] - ETA: 0s - loss: 1.0667 - accuracy: 0.6029 - precision: 0.7575 - recall: 0.4342"
          ]
        },
        {
          "metadata": {
            "tags": null
          },
          "name": "stderr",
          "output_type": "stream",
          "text": [
            "WARNING:tensorflow:Can save best model only with acc available, skipping.\n"
          ]
        },
        {
          "metadata": {
            "tags": null
          },
          "name": "stdout",
          "output_type": "stream",
          "text": [
            "57/57 [==============================] - 21s 356ms/step - loss: 1.0667 - accuracy: 0.6029 - precision: 0.7575 - recall: 0.4342 - val_loss: 1.0070 - val_accuracy: 0.6515 - val_precision: 0.8678 - val_recall: 0.4061\n",
            "Epoch 326/800\n",
            "58/57 [==============================] - ETA: 0s - loss: 1.0666 - accuracy: 0.6034 - precision: 0.7578 - recall: 0.4347"
          ]
        },
        {
          "metadata": {
            "tags": null
          },
          "name": "stderr",
          "output_type": "stream",
          "text": [
            "WARNING:tensorflow:Can save best model only with acc available, skipping.\n"
          ]
        },
        {
          "metadata": {
            "tags": null
          },
          "name": "stdout",
          "output_type": "stream",
          "text": [
            "57/57 [==============================] - 20s 350ms/step - loss: 1.0666 - accuracy: 0.6034 - precision: 0.7578 - recall: 0.4347 - val_loss: 1.0063 - val_accuracy: 0.6517 - val_precision: 0.8670 - val_recall: 0.4069\n",
            "Epoch 327/800\n",
            "58/57 [==============================] - ETA: 0s - loss: 1.0670 - accuracy: 0.6026 - precision: 0.7595 - recall: 0.4371"
          ]
        },
        {
          "metadata": {
            "tags": null
          },
          "name": "stderr",
          "output_type": "stream",
          "text": [
            "WARNING:tensorflow:Can save best model only with acc available, skipping.\n"
          ]
        },
        {
          "metadata": {
            "tags": null
          },
          "name": "stdout",
          "output_type": "stream",
          "text": [
            "57/57 [==============================] - 20s 348ms/step - loss: 1.0670 - accuracy: 0.6026 - precision: 0.7595 - recall: 0.4371 - val_loss: 1.0051 - val_accuracy: 0.6520 - val_precision: 0.8675 - val_recall: 0.4078\n",
            "Epoch 328/800\n",
            "58/57 [==============================] - ETA: 0s - loss: 1.0635 - accuracy: 0.6003 - precision: 0.7572 - recall: 0.4341"
          ]
        },
        {
          "metadata": {
            "tags": null
          },
          "name": "stderr",
          "output_type": "stream",
          "text": [
            "WARNING:tensorflow:Can save best model only with acc available, skipping.\n"
          ]
        },
        {
          "metadata": {
            "tags": null
          },
          "name": "stdout",
          "output_type": "stream",
          "text": [
            "57/57 [==============================] - 20s 352ms/step - loss: 1.0635 - accuracy: 0.6003 - precision: 0.7572 - recall: 0.4341 - val_loss: 1.0036 - val_accuracy: 0.6530 - val_precision: 0.8679 - val_recall: 0.4095\n",
            "Epoch 329/800\n",
            "58/57 [==============================] - ETA: 0s - loss: 1.0650 - accuracy: 0.6030 - precision: 0.7544 - recall: 0.4370"
          ]
        },
        {
          "metadata": {
            "tags": null
          },
          "name": "stderr",
          "output_type": "stream",
          "text": [
            "WARNING:tensorflow:Can save best model only with acc available, skipping.\n"
          ]
        },
        {
          "metadata": {
            "tags": null
          },
          "name": "stdout",
          "output_type": "stream",
          "text": [
            "57/57 [==============================] - 20s 352ms/step - loss: 1.0650 - accuracy: 0.6030 - precision: 0.7544 - recall: 0.4370 - val_loss: 1.0028 - val_accuracy: 0.6531 - val_precision: 0.8674 - val_recall: 0.4099\n",
            "Epoch 330/800\n",
            "58/57 [==============================] - ETA: 0s - loss: 1.0615 - accuracy: 0.6053 - precision: 0.7573 - recall: 0.4379"
          ]
        },
        {
          "metadata": {
            "tags": null
          },
          "name": "stderr",
          "output_type": "stream",
          "text": [
            "WARNING:tensorflow:Can save best model only with acc available, skipping.\n"
          ]
        },
        {
          "metadata": {
            "tags": null
          },
          "name": "stdout",
          "output_type": "stream",
          "text": [
            "57/57 [==============================] - 20s 348ms/step - loss: 1.0615 - accuracy: 0.6053 - precision: 0.7573 - recall: 0.4379 - val_loss: 1.0018 - val_accuracy: 0.6536 - val_precision: 0.8672 - val_recall: 0.4106\n",
            "Epoch 331/800\n",
            "58/57 [==============================] - ETA: 0s - loss: 1.0593 - accuracy: 0.6037 - precision: 0.7579 - recall: 0.4380"
          ]
        },
        {
          "metadata": {
            "tags": null
          },
          "name": "stderr",
          "output_type": "stream",
          "text": [
            "WARNING:tensorflow:Can save best model only with acc available, skipping.\n"
          ]
        },
        {
          "metadata": {
            "tags": null
          },
          "name": "stdout",
          "output_type": "stream",
          "text": [
            "57/57 [==============================] - 20s 345ms/step - loss: 1.0593 - accuracy: 0.6037 - precision: 0.7579 - recall: 0.4380 - val_loss: 1.0005 - val_accuracy: 0.6542 - val_precision: 0.8674 - val_recall: 0.4118\n",
            "Epoch 332/800\n",
            "58/57 [==============================] - ETA: 0s - loss: 1.0645 - accuracy: 0.6006 - precision: 0.7551 - recall: 0.4359"
          ]
        },
        {
          "metadata": {
            "tags": null
          },
          "name": "stderr",
          "output_type": "stream",
          "text": [
            "WARNING:tensorflow:Can save best model only with acc available, skipping.\n"
          ]
        },
        {
          "metadata": {
            "tags": null
          },
          "name": "stdout",
          "output_type": "stream",
          "text": [
            "57/57 [==============================] - 20s 349ms/step - loss: 1.0645 - accuracy: 0.6006 - precision: 0.7551 - recall: 0.4359 - val_loss: 0.9998 - val_accuracy: 0.6543 - val_precision: 0.8675 - val_recall: 0.4121\n",
            "Epoch 333/800\n",
            "58/57 [==============================] - ETA: 0s - loss: 1.0629 - accuracy: 0.6052 - precision: 0.7579 - recall: 0.4405"
          ]
        },
        {
          "metadata": {
            "tags": null
          },
          "name": "stderr",
          "output_type": "stream",
          "text": [
            "WARNING:tensorflow:Can save best model only with acc available, skipping.\n"
          ]
        },
        {
          "metadata": {
            "tags": null
          },
          "name": "stdout",
          "output_type": "stream",
          "text": [
            "57/57 [==============================] - 20s 344ms/step - loss: 1.0629 - accuracy: 0.6052 - precision: 0.7579 - recall: 0.4405 - val_loss: 0.9991 - val_accuracy: 0.6536 - val_precision: 0.8667 - val_recall: 0.4128\n",
            "Epoch 334/800\n",
            "58/57 [==============================] - ETA: 0s - loss: 1.0605 - accuracy: 0.6044 - precision: 0.7557 - recall: 0.4373"
          ]
        },
        {
          "metadata": {
            "tags": null
          },
          "name": "stderr",
          "output_type": "stream",
          "text": [
            "WARNING:tensorflow:Can save best model only with acc available, skipping.\n"
          ]
        },
        {
          "metadata": {
            "tags": null
          },
          "name": "stdout",
          "output_type": "stream",
          "text": [
            "57/57 [==============================] - 20s 349ms/step - loss: 1.0605 - accuracy: 0.6044 - precision: 0.7557 - recall: 0.4373 - val_loss: 0.9979 - val_accuracy: 0.6543 - val_precision: 0.8664 - val_recall: 0.4136\n",
            "Epoch 335/800\n",
            "58/57 [==============================] - ETA: 0s - loss: 1.0570 - accuracy: 0.6072 - precision: 0.7588 - recall: 0.4412"
          ]
        },
        {
          "metadata": {
            "tags": null
          },
          "name": "stderr",
          "output_type": "stream",
          "text": [
            "WARNING:tensorflow:Can save best model only with acc available, skipping.\n"
          ]
        },
        {
          "metadata": {
            "tags": null
          },
          "name": "stdout",
          "output_type": "stream",
          "text": [
            "57/57 [==============================] - 20s 345ms/step - loss: 1.0570 - accuracy: 0.6072 - precision: 0.7588 - recall: 0.4412 - val_loss: 0.9969 - val_accuracy: 0.6547 - val_precision: 0.8670 - val_recall: 0.4146\n",
            "Epoch 336/800\n",
            "58/57 [==============================] - ETA: 0s - loss: 1.0592 - accuracy: 0.6061 - precision: 0.7551 - recall: 0.4424"
          ]
        },
        {
          "metadata": {
            "tags": null
          },
          "name": "stderr",
          "output_type": "stream",
          "text": [
            "WARNING:tensorflow:Can save best model only with acc available, skipping.\n"
          ]
        },
        {
          "metadata": {
            "tags": null
          },
          "name": "stdout",
          "output_type": "stream",
          "text": [
            "57/57 [==============================] - 20s 351ms/step - loss: 1.0592 - accuracy: 0.6061 - precision: 0.7551 - recall: 0.4424 - val_loss: 0.9961 - val_accuracy: 0.6547 - val_precision: 0.8669 - val_recall: 0.4158\n",
            "Epoch 337/800\n",
            "58/57 [==============================] - ETA: 0s - loss: 1.0580 - accuracy: 0.6041 - precision: 0.7600 - recall: 0.4422"
          ]
        },
        {
          "metadata": {
            "tags": null
          },
          "name": "stderr",
          "output_type": "stream",
          "text": [
            "WARNING:tensorflow:Can save best model only with acc available, skipping.\n"
          ]
        },
        {
          "metadata": {
            "tags": null
          },
          "name": "stdout",
          "output_type": "stream",
          "text": [
            "57/57 [==============================] - 20s 353ms/step - loss: 1.0580 - accuracy: 0.6041 - precision: 0.7600 - recall: 0.4422 - val_loss: 0.9952 - val_accuracy: 0.6549 - val_precision: 0.8665 - val_recall: 0.4161\n",
            "Epoch 338/800\n",
            "58/57 [==============================] - ETA: 0s - loss: 1.0547 - accuracy: 0.6072 - precision: 0.7598 - recall: 0.4469"
          ]
        },
        {
          "metadata": {
            "tags": null
          },
          "name": "stderr",
          "output_type": "stream",
          "text": [
            "WARNING:tensorflow:Can save best model only with acc available, skipping.\n"
          ]
        },
        {
          "metadata": {
            "tags": null
          },
          "name": "stdout",
          "output_type": "stream",
          "text": [
            "57/57 [==============================] - 21s 354ms/step - loss: 1.0547 - accuracy: 0.6072 - precision: 0.7598 - recall: 0.4469 - val_loss: 0.9941 - val_accuracy: 0.6557 - val_precision: 0.8672 - val_recall: 0.4176\n",
            "Epoch 339/800\n",
            "58/57 [==============================] - ETA: 0s - loss: 1.0565 - accuracy: 0.6043 - precision: 0.7577 - recall: 0.4422"
          ]
        },
        {
          "metadata": {
            "tags": null
          },
          "name": "stderr",
          "output_type": "stream",
          "text": [
            "WARNING:tensorflow:Can save best model only with acc available, skipping.\n"
          ]
        },
        {
          "metadata": {
            "tags": null
          },
          "name": "stdout",
          "output_type": "stream",
          "text": [
            "57/57 [==============================] - 21s 359ms/step - loss: 1.0565 - accuracy: 0.6043 - precision: 0.7577 - recall: 0.4422 - val_loss: 0.9928 - val_accuracy: 0.6560 - val_precision: 0.8674 - val_recall: 0.4183\n",
            "Epoch 340/800\n",
            "58/57 [==============================] - ETA: 0s - loss: 1.0576 - accuracy: 0.6061 - precision: 0.7574 - recall: 0.4416"
          ]
        },
        {
          "metadata": {
            "tags": null
          },
          "name": "stderr",
          "output_type": "stream",
          "text": [
            "WARNING:tensorflow:Can save best model only with acc available, skipping.\n"
          ]
        },
        {
          "metadata": {
            "tags": null
          },
          "name": "stdout",
          "output_type": "stream",
          "text": [
            "57/57 [==============================] - 20s 349ms/step - loss: 1.0576 - accuracy: 0.6061 - precision: 0.7574 - recall: 0.4416 - val_loss: 0.9922 - val_accuracy: 0.6562 - val_precision: 0.8672 - val_recall: 0.4190\n",
            "Epoch 341/800\n",
            "58/57 [==============================] - ETA: 0s - loss: 1.0489 - accuracy: 0.6102 - precision: 0.7627 - recall: 0.4479"
          ]
        },
        {
          "metadata": {
            "tags": null
          },
          "name": "stderr",
          "output_type": "stream",
          "text": [
            "WARNING:tensorflow:Can save best model only with acc available, skipping.\n"
          ]
        },
        {
          "metadata": {
            "tags": null
          },
          "name": "stdout",
          "output_type": "stream",
          "text": [
            "57/57 [==============================] - 20s 346ms/step - loss: 1.0489 - accuracy: 0.6102 - precision: 0.7627 - recall: 0.4479 - val_loss: 0.9911 - val_accuracy: 0.6566 - val_precision: 0.8672 - val_recall: 0.4198\n",
            "Epoch 342/800\n",
            "58/57 [==============================] - ETA: 0s - loss: 1.0457 - accuracy: 0.6126 - precision: 0.7658 - recall: 0.4469"
          ]
        },
        {
          "metadata": {
            "tags": null
          },
          "name": "stderr",
          "output_type": "stream",
          "text": [
            "WARNING:tensorflow:Can save best model only with acc available, skipping.\n"
          ]
        },
        {
          "metadata": {
            "tags": null
          },
          "name": "stdout",
          "output_type": "stream",
          "text": [
            "57/57 [==============================] - 20s 341ms/step - loss: 1.0457 - accuracy: 0.6126 - precision: 0.7658 - recall: 0.4469 - val_loss: 0.9900 - val_accuracy: 0.6567 - val_precision: 0.8678 - val_recall: 0.4210\n",
            "Epoch 343/800\n",
            "58/57 [==============================] - ETA: 0s - loss: 1.0506 - accuracy: 0.6101 - precision: 0.7636 - recall: 0.4472"
          ]
        },
        {
          "metadata": {
            "tags": null
          },
          "name": "stderr",
          "output_type": "stream",
          "text": [
            "WARNING:tensorflow:Can save best model only with acc available, skipping.\n"
          ]
        },
        {
          "metadata": {
            "tags": null
          },
          "name": "stdout",
          "output_type": "stream",
          "text": [
            "57/57 [==============================] - 20s 346ms/step - loss: 1.0506 - accuracy: 0.6101 - precision: 0.7636 - recall: 0.4472 - val_loss: 0.9889 - val_accuracy: 0.6567 - val_precision: 0.8672 - val_recall: 0.4210\n",
            "Epoch 344/800\n",
            "58/57 [==============================] - ETA: 0s - loss: 1.0461 - accuracy: 0.6121 - precision: 0.7654 - recall: 0.4505"
          ]
        },
        {
          "metadata": {
            "tags": null
          },
          "name": "stderr",
          "output_type": "stream",
          "text": [
            "WARNING:tensorflow:Can save best model only with acc available, skipping.\n"
          ]
        },
        {
          "metadata": {
            "tags": null
          },
          "name": "stdout",
          "output_type": "stream",
          "text": [
            "57/57 [==============================] - 20s 344ms/step - loss: 1.0461 - accuracy: 0.6121 - precision: 0.7654 - recall: 0.4505 - val_loss: 0.9878 - val_accuracy: 0.6571 - val_precision: 0.8673 - val_recall: 0.4216\n",
            "Epoch 345/800\n",
            "58/57 [==============================] - ETA: 0s - loss: 1.0481 - accuracy: 0.6097 - precision: 0.7616 - recall: 0.4483"
          ]
        },
        {
          "metadata": {
            "tags": null
          },
          "name": "stderr",
          "output_type": "stream",
          "text": [
            "WARNING:tensorflow:Can save best model only with acc available, skipping.\n"
          ]
        },
        {
          "metadata": {
            "tags": null
          },
          "name": "stdout",
          "output_type": "stream",
          "text": [
            "57/57 [==============================] - 20s 345ms/step - loss: 1.0481 - accuracy: 0.6097 - precision: 0.7616 - recall: 0.4483 - val_loss: 0.9867 - val_accuracy: 0.6579 - val_precision: 0.8676 - val_recall: 0.4233\n",
            "Epoch 346/800\n",
            "58/57 [==============================] - ETA: 0s - loss: 1.0491 - accuracy: 0.6097 - precision: 0.7627 - recall: 0.4471"
          ]
        },
        {
          "metadata": {
            "tags": null
          },
          "name": "stderr",
          "output_type": "stream",
          "text": [
            "WARNING:tensorflow:Can save best model only with acc available, skipping.\n"
          ]
        },
        {
          "metadata": {
            "tags": null
          },
          "name": "stdout",
          "output_type": "stream",
          "text": [
            "57/57 [==============================] - 19s 336ms/step - loss: 1.0491 - accuracy: 0.6097 - precision: 0.7627 - recall: 0.4471 - val_loss: 0.9858 - val_accuracy: 0.6582 - val_precision: 0.8680 - val_recall: 0.4239\n",
            "Epoch 347/800\n",
            "58/57 [==============================] - ETA: 0s - loss: 1.0453 - accuracy: 0.6111 - precision: 0.7636 - recall: 0.4490"
          ]
        },
        {
          "metadata": {
            "tags": null
          },
          "name": "stderr",
          "output_type": "stream",
          "text": [
            "WARNING:tensorflow:Can save best model only with acc available, skipping.\n"
          ]
        },
        {
          "metadata": {
            "tags": null
          },
          "name": "stdout",
          "output_type": "stream",
          "text": [
            "57/57 [==============================] - 20s 344ms/step - loss: 1.0453 - accuracy: 0.6111 - precision: 0.7636 - recall: 0.4490 - val_loss: 0.9851 - val_accuracy: 0.6585 - val_precision: 0.8675 - val_recall: 0.4254\n",
            "Epoch 348/800\n",
            "58/57 [==============================] - ETA: 0s - loss: 1.0442 - accuracy: 0.6122 - precision: 0.7611 - recall: 0.4518"
          ]
        },
        {
          "metadata": {
            "tags": null
          },
          "name": "stderr",
          "output_type": "stream",
          "text": [
            "WARNING:tensorflow:Can save best model only with acc available, skipping.\n"
          ]
        },
        {
          "metadata": {
            "tags": null
          },
          "name": "stdout",
          "output_type": "stream",
          "text": [
            "57/57 [==============================] - 20s 345ms/step - loss: 1.0442 - accuracy: 0.6122 - precision: 0.7611 - recall: 0.4518 - val_loss: 0.9842 - val_accuracy: 0.6585 - val_precision: 0.8671 - val_recall: 0.4261\n",
            "Epoch 349/800\n",
            "58/57 [==============================] - ETA: 0s - loss: 1.0461 - accuracy: 0.6122 - precision: 0.7631 - recall: 0.4502"
          ]
        },
        {
          "metadata": {
            "tags": null
          },
          "name": "stderr",
          "output_type": "stream",
          "text": [
            "WARNING:tensorflow:Can save best model only with acc available, skipping.\n"
          ]
        },
        {
          "metadata": {
            "tags": null
          },
          "name": "stdout",
          "output_type": "stream",
          "text": [
            "57/57 [==============================] - 20s 342ms/step - loss: 1.0461 - accuracy: 0.6122 - precision: 0.7631 - recall: 0.4502 - val_loss: 0.9833 - val_accuracy: 0.6590 - val_precision: 0.8674 - val_recall: 0.4268\n",
            "Epoch 350/800\n",
            "58/57 [==============================] - ETA: 0s - loss: 1.0488 - accuracy: 0.6099 - precision: 0.7598 - recall: 0.4459"
          ]
        },
        {
          "metadata": {
            "tags": null
          },
          "name": "stderr",
          "output_type": "stream",
          "text": [
            "WARNING:tensorflow:Can save best model only with acc available, skipping.\n"
          ]
        },
        {
          "metadata": {
            "tags": null
          },
          "name": "stdout",
          "output_type": "stream",
          "text": [
            "57/57 [==============================] - 20s 339ms/step - loss: 1.0488 - accuracy: 0.6099 - precision: 0.7598 - recall: 0.4459 - val_loss: 0.9823 - val_accuracy: 0.6592 - val_precision: 0.8676 - val_recall: 0.4280\n",
            "Epoch 351/800\n",
            "58/57 [==============================] - ETA: 0s - loss: 1.0421 - accuracy: 0.6126 - precision: 0.7603 - recall: 0.4520"
          ]
        },
        {
          "metadata": {
            "tags": null
          },
          "name": "stderr",
          "output_type": "stream",
          "text": [
            "WARNING:tensorflow:Can save best model only with acc available, skipping.\n"
          ]
        },
        {
          "metadata": {
            "tags": null
          },
          "name": "stdout",
          "output_type": "stream",
          "text": [
            "57/57 [==============================] - 20s 343ms/step - loss: 1.0421 - accuracy: 0.6126 - precision: 0.7603 - recall: 0.4520 - val_loss: 0.9817 - val_accuracy: 0.6590 - val_precision: 0.8675 - val_recall: 0.4290\n",
            "Epoch 352/800\n",
            "58/57 [==============================] - ETA: 0s - loss: 1.0428 - accuracy: 0.6127 - precision: 0.7624 - recall: 0.4521"
          ]
        },
        {
          "metadata": {
            "tags": null
          },
          "name": "stderr",
          "output_type": "stream",
          "text": [
            "WARNING:tensorflow:Can save best model only with acc available, skipping.\n"
          ]
        },
        {
          "metadata": {
            "tags": null
          },
          "name": "stdout",
          "output_type": "stream",
          "text": [
            "57/57 [==============================] - 20s 346ms/step - loss: 1.0428 - accuracy: 0.6127 - precision: 0.7624 - recall: 0.4521 - val_loss: 0.9804 - val_accuracy: 0.6599 - val_precision: 0.8675 - val_recall: 0.4288\n",
            "Epoch 353/800\n",
            "58/57 [==============================] - ETA: 0s - loss: 1.0411 - accuracy: 0.6108 - precision: 0.7591 - recall: 0.4495"
          ]
        },
        {
          "metadata": {
            "tags": null
          },
          "name": "stderr",
          "output_type": "stream",
          "text": [
            "WARNING:tensorflow:Can save best model only with acc available, skipping.\n"
          ]
        },
        {
          "metadata": {
            "tags": null
          },
          "name": "stdout",
          "output_type": "stream",
          "text": [
            "57/57 [==============================] - 21s 357ms/step - loss: 1.0411 - accuracy: 0.6108 - precision: 0.7591 - recall: 0.4495 - val_loss: 0.9797 - val_accuracy: 0.6605 - val_precision: 0.8674 - val_recall: 0.4293\n",
            "Epoch 354/800\n",
            "58/57 [==============================] - ETA: 0s - loss: 1.0408 - accuracy: 0.6139 - precision: 0.7626 - recall: 0.4533"
          ]
        },
        {
          "metadata": {
            "tags": null
          },
          "name": "stderr",
          "output_type": "stream",
          "text": [
            "WARNING:tensorflow:Can save best model only with acc available, skipping.\n"
          ]
        },
        {
          "metadata": {
            "tags": null
          },
          "name": "stdout",
          "output_type": "stream",
          "text": [
            "57/57 [==============================] - 20s 348ms/step - loss: 1.0408 - accuracy: 0.6139 - precision: 0.7626 - recall: 0.4533 - val_loss: 0.9788 - val_accuracy: 0.6608 - val_precision: 0.8678 - val_recall: 0.4304\n",
            "Epoch 355/800\n",
            "58/57 [==============================] - ETA: 0s - loss: 1.0396 - accuracy: 0.6112 - precision: 0.7637 - recall: 0.4505"
          ]
        },
        {
          "metadata": {
            "tags": null
          },
          "name": "stderr",
          "output_type": "stream",
          "text": [
            "WARNING:tensorflow:Can save best model only with acc available, skipping.\n"
          ]
        },
        {
          "metadata": {
            "tags": null
          },
          "name": "stdout",
          "output_type": "stream",
          "text": [
            "57/57 [==============================] - 20s 351ms/step - loss: 1.0396 - accuracy: 0.6112 - precision: 0.7637 - recall: 0.4505 - val_loss: 0.9778 - val_accuracy: 0.6616 - val_precision: 0.8679 - val_recall: 0.4315\n",
            "Epoch 356/800\n",
            "58/57 [==============================] - ETA: 0s - loss: 1.0373 - accuracy: 0.6132 - precision: 0.7630 - recall: 0.4545"
          ]
        },
        {
          "metadata": {
            "tags": null
          },
          "name": "stderr",
          "output_type": "stream",
          "text": [
            "WARNING:tensorflow:Can save best model only with acc available, skipping.\n"
          ]
        },
        {
          "metadata": {
            "tags": null
          },
          "name": "stdout",
          "output_type": "stream",
          "text": [
            "57/57 [==============================] - 20s 347ms/step - loss: 1.0373 - accuracy: 0.6132 - precision: 0.7630 - recall: 0.4545 - val_loss: 0.9770 - val_accuracy: 0.6615 - val_precision: 0.8677 - val_recall: 0.4320\n",
            "Epoch 357/800\n",
            "58/57 [==============================] - ETA: 0s - loss: 1.0392 - accuracy: 0.6145 - precision: 0.7610 - recall: 0.4524"
          ]
        },
        {
          "metadata": {
            "tags": null
          },
          "name": "stderr",
          "output_type": "stream",
          "text": [
            "WARNING:tensorflow:Can save best model only with acc available, skipping.\n"
          ]
        },
        {
          "metadata": {
            "tags": null
          },
          "name": "stdout",
          "output_type": "stream",
          "text": [
            "57/57 [==============================] - 21s 359ms/step - loss: 1.0392 - accuracy: 0.6145 - precision: 0.7610 - recall: 0.4524 - val_loss: 0.9762 - val_accuracy: 0.6618 - val_precision: 0.8678 - val_recall: 0.4327\n",
            "Epoch 358/800\n",
            "58/57 [==============================] - ETA: 0s - loss: 1.0351 - accuracy: 0.6133 - precision: 0.7619 - recall: 0.4547"
          ]
        },
        {
          "metadata": {
            "tags": null
          },
          "name": "stderr",
          "output_type": "stream",
          "text": [
            "WARNING:tensorflow:Can save best model only with acc available, skipping.\n"
          ]
        },
        {
          "metadata": {
            "tags": null
          },
          "name": "stdout",
          "output_type": "stream",
          "text": [
            "57/57 [==============================] - 20s 342ms/step - loss: 1.0351 - accuracy: 0.6133 - precision: 0.7619 - recall: 0.4547 - val_loss: 0.9752 - val_accuracy: 0.6615 - val_precision: 0.8675 - val_recall: 0.4332\n",
            "Epoch 359/800\n",
            "58/57 [==============================] - ETA: 0s - loss: 1.0374 - accuracy: 0.6149 - precision: 0.7653 - recall: 0.4575"
          ]
        },
        {
          "metadata": {
            "tags": null
          },
          "name": "stderr",
          "output_type": "stream",
          "text": [
            "WARNING:tensorflow:Can save best model only with acc available, skipping.\n"
          ]
        },
        {
          "metadata": {
            "tags": null
          },
          "name": "stdout",
          "output_type": "stream",
          "text": [
            "57/57 [==============================] - 20s 342ms/step - loss: 1.0374 - accuracy: 0.6149 - precision: 0.7653 - recall: 0.4575 - val_loss: 0.9741 - val_accuracy: 0.6623 - val_precision: 0.8673 - val_recall: 0.4337\n",
            "Epoch 360/800\n",
            "58/57 [==============================] - ETA: 0s - loss: 1.0317 - accuracy: 0.6161 - precision: 0.7650 - recall: 0.4593"
          ]
        },
        {
          "metadata": {
            "tags": null
          },
          "name": "stderr",
          "output_type": "stream",
          "text": [
            "WARNING:tensorflow:Can save best model only with acc available, skipping.\n"
          ]
        },
        {
          "metadata": {
            "tags": null
          },
          "name": "stdout",
          "output_type": "stream",
          "text": [
            "57/57 [==============================] - 21s 371ms/step - loss: 1.0317 - accuracy: 0.6161 - precision: 0.7650 - recall: 0.4593 - val_loss: 0.9731 - val_accuracy: 0.6625 - val_precision: 0.8673 - val_recall: 0.4348\n",
            "Epoch 361/800\n",
            "58/57 [==============================] - ETA: 0s - loss: 1.0342 - accuracy: 0.6147 - precision: 0.7635 - recall: 0.4538"
          ]
        },
        {
          "metadata": {
            "tags": null
          },
          "name": "stderr",
          "output_type": "stream",
          "text": [
            "WARNING:tensorflow:Can save best model only with acc available, skipping.\n"
          ]
        },
        {
          "metadata": {
            "tags": null
          },
          "name": "stdout",
          "output_type": "stream",
          "text": [
            "57/57 [==============================] - 22s 381ms/step - loss: 1.0342 - accuracy: 0.6147 - precision: 0.7635 - recall: 0.4538 - val_loss: 0.9721 - val_accuracy: 0.6627 - val_precision: 0.8669 - val_recall: 0.4360\n",
            "Epoch 362/800\n",
            "58/57 [==============================] - ETA: 0s - loss: 1.0280 - accuracy: 0.6194 - precision: 0.7674 - recall: 0.4579"
          ]
        },
        {
          "metadata": {
            "tags": null
          },
          "name": "stderr",
          "output_type": "stream",
          "text": [
            "WARNING:tensorflow:Can save best model only with acc available, skipping.\n"
          ]
        },
        {
          "metadata": {
            "tags": null
          },
          "name": "stdout",
          "output_type": "stream",
          "text": [
            "57/57 [==============================] - 22s 383ms/step - loss: 1.0280 - accuracy: 0.6194 - precision: 0.7674 - recall: 0.4579 - val_loss: 0.9713 - val_accuracy: 0.6628 - val_precision: 0.8672 - val_recall: 0.4368\n",
            "Epoch 363/800\n",
            "58/57 [==============================] - ETA: 0s - loss: 1.0279 - accuracy: 0.6212 - precision: 0.7664 - recall: 0.4584"
          ]
        },
        {
          "metadata": {
            "tags": null
          },
          "name": "stderr",
          "output_type": "stream",
          "text": [
            "WARNING:tensorflow:Can save best model only with acc available, skipping.\n"
          ]
        },
        {
          "metadata": {
            "tags": null
          },
          "name": "stdout",
          "output_type": "stream",
          "text": [
            "57/57 [==============================] - 23s 396ms/step - loss: 1.0279 - accuracy: 0.6212 - precision: 0.7664 - recall: 0.4584 - val_loss: 0.9705 - val_accuracy: 0.6632 - val_precision: 0.8670 - val_recall: 0.4377\n",
            "Epoch 364/800\n",
            "58/57 [==============================] - ETA: 0s - loss: 1.0290 - accuracy: 0.6176 - precision: 0.7642 - recall: 0.4591"
          ]
        },
        {
          "metadata": {
            "tags": null
          },
          "name": "stderr",
          "output_type": "stream",
          "text": [
            "WARNING:tensorflow:Can save best model only with acc available, skipping.\n"
          ]
        },
        {
          "metadata": {
            "tags": null
          },
          "name": "stdout",
          "output_type": "stream",
          "text": [
            "57/57 [==============================] - 24s 423ms/step - loss: 1.0290 - accuracy: 0.6176 - precision: 0.7642 - recall: 0.4591 - val_loss: 0.9698 - val_accuracy: 0.6629 - val_precision: 0.8669 - val_recall: 0.4386\n",
            "Epoch 365/800\n",
            "58/57 [==============================] - ETA: 0s - loss: 1.0276 - accuracy: 0.6207 - precision: 0.7678 - recall: 0.4601"
          ]
        },
        {
          "metadata": {
            "tags": null
          },
          "name": "stderr",
          "output_type": "stream",
          "text": [
            "WARNING:tensorflow:Can save best model only with acc available, skipping.\n"
          ]
        },
        {
          "metadata": {
            "tags": null
          },
          "name": "stdout",
          "output_type": "stream",
          "text": [
            "57/57 [==============================] - 25s 439ms/step - loss: 1.0276 - accuracy: 0.6207 - precision: 0.7678 - recall: 0.4601 - val_loss: 0.9686 - val_accuracy: 0.6633 - val_precision: 0.8670 - val_recall: 0.4394\n",
            "Epoch 366/800\n",
            "58/57 [==============================] - ETA: 0s - loss: 1.0295 - accuracy: 0.6203 - precision: 0.7665 - recall: 0.4588"
          ]
        },
        {
          "metadata": {
            "tags": null
          },
          "name": "stderr",
          "output_type": "stream",
          "text": [
            "WARNING:tensorflow:Can save best model only with acc available, skipping.\n"
          ]
        },
        {
          "metadata": {
            "tags": null
          },
          "name": "stdout",
          "output_type": "stream",
          "text": [
            "57/57 [==============================] - 21s 360ms/step - loss: 1.0295 - accuracy: 0.6203 - precision: 0.7665 - recall: 0.4588 - val_loss: 0.9678 - val_accuracy: 0.6632 - val_precision: 0.8668 - val_recall: 0.4401\n",
            "Epoch 367/800\n",
            "58/57 [==============================] - ETA: 0s - loss: 1.0280 - accuracy: 0.6188 - precision: 0.7675 - recall: 0.4629"
          ]
        },
        {
          "metadata": {
            "tags": null
          },
          "name": "stderr",
          "output_type": "stream",
          "text": [
            "WARNING:tensorflow:Can save best model only with acc available, skipping.\n"
          ]
        },
        {
          "metadata": {
            "tags": null
          },
          "name": "stdout",
          "output_type": "stream",
          "text": [
            "57/57 [==============================] - 20s 346ms/step - loss: 1.0280 - accuracy: 0.6188 - precision: 0.7675 - recall: 0.4629 - val_loss: 0.9670 - val_accuracy: 0.6634 - val_precision: 0.8668 - val_recall: 0.4407\n",
            "Epoch 368/800\n",
            "58/57 [==============================] - ETA: 0s - loss: 1.0275 - accuracy: 0.6196 - precision: 0.7676 - recall: 0.4632"
          ]
        },
        {
          "metadata": {
            "tags": null
          },
          "name": "stderr",
          "output_type": "stream",
          "text": [
            "WARNING:tensorflow:Can save best model only with acc available, skipping.\n"
          ]
        },
        {
          "metadata": {
            "tags": null
          },
          "name": "stdout",
          "output_type": "stream",
          "text": [
            "57/57 [==============================] - 21s 370ms/step - loss: 1.0275 - accuracy: 0.6196 - precision: 0.7676 - recall: 0.4632 - val_loss: 0.9664 - val_accuracy: 0.6634 - val_precision: 0.8661 - val_recall: 0.4411\n",
            "Epoch 369/800\n",
            "58/57 [==============================] - ETA: 0s - loss: 1.0239 - accuracy: 0.6232 - precision: 0.7689 - recall: 0.4647"
          ]
        },
        {
          "metadata": {
            "tags": null
          },
          "name": "stderr",
          "output_type": "stream",
          "text": [
            "WARNING:tensorflow:Can save best model only with acc available, skipping.\n"
          ]
        },
        {
          "metadata": {
            "tags": null
          },
          "name": "stdout",
          "output_type": "stream",
          "text": [
            "57/57 [==============================] - 22s 380ms/step - loss: 1.0239 - accuracy: 0.6232 - precision: 0.7689 - recall: 0.4647 - val_loss: 0.9654 - val_accuracy: 0.6637 - val_precision: 0.8663 - val_recall: 0.4414\n",
            "Epoch 370/800\n",
            "58/57 [==============================] - ETA: 0s - loss: 1.0219 - accuracy: 0.6222 - precision: 0.7686 - recall: 0.4617"
          ]
        },
        {
          "metadata": {
            "tags": null
          },
          "name": "stderr",
          "output_type": "stream",
          "text": [
            "WARNING:tensorflow:Can save best model only with acc available, skipping.\n"
          ]
        },
        {
          "metadata": {
            "tags": null
          },
          "name": "stdout",
          "output_type": "stream",
          "text": [
            "57/57 [==============================] - 22s 375ms/step - loss: 1.0219 - accuracy: 0.6222 - precision: 0.7686 - recall: 0.4617 - val_loss: 0.9643 - val_accuracy: 0.6644 - val_precision: 0.8661 - val_recall: 0.4425\n",
            "Epoch 371/800\n",
            "58/57 [==============================] - ETA: 0s - loss: 1.0230 - accuracy: 0.6190 - precision: 0.7688 - recall: 0.4644"
          ]
        },
        {
          "metadata": {
            "tags": null
          },
          "name": "stderr",
          "output_type": "stream",
          "text": [
            "WARNING:tensorflow:Can save best model only with acc available, skipping.\n"
          ]
        },
        {
          "metadata": {
            "tags": null
          },
          "name": "stdout",
          "output_type": "stream",
          "text": [
            "57/57 [==============================] - 22s 383ms/step - loss: 1.0230 - accuracy: 0.6190 - precision: 0.7688 - recall: 0.4644 - val_loss: 0.9634 - val_accuracy: 0.6649 - val_precision: 0.8665 - val_recall: 0.4436\n",
            "Epoch 372/800\n",
            "58/57 [==============================] - ETA: 0s - loss: 1.0217 - accuracy: 0.6220 - precision: 0.7684 - recall: 0.4638"
          ]
        },
        {
          "metadata": {
            "tags": null
          },
          "name": "stderr",
          "output_type": "stream",
          "text": [
            "WARNING:tensorflow:Can save best model only with acc available, skipping.\n"
          ]
        },
        {
          "metadata": {
            "tags": null
          },
          "name": "stdout",
          "output_type": "stream",
          "text": [
            "57/57 [==============================] - 21s 364ms/step - loss: 1.0217 - accuracy: 0.6220 - precision: 0.7684 - recall: 0.4638 - val_loss: 0.9624 - val_accuracy: 0.6661 - val_precision: 0.8673 - val_recall: 0.4444\n",
            "Epoch 373/800\n",
            "58/57 [==============================] - ETA: 0s - loss: 1.0162 - accuracy: 0.6236 - precision: 0.7681 - recall: 0.4651"
          ]
        },
        {
          "metadata": {
            "tags": null
          },
          "name": "stderr",
          "output_type": "stream",
          "text": [
            "WARNING:tensorflow:Can save best model only with acc available, skipping.\n"
          ]
        },
        {
          "metadata": {
            "tags": null
          },
          "name": "stdout",
          "output_type": "stream",
          "text": [
            "57/57 [==============================] - 22s 372ms/step - loss: 1.0162 - accuracy: 0.6236 - precision: 0.7681 - recall: 0.4651 - val_loss: 0.9614 - val_accuracy: 0.6661 - val_precision: 0.8667 - val_recall: 0.4455\n",
            "Epoch 374/800\n",
            "58/57 [==============================] - ETA: 0s - loss: 1.0204 - accuracy: 0.6218 - precision: 0.7674 - recall: 0.4659"
          ]
        },
        {
          "metadata": {
            "tags": null
          },
          "name": "stderr",
          "output_type": "stream",
          "text": [
            "WARNING:tensorflow:Can save best model only with acc available, skipping.\n"
          ]
        },
        {
          "metadata": {
            "tags": null
          },
          "name": "stdout",
          "output_type": "stream",
          "text": [
            "57/57 [==============================] - 22s 384ms/step - loss: 1.0204 - accuracy: 0.6218 - precision: 0.7674 - recall: 0.4659 - val_loss: 0.9606 - val_accuracy: 0.6666 - val_precision: 0.8669 - val_recall: 0.4467\n",
            "Epoch 375/800\n",
            "58/57 [==============================] - ETA: 0s - loss: 1.0225 - accuracy: 0.6199 - precision: 0.7641 - recall: 0.4630"
          ]
        },
        {
          "metadata": {
            "tags": null
          },
          "name": "stderr",
          "output_type": "stream",
          "text": [
            "WARNING:tensorflow:Can save best model only with acc available, skipping.\n"
          ]
        },
        {
          "metadata": {
            "tags": null
          },
          "name": "stdout",
          "output_type": "stream",
          "text": [
            "57/57 [==============================] - 22s 381ms/step - loss: 1.0225 - accuracy: 0.6199 - precision: 0.7641 - recall: 0.4630 - val_loss: 0.9598 - val_accuracy: 0.6667 - val_precision: 0.8674 - val_recall: 0.4474\n",
            "Epoch 376/800\n",
            "58/57 [==============================] - ETA: 0s - loss: 1.0131 - accuracy: 0.6257 - precision: 0.7709 - recall: 0.4670"
          ]
        },
        {
          "metadata": {
            "tags": null
          },
          "name": "stderr",
          "output_type": "stream",
          "text": [
            "WARNING:tensorflow:Can save best model only with acc available, skipping.\n"
          ]
        },
        {
          "metadata": {
            "tags": null
          },
          "name": "stdout",
          "output_type": "stream",
          "text": [
            "57/57 [==============================] - 22s 372ms/step - loss: 1.0131 - accuracy: 0.6257 - precision: 0.7709 - recall: 0.4670 - val_loss: 0.9592 - val_accuracy: 0.6663 - val_precision: 0.8661 - val_recall: 0.4488\n",
            "Epoch 377/800\n",
            "58/57 [==============================] - ETA: 0s - loss: 1.0148 - accuracy: 0.6221 - precision: 0.7702 - recall: 0.4680"
          ]
        },
        {
          "metadata": {
            "tags": null
          },
          "name": "stderr",
          "output_type": "stream",
          "text": [
            "WARNING:tensorflow:Can save best model only with acc available, skipping.\n"
          ]
        },
        {
          "metadata": {
            "tags": null
          },
          "name": "stdout",
          "output_type": "stream",
          "text": [
            "57/57 [==============================] - 20s 351ms/step - loss: 1.0148 - accuracy: 0.6221 - precision: 0.7702 - recall: 0.4680 - val_loss: 0.9582 - val_accuracy: 0.6669 - val_precision: 0.8665 - val_recall: 0.4503\n",
            "Epoch 378/800\n",
            "58/57 [==============================] - ETA: 0s - loss: 1.0175 - accuracy: 0.6252 - precision: 0.7704 - recall: 0.4658"
          ]
        },
        {
          "metadata": {
            "tags": null
          },
          "name": "stderr",
          "output_type": "stream",
          "text": [
            "WARNING:tensorflow:Can save best model only with acc available, skipping.\n"
          ]
        },
        {
          "metadata": {
            "tags": null
          },
          "name": "stdout",
          "output_type": "stream",
          "text": [
            "57/57 [==============================] - 21s 368ms/step - loss: 1.0175 - accuracy: 0.6252 - precision: 0.7704 - recall: 0.4658 - val_loss: 0.9574 - val_accuracy: 0.6671 - val_precision: 0.8664 - val_recall: 0.4507\n",
            "Epoch 379/800\n",
            "58/57 [==============================] - ETA: 0s - loss: 1.0144 - accuracy: 0.6234 - precision: 0.7714 - recall: 0.4703"
          ]
        },
        {
          "metadata": {
            "tags": null
          },
          "name": "stderr",
          "output_type": "stream",
          "text": [
            "WARNING:tensorflow:Can save best model only with acc available, skipping.\n"
          ]
        },
        {
          "metadata": {
            "tags": null
          },
          "name": "stdout",
          "output_type": "stream",
          "text": [
            "57/57 [==============================] - 21s 357ms/step - loss: 1.0144 - accuracy: 0.6234 - precision: 0.7714 - recall: 0.4703 - val_loss: 0.9564 - val_accuracy: 0.6676 - val_precision: 0.8671 - val_recall: 0.4516\n",
            "Epoch 380/800\n",
            "58/57 [==============================] - ETA: 0s - loss: 1.0128 - accuracy: 0.6245 - precision: 0.7693 - recall: 0.4696"
          ]
        },
        {
          "metadata": {
            "tags": null
          },
          "name": "stderr",
          "output_type": "stream",
          "text": [
            "WARNING:tensorflow:Can save best model only with acc available, skipping.\n"
          ]
        },
        {
          "metadata": {
            "tags": null
          },
          "name": "stdout",
          "output_type": "stream",
          "text": [
            "57/57 [==============================] - 20s 354ms/step - loss: 1.0128 - accuracy: 0.6245 - precision: 0.7693 - recall: 0.4696 - val_loss: 0.9556 - val_accuracy: 0.6676 - val_precision: 0.8668 - val_recall: 0.4523\n",
            "Epoch 381/800\n",
            "58/57 [==============================] - ETA: 0s - loss: 1.0185 - accuracy: 0.6228 - precision: 0.7667 - recall: 0.4661"
          ]
        },
        {
          "metadata": {
            "tags": null
          },
          "name": "stderr",
          "output_type": "stream",
          "text": [
            "WARNING:tensorflow:Can save best model only with acc available, skipping.\n"
          ]
        },
        {
          "metadata": {
            "tags": null
          },
          "name": "stdout",
          "output_type": "stream",
          "text": [
            "57/57 [==============================] - 20s 351ms/step - loss: 1.0185 - accuracy: 0.6228 - precision: 0.7667 - recall: 0.4661 - val_loss: 0.9550 - val_accuracy: 0.6681 - val_precision: 0.8666 - val_recall: 0.4524\n",
            "Epoch 382/800\n",
            "58/57 [==============================] - ETA: 0s - loss: 1.0107 - accuracy: 0.6266 - precision: 0.7737 - recall: 0.4699"
          ]
        },
        {
          "metadata": {
            "tags": null
          },
          "name": "stderr",
          "output_type": "stream",
          "text": [
            "WARNING:tensorflow:Can save best model only with acc available, skipping.\n"
          ]
        },
        {
          "metadata": {
            "tags": null
          },
          "name": "stdout",
          "output_type": "stream",
          "text": [
            "57/57 [==============================] - 20s 347ms/step - loss: 1.0107 - accuracy: 0.6266 - precision: 0.7737 - recall: 0.4699 - val_loss: 0.9542 - val_accuracy: 0.6680 - val_precision: 0.8667 - val_recall: 0.4537\n",
            "Epoch 383/800\n",
            "58/57 [==============================] - ETA: 0s - loss: 1.0089 - accuracy: 0.6276 - precision: 0.7747 - recall: 0.4726"
          ]
        },
        {
          "metadata": {
            "tags": null
          },
          "name": "stderr",
          "output_type": "stream",
          "text": [
            "WARNING:tensorflow:Can save best model only with acc available, skipping.\n"
          ]
        },
        {
          "metadata": {
            "tags": null
          },
          "name": "stdout",
          "output_type": "stream",
          "text": [
            "57/57 [==============================] - 20s 350ms/step - loss: 1.0089 - accuracy: 0.6276 - precision: 0.7747 - recall: 0.4726 - val_loss: 0.9532 - val_accuracy: 0.6684 - val_precision: 0.8670 - val_recall: 0.4552\n",
            "Epoch 384/800\n",
            "58/57 [==============================] - ETA: 0s - loss: 1.0139 - accuracy: 0.6260 - precision: 0.7704 - recall: 0.4705"
          ]
        },
        {
          "metadata": {
            "tags": null
          },
          "name": "stderr",
          "output_type": "stream",
          "text": [
            "WARNING:tensorflow:Can save best model only with acc available, skipping.\n"
          ]
        },
        {
          "metadata": {
            "tags": null
          },
          "name": "stdout",
          "output_type": "stream",
          "text": [
            "57/57 [==============================] - 20s 348ms/step - loss: 1.0139 - accuracy: 0.6260 - precision: 0.7704 - recall: 0.4705 - val_loss: 0.9526 - val_accuracy: 0.6687 - val_precision: 0.8667 - val_recall: 0.4556\n",
            "Epoch 385/800\n",
            "58/57 [==============================] - ETA: 0s - loss: 1.0111 - accuracy: 0.6268 - precision: 0.7719 - recall: 0.4716"
          ]
        },
        {
          "metadata": {
            "tags": null
          },
          "name": "stderr",
          "output_type": "stream",
          "text": [
            "WARNING:tensorflow:Can save best model only with acc available, skipping.\n"
          ]
        },
        {
          "metadata": {
            "tags": null
          },
          "name": "stdout",
          "output_type": "stream",
          "text": [
            "57/57 [==============================] - 20s 351ms/step - loss: 1.0111 - accuracy: 0.6268 - precision: 0.7719 - recall: 0.4716 - val_loss: 0.9519 - val_accuracy: 0.6691 - val_precision: 0.8662 - val_recall: 0.4562\n",
            "Epoch 386/800\n",
            "58/57 [==============================] - ETA: 0s - loss: 1.0097 - accuracy: 0.6253 - precision: 0.7731 - recall: 0.4727"
          ]
        },
        {
          "metadata": {
            "tags": null
          },
          "name": "stderr",
          "output_type": "stream",
          "text": [
            "WARNING:tensorflow:Can save best model only with acc available, skipping.\n"
          ]
        },
        {
          "metadata": {
            "tags": null
          },
          "name": "stdout",
          "output_type": "stream",
          "text": [
            "57/57 [==============================] - 20s 352ms/step - loss: 1.0097 - accuracy: 0.6253 - precision: 0.7731 - recall: 0.4727 - val_loss: 0.9509 - val_accuracy: 0.6696 - val_precision: 0.8668 - val_recall: 0.4569\n",
            "Epoch 387/800\n",
            "58/57 [==============================] - ETA: 0s - loss: 1.0051 - accuracy: 0.6271 - precision: 0.7701 - recall: 0.4729"
          ]
        },
        {
          "metadata": {
            "tags": null
          },
          "name": "stderr",
          "output_type": "stream",
          "text": [
            "WARNING:tensorflow:Can save best model only with acc available, skipping.\n"
          ]
        },
        {
          "metadata": {
            "tags": null
          },
          "name": "stdout",
          "output_type": "stream",
          "text": [
            "57/57 [==============================] - 19s 332ms/step - loss: 1.0051 - accuracy: 0.6271 - precision: 0.7701 - recall: 0.4729 - val_loss: 0.9500 - val_accuracy: 0.6697 - val_precision: 0.8662 - val_recall: 0.4576\n",
            "Epoch 388/800\n",
            "58/57 [==============================] - ETA: 0s - loss: 1.0079 - accuracy: 0.6266 - precision: 0.7726 - recall: 0.4727"
          ]
        },
        {
          "metadata": {
            "tags": null
          },
          "name": "stderr",
          "output_type": "stream",
          "text": [
            "WARNING:tensorflow:Can save best model only with acc available, skipping.\n"
          ]
        },
        {
          "metadata": {
            "tags": null
          },
          "name": "stdout",
          "output_type": "stream",
          "text": [
            "57/57 [==============================] - 20s 349ms/step - loss: 1.0079 - accuracy: 0.6266 - precision: 0.7726 - recall: 0.4727 - val_loss: 0.9491 - val_accuracy: 0.6699 - val_precision: 0.8660 - val_recall: 0.4581\n",
            "Epoch 389/800\n",
            "58/57 [==============================] - ETA: 0s - loss: 1.0073 - accuracy: 0.6268 - precision: 0.7732 - recall: 0.4725"
          ]
        },
        {
          "metadata": {
            "tags": null
          },
          "name": "stderr",
          "output_type": "stream",
          "text": [
            "WARNING:tensorflow:Can save best model only with acc available, skipping.\n"
          ]
        },
        {
          "metadata": {
            "tags": null
          },
          "name": "stdout",
          "output_type": "stream",
          "text": [
            "57/57 [==============================] - 20s 349ms/step - loss: 1.0073 - accuracy: 0.6268 - precision: 0.7732 - recall: 0.4725 - val_loss: 0.9481 - val_accuracy: 0.6706 - val_precision: 0.8663 - val_recall: 0.4588\n",
            "Epoch 390/800\n",
            "58/57 [==============================] - ETA: 0s - loss: 1.0056 - accuracy: 0.6272 - precision: 0.7719 - recall: 0.4718"
          ]
        },
        {
          "metadata": {
            "tags": null
          },
          "name": "stderr",
          "output_type": "stream",
          "text": [
            "WARNING:tensorflow:Can save best model only with acc available, skipping.\n"
          ]
        },
        {
          "metadata": {
            "tags": null
          },
          "name": "stdout",
          "output_type": "stream",
          "text": [
            "57/57 [==============================] - 20s 345ms/step - loss: 1.0056 - accuracy: 0.6272 - precision: 0.7719 - recall: 0.4718 - val_loss: 0.9471 - val_accuracy: 0.6711 - val_precision: 0.8664 - val_recall: 0.4594\n",
            "Epoch 391/800\n",
            "58/57 [==============================] - ETA: 0s - loss: 1.0036 - accuracy: 0.6283 - precision: 0.7722 - recall: 0.4745"
          ]
        },
        {
          "metadata": {
            "tags": null
          },
          "name": "stderr",
          "output_type": "stream",
          "text": [
            "WARNING:tensorflow:Can save best model only with acc available, skipping.\n"
          ]
        },
        {
          "metadata": {
            "tags": null
          },
          "name": "stdout",
          "output_type": "stream",
          "text": [
            "57/57 [==============================] - 20s 350ms/step - loss: 1.0036 - accuracy: 0.6283 - precision: 0.7722 - recall: 0.4745 - val_loss: 0.9464 - val_accuracy: 0.6712 - val_precision: 0.8661 - val_recall: 0.4601\n",
            "Epoch 392/800\n",
            "58/57 [==============================] - ETA: 0s - loss: 1.0051 - accuracy: 0.6289 - precision: 0.7723 - recall: 0.4727"
          ]
        },
        {
          "metadata": {
            "tags": null
          },
          "name": "stderr",
          "output_type": "stream",
          "text": [
            "WARNING:tensorflow:Can save best model only with acc available, skipping.\n"
          ]
        },
        {
          "metadata": {
            "tags": null
          },
          "name": "stdout",
          "output_type": "stream",
          "text": [
            "57/57 [==============================] - 21s 358ms/step - loss: 1.0051 - accuracy: 0.6289 - precision: 0.7723 - recall: 0.4727 - val_loss: 0.9457 - val_accuracy: 0.6712 - val_precision: 0.8663 - val_recall: 0.4612\n",
            "Epoch 393/800\n",
            "58/57 [==============================] - ETA: 0s - loss: 1.0029 - accuracy: 0.6285 - precision: 0.7729 - recall: 0.4762"
          ]
        },
        {
          "metadata": {
            "tags": null
          },
          "name": "stderr",
          "output_type": "stream",
          "text": [
            "WARNING:tensorflow:Can save best model only with acc available, skipping.\n"
          ]
        },
        {
          "metadata": {
            "tags": null
          },
          "name": "stdout",
          "output_type": "stream",
          "text": [
            "57/57 [==============================] - 20s 352ms/step - loss: 1.0029 - accuracy: 0.6285 - precision: 0.7729 - recall: 0.4762 - val_loss: 0.9449 - val_accuracy: 0.6717 - val_precision: 0.8660 - val_recall: 0.4617\n",
            "Epoch 394/800\n",
            "58/57 [==============================] - ETA: 0s - loss: 1.0018 - accuracy: 0.6297 - precision: 0.7725 - recall: 0.4765"
          ]
        },
        {
          "metadata": {
            "tags": null
          },
          "name": "stderr",
          "output_type": "stream",
          "text": [
            "WARNING:tensorflow:Can save best model only with acc available, skipping.\n"
          ]
        },
        {
          "metadata": {
            "tags": null
          },
          "name": "stdout",
          "output_type": "stream",
          "text": [
            "57/57 [==============================] - 20s 350ms/step - loss: 1.0018 - accuracy: 0.6297 - precision: 0.7725 - recall: 0.4765 - val_loss: 0.9441 - val_accuracy: 0.6718 - val_precision: 0.8660 - val_recall: 0.4617\n",
            "Epoch 395/800\n",
            "58/57 [==============================] - ETA: 0s - loss: 1.0013 - accuracy: 0.6293 - precision: 0.7745 - recall: 0.4767"
          ]
        },
        {
          "metadata": {
            "tags": null
          },
          "name": "stderr",
          "output_type": "stream",
          "text": [
            "WARNING:tensorflow:Can save best model only with acc available, skipping.\n"
          ]
        },
        {
          "metadata": {
            "tags": null
          },
          "name": "stdout",
          "output_type": "stream",
          "text": [
            "57/57 [==============================] - 22s 376ms/step - loss: 1.0013 - accuracy: 0.6293 - precision: 0.7745 - recall: 0.4767 - val_loss: 0.9433 - val_accuracy: 0.6720 - val_precision: 0.8660 - val_recall: 0.4626\n",
            "Epoch 396/800\n",
            "58/57 [==============================] - ETA: 0s - loss: 1.0006 - accuracy: 0.6285 - precision: 0.7706 - recall: 0.4767"
          ]
        },
        {
          "metadata": {
            "tags": null
          },
          "name": "stderr",
          "output_type": "stream",
          "text": [
            "WARNING:tensorflow:Can save best model only with acc available, skipping.\n"
          ]
        },
        {
          "metadata": {
            "tags": null
          },
          "name": "stdout",
          "output_type": "stream",
          "text": [
            "57/57 [==============================] - 22s 379ms/step - loss: 1.0006 - accuracy: 0.6285 - precision: 0.7706 - recall: 0.4767 - val_loss: 0.9427 - val_accuracy: 0.6721 - val_precision: 0.8660 - val_recall: 0.4632\n",
            "Epoch 397/800\n",
            "58/57 [==============================] - ETA: 0s - loss: 0.9948 - accuracy: 0.6336 - precision: 0.7755 - recall: 0.4793"
          ]
        },
        {
          "metadata": {
            "tags": null
          },
          "name": "stderr",
          "output_type": "stream",
          "text": [
            "WARNING:tensorflow:Can save best model only with acc available, skipping.\n"
          ]
        },
        {
          "metadata": {
            "tags": null
          },
          "name": "stdout",
          "output_type": "stream",
          "text": [
            "57/57 [==============================] - 22s 384ms/step - loss: 0.9948 - accuracy: 0.6336 - precision: 0.7755 - recall: 0.4793 - val_loss: 0.9419 - val_accuracy: 0.6719 - val_precision: 0.8662 - val_recall: 0.4638\n",
            "Epoch 398/800\n",
            "58/57 [==============================] - ETA: 0s - loss: 0.9986 - accuracy: 0.6292 - precision: 0.7737 - recall: 0.4783"
          ]
        },
        {
          "metadata": {
            "tags": null
          },
          "name": "stderr",
          "output_type": "stream",
          "text": [
            "WARNING:tensorflow:Can save best model only with acc available, skipping.\n"
          ]
        },
        {
          "metadata": {
            "tags": null
          },
          "name": "stdout",
          "output_type": "stream",
          "text": [
            "57/57 [==============================] - 23s 393ms/step - loss: 0.9986 - accuracy: 0.6292 - precision: 0.7737 - recall: 0.4783 - val_loss: 0.9410 - val_accuracy: 0.6723 - val_precision: 0.8662 - val_recall: 0.4644\n",
            "Epoch 399/800\n",
            "58/57 [==============================] - ETA: 0s - loss: 1.0004 - accuracy: 0.6291 - precision: 0.7731 - recall: 0.4758"
          ]
        },
        {
          "metadata": {
            "tags": null
          },
          "name": "stderr",
          "output_type": "stream",
          "text": [
            "WARNING:tensorflow:Can save best model only with acc available, skipping.\n"
          ]
        },
        {
          "metadata": {
            "tags": null
          },
          "name": "stdout",
          "output_type": "stream",
          "text": [
            "57/57 [==============================] - 22s 387ms/step - loss: 1.0004 - accuracy: 0.6291 - precision: 0.7731 - recall: 0.4758 - val_loss: 0.9402 - val_accuracy: 0.6724 - val_precision: 0.8662 - val_recall: 0.4647\n",
            "Epoch 400/800\n",
            "58/57 [==============================] - ETA: 0s - loss: 0.9978 - accuracy: 0.6316 - precision: 0.7747 - recall: 0.4789"
          ]
        },
        {
          "metadata": {
            "tags": null
          },
          "name": "stderr",
          "output_type": "stream",
          "text": [
            "WARNING:tensorflow:Can save best model only with acc available, skipping.\n"
          ]
        },
        {
          "metadata": {
            "tags": null
          },
          "name": "stdout",
          "output_type": "stream",
          "text": [
            "57/57 [==============================] - 22s 387ms/step - loss: 0.9978 - accuracy: 0.6316 - precision: 0.7747 - recall: 0.4789 - val_loss: 0.9400 - val_accuracy: 0.6726 - val_precision: 0.8658 - val_recall: 0.4652\n",
            "Epoch 401/800\n",
            "58/57 [==============================] - ETA: 0s - loss: 0.9979 - accuracy: 0.6322 - precision: 0.7753 - recall: 0.4800"
          ]
        },
        {
          "metadata": {
            "tags": null
          },
          "name": "stderr",
          "output_type": "stream",
          "text": [
            "WARNING:tensorflow:Can save best model only with acc available, skipping.\n"
          ]
        },
        {
          "metadata": {
            "tags": null
          },
          "name": "stdout",
          "output_type": "stream",
          "text": [
            "57/57 [==============================] - 23s 397ms/step - loss: 0.9979 - accuracy: 0.6322 - precision: 0.7753 - recall: 0.4800 - val_loss: 0.9394 - val_accuracy: 0.6726 - val_precision: 0.8652 - val_recall: 0.4657\n",
            "Epoch 402/800\n",
            "58/57 [==============================] - ETA: 0s - loss: 0.9943 - accuracy: 0.6331 - precision: 0.7751 - recall: 0.4792"
          ]
        },
        {
          "metadata": {
            "tags": null
          },
          "name": "stderr",
          "output_type": "stream",
          "text": [
            "WARNING:tensorflow:Can save best model only with acc available, skipping.\n"
          ]
        },
        {
          "metadata": {
            "tags": null
          },
          "name": "stdout",
          "output_type": "stream",
          "text": [
            "57/57 [==============================] - 23s 389ms/step - loss: 0.9943 - accuracy: 0.6331 - precision: 0.7751 - recall: 0.4792 - val_loss: 0.9386 - val_accuracy: 0.6727 - val_precision: 0.8654 - val_recall: 0.4663\n",
            "Epoch 403/800\n",
            "58/57 [==============================] - ETA: 0s - loss: 0.9977 - accuracy: 0.6334 - precision: 0.7744 - recall: 0.4804"
          ]
        },
        {
          "metadata": {
            "tags": null
          },
          "name": "stderr",
          "output_type": "stream",
          "text": [
            "WARNING:tensorflow:Can save best model only with acc available, skipping.\n"
          ]
        },
        {
          "metadata": {
            "tags": null
          },
          "name": "stdout",
          "output_type": "stream",
          "text": [
            "57/57 [==============================] - 22s 376ms/step - loss: 0.9977 - accuracy: 0.6334 - precision: 0.7744 - recall: 0.4804 - val_loss: 0.9378 - val_accuracy: 0.6728 - val_precision: 0.8653 - val_recall: 0.4670\n",
            "Epoch 404/800\n",
            "58/57 [==============================] - ETA: 0s - loss: 0.9959 - accuracy: 0.6337 - precision: 0.7770 - recall: 0.4837"
          ]
        },
        {
          "metadata": {
            "tags": null
          },
          "name": "stderr",
          "output_type": "stream",
          "text": [
            "WARNING:tensorflow:Can save best model only with acc available, skipping.\n"
          ]
        },
        {
          "metadata": {
            "tags": null
          },
          "name": "stdout",
          "output_type": "stream",
          "text": [
            "57/57 [==============================] - 21s 367ms/step - loss: 0.9959 - accuracy: 0.6337 - precision: 0.7770 - recall: 0.4837 - val_loss: 0.9375 - val_accuracy: 0.6730 - val_precision: 0.8649 - val_recall: 0.4669\n",
            "Epoch 405/800\n",
            "58/57 [==============================] - ETA: 0s - loss: 0.9930 - accuracy: 0.6334 - precision: 0.7762 - recall: 0.4816"
          ]
        },
        {
          "metadata": {
            "tags": null
          },
          "name": "stderr",
          "output_type": "stream",
          "text": [
            "WARNING:tensorflow:Can save best model only with acc available, skipping.\n"
          ]
        },
        {
          "metadata": {
            "tags": null
          },
          "name": "stdout",
          "output_type": "stream",
          "text": [
            "57/57 [==============================] - 22s 375ms/step - loss: 0.9930 - accuracy: 0.6334 - precision: 0.7762 - recall: 0.4816 - val_loss: 0.9361 - val_accuracy: 0.6733 - val_precision: 0.8651 - val_recall: 0.4682\n",
            "Epoch 406/800\n",
            "58/57 [==============================] - ETA: 0s - loss: 0.9905 - accuracy: 0.6361 - precision: 0.7767 - recall: 0.4823"
          ]
        },
        {
          "metadata": {
            "tags": null
          },
          "name": "stderr",
          "output_type": "stream",
          "text": [
            "WARNING:tensorflow:Can save best model only with acc available, skipping.\n"
          ]
        },
        {
          "metadata": {
            "tags": null
          },
          "name": "stdout",
          "output_type": "stream",
          "text": [
            "57/57 [==============================] - 20s 352ms/step - loss: 0.9905 - accuracy: 0.6361 - precision: 0.7767 - recall: 0.4823 - val_loss: 0.9357 - val_accuracy: 0.6734 - val_precision: 0.8648 - val_recall: 0.4684\n",
            "Epoch 407/800\n",
            "58/57 [==============================] - ETA: 0s - loss: 0.9886 - accuracy: 0.6343 - precision: 0.7766 - recall: 0.4826"
          ]
        },
        {
          "metadata": {
            "tags": null
          },
          "name": "stderr",
          "output_type": "stream",
          "text": [
            "WARNING:tensorflow:Can save best model only with acc available, skipping.\n"
          ]
        },
        {
          "metadata": {
            "tags": null
          },
          "name": "stdout",
          "output_type": "stream",
          "text": [
            "57/57 [==============================] - 20s 341ms/step - loss: 0.9886 - accuracy: 0.6343 - precision: 0.7766 - recall: 0.4826 - val_loss: 0.9348 - val_accuracy: 0.6740 - val_precision: 0.8647 - val_recall: 0.4692\n",
            "Epoch 408/800\n",
            "58/57 [==============================] - ETA: 0s - loss: 0.9923 - accuracy: 0.6343 - precision: 0.7752 - recall: 0.4835"
          ]
        },
        {
          "metadata": {
            "tags": null
          },
          "name": "stderr",
          "output_type": "stream",
          "text": [
            "WARNING:tensorflow:Can save best model only with acc available, skipping.\n"
          ]
        },
        {
          "metadata": {
            "tags": null
          },
          "name": "stdout",
          "output_type": "stream",
          "text": [
            "57/57 [==============================] - 20s 344ms/step - loss: 0.9923 - accuracy: 0.6343 - precision: 0.7752 - recall: 0.4835 - val_loss: 0.9338 - val_accuracy: 0.6743 - val_precision: 0.8652 - val_recall: 0.4693\n",
            "Epoch 409/800\n",
            "58/57 [==============================] - ETA: 0s - loss: 0.9895 - accuracy: 0.6356 - precision: 0.7774 - recall: 0.4849"
          ]
        },
        {
          "metadata": {
            "tags": null
          },
          "name": "stderr",
          "output_type": "stream",
          "text": [
            "WARNING:tensorflow:Can save best model only with acc available, skipping.\n"
          ]
        },
        {
          "metadata": {
            "tags": null
          },
          "name": "stdout",
          "output_type": "stream",
          "text": [
            "57/57 [==============================] - 20s 340ms/step - loss: 0.9895 - accuracy: 0.6356 - precision: 0.7774 - recall: 0.4849 - val_loss: 0.9329 - val_accuracy: 0.6744 - val_precision: 0.8651 - val_recall: 0.4701\n",
            "Epoch 410/800\n",
            "58/57 [==============================] - ETA: 0s - loss: 0.9884 - accuracy: 0.6385 - precision: 0.7756 - recall: 0.4843"
          ]
        },
        {
          "metadata": {
            "tags": null
          },
          "name": "stderr",
          "output_type": "stream",
          "text": [
            "WARNING:tensorflow:Can save best model only with acc available, skipping.\n"
          ]
        },
        {
          "metadata": {
            "tags": null
          },
          "name": "stdout",
          "output_type": "stream",
          "text": [
            "57/57 [==============================] - 20s 340ms/step - loss: 0.9884 - accuracy: 0.6385 - precision: 0.7756 - recall: 0.4843 - val_loss: 0.9322 - val_accuracy: 0.6746 - val_precision: 0.8648 - val_recall: 0.4705\n",
            "Epoch 411/800\n",
            "58/57 [==============================] - ETA: 0s - loss: 0.9851 - accuracy: 0.6365 - precision: 0.7793 - recall: 0.4855"
          ]
        },
        {
          "metadata": {
            "tags": null
          },
          "name": "stderr",
          "output_type": "stream",
          "text": [
            "WARNING:tensorflow:Can save best model only with acc available, skipping.\n"
          ]
        },
        {
          "metadata": {
            "tags": null
          },
          "name": "stdout",
          "output_type": "stream",
          "text": [
            "57/57 [==============================] - 20s 341ms/step - loss: 0.9851 - accuracy: 0.6365 - precision: 0.7793 - recall: 0.4855 - val_loss: 0.9312 - val_accuracy: 0.6752 - val_precision: 0.8646 - val_recall: 0.4717\n",
            "Epoch 412/800\n",
            "58/57 [==============================] - ETA: 0s - loss: 0.9865 - accuracy: 0.6365 - precision: 0.7776 - recall: 0.4861"
          ]
        },
        {
          "metadata": {
            "tags": null
          },
          "name": "stderr",
          "output_type": "stream",
          "text": [
            "WARNING:tensorflow:Can save best model only with acc available, skipping.\n"
          ]
        },
        {
          "metadata": {
            "tags": null
          },
          "name": "stdout",
          "output_type": "stream",
          "text": [
            "57/57 [==============================] - 20s 343ms/step - loss: 0.9865 - accuracy: 0.6365 - precision: 0.7776 - recall: 0.4861 - val_loss: 0.9302 - val_accuracy: 0.6755 - val_precision: 0.8651 - val_recall: 0.4721\n",
            "Epoch 413/800\n",
            "58/57 [==============================] - ETA: 0s - loss: 0.9891 - accuracy: 0.6353 - precision: 0.7758 - recall: 0.4843"
          ]
        },
        {
          "metadata": {
            "tags": null
          },
          "name": "stderr",
          "output_type": "stream",
          "text": [
            "WARNING:tensorflow:Can save best model only with acc available, skipping.\n"
          ]
        },
        {
          "metadata": {
            "tags": null
          },
          "name": "stdout",
          "output_type": "stream",
          "text": [
            "57/57 [==============================] - 20s 342ms/step - loss: 0.9891 - accuracy: 0.6353 - precision: 0.7758 - recall: 0.4843 - val_loss: 0.9298 - val_accuracy: 0.6754 - val_precision: 0.8643 - val_recall: 0.4723\n",
            "Epoch 414/800\n",
            "58/57 [==============================] - ETA: 0s - loss: 0.9842 - accuracy: 0.6349 - precision: 0.7765 - recall: 0.4851"
          ]
        },
        {
          "metadata": {
            "tags": null
          },
          "name": "stderr",
          "output_type": "stream",
          "text": [
            "WARNING:tensorflow:Can save best model only with acc available, skipping.\n"
          ]
        },
        {
          "metadata": {
            "tags": null
          },
          "name": "stdout",
          "output_type": "stream",
          "text": [
            "57/57 [==============================] - 20s 341ms/step - loss: 0.9842 - accuracy: 0.6349 - precision: 0.7765 - recall: 0.4851 - val_loss: 0.9289 - val_accuracy: 0.6758 - val_precision: 0.8639 - val_recall: 0.4732\n",
            "Epoch 415/800\n",
            "58/57 [==============================] - ETA: 0s - loss: 0.9856 - accuracy: 0.6344 - precision: 0.7730 - recall: 0.4852"
          ]
        },
        {
          "metadata": {
            "tags": null
          },
          "name": "stderr",
          "output_type": "stream",
          "text": [
            "WARNING:tensorflow:Can save best model only with acc available, skipping.\n"
          ]
        },
        {
          "metadata": {
            "tags": null
          },
          "name": "stdout",
          "output_type": "stream",
          "text": [
            "57/57 [==============================] - 20s 339ms/step - loss: 0.9856 - accuracy: 0.6344 - precision: 0.7730 - recall: 0.4852 - val_loss: 0.9283 - val_accuracy: 0.6758 - val_precision: 0.8637 - val_recall: 0.4735\n",
            "Epoch 416/800\n",
            "58/57 [==============================] - ETA: 0s - loss: 0.9821 - accuracy: 0.6364 - precision: 0.7759 - recall: 0.4851"
          ]
        },
        {
          "metadata": {
            "tags": null
          },
          "name": "stderr",
          "output_type": "stream",
          "text": [
            "WARNING:tensorflow:Can save best model only with acc available, skipping.\n"
          ]
        },
        {
          "metadata": {
            "tags": null
          },
          "name": "stdout",
          "output_type": "stream",
          "text": [
            "57/57 [==============================] - 20s 339ms/step - loss: 0.9821 - accuracy: 0.6364 - precision: 0.7759 - recall: 0.4851 - val_loss: 0.9277 - val_accuracy: 0.6762 - val_precision: 0.8636 - val_recall: 0.4736\n",
            "Epoch 417/800\n",
            "58/57 [==============================] - ETA: 0s - loss: 0.9883 - accuracy: 0.6353 - precision: 0.7734 - recall: 0.4864"
          ]
        },
        {
          "metadata": {
            "tags": null
          },
          "name": "stderr",
          "output_type": "stream",
          "text": [
            "WARNING:tensorflow:Can save best model only with acc available, skipping.\n"
          ]
        },
        {
          "metadata": {
            "tags": null
          },
          "name": "stdout",
          "output_type": "stream",
          "text": [
            "57/57 [==============================] - 20s 341ms/step - loss: 0.9883 - accuracy: 0.6353 - precision: 0.7734 - recall: 0.4864 - val_loss: 0.9271 - val_accuracy: 0.6762 - val_precision: 0.8631 - val_recall: 0.4736\n",
            "Epoch 418/800\n",
            "58/57 [==============================] - ETA: 0s - loss: 0.9833 - accuracy: 0.6377 - precision: 0.7798 - recall: 0.4869"
          ]
        },
        {
          "metadata": {
            "tags": null
          },
          "name": "stderr",
          "output_type": "stream",
          "text": [
            "WARNING:tensorflow:Can save best model only with acc available, skipping.\n"
          ]
        },
        {
          "metadata": {
            "tags": null
          },
          "name": "stdout",
          "output_type": "stream",
          "text": [
            "57/57 [==============================] - 20s 344ms/step - loss: 0.9833 - accuracy: 0.6377 - precision: 0.7798 - recall: 0.4869 - val_loss: 0.9264 - val_accuracy: 0.6764 - val_precision: 0.8631 - val_recall: 0.4742\n",
            "Epoch 419/800\n",
            "58/57 [==============================] - ETA: 0s - loss: 0.9821 - accuracy: 0.6394 - precision: 0.7764 - recall: 0.4878"
          ]
        },
        {
          "metadata": {
            "tags": null
          },
          "name": "stderr",
          "output_type": "stream",
          "text": [
            "WARNING:tensorflow:Can save best model only with acc available, skipping.\n"
          ]
        },
        {
          "metadata": {
            "tags": null
          },
          "name": "stdout",
          "output_type": "stream",
          "text": [
            "57/57 [==============================] - 19s 335ms/step - loss: 0.9821 - accuracy: 0.6394 - precision: 0.7764 - recall: 0.4878 - val_loss: 0.9255 - val_accuracy: 0.6768 - val_precision: 0.8637 - val_recall: 0.4746\n",
            "Epoch 420/800\n",
            "58/57 [==============================] - ETA: 0s - loss: 0.9811 - accuracy: 0.6370 - precision: 0.7752 - recall: 0.4896"
          ]
        },
        {
          "metadata": {
            "tags": null
          },
          "name": "stderr",
          "output_type": "stream",
          "text": [
            "WARNING:tensorflow:Can save best model only with acc available, skipping.\n"
          ]
        },
        {
          "metadata": {
            "tags": null
          },
          "name": "stdout",
          "output_type": "stream",
          "text": [
            "57/57 [==============================] - 20s 338ms/step - loss: 0.9811 - accuracy: 0.6370 - precision: 0.7752 - recall: 0.4896 - val_loss: 0.9250 - val_accuracy: 0.6767 - val_precision: 0.8635 - val_recall: 0.4754\n",
            "Epoch 421/800\n",
            "58/57 [==============================] - ETA: 0s - loss: 0.9818 - accuracy: 0.6385 - precision: 0.7755 - recall: 0.4892"
          ]
        },
        {
          "metadata": {
            "tags": null
          },
          "name": "stderr",
          "output_type": "stream",
          "text": [
            "WARNING:tensorflow:Can save best model only with acc available, skipping.\n"
          ]
        },
        {
          "metadata": {
            "tags": null
          },
          "name": "stdout",
          "output_type": "stream",
          "text": [
            "57/57 [==============================] - 20s 340ms/step - loss: 0.9818 - accuracy: 0.6385 - precision: 0.7755 - recall: 0.4892 - val_loss: 0.9246 - val_accuracy: 0.6762 - val_precision: 0.8634 - val_recall: 0.4757\n",
            "Epoch 422/800\n",
            "58/57 [==============================] - ETA: 0s - loss: 0.9810 - accuracy: 0.6388 - precision: 0.7774 - recall: 0.4906"
          ]
        },
        {
          "metadata": {
            "tags": null
          },
          "name": "stderr",
          "output_type": "stream",
          "text": [
            "WARNING:tensorflow:Can save best model only with acc available, skipping.\n"
          ]
        },
        {
          "metadata": {
            "tags": null
          },
          "name": "stdout",
          "output_type": "stream",
          "text": [
            "57/57 [==============================] - 19s 336ms/step - loss: 0.9810 - accuracy: 0.6388 - precision: 0.7774 - recall: 0.4906 - val_loss: 0.9237 - val_accuracy: 0.6768 - val_precision: 0.8642 - val_recall: 0.4757\n",
            "Epoch 423/800\n",
            "58/57 [==============================] - ETA: 0s - loss: 0.9826 - accuracy: 0.6374 - precision: 0.7780 - recall: 0.4885"
          ]
        },
        {
          "metadata": {
            "tags": null
          },
          "name": "stderr",
          "output_type": "stream",
          "text": [
            "WARNING:tensorflow:Can save best model only with acc available, skipping.\n"
          ]
        },
        {
          "metadata": {
            "tags": null
          },
          "name": "stdout",
          "output_type": "stream",
          "text": [
            "57/57 [==============================] - 20s 340ms/step - loss: 0.9826 - accuracy: 0.6374 - precision: 0.7780 - recall: 0.4885 - val_loss: 0.9231 - val_accuracy: 0.6768 - val_precision: 0.8639 - val_recall: 0.4762\n",
            "Epoch 424/800\n",
            "58/57 [==============================] - ETA: 0s - loss: 0.9770 - accuracy: 0.6405 - precision: 0.7772 - recall: 0.4897"
          ]
        },
        {
          "metadata": {
            "tags": null
          },
          "name": "stderr",
          "output_type": "stream",
          "text": [
            "WARNING:tensorflow:Can save best model only with acc available, skipping.\n"
          ]
        },
        {
          "metadata": {
            "tags": null
          },
          "name": "stdout",
          "output_type": "stream",
          "text": [
            "57/57 [==============================] - 19s 334ms/step - loss: 0.9770 - accuracy: 0.6405 - precision: 0.7772 - recall: 0.4897 - val_loss: 0.9225 - val_accuracy: 0.6772 - val_precision: 0.8635 - val_recall: 0.4769\n",
            "Epoch 425/800\n",
            "58/57 [==============================] - ETA: 0s - loss: 0.9800 - accuracy: 0.6391 - precision: 0.7771 - recall: 0.4893"
          ]
        },
        {
          "metadata": {
            "tags": null
          },
          "name": "stderr",
          "output_type": "stream",
          "text": [
            "WARNING:tensorflow:Can save best model only with acc available, skipping.\n"
          ]
        },
        {
          "metadata": {
            "tags": null
          },
          "name": "stdout",
          "output_type": "stream",
          "text": [
            "57/57 [==============================] - 20s 338ms/step - loss: 0.9800 - accuracy: 0.6391 - precision: 0.7771 - recall: 0.4893 - val_loss: 0.9217 - val_accuracy: 0.6772 - val_precision: 0.8636 - val_recall: 0.4774\n",
            "Epoch 426/800\n",
            "58/57 [==============================] - ETA: 0s - loss: 0.9760 - accuracy: 0.6384 - precision: 0.7787 - recall: 0.4895"
          ]
        },
        {
          "metadata": {
            "tags": null
          },
          "name": "stderr",
          "output_type": "stream",
          "text": [
            "WARNING:tensorflow:Can save best model only with acc available, skipping.\n"
          ]
        },
        {
          "metadata": {
            "tags": null
          },
          "name": "stdout",
          "output_type": "stream",
          "text": [
            "57/57 [==============================] - 20s 345ms/step - loss: 0.9760 - accuracy: 0.6384 - precision: 0.7787 - recall: 0.4895 - val_loss: 0.9209 - val_accuracy: 0.6776 - val_precision: 0.8637 - val_recall: 0.4777\n",
            "Epoch 427/800\n",
            "58/57 [==============================] - ETA: 0s - loss: 0.9774 - accuracy: 0.6369 - precision: 0.7775 - recall: 0.4899"
          ]
        },
        {
          "metadata": {
            "tags": null
          },
          "name": "stderr",
          "output_type": "stream",
          "text": [
            "WARNING:tensorflow:Can save best model only with acc available, skipping.\n"
          ]
        },
        {
          "metadata": {
            "tags": null
          },
          "name": "stdout",
          "output_type": "stream",
          "text": [
            "57/57 [==============================] - 20s 343ms/step - loss: 0.9774 - accuracy: 0.6369 - precision: 0.7775 - recall: 0.4899 - val_loss: 0.9203 - val_accuracy: 0.6778 - val_precision: 0.8636 - val_recall: 0.4785\n",
            "Epoch 428/800\n",
            "58/57 [==============================] - ETA: 0s - loss: 0.9760 - accuracy: 0.6373 - precision: 0.7787 - recall: 0.4922"
          ]
        },
        {
          "metadata": {
            "tags": null
          },
          "name": "stderr",
          "output_type": "stream",
          "text": [
            "WARNING:tensorflow:Can save best model only with acc available, skipping.\n"
          ]
        },
        {
          "metadata": {
            "tags": null
          },
          "name": "stdout",
          "output_type": "stream",
          "text": [
            "57/57 [==============================] - 20s 340ms/step - loss: 0.9760 - accuracy: 0.6373 - precision: 0.7787 - recall: 0.4922 - val_loss: 0.9194 - val_accuracy: 0.6781 - val_precision: 0.8639 - val_recall: 0.4792\n",
            "Epoch 429/800\n",
            "58/57 [==============================] - ETA: 0s - loss: 0.9747 - accuracy: 0.6417 - precision: 0.7757 - recall: 0.4913"
          ]
        },
        {
          "metadata": {
            "tags": null
          },
          "name": "stderr",
          "output_type": "stream",
          "text": [
            "WARNING:tensorflow:Can save best model only with acc available, skipping.\n"
          ]
        },
        {
          "metadata": {
            "tags": null
          },
          "name": "stdout",
          "output_type": "stream",
          "text": [
            "57/57 [==============================] - 20s 343ms/step - loss: 0.9747 - accuracy: 0.6417 - precision: 0.7757 - recall: 0.4913 - val_loss: 0.9184 - val_accuracy: 0.6787 - val_precision: 0.8641 - val_recall: 0.4798\n",
            "Epoch 430/800\n",
            "58/57 [==============================] - ETA: 0s - loss: 0.9741 - accuracy: 0.6424 - precision: 0.7812 - recall: 0.4941"
          ]
        },
        {
          "metadata": {
            "tags": null
          },
          "name": "stderr",
          "output_type": "stream",
          "text": [
            "WARNING:tensorflow:Can save best model only with acc available, skipping.\n"
          ]
        },
        {
          "metadata": {
            "tags": null
          },
          "name": "stdout",
          "output_type": "stream",
          "text": [
            "57/57 [==============================] - 20s 341ms/step - loss: 0.9741 - accuracy: 0.6424 - precision: 0.7812 - recall: 0.4941 - val_loss: 0.9178 - val_accuracy: 0.6790 - val_precision: 0.8641 - val_recall: 0.4803\n",
            "Epoch 431/800\n",
            "58/57 [==============================] - ETA: 0s - loss: 0.9691 - accuracy: 0.6461 - precision: 0.7828 - recall: 0.4965"
          ]
        },
        {
          "metadata": {
            "tags": null
          },
          "name": "stderr",
          "output_type": "stream",
          "text": [
            "WARNING:tensorflow:Can save best model only with acc available, skipping.\n"
          ]
        },
        {
          "metadata": {
            "tags": null
          },
          "name": "stdout",
          "output_type": "stream",
          "text": [
            "57/57 [==============================] - 19s 335ms/step - loss: 0.9691 - accuracy: 0.6461 - precision: 0.7828 - recall: 0.4965 - val_loss: 0.9173 - val_accuracy: 0.6789 - val_precision: 0.8636 - val_recall: 0.4809\n",
            "Epoch 432/800\n",
            "58/57 [==============================] - ETA: 0s - loss: 0.9686 - accuracy: 0.6447 - precision: 0.7818 - recall: 0.4955"
          ]
        },
        {
          "metadata": {
            "tags": null
          },
          "name": "stderr",
          "output_type": "stream",
          "text": [
            "WARNING:tensorflow:Can save best model only with acc available, skipping.\n"
          ]
        },
        {
          "metadata": {
            "tags": null
          },
          "name": "stdout",
          "output_type": "stream",
          "text": [
            "57/57 [==============================] - 20s 340ms/step - loss: 0.9686 - accuracy: 0.6447 - precision: 0.7818 - recall: 0.4955 - val_loss: 0.9171 - val_accuracy: 0.6782 - val_precision: 0.8621 - val_recall: 0.4810\n",
            "Epoch 433/800\n",
            "58/57 [==============================] - ETA: 0s - loss: 0.9744 - accuracy: 0.6398 - precision: 0.7769 - recall: 0.4904"
          ]
        },
        {
          "metadata": {
            "tags": null
          },
          "name": "stderr",
          "output_type": "stream",
          "text": [
            "WARNING:tensorflow:Can save best model only with acc available, skipping.\n"
          ]
        },
        {
          "metadata": {
            "tags": null
          },
          "name": "stdout",
          "output_type": "stream",
          "text": [
            "57/57 [==============================] - 20s 345ms/step - loss: 0.9744 - accuracy: 0.6398 - precision: 0.7769 - recall: 0.4904 - val_loss: 0.9160 - val_accuracy: 0.6792 - val_precision: 0.8636 - val_recall: 0.4821\n",
            "Epoch 434/800\n",
            "58/57 [==============================] - ETA: 0s - loss: 0.9711 - accuracy: 0.6440 - precision: 0.7816 - recall: 0.4950"
          ]
        },
        {
          "metadata": {
            "tags": null
          },
          "name": "stderr",
          "output_type": "stream",
          "text": [
            "WARNING:tensorflow:Can save best model only with acc available, skipping.\n"
          ]
        },
        {
          "metadata": {
            "tags": null
          },
          "name": "stdout",
          "output_type": "stream",
          "text": [
            "57/57 [==============================] - 20s 338ms/step - loss: 0.9711 - accuracy: 0.6440 - precision: 0.7816 - recall: 0.4950 - val_loss: 0.9149 - val_accuracy: 0.6803 - val_precision: 0.8636 - val_recall: 0.4828\n",
            "Epoch 435/800\n",
            "58/57 [==============================] - ETA: 0s - loss: 0.9709 - accuracy: 0.6414 - precision: 0.7798 - recall: 0.4934"
          ]
        },
        {
          "metadata": {
            "tags": null
          },
          "name": "stderr",
          "output_type": "stream",
          "text": [
            "WARNING:tensorflow:Can save best model only with acc available, skipping.\n"
          ]
        },
        {
          "metadata": {
            "tags": null
          },
          "name": "stdout",
          "output_type": "stream",
          "text": [
            "57/57 [==============================] - 20s 340ms/step - loss: 0.9709 - accuracy: 0.6414 - precision: 0.7798 - recall: 0.4934 - val_loss: 0.9145 - val_accuracy: 0.6805 - val_precision: 0.8637 - val_recall: 0.4831\n",
            "Epoch 436/800\n",
            "58/57 [==============================] - ETA: 0s - loss: 0.9676 - accuracy: 0.6432 - precision: 0.7827 - recall: 0.4952"
          ]
        },
        {
          "metadata": {
            "tags": null
          },
          "name": "stderr",
          "output_type": "stream",
          "text": [
            "WARNING:tensorflow:Can save best model only with acc available, skipping.\n"
          ]
        },
        {
          "metadata": {
            "tags": null
          },
          "name": "stdout",
          "output_type": "stream",
          "text": [
            "57/57 [==============================] - 20s 337ms/step - loss: 0.9676 - accuracy: 0.6432 - precision: 0.7827 - recall: 0.4952 - val_loss: 0.9140 - val_accuracy: 0.6798 - val_precision: 0.8631 - val_recall: 0.4833\n",
            "Epoch 437/800\n",
            "58/57 [==============================] - ETA: 0s - loss: 0.9680 - accuracy: 0.6452 - precision: 0.7821 - recall: 0.4957"
          ]
        },
        {
          "metadata": {
            "tags": null
          },
          "name": "stderr",
          "output_type": "stream",
          "text": [
            "WARNING:tensorflow:Can save best model only with acc available, skipping.\n"
          ]
        },
        {
          "metadata": {
            "tags": null
          },
          "name": "stdout",
          "output_type": "stream",
          "text": [
            "57/57 [==============================] - 19s 336ms/step - loss: 0.9680 - accuracy: 0.6452 - precision: 0.7821 - recall: 0.4957 - val_loss: 0.9131 - val_accuracy: 0.6807 - val_precision: 0.8635 - val_recall: 0.4840\n",
            "Epoch 438/800\n",
            "58/57 [==============================] - ETA: 0s - loss: 0.9670 - accuracy: 0.6458 - precision: 0.7810 - recall: 0.4983"
          ]
        },
        {
          "metadata": {
            "tags": null
          },
          "name": "stderr",
          "output_type": "stream",
          "text": [
            "WARNING:tensorflow:Can save best model only with acc available, skipping.\n"
          ]
        },
        {
          "metadata": {
            "tags": null
          },
          "name": "stdout",
          "output_type": "stream",
          "text": [
            "57/57 [==============================] - 20s 338ms/step - loss: 0.9670 - accuracy: 0.6458 - precision: 0.7810 - recall: 0.4983 - val_loss: 0.9124 - val_accuracy: 0.6808 - val_precision: 0.8643 - val_recall: 0.4841\n",
            "Epoch 439/800\n",
            "58/57 [==============================] - ETA: 0s - loss: 0.9653 - accuracy: 0.6453 - precision: 0.7830 - recall: 0.4991"
          ]
        },
        {
          "metadata": {
            "tags": null
          },
          "name": "stderr",
          "output_type": "stream",
          "text": [
            "WARNING:tensorflow:Can save best model only with acc available, skipping.\n"
          ]
        },
        {
          "metadata": {
            "tags": null
          },
          "name": "stdout",
          "output_type": "stream",
          "text": [
            "57/57 [==============================] - 20s 339ms/step - loss: 0.9653 - accuracy: 0.6453 - precision: 0.7830 - recall: 0.4991 - val_loss: 0.9120 - val_accuracy: 0.6808 - val_precision: 0.8635 - val_recall: 0.4846\n",
            "Epoch 440/800\n",
            "58/57 [==============================] - ETA: 0s - loss: 0.9652 - accuracy: 0.6428 - precision: 0.7826 - recall: 0.4996"
          ]
        },
        {
          "metadata": {
            "tags": null
          },
          "name": "stderr",
          "output_type": "stream",
          "text": [
            "WARNING:tensorflow:Can save best model only with acc available, skipping.\n"
          ]
        },
        {
          "metadata": {
            "tags": null
          },
          "name": "stdout",
          "output_type": "stream",
          "text": [
            "57/57 [==============================] - 20s 341ms/step - loss: 0.9652 - accuracy: 0.6428 - precision: 0.7826 - recall: 0.4996 - val_loss: 0.9109 - val_accuracy: 0.6811 - val_precision: 0.8644 - val_recall: 0.4857\n",
            "Epoch 441/800\n",
            "58/57 [==============================] - ETA: 0s - loss: 0.9634 - accuracy: 0.6481 - precision: 0.7831 - recall: 0.4985"
          ]
        },
        {
          "metadata": {
            "tags": null
          },
          "name": "stderr",
          "output_type": "stream",
          "text": [
            "WARNING:tensorflow:Can save best model only with acc available, skipping.\n"
          ]
        },
        {
          "metadata": {
            "tags": null
          },
          "name": "stdout",
          "output_type": "stream",
          "text": [
            "57/57 [==============================] - 20s 338ms/step - loss: 0.9634 - accuracy: 0.6481 - precision: 0.7831 - recall: 0.4985 - val_loss: 0.9106 - val_accuracy: 0.6809 - val_precision: 0.8630 - val_recall: 0.4859\n",
            "Epoch 442/800\n",
            "58/57 [==============================] - ETA: 0s - loss: 0.9634 - accuracy: 0.6448 - precision: 0.7812 - recall: 0.4972"
          ]
        },
        {
          "metadata": {
            "tags": null
          },
          "name": "stderr",
          "output_type": "stream",
          "text": [
            "WARNING:tensorflow:Can save best model only with acc available, skipping.\n"
          ]
        },
        {
          "metadata": {
            "tags": null
          },
          "name": "stdout",
          "output_type": "stream",
          "text": [
            "57/57 [==============================] - 19s 336ms/step - loss: 0.9634 - accuracy: 0.6448 - precision: 0.7812 - recall: 0.4972 - val_loss: 0.9098 - val_accuracy: 0.6815 - val_precision: 0.8633 - val_recall: 0.4864\n",
            "Epoch 443/800\n",
            "58/57 [==============================] - ETA: 0s - loss: 0.9630 - accuracy: 0.6443 - precision: 0.7827 - recall: 0.4996"
          ]
        },
        {
          "metadata": {
            "tags": null
          },
          "name": "stderr",
          "output_type": "stream",
          "text": [
            "WARNING:tensorflow:Can save best model only with acc available, skipping.\n"
          ]
        },
        {
          "metadata": {
            "tags": null
          },
          "name": "stdout",
          "output_type": "stream",
          "text": [
            "57/57 [==============================] - 19s 321ms/step - loss: 0.9630 - accuracy: 0.6443 - precision: 0.7827 - recall: 0.4996 - val_loss: 0.9090 - val_accuracy: 0.6819 - val_precision: 0.8640 - val_recall: 0.4872\n",
            "Epoch 444/800\n",
            "58/57 [==============================] - ETA: 0s - loss: 0.9618 - accuracy: 0.6463 - precision: 0.7844 - recall: 0.4996"
          ]
        },
        {
          "metadata": {
            "tags": null
          },
          "name": "stderr",
          "output_type": "stream",
          "text": [
            "WARNING:tensorflow:Can save best model only with acc available, skipping.\n"
          ]
        },
        {
          "metadata": {
            "tags": null
          },
          "name": "stdout",
          "output_type": "stream",
          "text": [
            "57/57 [==============================] - 18s 312ms/step - loss: 0.9618 - accuracy: 0.6463 - precision: 0.7844 - recall: 0.4996 - val_loss: 0.9083 - val_accuracy: 0.6822 - val_precision: 0.8640 - val_recall: 0.4879\n",
            "Epoch 445/800\n",
            "58/57 [==============================] - ETA: 0s - loss: 0.9636 - accuracy: 0.6457 - precision: 0.7867 - recall: 0.4996"
          ]
        },
        {
          "metadata": {
            "tags": null
          },
          "name": "stderr",
          "output_type": "stream",
          "text": [
            "WARNING:tensorflow:Can save best model only with acc available, skipping.\n"
          ]
        },
        {
          "metadata": {
            "tags": null
          },
          "name": "stdout",
          "output_type": "stream",
          "text": [
            "57/57 [==============================] - 18s 315ms/step - loss: 0.9636 - accuracy: 0.6457 - precision: 0.7867 - recall: 0.4996 - val_loss: 0.9079 - val_accuracy: 0.6820 - val_precision: 0.8633 - val_recall: 0.4876\n",
            "Epoch 446/800\n",
            "58/57 [==============================] - ETA: 0s - loss: 0.9620 - accuracy: 0.6446 - precision: 0.7807 - recall: 0.4968"
          ]
        },
        {
          "metadata": {
            "tags": null
          },
          "name": "stderr",
          "output_type": "stream",
          "text": [
            "WARNING:tensorflow:Can save best model only with acc available, skipping.\n"
          ]
        },
        {
          "metadata": {
            "tags": null
          },
          "name": "stdout",
          "output_type": "stream",
          "text": [
            "57/57 [==============================] - 18s 310ms/step - loss: 0.9620 - accuracy: 0.6446 - precision: 0.7807 - recall: 0.4968 - val_loss: 0.9071 - val_accuracy: 0.6826 - val_precision: 0.8641 - val_recall: 0.4886\n",
            "Epoch 447/800\n",
            "58/57 [==============================] - ETA: 0s - loss: 0.9673 - accuracy: 0.6435 - precision: 0.7836 - recall: 0.4974"
          ]
        },
        {
          "metadata": {
            "tags": null
          },
          "name": "stderr",
          "output_type": "stream",
          "text": [
            "WARNING:tensorflow:Can save best model only with acc available, skipping.\n"
          ]
        },
        {
          "metadata": {
            "tags": null
          },
          "name": "stdout",
          "output_type": "stream",
          "text": [
            "57/57 [==============================] - 18s 309ms/step - loss: 0.9673 - accuracy: 0.6435 - precision: 0.7836 - recall: 0.4974 - val_loss: 0.9067 - val_accuracy: 0.6826 - val_precision: 0.8638 - val_recall: 0.4887\n",
            "Epoch 448/800\n",
            "58/57 [==============================] - ETA: 0s - loss: 0.9562 - accuracy: 0.6506 - precision: 0.7877 - recall: 0.5031"
          ]
        },
        {
          "metadata": {
            "tags": null
          },
          "name": "stderr",
          "output_type": "stream",
          "text": [
            "WARNING:tensorflow:Can save best model only with acc available, skipping.\n"
          ]
        },
        {
          "metadata": {
            "tags": null
          },
          "name": "stdout",
          "output_type": "stream",
          "text": [
            "57/57 [==============================] - 18s 313ms/step - loss: 0.9562 - accuracy: 0.6506 - precision: 0.7877 - recall: 0.5031 - val_loss: 0.9063 - val_accuracy: 0.6822 - val_precision: 0.8633 - val_recall: 0.4891\n",
            "Epoch 449/800\n",
            "58/57 [==============================] - ETA: 0s - loss: 0.9589 - accuracy: 0.6482 - precision: 0.7838 - recall: 0.5029"
          ]
        },
        {
          "metadata": {
            "tags": null
          },
          "name": "stderr",
          "output_type": "stream",
          "text": [
            "WARNING:tensorflow:Can save best model only with acc available, skipping.\n"
          ]
        },
        {
          "metadata": {
            "tags": null
          },
          "name": "stdout",
          "output_type": "stream",
          "text": [
            "57/57 [==============================] - 18s 312ms/step - loss: 0.9589 - accuracy: 0.6482 - precision: 0.7838 - recall: 0.5029 - val_loss: 0.9056 - val_accuracy: 0.6824 - val_precision: 0.8632 - val_recall: 0.4896\n",
            "Epoch 450/800\n",
            "58/57 [==============================] - ETA: 0s - loss: 0.9565 - accuracy: 0.6489 - precision: 0.7839 - recall: 0.5023"
          ]
        },
        {
          "metadata": {
            "tags": null
          },
          "name": "stderr",
          "output_type": "stream",
          "text": [
            "WARNING:tensorflow:Can save best model only with acc available, skipping.\n"
          ]
        },
        {
          "metadata": {
            "tags": null
          },
          "name": "stdout",
          "output_type": "stream",
          "text": [
            "57/57 [==============================] - 18s 318ms/step - loss: 0.9565 - accuracy: 0.6489 - precision: 0.7839 - recall: 0.5023 - val_loss: 0.9046 - val_accuracy: 0.6832 - val_precision: 0.8638 - val_recall: 0.4903\n",
            "Epoch 451/800\n",
            "58/57 [==============================] - ETA: 0s - loss: 0.9600 - accuracy: 0.6477 - precision: 0.7811 - recall: 0.5004"
          ]
        },
        {
          "metadata": {
            "tags": null
          },
          "name": "stderr",
          "output_type": "stream",
          "text": [
            "WARNING:tensorflow:Can save best model only with acc available, skipping.\n"
          ]
        },
        {
          "metadata": {
            "tags": null
          },
          "name": "stdout",
          "output_type": "stream",
          "text": [
            "57/57 [==============================] - 19s 320ms/step - loss: 0.9600 - accuracy: 0.6477 - precision: 0.7811 - recall: 0.5004 - val_loss: 0.9043 - val_accuracy: 0.6830 - val_precision: 0.8631 - val_recall: 0.4906\n",
            "Epoch 452/800\n",
            "58/57 [==============================] - ETA: 0s - loss: 0.9608 - accuracy: 0.6459 - precision: 0.7812 - recall: 0.5002"
          ]
        },
        {
          "metadata": {
            "tags": null
          },
          "name": "stderr",
          "output_type": "stream",
          "text": [
            "WARNING:tensorflow:Can save best model only with acc available, skipping.\n"
          ]
        },
        {
          "metadata": {
            "tags": null
          },
          "name": "stdout",
          "output_type": "stream",
          "text": [
            "57/57 [==============================] - 19s 322ms/step - loss: 0.9608 - accuracy: 0.6459 - precision: 0.7812 - recall: 0.5002 - val_loss: 0.9039 - val_accuracy: 0.6826 - val_precision: 0.8625 - val_recall: 0.4903\n",
            "Epoch 453/800\n",
            "58/57 [==============================] - ETA: 0s - loss: 0.9563 - accuracy: 0.6494 - precision: 0.7843 - recall: 0.5033"
          ]
        },
        {
          "metadata": {
            "tags": null
          },
          "name": "stderr",
          "output_type": "stream",
          "text": [
            "WARNING:tensorflow:Can save best model only with acc available, skipping.\n"
          ]
        },
        {
          "metadata": {
            "tags": null
          },
          "name": "stdout",
          "output_type": "stream",
          "text": [
            "57/57 [==============================] - 19s 323ms/step - loss: 0.9563 - accuracy: 0.6494 - precision: 0.7843 - recall: 0.5033 - val_loss: 0.9031 - val_accuracy: 0.6834 - val_precision: 0.8629 - val_recall: 0.4909\n",
            "Epoch 454/800\n",
            "58/57 [==============================] - ETA: 0s - loss: 0.9537 - accuracy: 0.6497 - precision: 0.7838 - recall: 0.5016"
          ]
        },
        {
          "metadata": {
            "tags": null
          },
          "name": "stderr",
          "output_type": "stream",
          "text": [
            "WARNING:tensorflow:Can save best model only with acc available, skipping.\n"
          ]
        },
        {
          "metadata": {
            "tags": null
          },
          "name": "stdout",
          "output_type": "stream",
          "text": [
            "57/57 [==============================] - 19s 324ms/step - loss: 0.9537 - accuracy: 0.6497 - precision: 0.7838 - recall: 0.5016 - val_loss: 0.9016 - val_accuracy: 0.6845 - val_precision: 0.8642 - val_recall: 0.4916\n",
            "Epoch 455/800\n",
            "58/57 [==============================] - ETA: 0s - loss: 0.9527 - accuracy: 0.6506 - precision: 0.7880 - recall: 0.5058"
          ]
        },
        {
          "metadata": {
            "tags": null
          },
          "name": "stderr",
          "output_type": "stream",
          "text": [
            "WARNING:tensorflow:Can save best model only with acc available, skipping.\n"
          ]
        },
        {
          "metadata": {
            "tags": null
          },
          "name": "stdout",
          "output_type": "stream",
          "text": [
            "57/57 [==============================] - 19s 323ms/step - loss: 0.9527 - accuracy: 0.6506 - precision: 0.7880 - recall: 0.5058 - val_loss: 0.9017 - val_accuracy: 0.6841 - val_precision: 0.8636 - val_recall: 0.4921\n",
            "Epoch 456/800\n",
            "58/57 [==============================] - ETA: 0s - loss: 0.9510 - accuracy: 0.6552 - precision: 0.7881 - recall: 0.5057"
          ]
        },
        {
          "metadata": {
            "tags": null
          },
          "name": "stderr",
          "output_type": "stream",
          "text": [
            "WARNING:tensorflow:Can save best model only with acc available, skipping.\n"
          ]
        },
        {
          "metadata": {
            "tags": null
          },
          "name": "stdout",
          "output_type": "stream",
          "text": [
            "57/57 [==============================] - 19s 324ms/step - loss: 0.9510 - accuracy: 0.6552 - precision: 0.7881 - recall: 0.5057 - val_loss: 0.9008 - val_accuracy: 0.6846 - val_precision: 0.8637 - val_recall: 0.4924\n",
            "Epoch 457/800\n",
            "58/57 [==============================] - ETA: 0s - loss: 0.9532 - accuracy: 0.6498 - precision: 0.7866 - recall: 0.5062"
          ]
        },
        {
          "metadata": {
            "tags": null
          },
          "name": "stderr",
          "output_type": "stream",
          "text": [
            "WARNING:tensorflow:Can save best model only with acc available, skipping.\n"
          ]
        },
        {
          "metadata": {
            "tags": null
          },
          "name": "stdout",
          "output_type": "stream",
          "text": [
            "57/57 [==============================] - 19s 325ms/step - loss: 0.9532 - accuracy: 0.6498 - precision: 0.7866 - recall: 0.5062 - val_loss: 0.9002 - val_accuracy: 0.6846 - val_precision: 0.8635 - val_recall: 0.4928\n",
            "Epoch 458/800\n",
            "58/57 [==============================] - ETA: 0s - loss: 0.9525 - accuracy: 0.6485 - precision: 0.7829 - recall: 0.5050"
          ]
        },
        {
          "metadata": {
            "tags": null
          },
          "name": "stderr",
          "output_type": "stream",
          "text": [
            "WARNING:tensorflow:Can save best model only with acc available, skipping.\n"
          ]
        },
        {
          "metadata": {
            "tags": null
          },
          "name": "stdout",
          "output_type": "stream",
          "text": [
            "57/57 [==============================] - 19s 327ms/step - loss: 0.9525 - accuracy: 0.6485 - precision: 0.7829 - recall: 0.5050 - val_loss: 0.8992 - val_accuracy: 0.6852 - val_precision: 0.8636 - val_recall: 0.4938\n",
            "Epoch 459/800\n",
            "58/57 [==============================] - ETA: 0s - loss: 0.9505 - accuracy: 0.6501 - precision: 0.7844 - recall: 0.5052"
          ]
        },
        {
          "metadata": {
            "tags": null
          },
          "name": "stderr",
          "output_type": "stream",
          "text": [
            "WARNING:tensorflow:Can save best model only with acc available, skipping.\n"
          ]
        },
        {
          "metadata": {
            "tags": null
          },
          "name": "stdout",
          "output_type": "stream",
          "text": [
            "57/57 [==============================] - 18s 319ms/step - loss: 0.9505 - accuracy: 0.6501 - precision: 0.7844 - recall: 0.5052 - val_loss: 0.8991 - val_accuracy: 0.6846 - val_precision: 0.8629 - val_recall: 0.4943\n",
            "Epoch 460/800\n",
            "58/57 [==============================] - ETA: 0s - loss: 0.9532 - accuracy: 0.6484 - precision: 0.7845 - recall: 0.5070"
          ]
        },
        {
          "metadata": {
            "tags": null
          },
          "name": "stderr",
          "output_type": "stream",
          "text": [
            "WARNING:tensorflow:Can save best model only with acc available, skipping.\n"
          ]
        },
        {
          "metadata": {
            "tags": null
          },
          "name": "stdout",
          "output_type": "stream",
          "text": [
            "57/57 [==============================] - 18s 313ms/step - loss: 0.9532 - accuracy: 0.6484 - precision: 0.7845 - recall: 0.5070 - val_loss: 0.8980 - val_accuracy: 0.6853 - val_precision: 0.8640 - val_recall: 0.4950\n",
            "Epoch 461/800\n",
            "58/57 [==============================] - ETA: 0s - loss: 0.9532 - accuracy: 0.6488 - precision: 0.7853 - recall: 0.5049"
          ]
        },
        {
          "metadata": {
            "tags": null
          },
          "name": "stderr",
          "output_type": "stream",
          "text": [
            "WARNING:tensorflow:Can save best model only with acc available, skipping.\n"
          ]
        },
        {
          "metadata": {
            "tags": null
          },
          "name": "stdout",
          "output_type": "stream",
          "text": [
            "57/57 [==============================] - 18s 314ms/step - loss: 0.9532 - accuracy: 0.6488 - precision: 0.7853 - recall: 0.5049 - val_loss: 0.8975 - val_accuracy: 0.6852 - val_precision: 0.8629 - val_recall: 0.4958\n",
            "Epoch 462/800\n",
            "58/57 [==============================] - ETA: 0s - loss: 0.9496 - accuracy: 0.6514 - precision: 0.7829 - recall: 0.5048"
          ]
        },
        {
          "metadata": {
            "tags": null
          },
          "name": "stderr",
          "output_type": "stream",
          "text": [
            "WARNING:tensorflow:Can save best model only with acc available, skipping.\n"
          ]
        },
        {
          "metadata": {
            "tags": null
          },
          "name": "stdout",
          "output_type": "stream",
          "text": [
            "57/57 [==============================] - 19s 322ms/step - loss: 0.9496 - accuracy: 0.6514 - precision: 0.7829 - recall: 0.5048 - val_loss: 0.8966 - val_accuracy: 0.6853 - val_precision: 0.8632 - val_recall: 0.4960\n",
            "Epoch 463/800\n",
            "58/57 [==============================] - ETA: 0s - loss: 0.9539 - accuracy: 0.6494 - precision: 0.7828 - recall: 0.5045"
          ]
        },
        {
          "metadata": {
            "tags": null
          },
          "name": "stderr",
          "output_type": "stream",
          "text": [
            "WARNING:tensorflow:Can save best model only with acc available, skipping.\n"
          ]
        },
        {
          "metadata": {
            "tags": null
          },
          "name": "stdout",
          "output_type": "stream",
          "text": [
            "57/57 [==============================] - 18s 316ms/step - loss: 0.9539 - accuracy: 0.6494 - precision: 0.7828 - recall: 0.5045 - val_loss: 0.8966 - val_accuracy: 0.6851 - val_precision: 0.8622 - val_recall: 0.4965\n",
            "Epoch 464/800\n",
            "58/57 [==============================] - ETA: 0s - loss: 0.9504 - accuracy: 0.6495 - precision: 0.7866 - recall: 0.5055"
          ]
        },
        {
          "metadata": {
            "tags": null
          },
          "name": "stderr",
          "output_type": "stream",
          "text": [
            "WARNING:tensorflow:Can save best model only with acc available, skipping.\n"
          ]
        },
        {
          "metadata": {
            "tags": null
          },
          "name": "stdout",
          "output_type": "stream",
          "text": [
            "57/57 [==============================] - 18s 315ms/step - loss: 0.9504 - accuracy: 0.6495 - precision: 0.7866 - recall: 0.5055 - val_loss: 0.8958 - val_accuracy: 0.6855 - val_precision: 0.8627 - val_recall: 0.4969\n",
            "Epoch 465/800\n",
            "58/57 [==============================] - ETA: 0s - loss: 0.9455 - accuracy: 0.6521 - precision: 0.7862 - recall: 0.5093"
          ]
        },
        {
          "metadata": {
            "tags": null
          },
          "name": "stderr",
          "output_type": "stream",
          "text": [
            "WARNING:tensorflow:Can save best model only with acc available, skipping.\n"
          ]
        },
        {
          "metadata": {
            "tags": null
          },
          "name": "stdout",
          "output_type": "stream",
          "text": [
            "57/57 [==============================] - 18s 317ms/step - loss: 0.9455 - accuracy: 0.6521 - precision: 0.7862 - recall: 0.5093 - val_loss: 0.8950 - val_accuracy: 0.6859 - val_precision: 0.8630 - val_recall: 0.4972\n",
            "Epoch 466/800\n",
            "58/57 [==============================] - ETA: 0s - loss: 0.9469 - accuracy: 0.6539 - precision: 0.7862 - recall: 0.5075"
          ]
        },
        {
          "metadata": {
            "tags": null
          },
          "name": "stderr",
          "output_type": "stream",
          "text": [
            "WARNING:tensorflow:Can save best model only with acc available, skipping.\n"
          ]
        },
        {
          "metadata": {
            "tags": null
          },
          "name": "stdout",
          "output_type": "stream",
          "text": [
            "57/57 [==============================] - 19s 320ms/step - loss: 0.9469 - accuracy: 0.6539 - precision: 0.7862 - recall: 0.5075 - val_loss: 0.8944 - val_accuracy: 0.6859 - val_precision: 0.8630 - val_recall: 0.4976\n",
            "Epoch 467/800\n",
            "58/57 [==============================] - ETA: 0s - loss: 0.9486 - accuracy: 0.6527 - precision: 0.7850 - recall: 0.5074"
          ]
        },
        {
          "metadata": {
            "tags": null
          },
          "name": "stderr",
          "output_type": "stream",
          "text": [
            "WARNING:tensorflow:Can save best model only with acc available, skipping.\n"
          ]
        },
        {
          "metadata": {
            "tags": null
          },
          "name": "stdout",
          "output_type": "stream",
          "text": [
            "57/57 [==============================] - 18s 312ms/step - loss: 0.9486 - accuracy: 0.6527 - precision: 0.7850 - recall: 0.5074 - val_loss: 0.8940 - val_accuracy: 0.6860 - val_precision: 0.8626 - val_recall: 0.4982\n",
            "Epoch 468/800\n",
            "58/57 [==============================] - ETA: 0s - loss: 0.9449 - accuracy: 0.6512 - precision: 0.7840 - recall: 0.5087"
          ]
        },
        {
          "metadata": {
            "tags": null
          },
          "name": "stderr",
          "output_type": "stream",
          "text": [
            "WARNING:tensorflow:Can save best model only with acc available, skipping.\n"
          ]
        },
        {
          "metadata": {
            "tags": null
          },
          "name": "stdout",
          "output_type": "stream",
          "text": [
            "57/57 [==============================] - 18s 312ms/step - loss: 0.9449 - accuracy: 0.6512 - precision: 0.7840 - recall: 0.5087 - val_loss: 0.8932 - val_accuracy: 0.6863 - val_precision: 0.8625 - val_recall: 0.4988\n",
            "Epoch 469/800\n",
            "58/57 [==============================] - ETA: 0s - loss: 0.9468 - accuracy: 0.6525 - precision: 0.7841 - recall: 0.5072"
          ]
        },
        {
          "metadata": {
            "tags": null
          },
          "name": "stderr",
          "output_type": "stream",
          "text": [
            "WARNING:tensorflow:Can save best model only with acc available, skipping.\n"
          ]
        },
        {
          "metadata": {
            "tags": null
          },
          "name": "stdout",
          "output_type": "stream",
          "text": [
            "57/57 [==============================] - 18s 312ms/step - loss: 0.9468 - accuracy: 0.6525 - precision: 0.7841 - recall: 0.5072 - val_loss: 0.8926 - val_accuracy: 0.6865 - val_precision: 0.8625 - val_recall: 0.4991\n",
            "Epoch 470/800\n",
            "58/57 [==============================] - ETA: 0s - loss: 0.9432 - accuracy: 0.6532 - precision: 0.7871 - recall: 0.5109"
          ]
        },
        {
          "metadata": {
            "tags": null
          },
          "name": "stderr",
          "output_type": "stream",
          "text": [
            "WARNING:tensorflow:Can save best model only with acc available, skipping.\n"
          ]
        },
        {
          "metadata": {
            "tags": null
          },
          "name": "stdout",
          "output_type": "stream",
          "text": [
            "57/57 [==============================] - 18s 312ms/step - loss: 0.9432 - accuracy: 0.6532 - precision: 0.7871 - recall: 0.5109 - val_loss: 0.8917 - val_accuracy: 0.6872 - val_precision: 0.8630 - val_recall: 0.4995\n",
            "Epoch 471/800\n",
            "58/57 [==============================] - ETA: 0s - loss: 0.9418 - accuracy: 0.6555 - precision: 0.7869 - recall: 0.5120"
          ]
        },
        {
          "metadata": {
            "tags": null
          },
          "name": "stderr",
          "output_type": "stream",
          "text": [
            "WARNING:tensorflow:Can save best model only with acc available, skipping.\n"
          ]
        },
        {
          "metadata": {
            "tags": null
          },
          "name": "stdout",
          "output_type": "stream",
          "text": [
            "57/57 [==============================] - 18s 309ms/step - loss: 0.9418 - accuracy: 0.6555 - precision: 0.7869 - recall: 0.5120 - val_loss: 0.8915 - val_accuracy: 0.6869 - val_precision: 0.8623 - val_recall: 0.4995\n",
            "Epoch 472/800\n",
            "58/57 [==============================] - ETA: 0s - loss: 0.9429 - accuracy: 0.6538 - precision: 0.7877 - recall: 0.5114"
          ]
        },
        {
          "metadata": {
            "tags": null
          },
          "name": "stderr",
          "output_type": "stream",
          "text": [
            "WARNING:tensorflow:Can save best model only with acc available, skipping.\n"
          ]
        },
        {
          "metadata": {
            "tags": null
          },
          "name": "stdout",
          "output_type": "stream",
          "text": [
            "57/57 [==============================] - 18s 309ms/step - loss: 0.9429 - accuracy: 0.6538 - precision: 0.7877 - recall: 0.5114 - val_loss: 0.8910 - val_accuracy: 0.6876 - val_precision: 0.8625 - val_recall: 0.5001\n",
            "Epoch 473/800\n",
            "58/57 [==============================] - ETA: 0s - loss: 0.9420 - accuracy: 0.6530 - precision: 0.7870 - recall: 0.5110"
          ]
        },
        {
          "metadata": {
            "tags": null
          },
          "name": "stderr",
          "output_type": "stream",
          "text": [
            "WARNING:tensorflow:Can save best model only with acc available, skipping.\n"
          ]
        },
        {
          "metadata": {
            "tags": null
          },
          "name": "stdout",
          "output_type": "stream",
          "text": [
            "57/57 [==============================] - 18s 312ms/step - loss: 0.9420 - accuracy: 0.6530 - precision: 0.7870 - recall: 0.5110 - val_loss: 0.8903 - val_accuracy: 0.6878 - val_precision: 0.8620 - val_recall: 0.5007\n",
            "Epoch 474/800\n",
            "58/57 [==============================] - ETA: 0s - loss: 0.9405 - accuracy: 0.6536 - precision: 0.7869 - recall: 0.5097"
          ]
        },
        {
          "metadata": {
            "tags": null
          },
          "name": "stderr",
          "output_type": "stream",
          "text": [
            "WARNING:tensorflow:Can save best model only with acc available, skipping.\n"
          ]
        },
        {
          "metadata": {
            "tags": null
          },
          "name": "stdout",
          "output_type": "stream",
          "text": [
            "57/57 [==============================] - 18s 309ms/step - loss: 0.9405 - accuracy: 0.6536 - precision: 0.7869 - recall: 0.5097 - val_loss: 0.8896 - val_accuracy: 0.6883 - val_precision: 0.8622 - val_recall: 0.5005\n",
            "Epoch 475/800\n",
            "58/57 [==============================] - ETA: 0s - loss: 0.9375 - accuracy: 0.6561 - precision: 0.7912 - recall: 0.5142"
          ]
        },
        {
          "metadata": {
            "tags": null
          },
          "name": "stderr",
          "output_type": "stream",
          "text": [
            "WARNING:tensorflow:Can save best model only with acc available, skipping.\n"
          ]
        },
        {
          "metadata": {
            "tags": null
          },
          "name": "stdout",
          "output_type": "stream",
          "text": [
            "57/57 [==============================] - 18s 308ms/step - loss: 0.9375 - accuracy: 0.6561 - precision: 0.7912 - recall: 0.5142 - val_loss: 0.8888 - val_accuracy: 0.6881 - val_precision: 0.8621 - val_recall: 0.5016\n",
            "Epoch 476/800\n",
            "58/57 [==============================] - ETA: 0s - loss: 0.9373 - accuracy: 0.6598 - precision: 0.7871 - recall: 0.5146"
          ]
        },
        {
          "metadata": {
            "tags": null
          },
          "name": "stderr",
          "output_type": "stream",
          "text": [
            "WARNING:tensorflow:Can save best model only with acc available, skipping.\n"
          ]
        },
        {
          "metadata": {
            "tags": null
          },
          "name": "stdout",
          "output_type": "stream",
          "text": [
            "57/57 [==============================] - 18s 309ms/step - loss: 0.9373 - accuracy: 0.6598 - precision: 0.7871 - recall: 0.5146 - val_loss: 0.8884 - val_accuracy: 0.6883 - val_precision: 0.8624 - val_recall: 0.5017\n",
            "Epoch 477/800\n",
            "58/57 [==============================] - ETA: 0s - loss: 0.9404 - accuracy: 0.6568 - precision: 0.7896 - recall: 0.5134"
          ]
        },
        {
          "metadata": {
            "tags": null
          },
          "name": "stderr",
          "output_type": "stream",
          "text": [
            "WARNING:tensorflow:Can save best model only with acc available, skipping.\n"
          ]
        },
        {
          "metadata": {
            "tags": null
          },
          "name": "stdout",
          "output_type": "stream",
          "text": [
            "57/57 [==============================] - 18s 310ms/step - loss: 0.9404 - accuracy: 0.6568 - precision: 0.7896 - recall: 0.5134 - val_loss: 0.8876 - val_accuracy: 0.6887 - val_precision: 0.8624 - val_recall: 0.5022\n",
            "Epoch 478/800\n",
            "58/57 [==============================] - ETA: 0s - loss: 0.9400 - accuracy: 0.6560 - precision: 0.7865 - recall: 0.5108"
          ]
        },
        {
          "metadata": {
            "tags": null
          },
          "name": "stderr",
          "output_type": "stream",
          "text": [
            "WARNING:tensorflow:Can save best model only with acc available, skipping.\n"
          ]
        },
        {
          "metadata": {
            "tags": null
          },
          "name": "stdout",
          "output_type": "stream",
          "text": [
            "57/57 [==============================] - 18s 316ms/step - loss: 0.9400 - accuracy: 0.6560 - precision: 0.7865 - recall: 0.5108 - val_loss: 0.8870 - val_accuracy: 0.6888 - val_precision: 0.8621 - val_recall: 0.5025\n",
            "Epoch 479/800\n",
            "58/57 [==============================] - ETA: 0s - loss: 0.9385 - accuracy: 0.6562 - precision: 0.7863 - recall: 0.5138"
          ]
        },
        {
          "metadata": {
            "tags": null
          },
          "name": "stderr",
          "output_type": "stream",
          "text": [
            "WARNING:tensorflow:Can save best model only with acc available, skipping.\n"
          ]
        },
        {
          "metadata": {
            "tags": null
          },
          "name": "stdout",
          "output_type": "stream",
          "text": [
            "57/57 [==============================] - 18s 316ms/step - loss: 0.9385 - accuracy: 0.6562 - precision: 0.7863 - recall: 0.5138 - val_loss: 0.8867 - val_accuracy: 0.6888 - val_precision: 0.8617 - val_recall: 0.5027\n",
            "Epoch 480/800\n",
            "58/57 [==============================] - ETA: 0s - loss: 0.9385 - accuracy: 0.6559 - precision: 0.7895 - recall: 0.5151"
          ]
        },
        {
          "metadata": {
            "tags": null
          },
          "name": "stderr",
          "output_type": "stream",
          "text": [
            "WARNING:tensorflow:Can save best model only with acc available, skipping.\n"
          ]
        },
        {
          "metadata": {
            "tags": null
          },
          "name": "stdout",
          "output_type": "stream",
          "text": [
            "57/57 [==============================] - 18s 309ms/step - loss: 0.9385 - accuracy: 0.6559 - precision: 0.7895 - recall: 0.5151 - val_loss: 0.8857 - val_accuracy: 0.6899 - val_precision: 0.8627 - val_recall: 0.5031\n",
            "Epoch 481/800\n",
            "58/57 [==============================] - ETA: 0s - loss: 0.9401 - accuracy: 0.6571 - precision: 0.7889 - recall: 0.5147"
          ]
        },
        {
          "metadata": {
            "tags": null
          },
          "name": "stderr",
          "output_type": "stream",
          "text": [
            "WARNING:tensorflow:Can save best model only with acc available, skipping.\n"
          ]
        },
        {
          "metadata": {
            "tags": null
          },
          "name": "stdout",
          "output_type": "stream",
          "text": [
            "57/57 [==============================] - 18s 310ms/step - loss: 0.9401 - accuracy: 0.6571 - precision: 0.7889 - recall: 0.5147 - val_loss: 0.8852 - val_accuracy: 0.6903 - val_precision: 0.8624 - val_recall: 0.5032\n",
            "Epoch 482/800\n",
            "58/57 [==============================] - ETA: 0s - loss: 0.9381 - accuracy: 0.6547 - precision: 0.7884 - recall: 0.5142"
          ]
        },
        {
          "metadata": {
            "tags": null
          },
          "name": "stderr",
          "output_type": "stream",
          "text": [
            "WARNING:tensorflow:Can save best model only with acc available, skipping.\n"
          ]
        },
        {
          "metadata": {
            "tags": null
          },
          "name": "stdout",
          "output_type": "stream",
          "text": [
            "57/57 [==============================] - 18s 308ms/step - loss: 0.9381 - accuracy: 0.6547 - precision: 0.7884 - recall: 0.5142 - val_loss: 0.8849 - val_accuracy: 0.6899 - val_precision: 0.8618 - val_recall: 0.5037\n",
            "Epoch 483/800\n",
            "58/57 [==============================] - ETA: 0s - loss: 0.9369 - accuracy: 0.6569 - precision: 0.7876 - recall: 0.5146"
          ]
        },
        {
          "metadata": {
            "tags": null
          },
          "name": "stderr",
          "output_type": "stream",
          "text": [
            "WARNING:tensorflow:Can save best model only with acc available, skipping.\n"
          ]
        },
        {
          "metadata": {
            "tags": null
          },
          "name": "stdout",
          "output_type": "stream",
          "text": [
            "57/57 [==============================] - 18s 315ms/step - loss: 0.9369 - accuracy: 0.6569 - precision: 0.7876 - recall: 0.5146 - val_loss: 0.8840 - val_accuracy: 0.6910 - val_precision: 0.8627 - val_recall: 0.5040\n",
            "Epoch 484/800\n",
            "58/57 [==============================] - ETA: 0s - loss: 0.9381 - accuracy: 0.6558 - precision: 0.7858 - recall: 0.5103"
          ]
        },
        {
          "metadata": {
            "tags": null
          },
          "name": "stderr",
          "output_type": "stream",
          "text": [
            "WARNING:tensorflow:Can save best model only with acc available, skipping.\n"
          ]
        },
        {
          "metadata": {
            "tags": null
          },
          "name": "stdout",
          "output_type": "stream",
          "text": [
            "57/57 [==============================] - 19s 320ms/step - loss: 0.9381 - accuracy: 0.6558 - precision: 0.7858 - recall: 0.5103 - val_loss: 0.8836 - val_accuracy: 0.6907 - val_precision: 0.8620 - val_recall: 0.5046\n",
            "Epoch 485/800\n",
            "58/57 [==============================] - ETA: 0s - loss: 0.9347 - accuracy: 0.6572 - precision: 0.7888 - recall: 0.5170"
          ]
        },
        {
          "metadata": {
            "tags": null
          },
          "name": "stderr",
          "output_type": "stream",
          "text": [
            "WARNING:tensorflow:Can save best model only with acc available, skipping.\n"
          ]
        },
        {
          "metadata": {
            "tags": null
          },
          "name": "stdout",
          "output_type": "stream",
          "text": [
            "57/57 [==============================] - 18s 311ms/step - loss: 0.9347 - accuracy: 0.6572 - precision: 0.7888 - recall: 0.5170 - val_loss: 0.8832 - val_accuracy: 0.6904 - val_precision: 0.8616 - val_recall: 0.5054\n",
            "Epoch 486/800\n",
            "58/57 [==============================] - ETA: 0s - loss: 0.9321 - accuracy: 0.6591 - precision: 0.7887 - recall: 0.5143"
          ]
        },
        {
          "metadata": {
            "tags": null
          },
          "name": "stderr",
          "output_type": "stream",
          "text": [
            "WARNING:tensorflow:Can save best model only with acc available, skipping.\n"
          ]
        },
        {
          "metadata": {
            "tags": null
          },
          "name": "stdout",
          "output_type": "stream",
          "text": [
            "57/57 [==============================] - 18s 311ms/step - loss: 0.9321 - accuracy: 0.6591 - precision: 0.7887 - recall: 0.5143 - val_loss: 0.8824 - val_accuracy: 0.6910 - val_precision: 0.8618 - val_recall: 0.5059\n",
            "Epoch 487/800\n",
            "58/57 [==============================] - ETA: 0s - loss: 0.9309 - accuracy: 0.6597 - precision: 0.7907 - recall: 0.5185"
          ]
        },
        {
          "metadata": {
            "tags": null
          },
          "name": "stderr",
          "output_type": "stream",
          "text": [
            "WARNING:tensorflow:Can save best model only with acc available, skipping.\n"
          ]
        },
        {
          "metadata": {
            "tags": null
          },
          "name": "stdout",
          "output_type": "stream",
          "text": [
            "57/57 [==============================] - 18s 310ms/step - loss: 0.9309 - accuracy: 0.6597 - precision: 0.7907 - recall: 0.5185 - val_loss: 0.8814 - val_accuracy: 0.6914 - val_precision: 0.8626 - val_recall: 0.5067\n",
            "Epoch 488/800\n",
            "58/57 [==============================] - ETA: 0s - loss: 0.9323 - accuracy: 0.6576 - precision: 0.7915 - recall: 0.5173"
          ]
        },
        {
          "metadata": {
            "tags": null
          },
          "name": "stderr",
          "output_type": "stream",
          "text": [
            "WARNING:tensorflow:Can save best model only with acc available, skipping.\n"
          ]
        },
        {
          "metadata": {
            "tags": null
          },
          "name": "stdout",
          "output_type": "stream",
          "text": [
            "57/57 [==============================] - 19s 335ms/step - loss: 0.9323 - accuracy: 0.6576 - precision: 0.7915 - recall: 0.5173 - val_loss: 0.8807 - val_accuracy: 0.6915 - val_precision: 0.8628 - val_recall: 0.5074\n",
            "Epoch 489/800\n",
            "58/57 [==============================] - ETA: 0s - loss: 0.9319 - accuracy: 0.6572 - precision: 0.7913 - recall: 0.5171"
          ]
        },
        {
          "metadata": {
            "tags": null
          },
          "name": "stderr",
          "output_type": "stream",
          "text": [
            "WARNING:tensorflow:Can save best model only with acc available, skipping.\n"
          ]
        },
        {
          "metadata": {
            "tags": null
          },
          "name": "stdout",
          "output_type": "stream",
          "text": [
            "57/57 [==============================] - 18s 310ms/step - loss: 0.9319 - accuracy: 0.6572 - precision: 0.7913 - recall: 0.5171 - val_loss: 0.8800 - val_accuracy: 0.6919 - val_precision: 0.8632 - val_recall: 0.5078\n",
            "Epoch 490/800\n",
            "58/57 [==============================] - ETA: 0s - loss: 0.9323 - accuracy: 0.6590 - precision: 0.7900 - recall: 0.5189"
          ]
        },
        {
          "metadata": {
            "tags": null
          },
          "name": "stderr",
          "output_type": "stream",
          "text": [
            "WARNING:tensorflow:Can save best model only with acc available, skipping.\n"
          ]
        },
        {
          "metadata": {
            "tags": null
          },
          "name": "stdout",
          "output_type": "stream",
          "text": [
            "57/57 [==============================] - 18s 308ms/step - loss: 0.9323 - accuracy: 0.6590 - precision: 0.7900 - recall: 0.5189 - val_loss: 0.8800 - val_accuracy: 0.6915 - val_precision: 0.8625 - val_recall: 0.5078\n",
            "Epoch 491/800\n",
            "58/57 [==============================] - ETA: 0s - loss: 0.9328 - accuracy: 0.6593 - precision: 0.7905 - recall: 0.5186"
          ]
        },
        {
          "metadata": {
            "tags": null
          },
          "name": "stderr",
          "output_type": "stream",
          "text": [
            "WARNING:tensorflow:Can save best model only with acc available, skipping.\n"
          ]
        },
        {
          "metadata": {
            "tags": null
          },
          "name": "stdout",
          "output_type": "stream",
          "text": [
            "57/57 [==============================] - 18s 311ms/step - loss: 0.9328 - accuracy: 0.6593 - precision: 0.7905 - recall: 0.5186 - val_loss: 0.8794 - val_accuracy: 0.6920 - val_precision: 0.8624 - val_recall: 0.5082\n",
            "Epoch 492/800\n",
            "58/57 [==============================] - ETA: 0s - loss: 0.9299 - accuracy: 0.6594 - precision: 0.7898 - recall: 0.5181"
          ]
        },
        {
          "metadata": {
            "tags": null
          },
          "name": "stderr",
          "output_type": "stream",
          "text": [
            "WARNING:tensorflow:Can save best model only with acc available, skipping.\n"
          ]
        },
        {
          "metadata": {
            "tags": null
          },
          "name": "stdout",
          "output_type": "stream",
          "text": [
            "57/57 [==============================] - 18s 310ms/step - loss: 0.9299 - accuracy: 0.6594 - precision: 0.7898 - recall: 0.5181 - val_loss: 0.8792 - val_accuracy: 0.6919 - val_precision: 0.8619 - val_recall: 0.5084\n",
            "Epoch 493/800\n",
            "58/57 [==============================] - ETA: 0s - loss: 0.9296 - accuracy: 0.6623 - precision: 0.7920 - recall: 0.5180"
          ]
        },
        {
          "metadata": {
            "tags": null
          },
          "name": "stderr",
          "output_type": "stream",
          "text": [
            "WARNING:tensorflow:Can save best model only with acc available, skipping.\n"
          ]
        },
        {
          "metadata": {
            "tags": null
          },
          "name": "stdout",
          "output_type": "stream",
          "text": [
            "57/57 [==============================] - 18s 311ms/step - loss: 0.9296 - accuracy: 0.6623 - precision: 0.7920 - recall: 0.5180 - val_loss: 0.8787 - val_accuracy: 0.6923 - val_precision: 0.8620 - val_recall: 0.5084\n",
            "Epoch 494/800\n",
            "58/57 [==============================] - ETA: 0s - loss: 0.9269 - accuracy: 0.6599 - precision: 0.7870 - recall: 0.5193"
          ]
        },
        {
          "metadata": {
            "tags": null
          },
          "name": "stderr",
          "output_type": "stream",
          "text": [
            "WARNING:tensorflow:Can save best model only with acc available, skipping.\n"
          ]
        },
        {
          "metadata": {
            "tags": null
          },
          "name": "stdout",
          "output_type": "stream",
          "text": [
            "57/57 [==============================] - 18s 312ms/step - loss: 0.9269 - accuracy: 0.6599 - precision: 0.7870 - recall: 0.5193 - val_loss: 0.8780 - val_accuracy: 0.6925 - val_precision: 0.8624 - val_recall: 0.5088\n",
            "Epoch 495/800\n",
            "58/57 [==============================] - ETA: 0s - loss: 0.9266 - accuracy: 0.6638 - precision: 0.7943 - recall: 0.5220"
          ]
        },
        {
          "metadata": {
            "tags": null
          },
          "name": "stderr",
          "output_type": "stream",
          "text": [
            "WARNING:tensorflow:Can save best model only with acc available, skipping.\n"
          ]
        },
        {
          "metadata": {
            "tags": null
          },
          "name": "stdout",
          "output_type": "stream",
          "text": [
            "57/57 [==============================] - 18s 311ms/step - loss: 0.9266 - accuracy: 0.6638 - precision: 0.7943 - recall: 0.5220 - val_loss: 0.8770 - val_accuracy: 0.6928 - val_precision: 0.8630 - val_recall: 0.5095\n",
            "Epoch 496/800\n",
            "58/57 [==============================] - ETA: 0s - loss: 0.9260 - accuracy: 0.6612 - precision: 0.7930 - recall: 0.5204"
          ]
        },
        {
          "metadata": {
            "tags": null
          },
          "name": "stderr",
          "output_type": "stream",
          "text": [
            "WARNING:tensorflow:Can save best model only with acc available, skipping.\n"
          ]
        },
        {
          "metadata": {
            "tags": null
          },
          "name": "stdout",
          "output_type": "stream",
          "text": [
            "57/57 [==============================] - 18s 309ms/step - loss: 0.9260 - accuracy: 0.6612 - precision: 0.7930 - recall: 0.5204 - val_loss: 0.8765 - val_accuracy: 0.6928 - val_precision: 0.8621 - val_recall: 0.5095\n",
            "Epoch 497/800\n",
            "58/57 [==============================] - ETA: 0s - loss: 0.9277 - accuracy: 0.6612 - precision: 0.7908 - recall: 0.5192"
          ]
        },
        {
          "metadata": {
            "tags": null
          },
          "name": "stderr",
          "output_type": "stream",
          "text": [
            "WARNING:tensorflow:Can save best model only with acc available, skipping.\n"
          ]
        },
        {
          "metadata": {
            "tags": null
          },
          "name": "stdout",
          "output_type": "stream",
          "text": [
            "57/57 [==============================] - 18s 310ms/step - loss: 0.9277 - accuracy: 0.6612 - precision: 0.7908 - recall: 0.5192 - val_loss: 0.8762 - val_accuracy: 0.6927 - val_precision: 0.8622 - val_recall: 0.5101\n",
            "Epoch 498/800\n",
            "58/57 [==============================] - ETA: 0s - loss: 0.9285 - accuracy: 0.6594 - precision: 0.7881 - recall: 0.5175"
          ]
        },
        {
          "metadata": {
            "tags": null
          },
          "name": "stderr",
          "output_type": "stream",
          "text": [
            "WARNING:tensorflow:Can save best model only with acc available, skipping.\n"
          ]
        },
        {
          "metadata": {
            "tags": null
          },
          "name": "stdout",
          "output_type": "stream",
          "text": [
            "57/57 [==============================] - 18s 308ms/step - loss: 0.9285 - accuracy: 0.6594 - precision: 0.7881 - recall: 0.5175 - val_loss: 0.8758 - val_accuracy: 0.6927 - val_precision: 0.8621 - val_recall: 0.5101\n",
            "Epoch 499/800\n",
            "58/57 [==============================] - ETA: 0s - loss: 0.9289 - accuracy: 0.6607 - precision: 0.7911 - recall: 0.5212"
          ]
        },
        {
          "metadata": {
            "tags": null
          },
          "name": "stderr",
          "output_type": "stream",
          "text": [
            "WARNING:tensorflow:Can save best model only with acc available, skipping.\n"
          ]
        },
        {
          "metadata": {
            "tags": null
          },
          "name": "stdout",
          "output_type": "stream",
          "text": [
            "57/57 [==============================] - 18s 310ms/step - loss: 0.9289 - accuracy: 0.6607 - precision: 0.7911 - recall: 0.5212 - val_loss: 0.8751 - val_accuracy: 0.6928 - val_precision: 0.8617 - val_recall: 0.5110\n",
            "Epoch 500/800\n",
            "58/57 [==============================] - ETA: 0s - loss: 0.9264 - accuracy: 0.6611 - precision: 0.7898 - recall: 0.5210"
          ]
        },
        {
          "metadata": {
            "tags": null
          },
          "name": "stderr",
          "output_type": "stream",
          "text": [
            "WARNING:tensorflow:Can save best model only with acc available, skipping.\n"
          ]
        },
        {
          "metadata": {
            "tags": null
          },
          "name": "stdout",
          "output_type": "stream",
          "text": [
            "57/57 [==============================] - 18s 309ms/step - loss: 0.9264 - accuracy: 0.6611 - precision: 0.7898 - recall: 0.5210 - val_loss: 0.8742 - val_accuracy: 0.6933 - val_precision: 0.8622 - val_recall: 0.5114\n",
            "Epoch 501/800\n",
            "58/57 [==============================] - ETA: 0s - loss: 0.9239 - accuracy: 0.6614 - precision: 0.7903 - recall: 0.5209"
          ]
        },
        {
          "metadata": {
            "tags": null
          },
          "name": "stderr",
          "output_type": "stream",
          "text": [
            "WARNING:tensorflow:Can save best model only with acc available, skipping.\n"
          ]
        },
        {
          "metadata": {
            "tags": null
          },
          "name": "stdout",
          "output_type": "stream",
          "text": [
            "57/57 [==============================] - 18s 311ms/step - loss: 0.9239 - accuracy: 0.6614 - precision: 0.7903 - recall: 0.5209 - val_loss: 0.8732 - val_accuracy: 0.6941 - val_precision: 0.8627 - val_recall: 0.5121\n",
            "Epoch 502/800\n",
            "58/57 [==============================] - ETA: 0s - loss: 0.9250 - accuracy: 0.6624 - precision: 0.7908 - recall: 0.5199"
          ]
        },
        {
          "metadata": {
            "tags": null
          },
          "name": "stderr",
          "output_type": "stream",
          "text": [
            "WARNING:tensorflow:Can save best model only with acc available, skipping.\n"
          ]
        },
        {
          "metadata": {
            "tags": null
          },
          "name": "stdout",
          "output_type": "stream",
          "text": [
            "57/57 [==============================] - 18s 306ms/step - loss: 0.9250 - accuracy: 0.6624 - precision: 0.7908 - recall: 0.5199 - val_loss: 0.8728 - val_accuracy: 0.6937 - val_precision: 0.8627 - val_recall: 0.5123\n",
            "Epoch 503/800\n",
            "58/57 [==============================] - ETA: 0s - loss: 0.9236 - accuracy: 0.6615 - precision: 0.7925 - recall: 0.5223"
          ]
        },
        {
          "metadata": {
            "tags": null
          },
          "name": "stderr",
          "output_type": "stream",
          "text": [
            "WARNING:tensorflow:Can save best model only with acc available, skipping.\n"
          ]
        },
        {
          "metadata": {
            "tags": null
          },
          "name": "stdout",
          "output_type": "stream",
          "text": [
            "57/57 [==============================] - 18s 309ms/step - loss: 0.9236 - accuracy: 0.6615 - precision: 0.7925 - recall: 0.5223 - val_loss: 0.8726 - val_accuracy: 0.6936 - val_precision: 0.8615 - val_recall: 0.5123\n",
            "Epoch 504/800\n",
            "58/57 [==============================] - ETA: 0s - loss: 0.9227 - accuracy: 0.6639 - precision: 0.7931 - recall: 0.5221"
          ]
        },
        {
          "metadata": {
            "tags": null
          },
          "name": "stderr",
          "output_type": "stream",
          "text": [
            "WARNING:tensorflow:Can save best model only with acc available, skipping.\n"
          ]
        },
        {
          "metadata": {
            "tags": null
          },
          "name": "stdout",
          "output_type": "stream",
          "text": [
            "57/57 [==============================] - 18s 310ms/step - loss: 0.9227 - accuracy: 0.6639 - precision: 0.7931 - recall: 0.5221 - val_loss: 0.8718 - val_accuracy: 0.6940 - val_precision: 0.8624 - val_recall: 0.5130\n",
            "Epoch 505/800\n",
            "58/57 [==============================] - ETA: 0s - loss: 0.9211 - accuracy: 0.6605 - precision: 0.7923 - recall: 0.5230"
          ]
        },
        {
          "metadata": {
            "tags": null
          },
          "name": "stderr",
          "output_type": "stream",
          "text": [
            "WARNING:tensorflow:Can save best model only with acc available, skipping.\n"
          ]
        },
        {
          "metadata": {
            "tags": null
          },
          "name": "stdout",
          "output_type": "stream",
          "text": [
            "57/57 [==============================] - 18s 310ms/step - loss: 0.9211 - accuracy: 0.6605 - precision: 0.7923 - recall: 0.5230 - val_loss: 0.8713 - val_accuracy: 0.6941 - val_precision: 0.8620 - val_recall: 0.5133\n",
            "Epoch 506/800\n",
            "58/57 [==============================] - ETA: 0s - loss: 0.9205 - accuracy: 0.6609 - precision: 0.7923 - recall: 0.5226"
          ]
        },
        {
          "metadata": {
            "tags": null
          },
          "name": "stderr",
          "output_type": "stream",
          "text": [
            "WARNING:tensorflow:Can save best model only with acc available, skipping.\n"
          ]
        },
        {
          "metadata": {
            "tags": null
          },
          "name": "stdout",
          "output_type": "stream",
          "text": [
            "57/57 [==============================] - 18s 307ms/step - loss: 0.9205 - accuracy: 0.6609 - precision: 0.7923 - recall: 0.5226 - val_loss: 0.8705 - val_accuracy: 0.6943 - val_precision: 0.8619 - val_recall: 0.5142\n",
            "Epoch 507/800\n",
            "58/57 [==============================] - ETA: 0s - loss: 0.9189 - accuracy: 0.6647 - precision: 0.7968 - recall: 0.5270"
          ]
        },
        {
          "metadata": {
            "tags": null
          },
          "name": "stderr",
          "output_type": "stream",
          "text": [
            "WARNING:tensorflow:Can save best model only with acc available, skipping.\n"
          ]
        },
        {
          "metadata": {
            "tags": null
          },
          "name": "stdout",
          "output_type": "stream",
          "text": [
            "57/57 [==============================] - 18s 314ms/step - loss: 0.9189 - accuracy: 0.6647 - precision: 0.7968 - recall: 0.5270 - val_loss: 0.8702 - val_accuracy: 0.6941 - val_precision: 0.8613 - val_recall: 0.5142\n",
            "Epoch 508/800\n",
            "58/57 [==============================] - ETA: 0s - loss: 0.9191 - accuracy: 0.6624 - precision: 0.7948 - recall: 0.5241"
          ]
        },
        {
          "metadata": {
            "tags": null
          },
          "name": "stderr",
          "output_type": "stream",
          "text": [
            "WARNING:tensorflow:Can save best model only with acc available, skipping.\n"
          ]
        },
        {
          "metadata": {
            "tags": null
          },
          "name": "stdout",
          "output_type": "stream",
          "text": [
            "57/57 [==============================] - 18s 308ms/step - loss: 0.9191 - accuracy: 0.6624 - precision: 0.7948 - recall: 0.5241 - val_loss: 0.8692 - val_accuracy: 0.6946 - val_precision: 0.8612 - val_recall: 0.5147\n",
            "Epoch 509/800\n",
            "58/57 [==============================] - ETA: 0s - loss: 0.9206 - accuracy: 0.6628 - precision: 0.7916 - recall: 0.5215"
          ]
        },
        {
          "metadata": {
            "tags": null
          },
          "name": "stderr",
          "output_type": "stream",
          "text": [
            "WARNING:tensorflow:Can save best model only with acc available, skipping.\n"
          ]
        },
        {
          "metadata": {
            "tags": null
          },
          "name": "stdout",
          "output_type": "stream",
          "text": [
            "57/57 [==============================] - 18s 310ms/step - loss: 0.9206 - accuracy: 0.6628 - precision: 0.7916 - recall: 0.5215 - val_loss: 0.8688 - val_accuracy: 0.6949 - val_precision: 0.8611 - val_recall: 0.5153\n",
            "Epoch 510/800\n",
            "58/57 [==============================] - ETA: 0s - loss: 0.9195 - accuracy: 0.6625 - precision: 0.7921 - recall: 0.5229"
          ]
        },
        {
          "metadata": {
            "tags": null
          },
          "name": "stderr",
          "output_type": "stream",
          "text": [
            "WARNING:tensorflow:Can save best model only with acc available, skipping.\n"
          ]
        },
        {
          "metadata": {
            "tags": null
          },
          "name": "stdout",
          "output_type": "stream",
          "text": [
            "57/57 [==============================] - 18s 308ms/step - loss: 0.9195 - accuracy: 0.6625 - precision: 0.7921 - recall: 0.5229 - val_loss: 0.8681 - val_accuracy: 0.6951 - val_precision: 0.8610 - val_recall: 0.5158\n",
            "Epoch 511/800\n",
            "58/57 [==============================] - ETA: 0s - loss: 0.9183 - accuracy: 0.6635 - precision: 0.7926 - recall: 0.5226"
          ]
        },
        {
          "metadata": {
            "tags": null
          },
          "name": "stderr",
          "output_type": "stream",
          "text": [
            "WARNING:tensorflow:Can save best model only with acc available, skipping.\n"
          ]
        },
        {
          "metadata": {
            "tags": null
          },
          "name": "stdout",
          "output_type": "stream",
          "text": [
            "57/57 [==============================] - 18s 311ms/step - loss: 0.9183 - accuracy: 0.6635 - precision: 0.7926 - recall: 0.5226 - val_loss: 0.8677 - val_accuracy: 0.6949 - val_precision: 0.8606 - val_recall: 0.5164\n",
            "Epoch 512/800\n",
            "58/57 [==============================] - ETA: 0s - loss: 0.9179 - accuracy: 0.6646 - precision: 0.7928 - recall: 0.5242"
          ]
        },
        {
          "metadata": {
            "tags": null
          },
          "name": "stderr",
          "output_type": "stream",
          "text": [
            "WARNING:tensorflow:Can save best model only with acc available, skipping.\n"
          ]
        },
        {
          "metadata": {
            "tags": null
          },
          "name": "stdout",
          "output_type": "stream",
          "text": [
            "57/57 [==============================] - 18s 310ms/step - loss: 0.9179 - accuracy: 0.6646 - precision: 0.7928 - recall: 0.5242 - val_loss: 0.8673 - val_accuracy: 0.6953 - val_precision: 0.8606 - val_recall: 0.5168\n",
            "Epoch 513/800\n",
            "58/57 [==============================] - ETA: 0s - loss: 0.9173 - accuracy: 0.6659 - precision: 0.7950 - recall: 0.5266"
          ]
        },
        {
          "metadata": {
            "tags": null
          },
          "name": "stderr",
          "output_type": "stream",
          "text": [
            "WARNING:tensorflow:Can save best model only with acc available, skipping.\n"
          ]
        },
        {
          "metadata": {
            "tags": null
          },
          "name": "stdout",
          "output_type": "stream",
          "text": [
            "57/57 [==============================] - 18s 307ms/step - loss: 0.9173 - accuracy: 0.6659 - precision: 0.7950 - recall: 0.5266 - val_loss: 0.8666 - val_accuracy: 0.6956 - val_precision: 0.8610 - val_recall: 0.5170\n",
            "Epoch 514/800\n",
            "58/57 [==============================] - ETA: 0s - loss: 0.9173 - accuracy: 0.6626 - precision: 0.7945 - recall: 0.5233"
          ]
        },
        {
          "metadata": {
            "tags": null
          },
          "name": "stderr",
          "output_type": "stream",
          "text": [
            "WARNING:tensorflow:Can save best model only with acc available, skipping.\n"
          ]
        },
        {
          "metadata": {
            "tags": null
          },
          "name": "stdout",
          "output_type": "stream",
          "text": [
            "57/57 [==============================] - 18s 310ms/step - loss: 0.9173 - accuracy: 0.6626 - precision: 0.7945 - recall: 0.5233 - val_loss: 0.8662 - val_accuracy: 0.6957 - val_precision: 0.8610 - val_recall: 0.5173\n",
            "Epoch 515/800\n",
            "58/57 [==============================] - ETA: 0s - loss: 0.9161 - accuracy: 0.6666 - precision: 0.7927 - recall: 0.5270"
          ]
        },
        {
          "metadata": {
            "tags": null
          },
          "name": "stderr",
          "output_type": "stream",
          "text": [
            "WARNING:tensorflow:Can save best model only with acc available, skipping.\n"
          ]
        },
        {
          "metadata": {
            "tags": null
          },
          "name": "stdout",
          "output_type": "stream",
          "text": [
            "57/57 [==============================] - 18s 315ms/step - loss: 0.9161 - accuracy: 0.6666 - precision: 0.7927 - recall: 0.5270 - val_loss: 0.8652 - val_accuracy: 0.6964 - val_precision: 0.8617 - val_recall: 0.5171\n",
            "Epoch 516/800\n",
            "58/57 [==============================] - ETA: 0s - loss: 0.9128 - accuracy: 0.6665 - precision: 0.7956 - recall: 0.5267"
          ]
        },
        {
          "metadata": {
            "tags": null
          },
          "name": "stderr",
          "output_type": "stream",
          "text": [
            "WARNING:tensorflow:Can save best model only with acc available, skipping.\n"
          ]
        },
        {
          "metadata": {
            "tags": null
          },
          "name": "stdout",
          "output_type": "stream",
          "text": [
            "57/57 [==============================] - 18s 310ms/step - loss: 0.9128 - accuracy: 0.6665 - precision: 0.7956 - recall: 0.5267 - val_loss: 0.8648 - val_accuracy: 0.6960 - val_precision: 0.8615 - val_recall: 0.5176\n",
            "Epoch 517/800\n",
            "58/57 [==============================] - ETA: 0s - loss: 0.9182 - accuracy: 0.6645 - precision: 0.7928 - recall: 0.5273"
          ]
        },
        {
          "metadata": {
            "tags": null
          },
          "name": "stderr",
          "output_type": "stream",
          "text": [
            "WARNING:tensorflow:Can save best model only with acc available, skipping.\n"
          ]
        },
        {
          "metadata": {
            "tags": null
          },
          "name": "stdout",
          "output_type": "stream",
          "text": [
            "57/57 [==============================] - 18s 309ms/step - loss: 0.9182 - accuracy: 0.6645 - precision: 0.7928 - recall: 0.5273 - val_loss: 0.8644 - val_accuracy: 0.6964 - val_precision: 0.8613 - val_recall: 0.5179\n",
            "Epoch 518/800\n",
            "58/57 [==============================] - ETA: 0s - loss: 0.9106 - accuracy: 0.6669 - precision: 0.7951 - recall: 0.5296"
          ]
        },
        {
          "metadata": {
            "tags": null
          },
          "name": "stderr",
          "output_type": "stream",
          "text": [
            "WARNING:tensorflow:Can save best model only with acc available, skipping.\n"
          ]
        },
        {
          "metadata": {
            "tags": null
          },
          "name": "stdout",
          "output_type": "stream",
          "text": [
            "57/57 [==============================] - 18s 314ms/step - loss: 0.9106 - accuracy: 0.6669 - precision: 0.7951 - recall: 0.5296 - val_loss: 0.8640 - val_accuracy: 0.6962 - val_precision: 0.8613 - val_recall: 0.5185\n",
            "Epoch 519/800\n",
            "58/57 [==============================] - ETA: 0s - loss: 0.9122 - accuracy: 0.6652 - precision: 0.7964 - recall: 0.5270"
          ]
        },
        {
          "metadata": {
            "tags": null
          },
          "name": "stderr",
          "output_type": "stream",
          "text": [
            "WARNING:tensorflow:Can save best model only with acc available, skipping.\n"
          ]
        },
        {
          "metadata": {
            "tags": null
          },
          "name": "stdout",
          "output_type": "stream",
          "text": [
            "57/57 [==============================] - 18s 315ms/step - loss: 0.9122 - accuracy: 0.6652 - precision: 0.7964 - recall: 0.5270 - val_loss: 0.8633 - val_accuracy: 0.6965 - val_precision: 0.8613 - val_recall: 0.5185\n",
            "Epoch 520/800\n",
            "58/57 [==============================] - ETA: 0s - loss: 0.9134 - accuracy: 0.6679 - precision: 0.7960 - recall: 0.5257"
          ]
        },
        {
          "metadata": {
            "tags": null
          },
          "name": "stderr",
          "output_type": "stream",
          "text": [
            "WARNING:tensorflow:Can save best model only with acc available, skipping.\n"
          ]
        },
        {
          "metadata": {
            "tags": null
          },
          "name": "stdout",
          "output_type": "stream",
          "text": [
            "57/57 [==============================] - 18s 317ms/step - loss: 0.9134 - accuracy: 0.6679 - precision: 0.7960 - recall: 0.5257 - val_loss: 0.8635 - val_accuracy: 0.6960 - val_precision: 0.8617 - val_recall: 0.5190\n",
            "Epoch 521/800\n",
            "58/57 [==============================] - ETA: 0s - loss: 0.9128 - accuracy: 0.6657 - precision: 0.7948 - recall: 0.5274"
          ]
        },
        {
          "metadata": {
            "tags": null
          },
          "name": "stderr",
          "output_type": "stream",
          "text": [
            "WARNING:tensorflow:Can save best model only with acc available, skipping.\n"
          ]
        },
        {
          "metadata": {
            "tags": null
          },
          "name": "stdout",
          "output_type": "stream",
          "text": [
            "57/57 [==============================] - 18s 311ms/step - loss: 0.9128 - accuracy: 0.6657 - precision: 0.7948 - recall: 0.5274 - val_loss: 0.8625 - val_accuracy: 0.6970 - val_precision: 0.8610 - val_recall: 0.5192\n",
            "Epoch 522/800\n",
            "58/57 [==============================] - ETA: 0s - loss: 0.9135 - accuracy: 0.6672 - precision: 0.7960 - recall: 0.5290"
          ]
        },
        {
          "metadata": {
            "tags": null
          },
          "name": "stderr",
          "output_type": "stream",
          "text": [
            "WARNING:tensorflow:Can save best model only with acc available, skipping.\n"
          ]
        },
        {
          "metadata": {
            "tags": null
          },
          "name": "stdout",
          "output_type": "stream",
          "text": [
            "57/57 [==============================] - 22s 388ms/step - loss: 0.9135 - accuracy: 0.6672 - precision: 0.7960 - recall: 0.5290 - val_loss: 0.8620 - val_accuracy: 0.6970 - val_precision: 0.8610 - val_recall: 0.5194\n",
            "Epoch 523/800\n",
            "58/57 [==============================] - ETA: 0s - loss: 0.9106 - accuracy: 0.6676 - precision: 0.7922 - recall: 0.5285"
          ]
        },
        {
          "metadata": {
            "tags": null
          },
          "name": "stderr",
          "output_type": "stream",
          "text": [
            "WARNING:tensorflow:Can save best model only with acc available, skipping.\n"
          ]
        },
        {
          "metadata": {
            "tags": null
          },
          "name": "stdout",
          "output_type": "stream",
          "text": [
            "57/57 [==============================] - 18s 311ms/step - loss: 0.9106 - accuracy: 0.6676 - precision: 0.7922 - recall: 0.5285 - val_loss: 0.8612 - val_accuracy: 0.6976 - val_precision: 0.8617 - val_recall: 0.5202\n",
            "Epoch 524/800\n",
            "58/57 [==============================] - ETA: 0s - loss: 0.9132 - accuracy: 0.6655 - precision: 0.7950 - recall: 0.5278"
          ]
        },
        {
          "metadata": {
            "tags": null
          },
          "name": "stderr",
          "output_type": "stream",
          "text": [
            "WARNING:tensorflow:Can save best model only with acc available, skipping.\n"
          ]
        },
        {
          "metadata": {
            "tags": null
          },
          "name": "stdout",
          "output_type": "stream",
          "text": [
            "57/57 [==============================] - 18s 311ms/step - loss: 0.9132 - accuracy: 0.6655 - precision: 0.7950 - recall: 0.5278 - val_loss: 0.8611 - val_accuracy: 0.6974 - val_precision: 0.8614 - val_recall: 0.5205\n",
            "Epoch 525/800\n",
            "58/57 [==============================] - ETA: 0s - loss: 0.9055 - accuracy: 0.6672 - precision: 0.7955 - recall: 0.5293"
          ]
        },
        {
          "metadata": {
            "tags": null
          },
          "name": "stderr",
          "output_type": "stream",
          "text": [
            "WARNING:tensorflow:Can save best model only with acc available, skipping.\n"
          ]
        },
        {
          "metadata": {
            "tags": null
          },
          "name": "stdout",
          "output_type": "stream",
          "text": [
            "57/57 [==============================] - 18s 309ms/step - loss: 0.9055 - accuracy: 0.6672 - precision: 0.7955 - recall: 0.5293 - val_loss: 0.8601 - val_accuracy: 0.6974 - val_precision: 0.8613 - val_recall: 0.5214\n",
            "Epoch 526/800\n",
            "58/57 [==============================] - ETA: 0s - loss: 0.9106 - accuracy: 0.6656 - precision: 0.7921 - recall: 0.5280"
          ]
        },
        {
          "metadata": {
            "tags": null
          },
          "name": "stderr",
          "output_type": "stream",
          "text": [
            "WARNING:tensorflow:Can save best model only with acc available, skipping.\n"
          ]
        },
        {
          "metadata": {
            "tags": null
          },
          "name": "stdout",
          "output_type": "stream",
          "text": [
            "57/57 [==============================] - 18s 315ms/step - loss: 0.9106 - accuracy: 0.6656 - precision: 0.7921 - recall: 0.5280 - val_loss: 0.8592 - val_accuracy: 0.6984 - val_precision: 0.8615 - val_recall: 0.5220\n",
            "Epoch 527/800\n",
            "58/57 [==============================] - ETA: 0s - loss: 0.9100 - accuracy: 0.6658 - precision: 0.7948 - recall: 0.5309"
          ]
        },
        {
          "metadata": {
            "tags": null
          },
          "name": "stderr",
          "output_type": "stream",
          "text": [
            "WARNING:tensorflow:Can save best model only with acc available, skipping.\n"
          ]
        },
        {
          "metadata": {
            "tags": null
          },
          "name": "stdout",
          "output_type": "stream",
          "text": [
            "57/57 [==============================] - 18s 311ms/step - loss: 0.9100 - accuracy: 0.6658 - precision: 0.7948 - recall: 0.5309 - val_loss: 0.8589 - val_accuracy: 0.6982 - val_precision: 0.8614 - val_recall: 0.5221\n",
            "Epoch 528/800\n",
            "58/57 [==============================] - ETA: 0s - loss: 0.9077 - accuracy: 0.6679 - precision: 0.7940 - recall: 0.5313"
          ]
        },
        {
          "metadata": {
            "tags": null
          },
          "name": "stderr",
          "output_type": "stream",
          "text": [
            "WARNING:tensorflow:Can save best model only with acc available, skipping.\n"
          ]
        },
        {
          "metadata": {
            "tags": null
          },
          "name": "stdout",
          "output_type": "stream",
          "text": [
            "57/57 [==============================] - 18s 308ms/step - loss: 0.9077 - accuracy: 0.6679 - precision: 0.7940 - recall: 0.5313 - val_loss: 0.8582 - val_accuracy: 0.6989 - val_precision: 0.8616 - val_recall: 0.5224\n",
            "Epoch 529/800\n",
            "58/57 [==============================] - ETA: 0s - loss: 0.9076 - accuracy: 0.6681 - precision: 0.7953 - recall: 0.5303"
          ]
        },
        {
          "metadata": {
            "tags": null
          },
          "name": "stderr",
          "output_type": "stream",
          "text": [
            "WARNING:tensorflow:Can save best model only with acc available, skipping.\n"
          ]
        },
        {
          "metadata": {
            "tags": null
          },
          "name": "stdout",
          "output_type": "stream",
          "text": [
            "57/57 [==============================] - 18s 309ms/step - loss: 0.9076 - accuracy: 0.6681 - precision: 0.7953 - recall: 0.5303 - val_loss: 0.8587 - val_accuracy: 0.6976 - val_precision: 0.8615 - val_recall: 0.5221\n",
            "Epoch 530/800\n",
            "58/57 [==============================] - ETA: 0s - loss: 0.9097 - accuracy: 0.6687 - precision: 0.7938 - recall: 0.5301"
          ]
        },
        {
          "metadata": {
            "tags": null
          },
          "name": "stderr",
          "output_type": "stream",
          "text": [
            "WARNING:tensorflow:Can save best model only with acc available, skipping.\n"
          ]
        },
        {
          "metadata": {
            "tags": null
          },
          "name": "stdout",
          "output_type": "stream",
          "text": [
            "57/57 [==============================] - 18s 318ms/step - loss: 0.9097 - accuracy: 0.6687 - precision: 0.7938 - recall: 0.5301 - val_loss: 0.8576 - val_accuracy: 0.6986 - val_precision: 0.8617 - val_recall: 0.5227\n",
            "Epoch 531/800\n",
            "58/57 [==============================] - ETA: 0s - loss: 0.9046 - accuracy: 0.6709 - precision: 0.7969 - recall: 0.5339"
          ]
        },
        {
          "metadata": {
            "tags": null
          },
          "name": "stderr",
          "output_type": "stream",
          "text": [
            "WARNING:tensorflow:Can save best model only with acc available, skipping.\n"
          ]
        },
        {
          "metadata": {
            "tags": null
          },
          "name": "stdout",
          "output_type": "stream",
          "text": [
            "57/57 [==============================] - 18s 310ms/step - loss: 0.9046 - accuracy: 0.6709 - precision: 0.7969 - recall: 0.5339 - val_loss: 0.8574 - val_accuracy: 0.6983 - val_precision: 0.8614 - val_recall: 0.5230\n",
            "Epoch 532/800\n",
            "58/57 [==============================] - ETA: 0s - loss: 0.9111 - accuracy: 0.6666 - precision: 0.7948 - recall: 0.5304"
          ]
        },
        {
          "metadata": {
            "tags": null
          },
          "name": "stderr",
          "output_type": "stream",
          "text": [
            "WARNING:tensorflow:Can save best model only with acc available, skipping.\n"
          ]
        },
        {
          "metadata": {
            "tags": null
          },
          "name": "stdout",
          "output_type": "stream",
          "text": [
            "57/57 [==============================] - 18s 316ms/step - loss: 0.9111 - accuracy: 0.6666 - precision: 0.7948 - recall: 0.5304 - val_loss: 0.8564 - val_accuracy: 0.6993 - val_precision: 0.8618 - val_recall: 0.5237\n",
            "Epoch 533/800\n",
            "58/57 [==============================] - ETA: 0s - loss: 0.9086 - accuracy: 0.6676 - precision: 0.7945 - recall: 0.5307"
          ]
        },
        {
          "metadata": {
            "tags": null
          },
          "name": "stderr",
          "output_type": "stream",
          "text": [
            "WARNING:tensorflow:Can save best model only with acc available, skipping.\n"
          ]
        },
        {
          "metadata": {
            "tags": null
          },
          "name": "stdout",
          "output_type": "stream",
          "text": [
            "57/57 [==============================] - 18s 317ms/step - loss: 0.9086 - accuracy: 0.6676 - precision: 0.7945 - recall: 0.5307 - val_loss: 0.8561 - val_accuracy: 0.6991 - val_precision: 0.8619 - val_recall: 0.5240\n",
            "Epoch 534/800\n",
            "58/57 [==============================] - ETA: 0s - loss: 0.9033 - accuracy: 0.6695 - precision: 0.7950 - recall: 0.5333"
          ]
        },
        {
          "metadata": {
            "tags": null
          },
          "name": "stderr",
          "output_type": "stream",
          "text": [
            "WARNING:tensorflow:Can save best model only with acc available, skipping.\n"
          ]
        },
        {
          "metadata": {
            "tags": null
          },
          "name": "stdout",
          "output_type": "stream",
          "text": [
            "57/57 [==============================] - 18s 317ms/step - loss: 0.9033 - accuracy: 0.6695 - precision: 0.7950 - recall: 0.5333 - val_loss: 0.8555 - val_accuracy: 0.6991 - val_precision: 0.8615 - val_recall: 0.5251\n",
            "Epoch 535/800\n",
            "58/57 [==============================] - ETA: 0s - loss: 0.9063 - accuracy: 0.6677 - precision: 0.7938 - recall: 0.5313"
          ]
        },
        {
          "metadata": {
            "tags": null
          },
          "name": "stderr",
          "output_type": "stream",
          "text": [
            "WARNING:tensorflow:Can save best model only with acc available, skipping.\n"
          ]
        },
        {
          "metadata": {
            "tags": null
          },
          "name": "stdout",
          "output_type": "stream",
          "text": [
            "57/57 [==============================] - 19s 324ms/step - loss: 0.9063 - accuracy: 0.6677 - precision: 0.7938 - recall: 0.5313 - val_loss: 0.8547 - val_accuracy: 0.6998 - val_precision: 0.8616 - val_recall: 0.5252\n",
            "Epoch 536/800\n",
            "58/57 [==============================] - ETA: 0s - loss: 0.9057 - accuracy: 0.6681 - precision: 0.7952 - recall: 0.5340"
          ]
        },
        {
          "metadata": {
            "tags": null
          },
          "name": "stderr",
          "output_type": "stream",
          "text": [
            "WARNING:tensorflow:Can save best model only with acc available, skipping.\n"
          ]
        },
        {
          "metadata": {
            "tags": null
          },
          "name": "stdout",
          "output_type": "stream",
          "text": [
            "57/57 [==============================] - 18s 318ms/step - loss: 0.9057 - accuracy: 0.6681 - precision: 0.7952 - recall: 0.5340 - val_loss: 0.8545 - val_accuracy: 0.6997 - val_precision: 0.8619 - val_recall: 0.5249\n",
            "Epoch 537/800\n",
            "58/57 [==============================] - ETA: 0s - loss: 0.9056 - accuracy: 0.6685 - precision: 0.7937 - recall: 0.5293"
          ]
        },
        {
          "metadata": {
            "tags": null
          },
          "name": "stderr",
          "output_type": "stream",
          "text": [
            "WARNING:tensorflow:Can save best model only with acc available, skipping.\n"
          ]
        },
        {
          "metadata": {
            "tags": null
          },
          "name": "stdout",
          "output_type": "stream",
          "text": [
            "57/57 [==============================] - 19s 320ms/step - loss: 0.9056 - accuracy: 0.6685 - precision: 0.7937 - recall: 0.5293 - val_loss: 0.8543 - val_accuracy: 0.6993 - val_precision: 0.8617 - val_recall: 0.5254\n",
            "Epoch 538/800\n",
            "58/57 [==============================] - ETA: 0s - loss: 0.9013 - accuracy: 0.6702 - precision: 0.7968 - recall: 0.5357"
          ]
        },
        {
          "metadata": {
            "tags": null
          },
          "name": "stderr",
          "output_type": "stream",
          "text": [
            "WARNING:tensorflow:Can save best model only with acc available, skipping.\n"
          ]
        },
        {
          "metadata": {
            "tags": null
          },
          "name": "stdout",
          "output_type": "stream",
          "text": [
            "57/57 [==============================] - 18s 318ms/step - loss: 0.9013 - accuracy: 0.6702 - precision: 0.7968 - recall: 0.5357 - val_loss: 0.8540 - val_accuracy: 0.6993 - val_precision: 0.8616 - val_recall: 0.5259\n",
            "Epoch 539/800\n",
            "58/57 [==============================] - ETA: 0s - loss: 0.9018 - accuracy: 0.6704 - precision: 0.7954 - recall: 0.5346"
          ]
        },
        {
          "metadata": {
            "tags": null
          },
          "name": "stderr",
          "output_type": "stream",
          "text": [
            "WARNING:tensorflow:Can save best model only with acc available, skipping.\n"
          ]
        },
        {
          "metadata": {
            "tags": null
          },
          "name": "stdout",
          "output_type": "stream",
          "text": [
            "57/57 [==============================] - 19s 323ms/step - loss: 0.9018 - accuracy: 0.6704 - precision: 0.7954 - recall: 0.5346 - val_loss: 0.8530 - val_accuracy: 0.7000 - val_precision: 0.8617 - val_recall: 0.5265\n",
            "Epoch 540/800\n",
            "58/57 [==============================] - ETA: 0s - loss: 0.9018 - accuracy: 0.6693 - precision: 0.7963 - recall: 0.5346"
          ]
        },
        {
          "metadata": {
            "tags": null
          },
          "name": "stderr",
          "output_type": "stream",
          "text": [
            "WARNING:tensorflow:Can save best model only with acc available, skipping.\n"
          ]
        },
        {
          "metadata": {
            "tags": null
          },
          "name": "stdout",
          "output_type": "stream",
          "text": [
            "57/57 [==============================] - 18s 309ms/step - loss: 0.9018 - accuracy: 0.6693 - precision: 0.7963 - recall: 0.5346 - val_loss: 0.8531 - val_accuracy: 0.6993 - val_precision: 0.8614 - val_recall: 0.5265\n",
            "Epoch 541/800\n",
            "58/57 [==============================] - ETA: 0s - loss: 0.8992 - accuracy: 0.6727 - precision: 0.7973 - recall: 0.5362"
          ]
        },
        {
          "metadata": {
            "tags": null
          },
          "name": "stderr",
          "output_type": "stream",
          "text": [
            "WARNING:tensorflow:Can save best model only with acc available, skipping.\n"
          ]
        },
        {
          "metadata": {
            "tags": null
          },
          "name": "stdout",
          "output_type": "stream",
          "text": [
            "57/57 [==============================] - 18s 306ms/step - loss: 0.8992 - accuracy: 0.6727 - precision: 0.7973 - recall: 0.5362 - val_loss: 0.8521 - val_accuracy: 0.7003 - val_precision: 0.8617 - val_recall: 0.5270\n",
            "Epoch 542/800\n",
            "58/57 [==============================] - ETA: 0s - loss: 0.9001 - accuracy: 0.6700 - precision: 0.7975 - recall: 0.5347"
          ]
        },
        {
          "metadata": {
            "tags": null
          },
          "name": "stderr",
          "output_type": "stream",
          "text": [
            "WARNING:tensorflow:Can save best model only with acc available, skipping.\n"
          ]
        },
        {
          "metadata": {
            "tags": null
          },
          "name": "stdout",
          "output_type": "stream",
          "text": [
            "57/57 [==============================] - 18s 306ms/step - loss: 0.9001 - accuracy: 0.6700 - precision: 0.7975 - recall: 0.5347 - val_loss: 0.8515 - val_accuracy: 0.7005 - val_precision: 0.8619 - val_recall: 0.5275\n",
            "Epoch 543/800\n",
            "58/57 [==============================] - ETA: 0s - loss: 0.8990 - accuracy: 0.6722 - precision: 0.7972 - recall: 0.5362"
          ]
        },
        {
          "metadata": {
            "tags": null
          },
          "name": "stderr",
          "output_type": "stream",
          "text": [
            "WARNING:tensorflow:Can save best model only with acc available, skipping.\n"
          ]
        },
        {
          "metadata": {
            "tags": null
          },
          "name": "stdout",
          "output_type": "stream",
          "text": [
            "57/57 [==============================] - 18s 305ms/step - loss: 0.8990 - accuracy: 0.6722 - precision: 0.7972 - recall: 0.5362 - val_loss: 0.8507 - val_accuracy: 0.7010 - val_precision: 0.8620 - val_recall: 0.5280\n",
            "Epoch 544/800\n",
            "58/57 [==============================] - ETA: 0s - loss: 0.8979 - accuracy: 0.6732 - precision: 0.7998 - recall: 0.5376"
          ]
        },
        {
          "metadata": {
            "tags": null
          },
          "name": "stderr",
          "output_type": "stream",
          "text": [
            "WARNING:tensorflow:Can save best model only with acc available, skipping.\n"
          ]
        },
        {
          "metadata": {
            "tags": null
          },
          "name": "stdout",
          "output_type": "stream",
          "text": [
            "57/57 [==============================] - 18s 309ms/step - loss: 0.8979 - accuracy: 0.6732 - precision: 0.7998 - recall: 0.5376 - val_loss: 0.8501 - val_accuracy: 0.7013 - val_precision: 0.8621 - val_recall: 0.5280\n",
            "Epoch 545/800\n",
            "58/57 [==============================] - ETA: 0s - loss: 0.8983 - accuracy: 0.6736 - precision: 0.7981 - recall: 0.5363"
          ]
        },
        {
          "metadata": {
            "tags": null
          },
          "name": "stderr",
          "output_type": "stream",
          "text": [
            "WARNING:tensorflow:Can save best model only with acc available, skipping.\n"
          ]
        },
        {
          "metadata": {
            "tags": null
          },
          "name": "stdout",
          "output_type": "stream",
          "text": [
            "57/57 [==============================] - 19s 326ms/step - loss: 0.8983 - accuracy: 0.6736 - precision: 0.7981 - recall: 0.5363 - val_loss: 0.8495 - val_accuracy: 0.7011 - val_precision: 0.8619 - val_recall: 0.5288\n",
            "Epoch 546/800\n",
            "58/57 [==============================] - ETA: 0s - loss: 0.8982 - accuracy: 0.6723 - precision: 0.7991 - recall: 0.5362"
          ]
        },
        {
          "metadata": {
            "tags": null
          },
          "name": "stderr",
          "output_type": "stream",
          "text": [
            "WARNING:tensorflow:Can save best model only with acc available, skipping.\n"
          ]
        },
        {
          "metadata": {
            "tags": null
          },
          "name": "stdout",
          "output_type": "stream",
          "text": [
            "57/57 [==============================] - 18s 312ms/step - loss: 0.8982 - accuracy: 0.6723 - precision: 0.7991 - recall: 0.5362 - val_loss: 0.8492 - val_accuracy: 0.7012 - val_precision: 0.8621 - val_recall: 0.5289\n",
            "Epoch 547/800\n",
            "58/57 [==============================] - ETA: 0s - loss: 0.8980 - accuracy: 0.6721 - precision: 0.7984 - recall: 0.5373"
          ]
        },
        {
          "metadata": {
            "tags": null
          },
          "name": "stderr",
          "output_type": "stream",
          "text": [
            "WARNING:tensorflow:Can save best model only with acc available, skipping.\n"
          ]
        },
        {
          "metadata": {
            "tags": null
          },
          "name": "stdout",
          "output_type": "stream",
          "text": [
            "57/57 [==============================] - 19s 328ms/step - loss: 0.8980 - accuracy: 0.6721 - precision: 0.7984 - recall: 0.5373 - val_loss: 0.8482 - val_accuracy: 0.7019 - val_precision: 0.8621 - val_recall: 0.5295\n",
            "Epoch 548/800\n",
            "58/57 [==============================] - ETA: 0s - loss: 0.8942 - accuracy: 0.6719 - precision: 0.7971 - recall: 0.5368"
          ]
        },
        {
          "metadata": {
            "tags": null
          },
          "name": "stderr",
          "output_type": "stream",
          "text": [
            "WARNING:tensorflow:Can save best model only with acc available, skipping.\n"
          ]
        },
        {
          "metadata": {
            "tags": null
          },
          "name": "stdout",
          "output_type": "stream",
          "text": [
            "57/57 [==============================] - 18s 304ms/step - loss: 0.8942 - accuracy: 0.6719 - precision: 0.7971 - recall: 0.5368 - val_loss: 0.8479 - val_accuracy: 0.7021 - val_precision: 0.8624 - val_recall: 0.5296\n",
            "Epoch 549/800\n",
            "58/57 [==============================] - ETA: 0s - loss: 0.8936 - accuracy: 0.6731 - precision: 0.7985 - recall: 0.5377"
          ]
        },
        {
          "metadata": {
            "tags": null
          },
          "name": "stderr",
          "output_type": "stream",
          "text": [
            "WARNING:tensorflow:Can save best model only with acc available, skipping.\n"
          ]
        },
        {
          "metadata": {
            "tags": null
          },
          "name": "stdout",
          "output_type": "stream",
          "text": [
            "57/57 [==============================] - 19s 323ms/step - loss: 0.8936 - accuracy: 0.6731 - precision: 0.7985 - recall: 0.5377 - val_loss: 0.8471 - val_accuracy: 0.7025 - val_precision: 0.8624 - val_recall: 0.5300\n",
            "Epoch 550/800\n",
            "58/57 [==============================] - ETA: 0s - loss: 0.8979 - accuracy: 0.6734 - precision: 0.7987 - recall: 0.5372"
          ]
        },
        {
          "metadata": {
            "tags": null
          },
          "name": "stderr",
          "output_type": "stream",
          "text": [
            "WARNING:tensorflow:Can save best model only with acc available, skipping.\n"
          ]
        },
        {
          "metadata": {
            "tags": null
          },
          "name": "stdout",
          "output_type": "stream",
          "text": [
            "57/57 [==============================] - 18s 306ms/step - loss: 0.8979 - accuracy: 0.6734 - precision: 0.7987 - recall: 0.5372 - val_loss: 0.8467 - val_accuracy: 0.7026 - val_precision: 0.8622 - val_recall: 0.5304\n",
            "Epoch 551/800\n",
            "58/57 [==============================] - ETA: 0s - loss: 0.8995 - accuracy: 0.6705 - precision: 0.7950 - recall: 0.5350"
          ]
        },
        {
          "metadata": {
            "tags": null
          },
          "name": "stderr",
          "output_type": "stream",
          "text": [
            "WARNING:tensorflow:Can save best model only with acc available, skipping.\n"
          ]
        },
        {
          "metadata": {
            "tags": null
          },
          "name": "stdout",
          "output_type": "stream",
          "text": [
            "57/57 [==============================] - 19s 335ms/step - loss: 0.8995 - accuracy: 0.6705 - precision: 0.7950 - recall: 0.5350 - val_loss: 0.8462 - val_accuracy: 0.7026 - val_precision: 0.8622 - val_recall: 0.5308\n",
            "Epoch 552/800\n",
            "58/57 [==============================] - ETA: 0s - loss: 0.8929 - accuracy: 0.6753 - precision: 0.7970 - recall: 0.5385"
          ]
        },
        {
          "metadata": {
            "tags": null
          },
          "name": "stderr",
          "output_type": "stream",
          "text": [
            "WARNING:tensorflow:Can save best model only with acc available, skipping.\n"
          ]
        },
        {
          "metadata": {
            "tags": null
          },
          "name": "stdout",
          "output_type": "stream",
          "text": [
            "57/57 [==============================] - 18s 319ms/step - loss: 0.8929 - accuracy: 0.6753 - precision: 0.7970 - recall: 0.5385 - val_loss: 0.8460 - val_accuracy: 0.7027 - val_precision: 0.8619 - val_recall: 0.5312\n",
            "Epoch 553/800\n",
            "58/57 [==============================] - ETA: 0s - loss: 0.8934 - accuracy: 0.6754 - precision: 0.7995 - recall: 0.5390"
          ]
        },
        {
          "metadata": {
            "tags": null
          },
          "name": "stderr",
          "output_type": "stream",
          "text": [
            "WARNING:tensorflow:Can save best model only with acc available, skipping.\n"
          ]
        },
        {
          "metadata": {
            "tags": null
          },
          "name": "stdout",
          "output_type": "stream",
          "text": [
            "57/57 [==============================] - 18s 318ms/step - loss: 0.8934 - accuracy: 0.6754 - precision: 0.7995 - recall: 0.5390 - val_loss: 0.8449 - val_accuracy: 0.7033 - val_precision: 0.8616 - val_recall: 0.5314\n",
            "Epoch 554/800\n",
            "58/57 [==============================] - ETA: 0s - loss: 0.8930 - accuracy: 0.6748 - precision: 0.7987 - recall: 0.5401"
          ]
        },
        {
          "metadata": {
            "tags": null
          },
          "name": "stderr",
          "output_type": "stream",
          "text": [
            "WARNING:tensorflow:Can save best model only with acc available, skipping.\n"
          ]
        },
        {
          "metadata": {
            "tags": null
          },
          "name": "stdout",
          "output_type": "stream",
          "text": [
            "57/57 [==============================] - 19s 321ms/step - loss: 0.8930 - accuracy: 0.6748 - precision: 0.7987 - recall: 0.5401 - val_loss: 0.8447 - val_accuracy: 0.7031 - val_precision: 0.8617 - val_recall: 0.5317\n",
            "Epoch 555/800\n",
            "58/57 [==============================] - ETA: 0s - loss: 0.8903 - accuracy: 0.6759 - precision: 0.7991 - recall: 0.5423"
          ]
        },
        {
          "metadata": {
            "tags": null
          },
          "name": "stderr",
          "output_type": "stream",
          "text": [
            "WARNING:tensorflow:Can save best model only with acc available, skipping.\n"
          ]
        },
        {
          "metadata": {
            "tags": null
          },
          "name": "stdout",
          "output_type": "stream",
          "text": [
            "57/57 [==============================] - 20s 340ms/step - loss: 0.8903 - accuracy: 0.6759 - precision: 0.7991 - recall: 0.5423 - val_loss: 0.8444 - val_accuracy: 0.7031 - val_precision: 0.8619 - val_recall: 0.5317\n",
            "Epoch 556/800\n",
            "58/57 [==============================] - ETA: 0s - loss: 0.8938 - accuracy: 0.6715 - precision: 0.7981 - recall: 0.5384"
          ]
        },
        {
          "metadata": {
            "tags": null
          },
          "name": "stderr",
          "output_type": "stream",
          "text": [
            "WARNING:tensorflow:Can save best model only with acc available, skipping.\n"
          ]
        },
        {
          "metadata": {
            "tags": null
          },
          "name": "stdout",
          "output_type": "stream",
          "text": [
            "57/57 [==============================] - 19s 324ms/step - loss: 0.8938 - accuracy: 0.6715 - precision: 0.7981 - recall: 0.5384 - val_loss: 0.8437 - val_accuracy: 0.7036 - val_precision: 0.8615 - val_recall: 0.5319\n",
            "Epoch 557/800\n",
            "58/57 [==============================] - ETA: 0s - loss: 0.8919 - accuracy: 0.6725 - precision: 0.7974 - recall: 0.5390"
          ]
        },
        {
          "metadata": {
            "tags": null
          },
          "name": "stderr",
          "output_type": "stream",
          "text": [
            "WARNING:tensorflow:Can save best model only with acc available, skipping.\n"
          ]
        },
        {
          "metadata": {
            "tags": null
          },
          "name": "stdout",
          "output_type": "stream",
          "text": [
            "57/57 [==============================] - 19s 325ms/step - loss: 0.8919 - accuracy: 0.6725 - precision: 0.7974 - recall: 0.5390 - val_loss: 0.8433 - val_accuracy: 0.7038 - val_precision: 0.8614 - val_recall: 0.5320\n",
            "Epoch 558/800\n",
            "58/57 [==============================] - ETA: 0s - loss: 0.8916 - accuracy: 0.6770 - precision: 0.8003 - recall: 0.5438"
          ]
        },
        {
          "metadata": {
            "tags": null
          },
          "name": "stderr",
          "output_type": "stream",
          "text": [
            "WARNING:tensorflow:Can save best model only with acc available, skipping.\n"
          ]
        },
        {
          "metadata": {
            "tags": null
          },
          "name": "stdout",
          "output_type": "stream",
          "text": [
            "57/57 [==============================] - 19s 323ms/step - loss: 0.8916 - accuracy: 0.6770 - precision: 0.8003 - recall: 0.5438 - val_loss: 0.8426 - val_accuracy: 0.7040 - val_precision: 0.8618 - val_recall: 0.5319\n",
            "Epoch 559/800\n",
            "58/57 [==============================] - ETA: 0s - loss: 0.8936 - accuracy: 0.6729 - precision: 0.7962 - recall: 0.5363"
          ]
        },
        {
          "metadata": {
            "tags": null
          },
          "name": "stderr",
          "output_type": "stream",
          "text": [
            "WARNING:tensorflow:Can save best model only with acc available, skipping.\n"
          ]
        },
        {
          "metadata": {
            "tags": null
          },
          "name": "stdout",
          "output_type": "stream",
          "text": [
            "57/57 [==============================] - 19s 321ms/step - loss: 0.8936 - accuracy: 0.6729 - precision: 0.7962 - recall: 0.5363 - val_loss: 0.8427 - val_accuracy: 0.7039 - val_precision: 0.8615 - val_recall: 0.5322\n",
            "Epoch 560/800\n",
            "58/57 [==============================] - ETA: 0s - loss: 0.8892 - accuracy: 0.6751 - precision: 0.7999 - recall: 0.5408"
          ]
        },
        {
          "metadata": {
            "tags": null
          },
          "name": "stderr",
          "output_type": "stream",
          "text": [
            "WARNING:tensorflow:Can save best model only with acc available, skipping.\n"
          ]
        },
        {
          "metadata": {
            "tags": null
          },
          "name": "stdout",
          "output_type": "stream",
          "text": [
            "57/57 [==============================] - 22s 376ms/step - loss: 0.8892 - accuracy: 0.6751 - precision: 0.7999 - recall: 0.5408 - val_loss: 0.8420 - val_accuracy: 0.7044 - val_precision: 0.8614 - val_recall: 0.5325\n",
            "Epoch 561/800\n",
            "58/57 [==============================] - ETA: 0s - loss: 0.8894 - accuracy: 0.6750 - precision: 0.8012 - recall: 0.5425"
          ]
        },
        {
          "metadata": {
            "tags": null
          },
          "name": "stderr",
          "output_type": "stream",
          "text": [
            "WARNING:tensorflow:Can save best model only with acc available, skipping.\n"
          ]
        },
        {
          "metadata": {
            "tags": null
          },
          "name": "stdout",
          "output_type": "stream",
          "text": [
            "57/57 [==============================] - 22s 373ms/step - loss: 0.8894 - accuracy: 0.6750 - precision: 0.8012 - recall: 0.5425 - val_loss: 0.8417 - val_accuracy: 0.7043 - val_precision: 0.8610 - val_recall: 0.5330\n",
            "Epoch 562/800\n",
            "58/57 [==============================] - ETA: 0s - loss: 0.8894 - accuracy: 0.6761 - precision: 0.7982 - recall: 0.5414"
          ]
        },
        {
          "metadata": {
            "tags": null
          },
          "name": "stderr",
          "output_type": "stream",
          "text": [
            "WARNING:tensorflow:Can save best model only with acc available, skipping.\n"
          ]
        },
        {
          "metadata": {
            "tags": null
          },
          "name": "stdout",
          "output_type": "stream",
          "text": [
            "57/57 [==============================] - 22s 387ms/step - loss: 0.8894 - accuracy: 0.6761 - precision: 0.7982 - recall: 0.5414 - val_loss: 0.8415 - val_accuracy: 0.7041 - val_precision: 0.8608 - val_recall: 0.5335\n",
            "Epoch 563/800\n",
            "58/57 [==============================] - ETA: 0s - loss: 0.8890 - accuracy: 0.6754 - precision: 0.8007 - recall: 0.5416"
          ]
        },
        {
          "metadata": {
            "tags": null
          },
          "name": "stderr",
          "output_type": "stream",
          "text": [
            "WARNING:tensorflow:Can save best model only with acc available, skipping.\n"
          ]
        },
        {
          "metadata": {
            "tags": null
          },
          "name": "stdout",
          "output_type": "stream",
          "text": [
            "57/57 [==============================] - 20s 350ms/step - loss: 0.8890 - accuracy: 0.6754 - precision: 0.8007 - recall: 0.5416 - val_loss: 0.8408 - val_accuracy: 0.7046 - val_precision: 0.8608 - val_recall: 0.5338\n",
            "Epoch 564/800\n",
            "58/57 [==============================] - ETA: 0s - loss: 0.8889 - accuracy: 0.6736 - precision: 0.7985 - recall: 0.5410"
          ]
        },
        {
          "metadata": {
            "tags": null
          },
          "name": "stderr",
          "output_type": "stream",
          "text": [
            "WARNING:tensorflow:Can save best model only with acc available, skipping.\n"
          ]
        },
        {
          "metadata": {
            "tags": null
          },
          "name": "stdout",
          "output_type": "stream",
          "text": [
            "57/57 [==============================] - 21s 360ms/step - loss: 0.8889 - accuracy: 0.6736 - precision: 0.7985 - recall: 0.5410 - val_loss: 0.8400 - val_accuracy: 0.7048 - val_precision: 0.8613 - val_recall: 0.5343\n",
            "Epoch 565/800\n",
            "58/57 [==============================] - ETA: 0s - loss: 0.8862 - accuracy: 0.6764 - precision: 0.8001 - recall: 0.5436"
          ]
        },
        {
          "metadata": {
            "tags": null
          },
          "name": "stderr",
          "output_type": "stream",
          "text": [
            "WARNING:tensorflow:Can save best model only with acc available, skipping.\n"
          ]
        },
        {
          "metadata": {
            "tags": null
          },
          "name": "stdout",
          "output_type": "stream",
          "text": [
            "57/57 [==============================] - 22s 382ms/step - loss: 0.8862 - accuracy: 0.6764 - precision: 0.8001 - recall: 0.5436 - val_loss: 0.8394 - val_accuracy: 0.7054 - val_precision: 0.8615 - val_recall: 0.5345\n",
            "Epoch 566/800\n",
            "58/57 [==============================] - ETA: 0s - loss: 0.8876 - accuracy: 0.6758 - precision: 0.8024 - recall: 0.5434"
          ]
        },
        {
          "metadata": {
            "tags": null
          },
          "name": "stderr",
          "output_type": "stream",
          "text": [
            "WARNING:tensorflow:Can save best model only with acc available, skipping.\n"
          ]
        },
        {
          "metadata": {
            "tags": null
          },
          "name": "stdout",
          "output_type": "stream",
          "text": [
            "57/57 [==============================] - 19s 328ms/step - loss: 0.8876 - accuracy: 0.6758 - precision: 0.8024 - recall: 0.5434 - val_loss: 0.8387 - val_accuracy: 0.7054 - val_precision: 0.8617 - val_recall: 0.5348\n",
            "Epoch 567/800\n",
            "58/57 [==============================] - ETA: 0s - loss: 0.8872 - accuracy: 0.6749 - precision: 0.7980 - recall: 0.5425"
          ]
        },
        {
          "metadata": {
            "tags": null
          },
          "name": "stderr",
          "output_type": "stream",
          "text": [
            "WARNING:tensorflow:Can save best model only with acc available, skipping.\n"
          ]
        },
        {
          "output_type": "stream",
          "name": "stdout",
          "text": [
            "57/57 [==============================] - 20s 340ms/step - loss: 0.8872 - accuracy: 0.6749 - precision: 0.7980 - recall: 0.5425 - val_loss: 0.8387 - val_accuracy: 0.7052 - val_precision: 0.8610 - val_recall: 0.5345\n",
            "Epoch 568/800\n",
            "58/57 [==============================] - ETA: 0s - loss: 0.8878 - accuracy: 0.6753 - precision: 0.8011 - recall: 0.5415"
          ]
        },
        {
          "output_type": "stream",
          "name": "stderr",
          "text": [
            "WARNING:tensorflow:Can save best model only with acc available, skipping.\n"
          ]
        },
        {
          "output_type": "stream",
          "name": "stdout",
          "text": [
            "\b\b\b\b\b\b\b\b\b\b\b\b\b\b\b\b\b\b\b\b\b\b\b\b\b\b\b\b\b\b\b\b\b\b\b\b\b\b\b\b\b\b\b\b\b\b\b\b\b\b\b\b\b\b\b\b\b\b\b\b\b\b\b\b\b\b\b\b\b\b\b\b\b\b\b\b\b\b\b\b\b\b\b\b\b\b\b\b\b\b\b\b\b\b\b\b\b\b\b\b\b\b\b\b\b\b\b\b\b\b\b\b\b\b\b\b\b\b\b\r57/57 [==============================] - 19s 335ms/step - loss: 0.8878 - accuracy: 0.6753 - precision: 0.8011 - recall: 0.5415 - val_loss: 0.8383 - val_accuracy: 0.7053 - val_precision: 0.8610 - val_recall: 0.5348\n",
            "Epoch 569/800\n",
            "58/57 [==============================] - ETA: 0s - loss: 0.8830 - accuracy: 0.6785 - precision: 0.8004 - recall: 0.5439"
          ]
        },
        {
          "output_type": "stream",
          "name": "stderr",
          "text": [
            "WARNING:tensorflow:Can save best model only with acc available, skipping.\n"
          ]
        },
        {
          "output_type": "stream",
          "name": "stdout",
          "text": [
            "\b\b\b\b\b\b\b\b\b\b\b\b\b\b\b\b\b\b\b\b\b\b\b\b\b\b\b\b\b\b\b\b\b\b\b\b\b\b\b\b\b\b\b\b\b\b\b\b\b\b\b\b\b\b\b\b\b\b\b\b\b\b\b\b\b\b\b\b\b\b\b\b\b\b\b\b\b\b\b\b\b\b\b\b\b\b\b\b\b\b\b\b\b\b\b\b\b\b\b\b\b\b\b\b\b\b\b\b\b\b\b\b\b\b\b\b\b\b\b\r57/57 [==============================] - 20s 345ms/step - loss: 0.8830 - accuracy: 0.6785 - precision: 0.8004 - recall: 0.5439 - val_loss: 0.8378 - val_accuracy: 0.7056 - val_precision: 0.8613 - val_recall: 0.5351\n",
            "Epoch 570/800\n",
            "58/57 [==============================] - ETA: 0s - loss: 0.8822 - accuracy: 0.6781 - precision: 0.8013 - recall: 0.5438"
          ]
        },
        {
          "output_type": "stream",
          "name": "stderr",
          "text": [
            "WARNING:tensorflow:Can save best model only with acc available, skipping.\n"
          ]
        },
        {
          "output_type": "stream",
          "name": "stdout",
          "text": [
            "\b\b\b\b\b\b\b\b\b\b\b\b\b\b\b\b\b\b\b\b\b\b\b\b\b\b\b\b\b\b\b\b\b\b\b\b\b\b\b\b\b\b\b\b\b\b\b\b\b\b\b\b\b\b\b\b\b\b\b\b\b\b\b\b\b\b\b\b\b\b\b\b\b\b\b\b\b\b\b\b\b\b\b\b\b\b\b\b\b\b\b\b\b\b\b\b\b\b\b\b\b\b\b\b\b\b\b\b\b\b\b\b\b\b\b\b\b\b\b\r57/57 [==============================] - 19s 323ms/step - loss: 0.8822 - accuracy: 0.6781 - precision: 0.8013 - recall: 0.5438 - val_loss: 0.8375 - val_accuracy: 0.7056 - val_precision: 0.8613 - val_recall: 0.5356\n",
            "Epoch 571/800\n",
            "58/57 [==============================] - ETA: 0s - loss: 0.8829 - accuracy: 0.6778 - precision: 0.7995 - recall: 0.5429"
          ]
        },
        {
          "output_type": "stream",
          "name": "stderr",
          "text": [
            "WARNING:tensorflow:Can save best model only with acc available, skipping.\n"
          ]
        },
        {
          "output_type": "stream",
          "name": "stdout",
          "text": [
            "\b\b\b\b\b\b\b\b\b\b\b\b\b\b\b\b\b\b\b\b\b\b\b\b\b\b\b\b\b\b\b\b\b\b\b\b\b\b\b\b\b\b\b\b\b\b\b\b\b\b\b\b\b\b\b\b\b\b\b\b\b\b\b\b\b\b\b\b\b\b\b\b\b\b\b\b\b\b\b\b\b\b\b\b\b\b\b\b\b\b\b\b\b\b\b\b\b\b\b\b\b\b\b\b\b\b\b\b\b\b\b\b\b\b\b\b\b\b\b\r57/57 [==============================] - 18s 316ms/step - loss: 0.8829 - accuracy: 0.6778 - precision: 0.7995 - recall: 0.5429 - val_loss: 0.8366 - val_accuracy: 0.7058 - val_precision: 0.8615 - val_recall: 0.5357\n",
            "Epoch 572/800\n",
            "58/57 [==============================] - ETA: 0s - loss: 0.8827 - accuracy: 0.6767 - precision: 0.7999 - recall: 0.5435"
          ]
        },
        {
          "output_type": "stream",
          "name": "stderr",
          "text": [
            "WARNING:tensorflow:Can save best model only with acc available, skipping.\n"
          ]
        },
        {
          "output_type": "stream",
          "name": "stdout",
          "text": [
            "\b\b\b\b\b\b\b\b\b\b\b\b\b\b\b\b\b\b\b\b\b\b\b\b\b\b\b\b\b\b\b\b\b\b\b\b\b\b\b\b\b\b\b\b\b\b\b\b\b\b\b\b\b\b\b\b\b\b\b\b\b\b\b\b\b\b\b\b\b\b\b\b\b\b\b\b\b\b\b\b\b\b\b\b\b\b\b\b\b\b\b\b\b\b\b\b\b\b\b\b\b\b\b\b\b\b\b\b\b\b\b\b\b\b\b\b\b\b\b\r57/57 [==============================] - 20s 351ms/step - loss: 0.8827 - accuracy: 0.6767 - precision: 0.7999 - recall: 0.5435 - val_loss: 0.8361 - val_accuracy: 0.7059 - val_precision: 0.8614 - val_recall: 0.5361\n",
            "Epoch 573/800\n",
            "58/57 [==============================] - ETA: 0s - loss: 0.8828 - accuracy: 0.6768 - precision: 0.7995 - recall: 0.5459"
          ]
        },
        {
          "output_type": "stream",
          "name": "stderr",
          "text": [
            "WARNING:tensorflow:Can save best model only with acc available, skipping.\n"
          ]
        },
        {
          "output_type": "stream",
          "name": "stdout",
          "text": [
            "\b\b\b\b\b\b\b\b\b\b\b\b\b\b\b\b\b\b\b\b\b\b\b\b\b\b\b\b\b\b\b\b\b\b\b\b\b\b\b\b\b\b\b\b\b\b\b\b\b\b\b\b\b\b\b\b\b\b\b\b\b\b\b\b\b\b\b\b\b\b\b\b\b\b\b\b\b\b\b\b\b\b\b\b\b\b\b\b\b\b\b\b\b\b\b\b\b\b\b\b\b\b\b\b\b\b\b\b\b\b\b\b\b\b\b\b\b\b\b\r57/57 [==============================] - 18s 318ms/step - loss: 0.8828 - accuracy: 0.6768 - precision: 0.7995 - recall: 0.5459 - val_loss: 0.8355 - val_accuracy: 0.7060 - val_precision: 0.8617 - val_recall: 0.5363\n",
            "Epoch 574/800\n",
            "58/57 [==============================] - ETA: 0s - loss: 0.8812 - accuracy: 0.6797 - precision: 0.8016 - recall: 0.5478"
          ]
        },
        {
          "output_type": "stream",
          "name": "stderr",
          "text": [
            "WARNING:tensorflow:Can save best model only with acc available, skipping.\n"
          ]
        },
        {
          "output_type": "stream",
          "name": "stdout",
          "text": [
            "\b\b\b\b\b\b\b\b\b\b\b\b\b\b\b\b\b\b\b\b\b\b\b\b\b\b\b\b\b\b\b\b\b\b\b\b\b\b\b\b\b\b\b\b\b\b\b\b\b\b\b\b\b\b\b\b\b\b\b\b\b\b\b\b\b\b\b\b\b\b\b\b\b\b\b\b\b\b\b\b\b\b\b\b\b\b\b\b\b\b\b\b\b\b\b\b\b\b\b\b\b\b\b\b\b\b\b\b\b\b\b\b\b\b\b\b\b\b\b\r57/57 [==============================] - 19s 336ms/step - loss: 0.8812 - accuracy: 0.6797 - precision: 0.8016 - recall: 0.5478 - val_loss: 0.8355 - val_accuracy: 0.7063 - val_precision: 0.8611 - val_recall: 0.5368\n",
            "Epoch 575/800\n",
            "58/57 [==============================] - ETA: 0s - loss: 0.8798 - accuracy: 0.6785 - precision: 0.8034 - recall: 0.5471"
          ]
        },
        {
          "output_type": "stream",
          "name": "stderr",
          "text": [
            "WARNING:tensorflow:Can save best model only with acc available, skipping.\n"
          ]
        },
        {
          "output_type": "stream",
          "name": "stdout",
          "text": [
            "\b\b\b\b\b\b\b\b\b\b\b\b\b\b\b\b\b\b\b\b\b\b\b\b\b\b\b\b\b\b\b\b\b\b\b\b\b\b\b\b\b\b\b\b\b\b\b\b\b\b\b\b\b\b\b\b\b\b\b\b\b\b\b\b\b\b\b\b\b\b\b\b\b\b\b\b\b\b\b\b\b\b\b\b\b\b\b\b\b\b\b\b\b\b\b\b\b\b\b\b\b\b\b\b\b\b\b\b\b\b\b\b\b\b\b\b\b\b\b\r57/57 [==============================] - 19s 334ms/step - loss: 0.8798 - accuracy: 0.6785 - precision: 0.8034 - recall: 0.5471 - val_loss: 0.8348 - val_accuracy: 0.7061 - val_precision: 0.8611 - val_recall: 0.5367\n",
            "Epoch 576/800\n",
            "58/57 [==============================] - ETA: 0s - loss: 0.8813 - accuracy: 0.6804 - precision: 0.8022 - recall: 0.5466"
          ]
        },
        {
          "output_type": "stream",
          "name": "stderr",
          "text": [
            "WARNING:tensorflow:Can save best model only with acc available, skipping.\n"
          ]
        },
        {
          "output_type": "stream",
          "name": "stdout",
          "text": [
            "\b\b\b\b\b\b\b\b\b\b\b\b\b\b\b\b\b\b\b\b\b\b\b\b\b\b\b\b\b\b\b\b\b\b\b\b\b\b\b\b\b\b\b\b\b\b\b\b\b\b\b\b\b\b\b\b\b\b\b\b\b\b\b\b\b\b\b\b\b\b\b\b\b\b\b\b\b\b\b\b\b\b\b\b\b\b\b\b\b\b\b\b\b\b\b\b\b\b\b\b\b\b\b\b\b\b\b\b\b\b\b\b\b\b\b\b\b\b\b\r57/57 [==============================] - 19s 336ms/step - loss: 0.8813 - accuracy: 0.6804 - precision: 0.8022 - recall: 0.5466 - val_loss: 0.8346 - val_accuracy: 0.7063 - val_precision: 0.8612 - val_recall: 0.5373\n",
            "Epoch 577/800\n",
            "58/57 [==============================] - ETA: 0s - loss: 0.8811 - accuracy: 0.6789 - precision: 0.8005 - recall: 0.5450"
          ]
        },
        {
          "output_type": "stream",
          "name": "stderr",
          "text": [
            "WARNING:tensorflow:Can save best model only with acc available, skipping.\n"
          ]
        },
        {
          "output_type": "stream",
          "name": "stdout",
          "text": [
            "\b\b\b\b\b\b\b\b\b\b\b\b\b\b\b\b\b\b\b\b\b\b\b\b\b\b\b\b\b\b\b\b\b\b\b\b\b\b\b\b\b\b\b\b\b\b\b\b\b\b\b\b\b\b\b\b\b\b\b\b\b\b\b\b\b\b\b\b\b\b\b\b\b\b\b\b\b\b\b\b\b\b\b\b\b\b\b\b\b\b\b\b\b\b\b\b\b\b\b\b\b\b\b\b\b\b\b\b\b\b\b\b\b\b\b\b\b\b\b\r57/57 [==============================] - 19s 329ms/step - loss: 0.8811 - accuracy: 0.6789 - precision: 0.8005 - recall: 0.5450 - val_loss: 0.8337 - val_accuracy: 0.7064 - val_precision: 0.8614 - val_recall: 0.5372\n",
            "Epoch 578/800\n",
            "58/57 [==============================] - ETA: 0s - loss: 0.8813 - accuracy: 0.6786 - precision: 0.8030 - recall: 0.5460"
          ]
        },
        {
          "output_type": "stream",
          "name": "stderr",
          "text": [
            "WARNING:tensorflow:Can save best model only with acc available, skipping.\n"
          ]
        },
        {
          "output_type": "stream",
          "name": "stdout",
          "text": [
            "\b\b\b\b\b\b\b\b\b\b\b\b\b\b\b\b\b\b\b\b\b\b\b\b\b\b\b\b\b\b\b\b\b\b\b\b\b\b\b\b\b\b\b\b\b\b\b\b\b\b\b\b\b\b\b\b\b\b\b\b\b\b\b\b\b\b\b\b\b\b\b\b\b\b\b\b\b\b\b\b\b\b\b\b\b\b\b\b\b\b\b\b\b\b\b\b\b\b\b\b\b\b\b\b\b\b\b\b\b\b\b\b\b\b\b\b\b\b\b\r57/57 [==============================] - 19s 329ms/step - loss: 0.8813 - accuracy: 0.6786 - precision: 0.8030 - recall: 0.5460 - val_loss: 0.8337 - val_accuracy: 0.7064 - val_precision: 0.8613 - val_recall: 0.5377\n",
            "Epoch 579/800\n",
            "58/57 [==============================] - ETA: 0s - loss: 0.8792 - accuracy: 0.6789 - precision: 0.8028 - recall: 0.5442"
          ]
        },
        {
          "output_type": "stream",
          "name": "stderr",
          "text": [
            "WARNING:tensorflow:Can save best model only with acc available, skipping.\n"
          ]
        },
        {
          "output_type": "stream",
          "name": "stdout",
          "text": [
            "\b\b\b\b\b\b\b\b\b\b\b\b\b\b\b\b\b\b\b\b\b\b\b\b\b\b\b\b\b\b\b\b\b\b\b\b\b\b\b\b\b\b\b\b\b\b\b\b\b\b\b\b\b\b\b\b\b\b\b\b\b\b\b\b\b\b\b\b\b\b\b\b\b\b\b\b\b\b\b\b\b\b\b\b\b\b\b\b\b\b\b\b\b\b\b\b\b\b\b\b\b\b\b\b\b\b\b\b\b\b\b\b\b\b\b\b\b\b\b\r57/57 [==============================] - 18s 319ms/step - loss: 0.8792 - accuracy: 0.6789 - precision: 0.8028 - recall: 0.5442 - val_loss: 0.8326 - val_accuracy: 0.7069 - val_precision: 0.8617 - val_recall: 0.5379\n",
            "Epoch 580/800\n",
            "58/57 [==============================] - ETA: 0s - loss: 0.8785 - accuracy: 0.6801 - precision: 0.8024 - recall: 0.5469"
          ]
        },
        {
          "output_type": "stream",
          "name": "stderr",
          "text": [
            "WARNING:tensorflow:Can save best model only with acc available, skipping.\n"
          ]
        },
        {
          "output_type": "stream",
          "name": "stdout",
          "text": [
            "\b\b\b\b\b\b\b\b\b\b\b\b\b\b\b\b\b\b\b\b\b\b\b\b\b\b\b\b\b\b\b\b\b\b\b\b\b\b\b\b\b\b\b\b\b\b\b\b\b\b\b\b\b\b\b\b\b\b\b\b\b\b\b\b\b\b\b\b\b\b\b\b\b\b\b\b\b\b\b\b\b\b\b\b\b\b\b\b\b\b\b\b\b\b\b\b\b\b\b\b\b\b\b\b\b\b\b\b\b\b\b\b\b\b\b\b\b\b\b\r57/57 [==============================] - 19s 321ms/step - loss: 0.8785 - accuracy: 0.6801 - precision: 0.8024 - recall: 0.5469 - val_loss: 0.8322 - val_accuracy: 0.7070 - val_precision: 0.8614 - val_recall: 0.5381\n",
            "Epoch 581/800\n",
            "58/57 [==============================] - ETA: 0s - loss: 0.8790 - accuracy: 0.6809 - precision: 0.8029 - recall: 0.5463"
          ]
        },
        {
          "output_type": "stream",
          "name": "stderr",
          "text": [
            "WARNING:tensorflow:Can save best model only with acc available, skipping.\n"
          ]
        },
        {
          "output_type": "stream",
          "name": "stdout",
          "text": [
            "\b\b\b\b\b\b\b\b\b\b\b\b\b\b\b\b\b\b\b\b\b\b\b\b\b\b\b\b\b\b\b\b\b\b\b\b\b\b\b\b\b\b\b\b\b\b\b\b\b\b\b\b\b\b\b\b\b\b\b\b\b\b\b\b\b\b\b\b\b\b\b\b\b\b\b\b\b\b\b\b\b\b\b\b\b\b\b\b\b\b\b\b\b\b\b\b\b\b\b\b\b\b\b\b\b\b\b\b\b\b\b\b\b\b\b\b\b\b\b\r57/57 [==============================] - 18s 308ms/step - loss: 0.8790 - accuracy: 0.6809 - precision: 0.8029 - recall: 0.5463 - val_loss: 0.8320 - val_accuracy: 0.7073 - val_precision: 0.8617 - val_recall: 0.5383\n",
            "Epoch 582/800\n",
            "58/57 [==============================] - ETA: 0s - loss: 0.8817 - accuracy: 0.6775 - precision: 0.8003 - recall: 0.5457"
          ]
        },
        {
          "output_type": "stream",
          "name": "stderr",
          "text": [
            "WARNING:tensorflow:Can save best model only with acc available, skipping.\n"
          ]
        },
        {
          "output_type": "stream",
          "name": "stdout",
          "text": [
            "\b\b\b\b\b\b\b\b\b\b\b\b\b\b\b\b\b\b\b\b\b\b\b\b\b\b\b\b\b\b\b\b\b\b\b\b\b\b\b\b\b\b\b\b\b\b\b\b\b\b\b\b\b\b\b\b\b\b\b\b\b\b\b\b\b\b\b\b\b\b\b\b\b\b\b\b\b\b\b\b\b\b\b\b\b\b\b\b\b\b\b\b\b\b\b\b\b\b\b\b\b\b\b\b\b\b\b\b\b\b\b\b\b\b\b\b\b\b\b\r57/57 [==============================] - 20s 349ms/step - loss: 0.8817 - accuracy: 0.6775 - precision: 0.8003 - recall: 0.5457 - val_loss: 0.8313 - val_accuracy: 0.7071 - val_precision: 0.8616 - val_recall: 0.5384\n",
            "Epoch 583/800\n",
            "58/57 [==============================] - ETA: 0s - loss: 0.8745 - accuracy: 0.6811 - precision: 0.8029 - recall: 0.5459"
          ]
        },
        {
          "output_type": "stream",
          "name": "stderr",
          "text": [
            "WARNING:tensorflow:Can save best model only with acc available, skipping.\n"
          ]
        },
        {
          "output_type": "stream",
          "name": "stdout",
          "text": [
            "\b\b\b\b\b\b\b\b\b\b\b\b\b\b\b\b\b\b\b\b\b\b\b\b\b\b\b\b\b\b\b\b\b\b\b\b\b\b\b\b\b\b\b\b\b\b\b\b\b\b\b\b\b\b\b\b\b\b\b\b\b\b\b\b\b\b\b\b\b\b\b\b\b\b\b\b\b\b\b\b\b\b\b\b\b\b\b\b\b\b\b\b\b\b\b\b\b\b\b\b\b\b\b\b\b\b\b\b\b\b\b\b\b\b\b\b\b\b\b\r57/57 [==============================] - 22s 374ms/step - loss: 0.8745 - accuracy: 0.6811 - precision: 0.8029 - recall: 0.5459 - val_loss: 0.8307 - val_accuracy: 0.7075 - val_precision: 0.8616 - val_recall: 0.5388\n",
            "Epoch 584/800\n",
            "58/57 [==============================] - ETA: 0s - loss: 0.8766 - accuracy: 0.6815 - precision: 0.8005 - recall: 0.5466"
          ]
        },
        {
          "output_type": "stream",
          "name": "stderr",
          "text": [
            "WARNING:tensorflow:Can save best model only with acc available, skipping.\n"
          ]
        },
        {
          "output_type": "stream",
          "name": "stdout",
          "text": [
            "\b\b\b\b\b\b\b\b\b\b\b\b\b\b\b\b\b\b\b\b\b\b\b\b\b\b\b\b\b\b\b\b\b\b\b\b\b\b\b\b\b\b\b\b\b\b\b\b\b\b\b\b\b\b\b\b\b\b\b\b\b\b\b\b\b\b\b\b\b\b\b\b\b\b\b\b\b\b\b\b\b\b\b\b\b\b\b\b\b\b\b\b\b\b\b\b\b\b\b\b\b\b\b\b\b\b\b\b\b\b\b\b\b\b\b\b\b\b\b\r57/57 [==============================] - 24s 411ms/step - loss: 0.8766 - accuracy: 0.6815 - precision: 0.8005 - recall: 0.5466 - val_loss: 0.8300 - val_accuracy: 0.7075 - val_precision: 0.8619 - val_recall: 0.5389\n",
            "Epoch 585/800\n",
            "58/57 [==============================] - ETA: 0s - loss: 0.8777 - accuracy: 0.6809 - precision: 0.8016 - recall: 0.5481"
          ]
        },
        {
          "output_type": "stream",
          "name": "stderr",
          "text": [
            "WARNING:tensorflow:Can save best model only with acc available, skipping.\n"
          ]
        },
        {
          "output_type": "stream",
          "name": "stdout",
          "text": [
            "\b\b\b\b\b\b\b\b\b\b\b\b\b\b\b\b\b\b\b\b\b\b\b\b\b\b\b\b\b\b\b\b\b\b\b\b\b\b\b\b\b\b\b\b\b\b\b\b\b\b\b\b\b\b\b\b\b\b\b\b\b\b\b\b\b\b\b\b\b\b\b\b\b\b\b\b\b\b\b\b\b\b\b\b\b\b\b\b\b\b\b\b\b\b\b\b\b\b\b\b\b\b\b\b\b\b\b\b\b\b\b\b\b\b\b\b\b\b\b\r57/57 [==============================] - 23s 398ms/step - loss: 0.8777 - accuracy: 0.6809 - precision: 0.8016 - recall: 0.5481 - val_loss: 0.8298 - val_accuracy: 0.7080 - val_precision: 0.8615 - val_recall: 0.5392\n",
            "Epoch 586/800\n",
            "58/57 [==============================] - ETA: 0s - loss: 0.8781 - accuracy: 0.6800 - precision: 0.7994 - recall: 0.5463"
          ]
        },
        {
          "output_type": "stream",
          "name": "stderr",
          "text": [
            "WARNING:tensorflow:Can save best model only with acc available, skipping.\n"
          ]
        },
        {
          "output_type": "stream",
          "name": "stdout",
          "text": [
            "\b\b\b\b\b\b\b\b\b\b\b\b\b\b\b\b\b\b\b\b\b\b\b\b\b\b\b\b\b\b\b\b\b\b\b\b\b\b\b\b\b\b\b\b\b\b\b\b\b\b\b\b\b\b\b\b\b\b\b\b\b\b\b\b\b\b\b\b\b\b\b\b\b\b\b\b\b\b\b\b\b\b\b\b\b\b\b\b\b\b\b\b\b\b\b\b\b\b\b\b\b\b\b\b\b\b\b\b\b\b\b\b\b\b\b\b\b\b\b\r57/57 [==============================] - 23s 403ms/step - loss: 0.8781 - accuracy: 0.6800 - precision: 0.7994 - recall: 0.5463 - val_loss: 0.8296 - val_accuracy: 0.7079 - val_precision: 0.8613 - val_recall: 0.5396\n",
            "Epoch 587/800\n",
            "58/57 [==============================] - ETA: 0s - loss: 0.8761 - accuracy: 0.6826 - precision: 0.8032 - recall: 0.5477"
          ]
        },
        {
          "output_type": "stream",
          "name": "stderr",
          "text": [
            "WARNING:tensorflow:Can save best model only with acc available, skipping.\n"
          ]
        },
        {
          "output_type": "stream",
          "name": "stdout",
          "text": [
            "\b\b\b\b\b\b\b\b\b\b\b\b\b\b\b\b\b\b\b\b\b\b\b\b\b\b\b\b\b\b\b\b\b\b\b\b\b\b\b\b\b\b\b\b\b\b\b\b\b\b\b\b\b\b\b\b\b\b\b\b\b\b\b\b\b\b\b\b\b\b\b\b\b\b\b\b\b\b\b\b\b\b\b\b\b\b\b\b\b\b\b\b\b\b\b\b\b\b\b\b\b\b\b\b\b\b\b\b\b\b\b\b\b\b\b\b\b\b\b\r57/57 [==============================] - 23s 396ms/step - loss: 0.8761 - accuracy: 0.6826 - precision: 0.8032 - recall: 0.5477 - val_loss: 0.8291 - val_accuracy: 0.7081 - val_precision: 0.8612 - val_recall: 0.5394\n",
            "Epoch 588/800\n",
            "58/57 [==============================] - ETA: 0s - loss: 0.8767 - accuracy: 0.6792 - precision: 0.8003 - recall: 0.5477"
          ]
        },
        {
          "output_type": "stream",
          "name": "stderr",
          "text": [
            "WARNING:tensorflow:Can save best model only with acc available, skipping.\n"
          ]
        },
        {
          "output_type": "stream",
          "name": "stdout",
          "text": [
            "\b\b\b\b\b\b\b\b\b\b\b\b\b\b\b\b\b\b\b\b\b\b\b\b\b\b\b\b\b\b\b\b\b\b\b\b\b\b\b\b\b\b\b\b\b\b\b\b\b\b\b\b\b\b\b\b\b\b\b\b\b\b\b\b\b\b\b\b\b\b\b\b\b\b\b\b\b\b\b\b\b\b\b\b\b\b\b\b\b\b\b\b\b\b\b\b\b\b\b\b\b\b\b\b\b\b\b\b\b\b\b\b\b\b\b\b\b\b\b\r57/57 [==============================] - 21s 357ms/step - loss: 0.8767 - accuracy: 0.6792 - precision: 0.8003 - recall: 0.5477 - val_loss: 0.8283 - val_accuracy: 0.7081 - val_precision: 0.8615 - val_recall: 0.5399\n",
            "Epoch 589/800\n",
            "58/57 [==============================] - ETA: 0s - loss: 0.8725 - accuracy: 0.6820 - precision: 0.8043 - recall: 0.5508"
          ]
        },
        {
          "output_type": "stream",
          "name": "stderr",
          "text": [
            "WARNING:tensorflow:Can save best model only with acc available, skipping.\n"
          ]
        },
        {
          "output_type": "stream",
          "name": "stdout",
          "text": [
            "\b\b\b\b\b\b\b\b\b\b\b\b\b\b\b\b\b\b\b\b\b\b\b\b\b\b\b\b\b\b\b\b\b\b\b\b\b\b\b\b\b\b\b\b\b\b\b\b\b\b\b\b\b\b\b\b\b\b\b\b\b\b\b\b\b\b\b\b\b\b\b\b\b\b\b\b\b\b\b\b\b\b\b\b\b\b\b\b\b\b\b\b\b\b\b\b\b\b\b\b\b\b\b\b\b\b\b\b\b\b\b\b\b\b\b\b\b\b\b\r57/57 [==============================] - 20s 352ms/step - loss: 0.8725 - accuracy: 0.6820 - precision: 0.8043 - recall: 0.5508 - val_loss: 0.8274 - val_accuracy: 0.7083 - val_precision: 0.8623 - val_recall: 0.5407\n",
            "Epoch 590/800\n",
            "58/57 [==============================] - ETA: 0s - loss: 0.8778 - accuracy: 0.6783 - precision: 0.7997 - recall: 0.5475"
          ]
        },
        {
          "output_type": "stream",
          "name": "stderr",
          "text": [
            "WARNING:tensorflow:Can save best model only with acc available, skipping.\n"
          ]
        },
        {
          "output_type": "stream",
          "name": "stdout",
          "text": [
            "\b\b\b\b\b\b\b\b\b\b\b\b\b\b\b\b\b\b\b\b\b\b\b\b\b\b\b\b\b\b\b\b\b\b\b\b\b\b\b\b\b\b\b\b\b\b\b\b\b\b\b\b\b\b\b\b\b\b\b\b\b\b\b\b\b\b\b\b\b\b\b\b\b\b\b\b\b\b\b\b\b\b\b\b\b\b\b\b\b\b\b\b\b\b\b\b\b\b\b\b\b\b\b\b\b\b\b\b\b\b\b\b\b\b\b\b\b\b\b\r57/57 [==============================] - 20s 350ms/step - loss: 0.8778 - accuracy: 0.6783 - precision: 0.7997 - recall: 0.5475 - val_loss: 0.8267 - val_accuracy: 0.7085 - val_precision: 0.8622 - val_recall: 0.5412\n",
            "Epoch 591/800\n",
            "58/57 [==============================] - ETA: 0s - loss: 0.8752 - accuracy: 0.6802 - precision: 0.8019 - recall: 0.5488"
          ]
        },
        {
          "output_type": "stream",
          "name": "stderr",
          "text": [
            "WARNING:tensorflow:Can save best model only with acc available, skipping.\n"
          ]
        },
        {
          "output_type": "stream",
          "name": "stdout",
          "text": [
            "\b\b\b\b\b\b\b\b\b\b\b\b\b\b\b\b\b\b\b\b\b\b\b\b\b\b\b\b\b\b\b\b\b\b\b\b\b\b\b\b\b\b\b\b\b\b\b\b\b\b\b\b\b\b\b\b\b\b\b\b\b\b\b\b\b\b\b\b\b\b\b\b\b\b\b\b\b\b\b\b\b\b\b\b\b\b\b\b\b\b\b\b\b\b\b\b\b\b\b\b\b\b\b\b\b\b\b\b\b\b\b\b\b\b\b\b\b\b\b\r57/57 [==============================] - 20s 343ms/step - loss: 0.8752 - accuracy: 0.6802 - precision: 0.8019 - recall: 0.5488 - val_loss: 0.8270 - val_accuracy: 0.7088 - val_precision: 0.8612 - val_recall: 0.5411\n",
            "Epoch 592/800\n",
            "58/57 [==============================] - ETA: 0s - loss: 0.8740 - accuracy: 0.6830 - precision: 0.8018 - recall: 0.5482"
          ]
        },
        {
          "output_type": "stream",
          "name": "stderr",
          "text": [
            "WARNING:tensorflow:Can save best model only with acc available, skipping.\n"
          ]
        },
        {
          "output_type": "stream",
          "name": "stdout",
          "text": [
            "\b\b\b\b\b\b\b\b\b\b\b\b\b\b\b\b\b\b\b\b\b\b\b\b\b\b\b\b\b\b\b\b\b\b\b\b\b\b\b\b\b\b\b\b\b\b\b\b\b\b\b\b\b\b\b\b\b\b\b\b\b\b\b\b\b\b\b\b\b\b\b\b\b\b\b\b\b\b\b\b\b\b\b\b\b\b\b\b\b\b\b\b\b\b\b\b\b\b\b\b\b\b\b\b\b\b\b\b\b\b\b\b\b\b\b\b\b\b\b\r57/57 [==============================] - 20s 347ms/step - loss: 0.8740 - accuracy: 0.6830 - precision: 0.8018 - recall: 0.5482 - val_loss: 0.8263 - val_accuracy: 0.7092 - val_precision: 0.8618 - val_recall: 0.5414\n",
            "Epoch 593/800\n",
            "58/57 [==============================] - ETA: 0s - loss: 0.8713 - accuracy: 0.6844 - precision: 0.8042 - recall: 0.5502"
          ]
        },
        {
          "output_type": "stream",
          "name": "stderr",
          "text": [
            "WARNING:tensorflow:Can save best model only with acc available, skipping.\n"
          ]
        },
        {
          "output_type": "stream",
          "name": "stdout",
          "text": [
            "\b\b\b\b\b\b\b\b\b\b\b\b\b\b\b\b\b\b\b\b\b\b\b\b\b\b\b\b\b\b\b\b\b\b\b\b\b\b\b\b\b\b\b\b\b\b\b\b\b\b\b\b\b\b\b\b\b\b\b\b\b\b\b\b\b\b\b\b\b\b\b\b\b\b\b\b\b\b\b\b\b\b\b\b\b\b\b\b\b\b\b\b\b\b\b\b\b\b\b\b\b\b\b\b\b\b\b\b\b\b\b\b\b\b\b\b\b\b\b\r57/57 [==============================] - 20s 351ms/step - loss: 0.8713 - accuracy: 0.6844 - precision: 0.8042 - recall: 0.5502 - val_loss: 0.8259 - val_accuracy: 0.7091 - val_precision: 0.8615 - val_recall: 0.5417\n",
            "Epoch 594/800\n",
            "58/57 [==============================] - ETA: 0s - loss: 0.8723 - accuracy: 0.6818 - precision: 0.8012 - recall: 0.5504"
          ]
        },
        {
          "output_type": "stream",
          "name": "stderr",
          "text": [
            "WARNING:tensorflow:Can save best model only with acc available, skipping.\n"
          ]
        },
        {
          "output_type": "stream",
          "name": "stdout",
          "text": [
            "\b\b\b\b\b\b\b\b\b\b\b\b\b\b\b\b\b\b\b\b\b\b\b\b\b\b\b\b\b\b\b\b\b\b\b\b\b\b\b\b\b\b\b\b\b\b\b\b\b\b\b\b\b\b\b\b\b\b\b\b\b\b\b\b\b\b\b\b\b\b\b\b\b\b\b\b\b\b\b\b\b\b\b\b\b\b\b\b\b\b\b\b\b\b\b\b\b\b\b\b\b\b\b\b\b\b\b\b\b\b\b\b\b\b\b\b\b\b\b\r57/57 [==============================] - 20s 346ms/step - loss: 0.8723 - accuracy: 0.6818 - precision: 0.8012 - recall: 0.5504 - val_loss: 0.8253 - val_accuracy: 0.7092 - val_precision: 0.8622 - val_recall: 0.5418\n",
            "Epoch 595/800\n",
            "58/57 [==============================] - ETA: 0s - loss: 0.8713 - accuracy: 0.6834 - precision: 0.8041 - recall: 0.5516"
          ]
        },
        {
          "output_type": "stream",
          "name": "stderr",
          "text": [
            "WARNING:tensorflow:Can save best model only with acc available, skipping.\n"
          ]
        },
        {
          "output_type": "stream",
          "name": "stdout",
          "text": [
            "\b\b\b\b\b\b\b\b\b\b\b\b\b\b\b\b\b\b\b\b\b\b\b\b\b\b\b\b\b\b\b\b\b\b\b\b\b\b\b\b\b\b\b\b\b\b\b\b\b\b\b\b\b\b\b\b\b\b\b\b\b\b\b\b\b\b\b\b\b\b\b\b\b\b\b\b\b\b\b\b\b\b\b\b\b\b\b\b\b\b\b\b\b\b\b\b\b\b\b\b\b\b\b\b\b\b\b\b\b\b\b\b\b\b\b\b\b\b\b\r57/57 [==============================] - 20s 349ms/step - loss: 0.8713 - accuracy: 0.6834 - precision: 0.8041 - recall: 0.5516 - val_loss: 0.8250 - val_accuracy: 0.7092 - val_precision: 0.8620 - val_recall: 0.5418\n",
            "Epoch 596/800\n",
            "58/57 [==============================] - ETA: 0s - loss: 0.8741 - accuracy: 0.6809 - precision: 0.8022 - recall: 0.5518"
          ]
        },
        {
          "output_type": "stream",
          "name": "stderr",
          "text": [
            "WARNING:tensorflow:Can save best model only with acc available, skipping.\n"
          ]
        },
        {
          "output_type": "stream",
          "name": "stdout",
          "text": [
            "\b\b\b\b\b\b\b\b\b\b\b\b\b\b\b\b\b\b\b\b\b\b\b\b\b\b\b\b\b\b\b\b\b\b\b\b\b\b\b\b\b\b\b\b\b\b\b\b\b\b\b\b\b\b\b\b\b\b\b\b\b\b\b\b\b\b\b\b\b\b\b\b\b\b\b\b\b\b\b\b\b\b\b\b\b\b\b\b\b\b\b\b\b\b\b\b\b\b\b\b\b\b\b\b\b\b\b\b\b\b\b\b\b\b\b\b\b\b\b\r57/57 [==============================] - 20s 352ms/step - loss: 0.8741 - accuracy: 0.6809 - precision: 0.8022 - recall: 0.5518 - val_loss: 0.8247 - val_accuracy: 0.7092 - val_precision: 0.8622 - val_recall: 0.5419\n",
            "Epoch 597/800\n",
            "58/57 [==============================] - ETA: 0s - loss: 0.8717 - accuracy: 0.6838 - precision: 0.8026 - recall: 0.5527"
          ]
        },
        {
          "output_type": "stream",
          "name": "stderr",
          "text": [
            "WARNING:tensorflow:Can save best model only with acc available, skipping.\n"
          ]
        },
        {
          "output_type": "stream",
          "name": "stdout",
          "text": [
            "\b\b\b\b\b\b\b\b\b\b\b\b\b\b\b\b\b\b\b\b\b\b\b\b\b\b\b\b\b\b\b\b\b\b\b\b\b\b\b\b\b\b\b\b\b\b\b\b\b\b\b\b\b\b\b\b\b\b\b\b\b\b\b\b\b\b\b\b\b\b\b\b\b\b\b\b\b\b\b\b\b\b\b\b\b\b\b\b\b\b\b\b\b\b\b\b\b\b\b\b\b\b\b\b\b\b\b\b\b\b\b\b\b\b\b\b\b\b\b\r57/57 [==============================] - 21s 355ms/step - loss: 0.8717 - accuracy: 0.6838 - precision: 0.8026 - recall: 0.5527 - val_loss: 0.8248 - val_accuracy: 0.7095 - val_precision: 0.8615 - val_recall: 0.5423\n",
            "Epoch 598/800\n",
            "58/57 [==============================] - ETA: 0s - loss: 0.8728 - accuracy: 0.6821 - precision: 0.8009 - recall: 0.5493"
          ]
        },
        {
          "output_type": "stream",
          "name": "stderr",
          "text": [
            "WARNING:tensorflow:Can save best model only with acc available, skipping.\n"
          ]
        },
        {
          "output_type": "stream",
          "name": "stdout",
          "text": [
            "\b\b\b\b\b\b\b\b\b\b\b\b\b\b\b\b\b\b\b\b\b\b\b\b\b\b\b\b\b\b\b\b\b\b\b\b\b\b\b\b\b\b\b\b\b\b\b\b\b\b\b\b\b\b\b\b\b\b\b\b\b\b\b\b\b\b\b\b\b\b\b\b\b\b\b\b\b\b\b\b\b\b\b\b\b\b\b\b\b\b\b\b\b\b\b\b\b\b\b\b\b\b\b\b\b\b\b\b\b\b\b\b\b\b\b\b\b\b\b\r57/57 [==============================] - 21s 363ms/step - loss: 0.8728 - accuracy: 0.6821 - precision: 0.8009 - recall: 0.5493 - val_loss: 0.8237 - val_accuracy: 0.7099 - val_precision: 0.8628 - val_recall: 0.5430\n",
            "Epoch 599/800\n",
            "58/57 [==============================] - ETA: 0s - loss: 0.8678 - accuracy: 0.6840 - precision: 0.8052 - recall: 0.5532"
          ]
        },
        {
          "output_type": "stream",
          "name": "stderr",
          "text": [
            "WARNING:tensorflow:Can save best model only with acc available, skipping.\n"
          ]
        },
        {
          "output_type": "stream",
          "name": "stdout",
          "text": [
            "\b\b\b\b\b\b\b\b\b\b\b\b\b\b\b\b\b\b\b\b\b\b\b\b\b\b\b\b\b\b\b\b\b\b\b\b\b\b\b\b\b\b\b\b\b\b\b\b\b\b\b\b\b\b\b\b\b\b\b\b\b\b\b\b\b\b\b\b\b\b\b\b\b\b\b\b\b\b\b\b\b\b\b\b\b\b\b\b\b\b\b\b\b\b\b\b\b\b\b\b\b\b\b\b\b\b\b\b\b\b\b\b\b\b\b\b\b\b\b\r57/57 [==============================] - 23s 390ms/step - loss: 0.8678 - accuracy: 0.6840 - precision: 0.8052 - recall: 0.5532 - val_loss: 0.8231 - val_accuracy: 0.7104 - val_precision: 0.8626 - val_recall: 0.5430\n",
            "Epoch 600/800\n",
            "58/57 [==============================] - ETA: 0s - loss: 0.8672 - accuracy: 0.6850 - precision: 0.8042 - recall: 0.5535"
          ]
        },
        {
          "output_type": "stream",
          "name": "stderr",
          "text": [
            "WARNING:tensorflow:Can save best model only with acc available, skipping.\n"
          ]
        },
        {
          "output_type": "stream",
          "name": "stdout",
          "text": [
            "\b\b\b\b\b\b\b\b\b\b\b\b\b\b\b\b\b\b\b\b\b\b\b\b\b\b\b\b\b\b\b\b\b\b\b\b\b\b\b\b\b\b\b\b\b\b\b\b\b\b\b\b\b\b\b\b\b\b\b\b\b\b\b\b\b\b\b\b\b\b\b\b\b\b\b\b\b\b\b\b\b\b\b\b\b\b\b\b\b\b\b\b\b\b\b\b\b\b\b\b\b\b\b\b\b\b\b\b\b\b\b\b\b\b\b\b\b\b\b\r57/57 [==============================] - 22s 374ms/step - loss: 0.8672 - accuracy: 0.6850 - precision: 0.8042 - recall: 0.5535 - val_loss: 0.8227 - val_accuracy: 0.7105 - val_precision: 0.8627 - val_recall: 0.5434\n",
            "Epoch 601/800\n",
            "58/57 [==============================] - ETA: 0s - loss: 0.8661 - accuracy: 0.6832 - precision: 0.8023 - recall: 0.5534"
          ]
        },
        {
          "output_type": "stream",
          "name": "stderr",
          "text": [
            "WARNING:tensorflow:Can save best model only with acc available, skipping.\n"
          ]
        },
        {
          "output_type": "stream",
          "name": "stdout",
          "text": [
            "\b\b\b\b\b\b\b\b\b\b\b\b\b\b\b\b\b\b\b\b\b\b\b\b\b\b\b\b\b\b\b\b\b\b\b\b\b\b\b\b\b\b\b\b\b\b\b\b\b\b\b\b\b\b\b\b\b\b\b\b\b\b\b\b\b\b\b\b\b\b\b\b\b\b\b\b\b\b\b\b\b\b\b\b\b\b\b\b\b\b\b\b\b\b\b\b\b\b\b\b\b\b\b\b\b\b\b\b\b\b\b\b\b\b\b\b\b\b\b\r57/57 [==============================] - 22s 373ms/step - loss: 0.8661 - accuracy: 0.6832 - precision: 0.8023 - recall: 0.5534 - val_loss: 0.8225 - val_accuracy: 0.7102 - val_precision: 0.8623 - val_recall: 0.5441\n",
            "Epoch 602/800\n",
            "58/57 [==============================] - ETA: 0s - loss: 0.8676 - accuracy: 0.6841 - precision: 0.8032 - recall: 0.5520"
          ]
        },
        {
          "output_type": "stream",
          "name": "stderr",
          "text": [
            "WARNING:tensorflow:Can save best model only with acc available, skipping.\n"
          ]
        },
        {
          "output_type": "stream",
          "name": "stdout",
          "text": [
            "\b\b\b\b\b\b\b\b\b\b\b\b\b\b\b\b\b\b\b\b\b\b\b\b\b\b\b\b\b\b\b\b\b\b\b\b\b\b\b\b\b\b\b\b\b\b\b\b\b\b\b\b\b\b\b\b\b\b\b\b\b\b\b\b\b\b\b\b\b\b\b\b\b\b\b\b\b\b\b\b\b\b\b\b\b\b\b\b\b\b\b\b\b\b\b\b\b\b\b\b\b\b\b\b\b\b\b\b\b\b\b\b\b\b\b\b\b\b\b\r57/57 [==============================] - 21s 367ms/step - loss: 0.8676 - accuracy: 0.6841 - precision: 0.8032 - recall: 0.5520 - val_loss: 0.8219 - val_accuracy: 0.7104 - val_precision: 0.8627 - val_recall: 0.5444\n",
            "Epoch 603/800\n",
            "58/57 [==============================] - ETA: 0s - loss: 0.8665 - accuracy: 0.6856 - precision: 0.8058 - recall: 0.5532"
          ]
        },
        {
          "output_type": "stream",
          "name": "stderr",
          "text": [
            "WARNING:tensorflow:Can save best model only with acc available, skipping.\n"
          ]
        },
        {
          "output_type": "stream",
          "name": "stdout",
          "text": [
            "\b\b\b\b\b\b\b\b\b\b\b\b\b\b\b\b\b\b\b\b\b\b\b\b\b\b\b\b\b\b\b\b\b\b\b\b\b\b\b\b\b\b\b\b\b\b\b\b\b\b\b\b\b\b\b\b\b\b\b\b\b\b\b\b\b\b\b\b\b\b\b\b\b\b\b\b\b\b\b\b\b\b\b\b\b\b\b\b\b\b\b\b\b\b\b\b\b\b\b\b\b\b\b\b\b\b\b\b\b\b\b\b\b\b\b\b\b\b\b\r57/57 [==============================] - 20s 353ms/step - loss: 0.8665 - accuracy: 0.6856 - precision: 0.8058 - recall: 0.5532 - val_loss: 0.8212 - val_accuracy: 0.7110 - val_precision: 0.8629 - val_recall: 0.5448\n",
            "Epoch 604/800\n",
            "58/57 [==============================] - ETA: 0s - loss: 0.8658 - accuracy: 0.6831 - precision: 0.8041 - recall: 0.5536"
          ]
        },
        {
          "output_type": "stream",
          "name": "stderr",
          "text": [
            "WARNING:tensorflow:Can save best model only with acc available, skipping.\n"
          ]
        },
        {
          "output_type": "stream",
          "name": "stdout",
          "text": [
            "\b\b\b\b\b\b\b\b\b\b\b\b\b\b\b\b\b\b\b\b\b\b\b\b\b\b\b\b\b\b\b\b\b\b\b\b\b\b\b\b\b\b\b\b\b\b\b\b\b\b\b\b\b\b\b\b\b\b\b\b\b\b\b\b\b\b\b\b\b\b\b\b\b\b\b\b\b\b\b\b\b\b\b\b\b\b\b\b\b\b\b\b\b\b\b\b\b\b\b\b\b\b\b\b\b\b\b\b\b\b\b\b\b\b\b\b\b\b\b\r57/57 [==============================] - 21s 369ms/step - loss: 0.8658 - accuracy: 0.6831 - precision: 0.8041 - recall: 0.5536 - val_loss: 0.8206 - val_accuracy: 0.7116 - val_precision: 0.8629 - val_recall: 0.5452\n",
            "Epoch 605/800\n",
            "58/57 [==============================] - ETA: 0s - loss: 0.8671 - accuracy: 0.6837 - precision: 0.8036 - recall: 0.5527"
          ]
        },
        {
          "output_type": "stream",
          "name": "stderr",
          "text": [
            "WARNING:tensorflow:Can save best model only with acc available, skipping.\n"
          ]
        },
        {
          "output_type": "stream",
          "name": "stdout",
          "text": [
            "\b\b\b\b\b\b\b\b\b\b\b\b\b\b\b\b\b\b\b\b\b\b\b\b\b\b\b\b\b\b\b\b\b\b\b\b\b\b\b\b\b\b\b\b\b\b\b\b\b\b\b\b\b\b\b\b\b\b\b\b\b\b\b\b\b\b\b\b\b\b\b\b\b\b\b\b\b\b\b\b\b\b\b\b\b\b\b\b\b\b\b\b\b\b\b\b\b\b\b\b\b\b\b\b\b\b\b\b\b\b\b\b\b\b\b\b\b\b\b\r57/57 [==============================] - 20s 354ms/step - loss: 0.8671 - accuracy: 0.6837 - precision: 0.8036 - recall: 0.5527 - val_loss: 0.8202 - val_accuracy: 0.7115 - val_precision: 0.8629 - val_recall: 0.5454\n",
            "Epoch 606/800\n",
            "58/57 [==============================] - ETA: 0s - loss: 0.8699 - accuracy: 0.6840 - precision: 0.8032 - recall: 0.5542"
          ]
        },
        {
          "output_type": "stream",
          "name": "stderr",
          "text": [
            "WARNING:tensorflow:Can save best model only with acc available, skipping.\n"
          ]
        },
        {
          "output_type": "stream",
          "name": "stdout",
          "text": [
            "\b\b\b\b\b\b\b\b\b\b\b\b\b\b\b\b\b\b\b\b\b\b\b\b\b\b\b\b\b\b\b\b\b\b\b\b\b\b\b\b\b\b\b\b\b\b\b\b\b\b\b\b\b\b\b\b\b\b\b\b\b\b\b\b\b\b\b\b\b\b\b\b\b\b\b\b\b\b\b\b\b\b\b\b\b\b\b\b\b\b\b\b\b\b\b\b\b\b\b\b\b\b\b\b\b\b\b\b\b\b\b\b\b\b\b\b\b\b\b\r57/57 [==============================] - 21s 367ms/step - loss: 0.8699 - accuracy: 0.6840 - precision: 0.8032 - recall: 0.5542 - val_loss: 0.8200 - val_accuracy: 0.7113 - val_precision: 0.8627 - val_recall: 0.5457\n",
            "Epoch 607/800\n",
            "58/57 [==============================] - ETA: 0s - loss: 0.8614 - accuracy: 0.6894 - precision: 0.8073 - recall: 0.5562"
          ]
        },
        {
          "output_type": "stream",
          "name": "stderr",
          "text": [
            "WARNING:tensorflow:Can save best model only with acc available, skipping.\n"
          ]
        },
        {
          "output_type": "stream",
          "name": "stdout",
          "text": [
            "\b\b\b\b\b\b\b\b\b\b\b\b\b\b\b\b\b\b\b\b\b\b\b\b\b\b\b\b\b\b\b\b\b\b\b\b\b\b\b\b\b\b\b\b\b\b\b\b\b\b\b\b\b\b\b\b\b\b\b\b\b\b\b\b\b\b\b\b\b\b\b\b\b\b\b\b\b\b\b\b\b\b\b\b\b\b\b\b\b\b\b\b\b\b\b\b\b\b\b\b\b\b\b\b\b\b\b\b\b\b\b\b\b\b\b\b\b\b\b\r57/57 [==============================] - 21s 357ms/step - loss: 0.8614 - accuracy: 0.6894 - precision: 0.8073 - recall: 0.5562 - val_loss: 0.8192 - val_accuracy: 0.7113 - val_precision: 0.8626 - val_recall: 0.5461\n",
            "Epoch 608/800\n",
            "58/57 [==============================] - ETA: 0s - loss: 0.8639 - accuracy: 0.6857 - precision: 0.8060 - recall: 0.5554"
          ]
        },
        {
          "output_type": "stream",
          "name": "stderr",
          "text": [
            "WARNING:tensorflow:Can save best model only with acc available, skipping.\n"
          ]
        },
        {
          "output_type": "stream",
          "name": "stdout",
          "text": [
            "\b\b\b\b\b\b\b\b\b\b\b\b\b\b\b\b\b\b\b\b\b\b\b\b\b\b\b\b\b\b\b\b\b\b\b\b\b\b\b\b\b\b\b\b\b\b\b\b\b\b\b\b\b\b\b\b\b\b\b\b\b\b\b\b\b\b\b\b\b\b\b\b\b\b\b\b\b\b\b\b\b\b\b\b\b\b\b\b\b\b\b\b\b\b\b\b\b\b\b\b\b\b\b\b\b\b\b\b\b\b\b\b\b\b\b\b\b\b\b\r57/57 [==============================] - 21s 357ms/step - loss: 0.8639 - accuracy: 0.6857 - precision: 0.8060 - recall: 0.5554 - val_loss: 0.8192 - val_accuracy: 0.7113 - val_precision: 0.8619 - val_recall: 0.5464\n",
            "Epoch 609/800\n",
            "58/57 [==============================] - ETA: 0s - loss: 0.8653 - accuracy: 0.6826 - precision: 0.8022 - recall: 0.5542"
          ]
        },
        {
          "output_type": "stream",
          "name": "stderr",
          "text": [
            "WARNING:tensorflow:Can save best model only with acc available, skipping.\n"
          ]
        },
        {
          "output_type": "stream",
          "name": "stdout",
          "text": [
            "\b\b\b\b\b\b\b\b\b\b\b\b\b\b\b\b\b\b\b\b\b\b\b\b\b\b\b\b\b\b\b\b\b\b\b\b\b\b\b\b\b\b\b\b\b\b\b\b\b\b\b\b\b\b\b\b\b\b\b\b\b\b\b\b\b\b\b\b\b\b\b\b\b\b\b\b\b\b\b\b\b\b\b\b\b\b\b\b\b\b\b\b\b\b\b\b\b\b\b\b\b\b\b\b\b\b\b\b\b\b\b\b\b\b\b\b\b\b\b\r57/57 [==============================] - 20s 342ms/step - loss: 0.8653 - accuracy: 0.6826 - precision: 0.8022 - recall: 0.5542 - val_loss: 0.8184 - val_accuracy: 0.7119 - val_precision: 0.8627 - val_recall: 0.5466\n",
            "Epoch 610/800\n",
            "58/57 [==============================] - ETA: 0s - loss: 0.8635 - accuracy: 0.6871 - precision: 0.8061 - recall: 0.5557"
          ]
        },
        {
          "output_type": "stream",
          "name": "stderr",
          "text": [
            "WARNING:tensorflow:Can save best model only with acc available, skipping.\n"
          ]
        },
        {
          "output_type": "stream",
          "name": "stdout",
          "text": [
            "\b\b\b\b\b\b\b\b\b\b\b\b\b\b\b\b\b\b\b\b\b\b\b\b\b\b\b\b\b\b\b\b\b\b\b\b\b\b\b\b\b\b\b\b\b\b\b\b\b\b\b\b\b\b\b\b\b\b\b\b\b\b\b\b\b\b\b\b\b\b\b\b\b\b\b\b\b\b\b\b\b\b\b\b\b\b\b\b\b\b\b\b\b\b\b\b\b\b\b\b\b\b\b\b\b\b\b\b\b\b\b\b\b\b\b\b\b\b\b\r57/57 [==============================] - 21s 363ms/step - loss: 0.8635 - accuracy: 0.6871 - precision: 0.8061 - recall: 0.5557 - val_loss: 0.8181 - val_accuracy: 0.7121 - val_precision: 0.8629 - val_recall: 0.5469\n",
            "Epoch 611/800\n",
            "58/57 [==============================] - ETA: 0s - loss: 0.8613 - accuracy: 0.6879 - precision: 0.8064 - recall: 0.5551"
          ]
        },
        {
          "output_type": "stream",
          "name": "stderr",
          "text": [
            "WARNING:tensorflow:Can save best model only with acc available, skipping.\n"
          ]
        },
        {
          "output_type": "stream",
          "name": "stdout",
          "text": [
            "\b\b\b\b\b\b\b\b\b\b\b\b\b\b\b\b\b\b\b\b\b\b\b\b\b\b\b\b\b\b\b\b\b\b\b\b\b\b\b\b\b\b\b\b\b\b\b\b\b\b\b\b\b\b\b\b\b\b\b\b\b\b\b\b\b\b\b\b\b\b\b\b\b\b\b\b\b\b\b\b\b\b\b\b\b\b\b\b\b\b\b\b\b\b\b\b\b\b\b\b\b\b\b\b\b\b\b\b\b\b\b\b\b\b\b\b\b\b\b\r57/57 [==============================] - 21s 365ms/step - loss: 0.8613 - accuracy: 0.6879 - precision: 0.8064 - recall: 0.5551 - val_loss: 0.8181 - val_accuracy: 0.7120 - val_precision: 0.8618 - val_recall: 0.5466\n",
            "Epoch 612/800\n",
            "58/57 [==============================] - ETA: 0s - loss: 0.8619 - accuracy: 0.6866 - precision: 0.8056 - recall: 0.5576"
          ]
        },
        {
          "output_type": "stream",
          "name": "stderr",
          "text": [
            "WARNING:tensorflow:Can save best model only with acc available, skipping.\n"
          ]
        },
        {
          "output_type": "stream",
          "name": "stdout",
          "text": [
            "\b\b\b\b\b\b\b\b\b\b\b\b\b\b\b\b\b\b\b\b\b\b\b\b\b\b\b\b\b\b\b\b\b\b\b\b\b\b\b\b\b\b\b\b\b\b\b\b\b\b\b\b\b\b\b\b\b\b\b\b\b\b\b\b\b\b\b\b\b\b\b\b\b\b\b\b\b\b\b\b\b\b\b\b\b\b\b\b\b\b\b\b\b\b\b\b\b\b\b\b\b\b\b\b\b\b\b\b\b\b\b\b\b\b\b\b\b\b\b\r57/57 [==============================] - 21s 363ms/step - loss: 0.8619 - accuracy: 0.6866 - precision: 0.8056 - recall: 0.5576 - val_loss: 0.8170 - val_accuracy: 0.7125 - val_precision: 0.8631 - val_recall: 0.5473\n",
            "Epoch 613/800\n",
            "58/57 [==============================] - ETA: 0s - loss: 0.8629 - accuracy: 0.6838 - precision: 0.8053 - recall: 0.5559"
          ]
        },
        {
          "output_type": "stream",
          "name": "stderr",
          "text": [
            "WARNING:tensorflow:Can save best model only with acc available, skipping.\n"
          ]
        },
        {
          "output_type": "stream",
          "name": "stdout",
          "text": [
            "\b\b\b\b\b\b\b\b\b\b\b\b\b\b\b\b\b\b\b\b\b\b\b\b\b\b\b\b\b\b\b\b\b\b\b\b\b\b\b\b\b\b\b\b\b\b\b\b\b\b\b\b\b\b\b\b\b\b\b\b\b\b\b\b\b\b\b\b\b\b\b\b\b\b\b\b\b\b\b\b\b\b\b\b\b\b\b\b\b\b\b\b\b\b\b\b\b\b\b\b\b\b\b\b\b\b\b\b\b\b\b\b\b\b\b\b\b\b\b\r57/57 [==============================] - 21s 367ms/step - loss: 0.8629 - accuracy: 0.6838 - precision: 0.8053 - recall: 0.5559 - val_loss: 0.8171 - val_accuracy: 0.7126 - val_precision: 0.8629 - val_recall: 0.5473\n",
            "Epoch 614/800\n",
            "58/57 [==============================] - ETA: 0s - loss: 0.8635 - accuracy: 0.6861 - precision: 0.8054 - recall: 0.5557"
          ]
        },
        {
          "output_type": "stream",
          "name": "stderr",
          "text": [
            "WARNING:tensorflow:Can save best model only with acc available, skipping.\n"
          ]
        },
        {
          "output_type": "stream",
          "name": "stdout",
          "text": [
            "\b\b\b\b\b\b\b\b\b\b\b\b\b\b\b\b\b\b\b\b\b\b\b\b\b\b\b\b\b\b\b\b\b\b\b\b\b\b\b\b\b\b\b\b\b\b\b\b\b\b\b\b\b\b\b\b\b\b\b\b\b\b\b\b\b\b\b\b\b\b\b\b\b\b\b\b\b\b\b\b\b\b\b\b\b\b\b\b\b\b\b\b\b\b\b\b\b\b\b\b\b\b\b\b\b\b\b\b\b\b\b\b\b\b\b\b\b\b\b\r57/57 [==============================] - 21s 369ms/step - loss: 0.8635 - accuracy: 0.6861 - precision: 0.8054 - recall: 0.5557 - val_loss: 0.8165 - val_accuracy: 0.7128 - val_precision: 0.8630 - val_recall: 0.5477\n",
            "Epoch 615/800\n",
            "58/57 [==============================] - ETA: 0s - loss: 0.8602 - accuracy: 0.6876 - precision: 0.8052 - recall: 0.5583"
          ]
        },
        {
          "output_type": "stream",
          "name": "stderr",
          "text": [
            "WARNING:tensorflow:Can save best model only with acc available, skipping.\n"
          ]
        },
        {
          "output_type": "stream",
          "name": "stdout",
          "text": [
            "\b\b\b\b\b\b\b\b\b\b\b\b\b\b\b\b\b\b\b\b\b\b\b\b\b\b\b\b\b\b\b\b\b\b\b\b\b\b\b\b\b\b\b\b\b\b\b\b\b\b\b\b\b\b\b\b\b\b\b\b\b\b\b\b\b\b\b\b\b\b\b\b\b\b\b\b\b\b\b\b\b\b\b\b\b\b\b\b\b\b\b\b\b\b\b\b\b\b\b\b\b\b\b\b\b\b\b\b\b\b\b\b\b\b\b\b\b\b\b\r57/57 [==============================] - 20s 352ms/step - loss: 0.8602 - accuracy: 0.6876 - precision: 0.8052 - recall: 0.5583 - val_loss: 0.8163 - val_accuracy: 0.7128 - val_precision: 0.8625 - val_recall: 0.5479\n",
            "Epoch 616/800\n",
            "58/57 [==============================] - ETA: 0s - loss: 0.8620 - accuracy: 0.6859 - precision: 0.8043 - recall: 0.5554"
          ]
        },
        {
          "output_type": "stream",
          "name": "stderr",
          "text": [
            "WARNING:tensorflow:Can save best model only with acc available, skipping.\n"
          ]
        },
        {
          "output_type": "stream",
          "name": "stdout",
          "text": [
            "\b\b\b\b\b\b\b\b\b\b\b\b\b\b\b\b\b\b\b\b\b\b\b\b\b\b\b\b\b\b\b\b\b\b\b\b\b\b\b\b\b\b\b\b\b\b\b\b\b\b\b\b\b\b\b\b\b\b\b\b\b\b\b\b\b\b\b\b\b\b\b\b\b\b\b\b\b\b\b\b\b\b\b\b\b\b\b\b\b\b\b\b\b\b\b\b\b\b\b\b\b\b\b\b\b\b\b\b\b\b\b\b\b\b\b\b\b\b\b\r57/57 [==============================] - 21s 366ms/step - loss: 0.8620 - accuracy: 0.6859 - precision: 0.8043 - recall: 0.5554 - val_loss: 0.8150 - val_accuracy: 0.7132 - val_precision: 0.8627 - val_recall: 0.5484\n",
            "Epoch 617/800\n",
            "58/57 [==============================] - ETA: 0s - loss: 0.8630 - accuracy: 0.6859 - precision: 0.8028 - recall: 0.5558"
          ]
        },
        {
          "output_type": "stream",
          "name": "stderr",
          "text": [
            "WARNING:tensorflow:Can save best model only with acc available, skipping.\n"
          ]
        },
        {
          "output_type": "stream",
          "name": "stdout",
          "text": [
            "\b\b\b\b\b\b\b\b\b\b\b\b\b\b\b\b\b\b\b\b\b\b\b\b\b\b\b\b\b\b\b\b\b\b\b\b\b\b\b\b\b\b\b\b\b\b\b\b\b\b\b\b\b\b\b\b\b\b\b\b\b\b\b\b\b\b\b\b\b\b\b\b\b\b\b\b\b\b\b\b\b\b\b\b\b\b\b\b\b\b\b\b\b\b\b\b\b\b\b\b\b\b\b\b\b\b\b\b\b\b\b\b\b\b\b\b\b\b\b\r57/57 [==============================] - 21s 367ms/step - loss: 0.8630 - accuracy: 0.6859 - precision: 0.8028 - recall: 0.5558 - val_loss: 0.8146 - val_accuracy: 0.7135 - val_precision: 0.8626 - val_recall: 0.5487\n",
            "Epoch 618/800\n",
            "58/57 [==============================] - ETA: 0s - loss: 0.8616 - accuracy: 0.6884 - precision: 0.8052 - recall: 0.5576"
          ]
        },
        {
          "output_type": "stream",
          "name": "stderr",
          "text": [
            "WARNING:tensorflow:Can save best model only with acc available, skipping.\n"
          ]
        },
        {
          "output_type": "stream",
          "name": "stdout",
          "text": [
            "\b\b\b\b\b\b\b\b\b\b\b\b\b\b\b\b\b\b\b\b\b\b\b\b\b\b\b\b\b\b\b\b\b\b\b\b\b\b\b\b\b\b\b\b\b\b\b\b\b\b\b\b\b\b\b\b\b\b\b\b\b\b\b\b\b\b\b\b\b\b\b\b\b\b\b\b\b\b\b\b\b\b\b\b\b\b\b\b\b\b\b\b\b\b\b\b\b\b\b\b\b\b\b\b\b\b\b\b\b\b\b\b\b\b\b\b\b\b\b\r57/57 [==============================] - 21s 366ms/step - loss: 0.8616 - accuracy: 0.6884 - precision: 0.8052 - recall: 0.5576 - val_loss: 0.8142 - val_accuracy: 0.7138 - val_precision: 0.8627 - val_recall: 0.5488\n",
            "Epoch 619/800\n",
            "58/57 [==============================] - ETA: 0s - loss: 0.8572 - accuracy: 0.6879 - precision: 0.8067 - recall: 0.5593"
          ]
        },
        {
          "output_type": "stream",
          "name": "stderr",
          "text": [
            "WARNING:tensorflow:Can save best model only with acc available, skipping.\n"
          ]
        },
        {
          "output_type": "stream",
          "name": "stdout",
          "text": [
            "\b\b\b\b\b\b\b\b\b\b\b\b\b\b\b\b\b\b\b\b\b\b\b\b\b\b\b\b\b\b\b\b\b\b\b\b\b\b\b\b\b\b\b\b\b\b\b\b\b\b\b\b\b\b\b\b\b\b\b\b\b\b\b\b\b\b\b\b\b\b\b\b\b\b\b\b\b\b\b\b\b\b\b\b\b\b\b\b\b\b\b\b\b\b\b\b\b\b\b\b\b\b\b\b\b\b\b\b\b\b\b\b\b\b\b\b\b\b\b\r57/57 [==============================] - 21s 371ms/step - loss: 0.8572 - accuracy: 0.6879 - precision: 0.8067 - recall: 0.5593 - val_loss: 0.8138 - val_accuracy: 0.7136 - val_precision: 0.8626 - val_recall: 0.5492\n",
            "Epoch 620/800\n",
            "58/57 [==============================] - ETA: 0s - loss: 0.8593 - accuracy: 0.6866 - precision: 0.8058 - recall: 0.5587"
          ]
        },
        {
          "output_type": "stream",
          "name": "stderr",
          "text": [
            "WARNING:tensorflow:Can save best model only with acc available, skipping.\n"
          ]
        },
        {
          "output_type": "stream",
          "name": "stdout",
          "text": [
            "\b\b\b\b\b\b\b\b\b\b\b\b\b\b\b\b\b\b\b\b\b\b\b\b\b\b\b\b\b\b\b\b\b\b\b\b\b\b\b\b\b\b\b\b\b\b\b\b\b\b\b\b\b\b\b\b\b\b\b\b\b\b\b\b\b\b\b\b\b\b\b\b\b\b\b\b\b\b\b\b\b\b\b\b\b\b\b\b\b\b\b\b\b\b\b\b\b\b\b\b\b\b\b\b\b\b\b\b\b\b\b\b\b\b\b\b\b\b\b\r57/57 [==============================] - 21s 365ms/step - loss: 0.8593 - accuracy: 0.6866 - precision: 0.8058 - recall: 0.5587 - val_loss: 0.8132 - val_accuracy: 0.7142 - val_precision: 0.8629 - val_recall: 0.5498\n",
            "Epoch 621/800\n",
            "58/57 [==============================] - ETA: 0s - loss: 0.8599 - accuracy: 0.6864 - precision: 0.8053 - recall: 0.5566"
          ]
        },
        {
          "output_type": "stream",
          "name": "stderr",
          "text": [
            "WARNING:tensorflow:Can save best model only with acc available, skipping.\n"
          ]
        },
        {
          "output_type": "stream",
          "name": "stdout",
          "text": [
            "\b\b\b\b\b\b\b\b\b\b\b\b\b\b\b\b\b\b\b\b\b\b\b\b\b\b\b\b\b\b\b\b\b\b\b\b\b\b\b\b\b\b\b\b\b\b\b\b\b\b\b\b\b\b\b\b\b\b\b\b\b\b\b\b\b\b\b\b\b\b\b\b\b\b\b\b\b\b\b\b\b\b\b\b\b\b\b\b\b\b\b\b\b\b\b\b\b\b\b\b\b\b\b\b\b\b\b\b\b\b\b\b\b\b\b\b\b\b\b\r57/57 [==============================] - 21s 359ms/step - loss: 0.8599 - accuracy: 0.6864 - precision: 0.8053 - recall: 0.5566 - val_loss: 0.8127 - val_accuracy: 0.7145 - val_precision: 0.8629 - val_recall: 0.5502\n",
            "Epoch 622/800\n",
            "58/57 [==============================] - ETA: 0s - loss: 0.8566 - accuracy: 0.6888 - precision: 0.8090 - recall: 0.5605"
          ]
        },
        {
          "output_type": "stream",
          "name": "stderr",
          "text": [
            "WARNING:tensorflow:Can save best model only with acc available, skipping.\n"
          ]
        },
        {
          "output_type": "stream",
          "name": "stdout",
          "text": [
            "\b\b\b\b\b\b\b\b\b\b\b\b\b\b\b\b\b\b\b\b\b\b\b\b\b\b\b\b\b\b\b\b\b\b\b\b\b\b\b\b\b\b\b\b\b\b\b\b\b\b\b\b\b\b\b\b\b\b\b\b\b\b\b\b\b\b\b\b\b\b\b\b\b\b\b\b\b\b\b\b\b\b\b\b\b\b\b\b\b\b\b\b\b\b\b\b\b\b\b\b\b\b\b\b\b\b\b\b\b\b\b\b\b\b\b\b\b\b\b\r57/57 [==============================] - 21s 359ms/step - loss: 0.8566 - accuracy: 0.6888 - precision: 0.8090 - recall: 0.5605 - val_loss: 0.8122 - val_accuracy: 0.7146 - val_precision: 0.8628 - val_recall: 0.5504\n",
            "Epoch 623/800\n",
            "58/57 [==============================] - ETA: 0s - loss: 0.8545 - accuracy: 0.6881 - precision: 0.8072 - recall: 0.5608"
          ]
        },
        {
          "output_type": "stream",
          "name": "stderr",
          "text": [
            "WARNING:tensorflow:Can save best model only with acc available, skipping.\n"
          ]
        },
        {
          "output_type": "stream",
          "name": "stdout",
          "text": [
            "\b\b\b\b\b\b\b\b\b\b\b\b\b\b\b\b\b\b\b\b\b\b\b\b\b\b\b\b\b\b\b\b\b\b\b\b\b\b\b\b\b\b\b\b\b\b\b\b\b\b\b\b\b\b\b\b\b\b\b\b\b\b\b\b\b\b\b\b\b\b\b\b\b\b\b\b\b\b\b\b\b\b\b\b\b\b\b\b\b\b\b\b\b\b\b\b\b\b\b\b\b\b\b\b\b\b\b\b\b\b\b\b\b\b\b\b\b\b\b\r57/57 [==============================] - 21s 359ms/step - loss: 0.8545 - accuracy: 0.6881 - precision: 0.8072 - recall: 0.5608 - val_loss: 0.8122 - val_accuracy: 0.7144 - val_precision: 0.8624 - val_recall: 0.5505\n",
            "Epoch 624/800\n",
            "58/57 [==============================] - ETA: 0s - loss: 0.8592 - accuracy: 0.6849 - precision: 0.8053 - recall: 0.5543"
          ]
        },
        {
          "output_type": "stream",
          "name": "stderr",
          "text": [
            "WARNING:tensorflow:Can save best model only with acc available, skipping.\n"
          ]
        },
        {
          "output_type": "stream",
          "name": "stdout",
          "text": [
            "\b\b\b\b\b\b\b\b\b\b\b\b\b\b\b\b\b\b\b\b\b\b\b\b\b\b\b\b\b\b\b\b\b\b\b\b\b\b\b\b\b\b\b\b\b\b\b\b\b\b\b\b\b\b\b\b\b\b\b\b\b\b\b\b\b\b\b\b\b\b\b\b\b\b\b\b\b\b\b\b\b\b\b\b\b\b\b\b\b\b\b\b\b\b\b\b\b\b\b\b\b\b\b\b\b\b\b\b\b\b\b\b\b\b\b\b\b\b\b\r57/57 [==============================] - 21s 367ms/step - loss: 0.8592 - accuracy: 0.6849 - precision: 0.8053 - recall: 0.5543 - val_loss: 0.8115 - val_accuracy: 0.7146 - val_precision: 0.8626 - val_recall: 0.5513\n",
            "Epoch 625/800\n",
            "58/57 [==============================] - ETA: 0s - loss: 0.8551 - accuracy: 0.6896 - precision: 0.8055 - recall: 0.5596"
          ]
        },
        {
          "output_type": "stream",
          "name": "stderr",
          "text": [
            "WARNING:tensorflow:Can save best model only with acc available, skipping.\n"
          ]
        },
        {
          "output_type": "stream",
          "name": "stdout",
          "text": [
            "\b\b\b\b\b\b\b\b\b\b\b\b\b\b\b\b\b\b\b\b\b\b\b\b\b\b\b\b\b\b\b\b\b\b\b\b\b\b\b\b\b\b\b\b\b\b\b\b\b\b\b\b\b\b\b\b\b\b\b\b\b\b\b\b\b\b\b\b\b\b\b\b\b\b\b\b\b\b\b\b\b\b\b\b\b\b\b\b\b\b\b\b\b\b\b\b\b\b\b\b\b\b\b\b\b\b\b\b\b\b\b\b\b\b\b\b\b\b\b\r57/57 [==============================] - 21s 355ms/step - loss: 0.8551 - accuracy: 0.6896 - precision: 0.8055 - recall: 0.5596 - val_loss: 0.8110 - val_accuracy: 0.7149 - val_precision: 0.8623 - val_recall: 0.5514\n",
            "Epoch 626/800\n",
            "58/57 [==============================] - ETA: 0s - loss: 0.8581 - accuracy: 0.6868 - precision: 0.8053 - recall: 0.5583"
          ]
        },
        {
          "output_type": "stream",
          "name": "stderr",
          "text": [
            "WARNING:tensorflow:Can save best model only with acc available, skipping.\n"
          ]
        },
        {
          "output_type": "stream",
          "name": "stdout",
          "text": [
            "\b\b\b\b\b\b\b\b\b\b\b\b\b\b\b\b\b\b\b\b\b\b\b\b\b\b\b\b\b\b\b\b\b\b\b\b\b\b\b\b\b\b\b\b\b\b\b\b\b\b\b\b\b\b\b\b\b\b\b\b\b\b\b\b\b\b\b\b\b\b\b\b\b\b\b\b\b\b\b\b\b\b\b\b\b\b\b\b\b\b\b\b\b\b\b\b\b\b\b\b\b\b\b\b\b\b\b\b\b\b\b\b\b\b\b\b\b\b\b\r57/57 [==============================] - 21s 361ms/step - loss: 0.8581 - accuracy: 0.6868 - precision: 0.8053 - recall: 0.5583 - val_loss: 0.8104 - val_accuracy: 0.7152 - val_precision: 0.8625 - val_recall: 0.5518\n",
            "Epoch 627/800\n",
            "58/57 [==============================] - ETA: 0s - loss: 0.8589 - accuracy: 0.6866 - precision: 0.8035 - recall: 0.5588"
          ]
        },
        {
          "output_type": "stream",
          "name": "stderr",
          "text": [
            "WARNING:tensorflow:Can save best model only with acc available, skipping.\n"
          ]
        },
        {
          "output_type": "stream",
          "name": "stdout",
          "text": [
            "\b\b\b\b\b\b\b\b\b\b\b\b\b\b\b\b\b\b\b\b\b\b\b\b\b\b\b\b\b\b\b\b\b\b\b\b\b\b\b\b\b\b\b\b\b\b\b\b\b\b\b\b\b\b\b\b\b\b\b\b\b\b\b\b\b\b\b\b\b\b\b\b\b\b\b\b\b\b\b\b\b\b\b\b\b\b\b\b\b\b\b\b\b\b\b\b\b\b\b\b\b\b\b\b\b\b\b\b\b\b\b\b\b\b\b\b\b\b\b\r57/57 [==============================] - 22s 384ms/step - loss: 0.8589 - accuracy: 0.6866 - precision: 0.8035 - recall: 0.5588 - val_loss: 0.8099 - val_accuracy: 0.7154 - val_precision: 0.8626 - val_recall: 0.5520\n",
            "Epoch 628/800\n",
            "58/57 [==============================] - ETA: 0s - loss: 0.8580 - accuracy: 0.6886 - precision: 0.8071 - recall: 0.5585"
          ]
        },
        {
          "output_type": "stream",
          "name": "stderr",
          "text": [
            "WARNING:tensorflow:Can save best model only with acc available, skipping.\n"
          ]
        },
        {
          "output_type": "stream",
          "name": "stdout",
          "text": [
            "\b\b\b\b\b\b\b\b\b\b\b\b\b\b\b\b\b\b\b\b\b\b\b\b\b\b\b\b\b\b\b\b\b\b\b\b\b\b\b\b\b\b\b\b\b\b\b\b\b\b\b\b\b\b\b\b\b\b\b\b\b\b\b\b\b\b\b\b\b\b\b\b\b\b\b\b\b\b\b\b\b\b\b\b\b\b\b\b\b\b\b\b\b\b\b\b\b\b\b\b\b\b\b\b\b\b\b\b\b\b\b\b\b\b\b\b\b\b\b\r57/57 [==============================] - 23s 396ms/step - loss: 0.8580 - accuracy: 0.6886 - precision: 0.8071 - recall: 0.5585 - val_loss: 0.8094 - val_accuracy: 0.7155 - val_precision: 0.8626 - val_recall: 0.5522\n",
            "Epoch 629/800\n",
            "58/57 [==============================] - ETA: 0s - loss: 0.8525 - accuracy: 0.6904 - precision: 0.8095 - recall: 0.5610"
          ]
        },
        {
          "output_type": "stream",
          "name": "stderr",
          "text": [
            "WARNING:tensorflow:Can save best model only with acc available, skipping.\n"
          ]
        },
        {
          "output_type": "stream",
          "name": "stdout",
          "text": [
            "\b\b\b\b\b\b\b\b\b\b\b\b\b\b\b\b\b\b\b\b\b\b\b\b\b\b\b\b\b\b\b\b\b\b\b\b\b\b\b\b\b\b\b\b\b\b\b\b\b\b\b\b\b\b\b\b\b\b\b\b\b\b\b\b\b\b\b\b\b\b\b\b\b\b\b\b\b\b\b\b\b\b\b\b\b\b\b\b\b\b\b\b\b\b\b\b\b\b\b\b\b\b\b\b\b\b\b\b\b\b\b\b\b\b\b\b\b\b\b\r57/57 [==============================] - 23s 403ms/step - loss: 0.8525 - accuracy: 0.6904 - precision: 0.8095 - recall: 0.5610 - val_loss: 0.8096 - val_accuracy: 0.7151 - val_precision: 0.8627 - val_recall: 0.5523\n",
            "Epoch 630/800\n",
            "58/57 [==============================] - ETA: 0s - loss: 0.8544 - accuracy: 0.6894 - precision: 0.8059 - recall: 0.5597"
          ]
        },
        {
          "output_type": "stream",
          "name": "stderr",
          "text": [
            "WARNING:tensorflow:Can save best model only with acc available, skipping.\n"
          ]
        },
        {
          "output_type": "stream",
          "name": "stdout",
          "text": [
            "\b\b\b\b\b\b\b\b\b\b\b\b\b\b\b\b\b\b\b\b\b\b\b\b\b\b\b\b\b\b\b\b\b\b\b\b\b\b\b\b\b\b\b\b\b\b\b\b\b\b\b\b\b\b\b\b\b\b\b\b\b\b\b\b\b\b\b\b\b\b\b\b\b\b\b\b\b\b\b\b\b\b\b\b\b\b\b\b\b\b\b\b\b\b\b\b\b\b\b\b\b\b\b\b\b\b\b\b\b\b\b\b\b\b\b\b\b\b\b\r57/57 [==============================] - 22s 374ms/step - loss: 0.8544 - accuracy: 0.6894 - precision: 0.8059 - recall: 0.5597 - val_loss: 0.8093 - val_accuracy: 0.7151 - val_precision: 0.8626 - val_recall: 0.5523\n",
            "Epoch 631/800\n",
            "58/57 [==============================] - ETA: 0s - loss: 0.8535 - accuracy: 0.6905 - precision: 0.8067 - recall: 0.5611"
          ]
        },
        {
          "output_type": "stream",
          "name": "stderr",
          "text": [
            "WARNING:tensorflow:Can save best model only with acc available, skipping.\n"
          ]
        },
        {
          "output_type": "stream",
          "name": "stdout",
          "text": [
            "\b\b\b\b\b\b\b\b\b\b\b\b\b\b\b\b\b\b\b\b\b\b\b\b\b\b\b\b\b\b\b\b\b\b\b\b\b\b\b\b\b\b\b\b\b\b\b\b\b\b\b\b\b\b\b\b\b\b\b\b\b\b\b\b\b\b\b\b\b\b\b\b\b\b\b\b\b\b\b\b\b\b\b\b\b\b\b\b\b\b\b\b\b\b\b\b\b\b\b\b\b\b\b\b\b\b\b\b\b\b\b\b\b\b\b\b\b\b\b\r57/57 [==============================] - 22s 386ms/step - loss: 0.8535 - accuracy: 0.6905 - precision: 0.8067 - recall: 0.5611 - val_loss: 0.8090 - val_accuracy: 0.7149 - val_precision: 0.8619 - val_recall: 0.5522\n",
            "Epoch 632/800\n",
            "58/57 [==============================] - ETA: 0s - loss: 0.8523 - accuracy: 0.6913 - precision: 0.8089 - recall: 0.5617"
          ]
        },
        {
          "output_type": "stream",
          "name": "stderr",
          "text": [
            "WARNING:tensorflow:Can save best model only with acc available, skipping.\n"
          ]
        },
        {
          "output_type": "stream",
          "name": "stdout",
          "text": [
            "\b\b\b\b\b\b\b\b\b\b\b\b\b\b\b\b\b\b\b\b\b\b\b\b\b\b\b\b\b\b\b\b\b\b\b\b\b\b\b\b\b\b\b\b\b\b\b\b\b\b\b\b\b\b\b\b\b\b\b\b\b\b\b\b\b\b\b\b\b\b\b\b\b\b\b\b\b\b\b\b\b\b\b\b\b\b\b\b\b\b\b\b\b\b\b\b\b\b\b\b\b\b\b\b\b\b\b\b\b\b\b\b\b\b\b\b\b\b\b\r57/57 [==============================] - 25s 424ms/step - loss: 0.8523 - accuracy: 0.6913 - precision: 0.8089 - recall: 0.5617 - val_loss: 0.8079 - val_accuracy: 0.7153 - val_precision: 0.8623 - val_recall: 0.5526\n",
            "Epoch 633/800\n",
            "58/57 [==============================] - ETA: 0s - loss: 0.8536 - accuracy: 0.6875 - precision: 0.8059 - recall: 0.5619"
          ]
        },
        {
          "output_type": "stream",
          "name": "stderr",
          "text": [
            "WARNING:tensorflow:Can save best model only with acc available, skipping.\n"
          ]
        },
        {
          "output_type": "stream",
          "name": "stdout",
          "text": [
            "\b\b\b\b\b\b\b\b\b\b\b\b\b\b\b\b\b\b\b\b\b\b\b\b\b\b\b\b\b\b\b\b\b\b\b\b\b\b\b\b\b\b\b\b\b\b\b\b\b\b\b\b\b\b\b\b\b\b\b\b\b\b\b\b\b\b\b\b\b\b\b\b\b\b\b\b\b\b\b\b\b\b\b\b\b\b\b\b\b\b\b\b\b\b\b\b\b\b\b\b\b\b\b\b\b\b\b\b\b\b\b\b\b\b\b\b\b\b\b\r57/57 [==============================] - 21s 368ms/step - loss: 0.8536 - accuracy: 0.6875 - precision: 0.8059 - recall: 0.5619 - val_loss: 0.8072 - val_accuracy: 0.7156 - val_precision: 0.8624 - val_recall: 0.5536\n",
            "Epoch 634/800\n",
            "58/57 [==============================] - ETA: 0s - loss: 0.8548 - accuracy: 0.6874 - precision: 0.8060 - recall: 0.5606"
          ]
        },
        {
          "output_type": "stream",
          "name": "stderr",
          "text": [
            "WARNING:tensorflow:Can save best model only with acc available, skipping.\n"
          ]
        },
        {
          "output_type": "stream",
          "name": "stdout",
          "text": [
            "\b\b\b\b\b\b\b\b\b\b\b\b\b\b\b\b\b\b\b\b\b\b\b\b\b\b\b\b\b\b\b\b\b\b\b\b\b\b\b\b\b\b\b\b\b\b\b\b\b\b\b\b\b\b\b\b\b\b\b\b\b\b\b\b\b\b\b\b\b\b\b\b\b\b\b\b\b\b\b\b\b\b\b\b\b\b\b\b\b\b\b\b\b\b\b\b\b\b\b\b\b\b\b\b\b\b\b\b\b\b\b\b\b\b\b\b\b\b\b\r57/57 [==============================] - 21s 370ms/step - loss: 0.8548 - accuracy: 0.6874 - precision: 0.8060 - recall: 0.5606 - val_loss: 0.8071 - val_accuracy: 0.7157 - val_precision: 0.8623 - val_recall: 0.5533\n",
            "Epoch 635/800\n",
            "58/57 [==============================] - ETA: 0s - loss: 0.8499 - accuracy: 0.6915 - precision: 0.8088 - recall: 0.5630"
          ]
        },
        {
          "output_type": "stream",
          "name": "stderr",
          "text": [
            "WARNING:tensorflow:Can save best model only with acc available, skipping.\n"
          ]
        },
        {
          "output_type": "stream",
          "name": "stdout",
          "text": [
            "\b\b\b\b\b\b\b\b\b\b\b\b\b\b\b\b\b\b\b\b\b\b\b\b\b\b\b\b\b\b\b\b\b\b\b\b\b\b\b\b\b\b\b\b\b\b\b\b\b\b\b\b\b\b\b\b\b\b\b\b\b\b\b\b\b\b\b\b\b\b\b\b\b\b\b\b\b\b\b\b\b\b\b\b\b\b\b\b\b\b\b\b\b\b\b\b\b\b\b\b\b\b\b\b\b\b\b\b\b\b\b\b\b\b\b\b\b\b\b\r57/57 [==============================] - 21s 357ms/step - loss: 0.8499 - accuracy: 0.6915 - precision: 0.8088 - recall: 0.5630 - val_loss: 0.8063 - val_accuracy: 0.7161 - val_precision: 0.8624 - val_recall: 0.5539\n",
            "Epoch 636/800\n",
            "58/57 [==============================] - ETA: 0s - loss: 0.8507 - accuracy: 0.6911 - precision: 0.8109 - recall: 0.5633"
          ]
        },
        {
          "output_type": "stream",
          "name": "stderr",
          "text": [
            "WARNING:tensorflow:Can save best model only with acc available, skipping.\n"
          ]
        },
        {
          "output_type": "stream",
          "name": "stdout",
          "text": [
            "\b\b\b\b\b\b\b\b\b\b\b\b\b\b\b\b\b\b\b\b\b\b\b\b\b\b\b\b\b\b\b\b\b\b\b\b\b\b\b\b\b\b\b\b\b\b\b\b\b\b\b\b\b\b\b\b\b\b\b\b\b\b\b\b\b\b\b\b\b\b\b\b\b\b\b\b\b\b\b\b\b\b\b\b\b\b\b\b\b\b\b\b\b\b\b\b\b\b\b\b\b\b\b\b\b\b\b\b\b\b\b\b\b\b\b\b\b\b\b\r57/57 [==============================] - 22s 374ms/step - loss: 0.8507 - accuracy: 0.6911 - precision: 0.8109 - recall: 0.5633 - val_loss: 0.8063 - val_accuracy: 0.7158 - val_precision: 0.8621 - val_recall: 0.5535\n",
            "Epoch 637/800\n",
            "58/57 [==============================] - ETA: 0s - loss: 0.8501 - accuracy: 0.6926 - precision: 0.8105 - recall: 0.5626"
          ]
        },
        {
          "output_type": "stream",
          "name": "stderr",
          "text": [
            "WARNING:tensorflow:Can save best model only with acc available, skipping.\n"
          ]
        },
        {
          "output_type": "stream",
          "name": "stdout",
          "text": [
            "\b\b\b\b\b\b\b\b\b\b\b\b\b\b\b\b\b\b\b\b\b\b\b\b\b\b\b\b\b\b\b\b\b\b\b\b\b\b\b\b\b\b\b\b\b\b\b\b\b\b\b\b\b\b\b\b\b\b\b\b\b\b\b\b\b\b\b\b\b\b\b\b\b\b\b\b\b\b\b\b\b\b\b\b\b\b\b\b\b\b\b\b\b\b\b\b\b\b\b\b\b\b\b\b\b\b\b\b\b\b\b\b\b\b\b\b\b\b\b\r57/57 [==============================] - 24s 411ms/step - loss: 0.8501 - accuracy: 0.6926 - precision: 0.8105 - recall: 0.5626 - val_loss: 0.8058 - val_accuracy: 0.7160 - val_precision: 0.8622 - val_recall: 0.5539\n",
            "Epoch 638/800\n",
            "58/57 [==============================] - ETA: 0s - loss: 0.8496 - accuracy: 0.6901 - precision: 0.8095 - recall: 0.5624"
          ]
        },
        {
          "output_type": "stream",
          "name": "stderr",
          "text": [
            "WARNING:tensorflow:Can save best model only with acc available, skipping.\n"
          ]
        },
        {
          "output_type": "stream",
          "name": "stdout",
          "text": [
            "\b\b\b\b\b\b\b\b\b\b\b\b\b\b\b\b\b\b\b\b\b\b\b\b\b\b\b\b\b\b\b\b\b\b\b\b\b\b\b\b\b\b\b\b\b\b\b\b\b\b\b\b\b\b\b\b\b\b\b\b\b\b\b\b\b\b\b\b\b\b\b\b\b\b\b\b\b\b\b\b\b\b\b\b\b\b\b\b\b\b\b\b\b\b\b\b\b\b\b\b\b\b\b\b\b\b\b\b\b\b\b\b\b\b\b\b\b\b\b\r57/57 [==============================] - 22s 374ms/step - loss: 0.8496 - accuracy: 0.6901 - precision: 0.8095 - recall: 0.5624 - val_loss: 0.8053 - val_accuracy: 0.7160 - val_precision: 0.8618 - val_recall: 0.5541\n",
            "Epoch 639/800\n",
            "58/57 [==============================] - ETA: 0s - loss: 0.8488 - accuracy: 0.6923 - precision: 0.8102 - recall: 0.5648"
          ]
        },
        {
          "output_type": "stream",
          "name": "stderr",
          "text": [
            "WARNING:tensorflow:Can save best model only with acc available, skipping.\n"
          ]
        },
        {
          "output_type": "stream",
          "name": "stdout",
          "text": [
            "\b\b\b\b\b\b\b\b\b\b\b\b\b\b\b\b\b\b\b\b\b\b\b\b\b\b\b\b\b\b\b\b\b\b\b\b\b\b\b\b\b\b\b\b\b\b\b\b\b\b\b\b\b\b\b\b\b\b\b\b\b\b\b\b\b\b\b\b\b\b\b\b\b\b\b\b\b\b\b\b\b\b\b\b\b\b\b\b\b\b\b\b\b\b\b\b\b\b\b\b\b\b\b\b\b\b\b\b\b\b\b\b\b\b\b\b\b\b\b\r57/57 [==============================] - 21s 359ms/step - loss: 0.8488 - accuracy: 0.6923 - precision: 0.8102 - recall: 0.5648 - val_loss: 0.8046 - val_accuracy: 0.7166 - val_precision: 0.8622 - val_recall: 0.5545\n",
            "Epoch 640/800\n",
            "58/57 [==============================] - ETA: 0s - loss: 0.8510 - accuracy: 0.6913 - precision: 0.8085 - recall: 0.5613"
          ]
        },
        {
          "output_type": "stream",
          "name": "stderr",
          "text": [
            "WARNING:tensorflow:Can save best model only with acc available, skipping.\n"
          ]
        },
        {
          "output_type": "stream",
          "name": "stdout",
          "text": [
            "\b\b\b\b\b\b\b\b\b\b\b\b\b\b\b\b\b\b\b\b\b\b\b\b\b\b\b\b\b\b\b\b\b\b\b\b\b\b\b\b\b\b\b\b\b\b\b\b\b\b\b\b\b\b\b\b\b\b\b\b\b\b\b\b\b\b\b\b\b\b\b\b\b\b\b\b\b\b\b\b\b\b\b\b\b\b\b\b\b\b\b\b\b\b\b\b\b\b\b\b\b\b\b\b\b\b\b\b\b\b\b\b\b\b\b\b\b\b\b\r57/57 [==============================] - 21s 358ms/step - loss: 0.8510 - accuracy: 0.6913 - precision: 0.8085 - recall: 0.5613 - val_loss: 0.8040 - val_accuracy: 0.7170 - val_precision: 0.8624 - val_recall: 0.5550\n",
            "Epoch 641/800\n",
            "58/57 [==============================] - ETA: 0s - loss: 0.8496 - accuracy: 0.6920 - precision: 0.8073 - recall: 0.5635"
          ]
        },
        {
          "output_type": "stream",
          "name": "stderr",
          "text": [
            "WARNING:tensorflow:Can save best model only with acc available, skipping.\n"
          ]
        },
        {
          "output_type": "stream",
          "name": "stdout",
          "text": [
            "\b\b\b\b\b\b\b\b\b\b\b\b\b\b\b\b\b\b\b\b\b\b\b\b\b\b\b\b\b\b\b\b\b\b\b\b\b\b\b\b\b\b\b\b\b\b\b\b\b\b\b\b\b\b\b\b\b\b\b\b\b\b\b\b\b\b\b\b\b\b\b\b\b\b\b\b\b\b\b\b\b\b\b\b\b\b\b\b\b\b\b\b\b\b\b\b\b\b\b\b\b\b\b\b\b\b\b\b\b\b\b\b\b\b\b\b\b\b\b\r57/57 [==============================] - 20s 343ms/step - loss: 0.8496 - accuracy: 0.6920 - precision: 0.8073 - recall: 0.5635 - val_loss: 0.8040 - val_accuracy: 0.7167 - val_precision: 0.8623 - val_recall: 0.5546\n",
            "Epoch 642/800\n",
            "58/57 [==============================] - ETA: 0s - loss: 0.8484 - accuracy: 0.6903 - precision: 0.8066 - recall: 0.5648"
          ]
        },
        {
          "output_type": "stream",
          "name": "stderr",
          "text": [
            "WARNING:tensorflow:Can save best model only with acc available, skipping.\n"
          ]
        },
        {
          "output_type": "stream",
          "name": "stdout",
          "text": [
            "\b\b\b\b\b\b\b\b\b\b\b\b\b\b\b\b\b\b\b\b\b\b\b\b\b\b\b\b\b\b\b\b\b\b\b\b\b\b\b\b\b\b\b\b\b\b\b\b\b\b\b\b\b\b\b\b\b\b\b\b\b\b\b\b\b\b\b\b\b\b\b\b\b\b\b\b\b\b\b\b\b\b\b\b\b\b\b\b\b\b\b\b\b\b\b\b\b\b\b\b\b\b\b\b\b\b\b\b\b\b\b\b\b\b\b\b\b\b\b\r57/57 [==============================] - 19s 334ms/step - loss: 0.8484 - accuracy: 0.6903 - precision: 0.8066 - recall: 0.5648 - val_loss: 0.8033 - val_accuracy: 0.7170 - val_precision: 0.8625 - val_recall: 0.5548\n",
            "Epoch 643/800\n",
            "58/57 [==============================] - ETA: 0s - loss: 0.8487 - accuracy: 0.6921 - precision: 0.8091 - recall: 0.5619"
          ]
        },
        {
          "output_type": "stream",
          "name": "stderr",
          "text": [
            "WARNING:tensorflow:Can save best model only with acc available, skipping.\n"
          ]
        },
        {
          "output_type": "stream",
          "name": "stdout",
          "text": [
            "\b\b\b\b\b\b\b\b\b\b\b\b\b\b\b\b\b\b\b\b\b\b\b\b\b\b\b\b\b\b\b\b\b\b\b\b\b\b\b\b\b\b\b\b\b\b\b\b\b\b\b\b\b\b\b\b\b\b\b\b\b\b\b\b\b\b\b\b\b\b\b\b\b\b\b\b\b\b\b\b\b\b\b\b\b\b\b\b\b\b\b\b\b\b\b\b\b\b\b\b\b\b\b\b\b\b\b\b\b\b\b\b\b\b\b\b\b\b\b\r57/57 [==============================] - 20s 341ms/step - loss: 0.8487 - accuracy: 0.6921 - precision: 0.8091 - recall: 0.5619 - val_loss: 0.8029 - val_accuracy: 0.7170 - val_precision: 0.8626 - val_recall: 0.5554\n",
            "Epoch 644/800\n",
            "58/57 [==============================] - ETA: 0s - loss: 0.8475 - accuracy: 0.6911 - precision: 0.8064 - recall: 0.5612"
          ]
        },
        {
          "output_type": "stream",
          "name": "stderr",
          "text": [
            "WARNING:tensorflow:Can save best model only with acc available, skipping.\n"
          ]
        },
        {
          "output_type": "stream",
          "name": "stdout",
          "text": [
            "\b\b\b\b\b\b\b\b\b\b\b\b\b\b\b\b\b\b\b\b\b\b\b\b\b\b\b\b\b\b\b\b\b\b\b\b\b\b\b\b\b\b\b\b\b\b\b\b\b\b\b\b\b\b\b\b\b\b\b\b\b\b\b\b\b\b\b\b\b\b\b\b\b\b\b\b\b\b\b\b\b\b\b\b\b\b\b\b\b\b\b\b\b\b\b\b\b\b\b\b\b\b\b\b\b\b\b\b\b\b\b\b\b\b\b\b\b\b\b\r57/57 [==============================] - 20s 343ms/step - loss: 0.8475 - accuracy: 0.6911 - precision: 0.8064 - recall: 0.5612 - val_loss: 0.8029 - val_accuracy: 0.7164 - val_precision: 0.8621 - val_recall: 0.5555\n",
            "Epoch 645/800\n",
            "58/57 [==============================] - ETA: 0s - loss: 0.8491 - accuracy: 0.6920 - precision: 0.8086 - recall: 0.5647"
          ]
        },
        {
          "output_type": "stream",
          "name": "stderr",
          "text": [
            "WARNING:tensorflow:Can save best model only with acc available, skipping.\n"
          ]
        },
        {
          "output_type": "stream",
          "name": "stdout",
          "text": [
            "\b\b\b\b\b\b\b\b\b\b\b\b\b\b\b\b\b\b\b\b\b\b\b\b\b\b\b\b\b\b\b\b\b\b\b\b\b\b\b\b\b\b\b\b\b\b\b\b\b\b\b\b\b\b\b\b\b\b\b\b\b\b\b\b\b\b\b\b\b\b\b\b\b\b\b\b\b\b\b\b\b\b\b\b\b\b\b\b\b\b\b\b\b\b\b\b\b\b\b\b\b\b\b\b\b\b\b\b\b\b\b\b\b\b\b\b\b\b\b\r57/57 [==============================] - 20s 346ms/step - loss: 0.8491 - accuracy: 0.6920 - precision: 0.8086 - recall: 0.5647 - val_loss: 0.8020 - val_accuracy: 0.7173 - val_precision: 0.8628 - val_recall: 0.5561\n",
            "Epoch 646/800\n",
            "58/57 [==============================] - ETA: 0s - loss: 0.8469 - accuracy: 0.6908 - precision: 0.8075 - recall: 0.5637"
          ]
        },
        {
          "output_type": "stream",
          "name": "stderr",
          "text": [
            "WARNING:tensorflow:Can save best model only with acc available, skipping.\n"
          ]
        },
        {
          "output_type": "stream",
          "name": "stdout",
          "text": [
            "\b\b\b\b\b\b\b\b\b\b\b\b\b\b\b\b\b\b\b\b\b\b\b\b\b\b\b\b\b\b\b\b\b\b\b\b\b\b\b\b\b\b\b\b\b\b\b\b\b\b\b\b\b\b\b\b\b\b\b\b\b\b\b\b\b\b\b\b\b\b\b\b\b\b\b\b\b\b\b\b\b\b\b\b\b\b\b\b\b\b\b\b\b\b\b\b\b\b\b\b\b\b\b\b\b\b\b\b\b\b\b\b\b\b\b\b\b\b\b\r57/57 [==============================] - 20s 346ms/step - loss: 0.8469 - accuracy: 0.6908 - precision: 0.8075 - recall: 0.5637 - val_loss: 0.8015 - val_accuracy: 0.7176 - val_precision: 0.8627 - val_recall: 0.5566\n",
            "Epoch 647/800\n",
            "58/57 [==============================] - ETA: 0s - loss: 0.8459 - accuracy: 0.6912 - precision: 0.8084 - recall: 0.5644"
          ]
        },
        {
          "output_type": "stream",
          "name": "stderr",
          "text": [
            "WARNING:tensorflow:Can save best model only with acc available, skipping.\n"
          ]
        },
        {
          "output_type": "stream",
          "name": "stdout",
          "text": [
            "\b\b\b\b\b\b\b\b\b\b\b\b\b\b\b\b\b\b\b\b\b\b\b\b\b\b\b\b\b\b\b\b\b\b\b\b\b\b\b\b\b\b\b\b\b\b\b\b\b\b\b\b\b\b\b\b\b\b\b\b\b\b\b\b\b\b\b\b\b\b\b\b\b\b\b\b\b\b\b\b\b\b\b\b\b\b\b\b\b\b\b\b\b\b\b\b\b\b\b\b\b\b\b\b\b\b\b\b\b\b\b\b\b\b\b\b\b\b\b\r57/57 [==============================] - 19s 335ms/step - loss: 0.8459 - accuracy: 0.6912 - precision: 0.8084 - recall: 0.5644 - val_loss: 0.8010 - val_accuracy: 0.7176 - val_precision: 0.8628 - val_recall: 0.5567\n",
            "Epoch 648/800\n",
            "58/57 [==============================] - ETA: 0s - loss: 0.8486 - accuracy: 0.6947 - precision: 0.8093 - recall: 0.5641"
          ]
        },
        {
          "output_type": "stream",
          "name": "stderr",
          "text": [
            "WARNING:tensorflow:Can save best model only with acc available, skipping.\n"
          ]
        },
        {
          "output_type": "stream",
          "name": "stdout",
          "text": [
            "\b\b\b\b\b\b\b\b\b\b\b\b\b\b\b\b\b\b\b\b\b\b\b\b\b\b\b\b\b\b\b\b\b\b\b\b\b\b\b\b\b\b\b\b\b\b\b\b\b\b\b\b\b\b\b\b\b\b\b\b\b\b\b\b\b\b\b\b\b\b\b\b\b\b\b\b\b\b\b\b\b\b\b\b\b\b\b\b\b\b\b\b\b\b\b\b\b\b\b\b\b\b\b\b\b\b\b\b\b\b\b\b\b\b\b\b\b\b\b\r57/57 [==============================] - 20s 349ms/step - loss: 0.8486 - accuracy: 0.6947 - precision: 0.8093 - recall: 0.5641 - val_loss: 0.8006 - val_accuracy: 0.7176 - val_precision: 0.8627 - val_recall: 0.5568\n",
            "Epoch 649/800\n",
            "58/57 [==============================] - ETA: 0s - loss: 0.8428 - accuracy: 0.6964 - precision: 0.8104 - recall: 0.5655"
          ]
        },
        {
          "output_type": "stream",
          "name": "stderr",
          "text": [
            "WARNING:tensorflow:Can save best model only with acc available, skipping.\n"
          ]
        },
        {
          "output_type": "stream",
          "name": "stdout",
          "text": [
            "\b\b\b\b\b\b\b\b\b\b\b\b\b\b\b\b\b\b\b\b\b\b\b\b\b\b\b\b\b\b\b\b\b\b\b\b\b\b\b\b\b\b\b\b\b\b\b\b\b\b\b\b\b\b\b\b\b\b\b\b\b\b\b\b\b\b\b\b\b\b\b\b\b\b\b\b\b\b\b\b\b\b\b\b\b\b\b\b\b\b\b\b\b\b\b\b\b\b\b\b\b\b\b\b\b\b\b\b\b\b\b\b\b\b\b\b\b\b\b\r57/57 [==============================] - 20s 343ms/step - loss: 0.8428 - accuracy: 0.6964 - precision: 0.8104 - recall: 0.5655 - val_loss: 0.7997 - val_accuracy: 0.7188 - val_precision: 0.8630 - val_recall: 0.5571\n",
            "Epoch 650/800\n",
            "58/57 [==============================] - ETA: 0s - loss: 0.8441 - accuracy: 0.6915 - precision: 0.8076 - recall: 0.5640"
          ]
        },
        {
          "output_type": "stream",
          "name": "stderr",
          "text": [
            "WARNING:tensorflow:Can save best model only with acc available, skipping.\n"
          ]
        },
        {
          "output_type": "stream",
          "name": "stdout",
          "text": [
            "\b\b\b\b\b\b\b\b\b\b\b\b\b\b\b\b\b\b\b\b\b\b\b\b\b\b\b\b\b\b\b\b\b\b\b\b\b\b\b\b\b\b\b\b\b\b\b\b\b\b\b\b\b\b\b\b\b\b\b\b\b\b\b\b\b\b\b\b\b\b\b\b\b\b\b\b\b\b\b\b\b\b\b\b\b\b\b\b\b\b\b\b\b\b\b\b\b\b\b\b\b\b\b\b\b\b\b\b\b\b\b\b\b\b\b\b\b\b\b\r57/57 [==============================] - 19s 330ms/step - loss: 0.8441 - accuracy: 0.6915 - precision: 0.8076 - recall: 0.5640 - val_loss: 0.7993 - val_accuracy: 0.7189 - val_precision: 0.8632 - val_recall: 0.5573\n",
            "Epoch 651/800\n",
            "58/57 [==============================] - ETA: 0s - loss: 0.8421 - accuracy: 0.6963 - precision: 0.8112 - recall: 0.5680"
          ]
        },
        {
          "output_type": "stream",
          "name": "stderr",
          "text": [
            "WARNING:tensorflow:Can save best model only with acc available, skipping.\n"
          ]
        },
        {
          "output_type": "stream",
          "name": "stdout",
          "text": [
            "\b\b\b\b\b\b\b\b\b\b\b\b\b\b\b\b\b\b\b\b\b\b\b\b\b\b\b\b\b\b\b\b\b\b\b\b\b\b\b\b\b\b\b\b\b\b\b\b\b\b\b\b\b\b\b\b\b\b\b\b\b\b\b\b\b\b\b\b\b\b\b\b\b\b\b\b\b\b\b\b\b\b\b\b\b\b\b\b\b\b\b\b\b\b\b\b\b\b\b\b\b\b\b\b\b\b\b\b\b\b\b\b\b\b\b\b\b\b\b\r57/57 [==============================] - 19s 333ms/step - loss: 0.8421 - accuracy: 0.6963 - precision: 0.8112 - recall: 0.5680 - val_loss: 0.7996 - val_accuracy: 0.7183 - val_precision: 0.8627 - val_recall: 0.5574\n",
            "Epoch 652/800\n",
            "58/57 [==============================] - ETA: 0s - loss: 0.8455 - accuracy: 0.6934 - precision: 0.8103 - recall: 0.5656"
          ]
        },
        {
          "output_type": "stream",
          "name": "stderr",
          "text": [
            "WARNING:tensorflow:Can save best model only with acc available, skipping.\n"
          ]
        },
        {
          "output_type": "stream",
          "name": "stdout",
          "text": [
            "\b\b\b\b\b\b\b\b\b\b\b\b\b\b\b\b\b\b\b\b\b\b\b\b\b\b\b\b\b\b\b\b\b\b\b\b\b\b\b\b\b\b\b\b\b\b\b\b\b\b\b\b\b\b\b\b\b\b\b\b\b\b\b\b\b\b\b\b\b\b\b\b\b\b\b\b\b\b\b\b\b\b\b\b\b\b\b\b\b\b\b\b\b\b\b\b\b\b\b\b\b\b\b\b\b\b\b\b\b\b\b\b\b\b\b\b\b\b\b\r57/57 [==============================] - 19s 334ms/step - loss: 0.8455 - accuracy: 0.6934 - precision: 0.8103 - recall: 0.5656 - val_loss: 0.7987 - val_accuracy: 0.7188 - val_precision: 0.8632 - val_recall: 0.5575\n",
            "Epoch 653/800\n",
            "58/57 [==============================] - ETA: 0s - loss: 0.8432 - accuracy: 0.6927 - precision: 0.8083 - recall: 0.5657"
          ]
        },
        {
          "output_type": "stream",
          "name": "stderr",
          "text": [
            "WARNING:tensorflow:Can save best model only with acc available, skipping.\n"
          ]
        },
        {
          "output_type": "stream",
          "name": "stdout",
          "text": [
            "\b\b\b\b\b\b\b\b\b\b\b\b\b\b\b\b\b\b\b\b\b\b\b\b\b\b\b\b\b\b\b\b\b\b\b\b\b\b\b\b\b\b\b\b\b\b\b\b\b\b\b\b\b\b\b\b\b\b\b\b\b\b\b\b\b\b\b\b\b\b\b\b\b\b\b\b\b\b\b\b\b\b\b\b\b\b\b\b\b\b\b\b\b\b\b\b\b\b\b\b\b\b\b\b\b\b\b\b\b\b\b\b\b\b\b\b\b\b\b\r57/57 [==============================] - 19s 336ms/step - loss: 0.8432 - accuracy: 0.6927 - precision: 0.8083 - recall: 0.5657 - val_loss: 0.7986 - val_accuracy: 0.7191 - val_precision: 0.8628 - val_recall: 0.5573\n",
            "Epoch 654/800\n",
            "58/57 [==============================] - ETA: 0s - loss: 0.8443 - accuracy: 0.6928 - precision: 0.8094 - recall: 0.5668"
          ]
        },
        {
          "output_type": "stream",
          "name": "stderr",
          "text": [
            "WARNING:tensorflow:Can save best model only with acc available, skipping.\n"
          ]
        },
        {
          "output_type": "stream",
          "name": "stdout",
          "text": [
            "\b\b\b\b\b\b\b\b\b\b\b\b\b\b\b\b\b\b\b\b\b\b\b\b\b\b\b\b\b\b\b\b\b\b\b\b\b\b\b\b\b\b\b\b\b\b\b\b\b\b\b\b\b\b\b\b\b\b\b\b\b\b\b\b\b\b\b\b\b\b\b\b\b\b\b\b\b\b\b\b\b\b\b\b\b\b\b\b\b\b\b\b\b\b\b\b\b\b\b\b\b\b\b\b\b\b\b\b\b\b\b\b\b\b\b\b\b\b\b\r57/57 [==============================] - 20s 345ms/step - loss: 0.8443 - accuracy: 0.6928 - precision: 0.8094 - recall: 0.5668 - val_loss: 0.7982 - val_accuracy: 0.7192 - val_precision: 0.8632 - val_recall: 0.5576\n",
            "Epoch 655/800\n",
            "58/57 [==============================] - ETA: 0s - loss: 0.8389 - accuracy: 0.6929 - precision: 0.8086 - recall: 0.5670"
          ]
        },
        {
          "output_type": "stream",
          "name": "stderr",
          "text": [
            "WARNING:tensorflow:Can save best model only with acc available, skipping.\n"
          ]
        },
        {
          "output_type": "stream",
          "name": "stdout",
          "text": [
            "\b\b\b\b\b\b\b\b\b\b\b\b\b\b\b\b\b\b\b\b\b\b\b\b\b\b\b\b\b\b\b\b\b\b\b\b\b\b\b\b\b\b\b\b\b\b\b\b\b\b\b\b\b\b\b\b\b\b\b\b\b\b\b\b\b\b\b\b\b\b\b\b\b\b\b\b\b\b\b\b\b\b\b\b\b\b\b\b\b\b\b\b\b\b\b\b\b\b\b\b\b\b\b\b\b\b\b\b\b\b\b\b\b\b\b\b\b\b\b\r57/57 [==============================] - 19s 327ms/step - loss: 0.8389 - accuracy: 0.6929 - precision: 0.8086 - recall: 0.5670 - val_loss: 0.7975 - val_accuracy: 0.7190 - val_precision: 0.8631 - val_recall: 0.5583\n",
            "Epoch 656/800\n",
            "58/57 [==============================] - ETA: 0s - loss: 0.8414 - accuracy: 0.6954 - precision: 0.8118 - recall: 0.5682"
          ]
        },
        {
          "output_type": "stream",
          "name": "stderr",
          "text": [
            "WARNING:tensorflow:Can save best model only with acc available, skipping.\n"
          ]
        },
        {
          "output_type": "stream",
          "name": "stdout",
          "text": [
            "\b\b\b\b\b\b\b\b\b\b\b\b\b\b\b\b\b\b\b\b\b\b\b\b\b\b\b\b\b\b\b\b\b\b\b\b\b\b\b\b\b\b\b\b\b\b\b\b\b\b\b\b\b\b\b\b\b\b\b\b\b\b\b\b\b\b\b\b\b\b\b\b\b\b\b\b\b\b\b\b\b\b\b\b\b\b\b\b\b\b\b\b\b\b\b\b\b\b\b\b\b\b\b\b\b\b\b\b\b\b\b\b\b\b\b\b\b\b\b\r57/57 [==============================] - 19s 328ms/step - loss: 0.8414 - accuracy: 0.6954 - precision: 0.8118 - recall: 0.5682 - val_loss: 0.7970 - val_accuracy: 0.7193 - val_precision: 0.8630 - val_recall: 0.5585\n",
            "Epoch 657/800\n",
            "58/57 [==============================] - ETA: 0s - loss: 0.8410 - accuracy: 0.6942 - precision: 0.8106 - recall: 0.5674"
          ]
        },
        {
          "output_type": "stream",
          "name": "stderr",
          "text": [
            "WARNING:tensorflow:Can save best model only with acc available, skipping.\n"
          ]
        },
        {
          "output_type": "stream",
          "name": "stdout",
          "text": [
            "\b\b\b\b\b\b\b\b\b\b\b\b\b\b\b\b\b\b\b\b\b\b\b\b\b\b\b\b\b\b\b\b\b\b\b\b\b\b\b\b\b\b\b\b\b\b\b\b\b\b\b\b\b\b\b\b\b\b\b\b\b\b\b\b\b\b\b\b\b\b\b\b\b\b\b\b\b\b\b\b\b\b\b\b\b\b\b\b\b\b\b\b\b\b\b\b\b\b\b\b\b\b\b\b\b\b\b\b\b\b\b\b\b\b\b\b\b\b\b\r57/57 [==============================] - 20s 338ms/step - loss: 0.8410 - accuracy: 0.6942 - precision: 0.8106 - recall: 0.5674 - val_loss: 0.7967 - val_accuracy: 0.7195 - val_precision: 0.8633 - val_recall: 0.5588\n",
            "Epoch 658/800\n",
            "58/57 [==============================] - ETA: 0s - loss: 0.8399 - accuracy: 0.6938 - precision: 0.8108 - recall: 0.5678"
          ]
        },
        {
          "output_type": "stream",
          "name": "stderr",
          "text": [
            "WARNING:tensorflow:Can save best model only with acc available, skipping.\n"
          ]
        },
        {
          "output_type": "stream",
          "name": "stdout",
          "text": [
            "\b\b\b\b\b\b\b\b\b\b\b\b\b\b\b\b\b\b\b\b\b\b\b\b\b\b\b\b\b\b\b\b\b\b\b\b\b\b\b\b\b\b\b\b\b\b\b\b\b\b\b\b\b\b\b\b\b\b\b\b\b\b\b\b\b\b\b\b\b\b\b\b\b\b\b\b\b\b\b\b\b\b\b\b\b\b\b\b\b\b\b\b\b\b\b\b\b\b\b\b\b\b\b\b\b\b\b\b\b\b\b\b\b\b\b\b\b\b\b\r57/57 [==============================] - 20s 341ms/step - loss: 0.8399 - accuracy: 0.6938 - precision: 0.8108 - recall: 0.5678 - val_loss: 0.7958 - val_accuracy: 0.7200 - val_precision: 0.8634 - val_recall: 0.5597\n",
            "Epoch 659/800\n",
            "58/57 [==============================] - ETA: 0s - loss: 0.8391 - accuracy: 0.6932 - precision: 0.8078 - recall: 0.5674"
          ]
        },
        {
          "output_type": "stream",
          "name": "stderr",
          "text": [
            "WARNING:tensorflow:Can save best model only with acc available, skipping.\n"
          ]
        },
        {
          "output_type": "stream",
          "name": "stdout",
          "text": [
            "\b\b\b\b\b\b\b\b\b\b\b\b\b\b\b\b\b\b\b\b\b\b\b\b\b\b\b\b\b\b\b\b\b\b\b\b\b\b\b\b\b\b\b\b\b\b\b\b\b\b\b\b\b\b\b\b\b\b\b\b\b\b\b\b\b\b\b\b\b\b\b\b\b\b\b\b\b\b\b\b\b\b\b\b\b\b\b\b\b\b\b\b\b\b\b\b\b\b\b\b\b\b\b\b\b\b\b\b\b\b\b\b\b\b\b\b\b\b\b\r57/57 [==============================] - 19s 321ms/step - loss: 0.8391 - accuracy: 0.6932 - precision: 0.8078 - recall: 0.5674 - val_loss: 0.7957 - val_accuracy: 0.7197 - val_precision: 0.8632 - val_recall: 0.5598\n",
            "Epoch 660/800\n",
            "58/57 [==============================] - ETA: 0s - loss: 0.8396 - accuracy: 0.6929 - precision: 0.8106 - recall: 0.5677"
          ]
        },
        {
          "output_type": "stream",
          "name": "stderr",
          "text": [
            "WARNING:tensorflow:Can save best model only with acc available, skipping.\n"
          ]
        },
        {
          "output_type": "stream",
          "name": "stdout",
          "text": [
            "\b\b\b\b\b\b\b\b\b\b\b\b\b\b\b\b\b\b\b\b\b\b\b\b\b\b\b\b\b\b\b\b\b\b\b\b\b\b\b\b\b\b\b\b\b\b\b\b\b\b\b\b\b\b\b\b\b\b\b\b\b\b\b\b\b\b\b\b\b\b\b\b\b\b\b\b\b\b\b\b\b\b\b\b\b\b\b\b\b\b\b\b\b\b\b\b\b\b\b\b\b\b\b\b\b\b\b\b\b\b\b\b\b\b\b\b\b\b\b\r57/57 [==============================] - 20s 351ms/step - loss: 0.8396 - accuracy: 0.6929 - precision: 0.8106 - recall: 0.5677 - val_loss: 0.7953 - val_accuracy: 0.7196 - val_precision: 0.8636 - val_recall: 0.5599\n",
            "Epoch 661/800\n",
            "58/57 [==============================] - ETA: 0s - loss: 0.8423 - accuracy: 0.6941 - precision: 0.8095 - recall: 0.5677"
          ]
        },
        {
          "output_type": "stream",
          "name": "stderr",
          "text": [
            "WARNING:tensorflow:Can save best model only with acc available, skipping.\n"
          ]
        },
        {
          "output_type": "stream",
          "name": "stdout",
          "text": [
            "\b\b\b\b\b\b\b\b\b\b\b\b\b\b\b\b\b\b\b\b\b\b\b\b\b\b\b\b\b\b\b\b\b\b\b\b\b\b\b\b\b\b\b\b\b\b\b\b\b\b\b\b\b\b\b\b\b\b\b\b\b\b\b\b\b\b\b\b\b\b\b\b\b\b\b\b\b\b\b\b\b\b\b\b\b\b\b\b\b\b\b\b\b\b\b\b\b\b\b\b\b\b\b\b\b\b\b\b\b\b\b\b\b\b\b\b\b\b\b\r57/57 [==============================] - 19s 326ms/step - loss: 0.8423 - accuracy: 0.6941 - precision: 0.8095 - recall: 0.5677 - val_loss: 0.7950 - val_accuracy: 0.7197 - val_precision: 0.8634 - val_recall: 0.5602\n",
            "Epoch 662/800\n",
            "58/57 [==============================] - ETA: 0s - loss: 0.8400 - accuracy: 0.6964 - precision: 0.8096 - recall: 0.5690"
          ]
        },
        {
          "output_type": "stream",
          "name": "stderr",
          "text": [
            "WARNING:tensorflow:Can save best model only with acc available, skipping.\n"
          ]
        },
        {
          "output_type": "stream",
          "name": "stdout",
          "text": [
            "\b\b\b\b\b\b\b\b\b\b\b\b\b\b\b\b\b\b\b\b\b\b\b\b\b\b\b\b\b\b\b\b\b\b\b\b\b\b\b\b\b\b\b\b\b\b\b\b\b\b\b\b\b\b\b\b\b\b\b\b\b\b\b\b\b\b\b\b\b\b\b\b\b\b\b\b\b\b\b\b\b\b\b\b\b\b\b\b\b\b\b\b\b\b\b\b\b\b\b\b\b\b\b\b\b\b\b\b\b\b\b\b\b\b\b\b\b\b\b\r57/57 [==============================] - 20s 342ms/step - loss: 0.8400 - accuracy: 0.6964 - precision: 0.8096 - recall: 0.5690 - val_loss: 0.7945 - val_accuracy: 0.7199 - val_precision: 0.8633 - val_recall: 0.5601\n",
            "Epoch 663/800\n",
            "58/57 [==============================] - ETA: 0s - loss: 0.8397 - accuracy: 0.6955 - precision: 0.8117 - recall: 0.5685"
          ]
        },
        {
          "output_type": "stream",
          "name": "stderr",
          "text": [
            "WARNING:tensorflow:Can save best model only with acc available, skipping.\n"
          ]
        },
        {
          "output_type": "stream",
          "name": "stdout",
          "text": [
            "\b\b\b\b\b\b\b\b\b\b\b\b\b\b\b\b\b\b\b\b\b\b\b\b\b\b\b\b\b\b\b\b\b\b\b\b\b\b\b\b\b\b\b\b\b\b\b\b\b\b\b\b\b\b\b\b\b\b\b\b\b\b\b\b\b\b\b\b\b\b\b\b\b\b\b\b\b\b\b\b\b\b\b\b\b\b\b\b\b\b\b\b\b\b\b\b\b\b\b\b\b\b\b\b\b\b\b\b\b\b\b\b\b\b\b\b\b\b\b\r57/57 [==============================] - 20s 345ms/step - loss: 0.8397 - accuracy: 0.6955 - precision: 0.8117 - recall: 0.5685 - val_loss: 0.7940 - val_accuracy: 0.7202 - val_precision: 0.8636 - val_recall: 0.5605\n",
            "Epoch 664/800\n",
            "58/57 [==============================] - ETA: 0s - loss: 0.8372 - accuracy: 0.6977 - precision: 0.8116 - recall: 0.5712"
          ]
        },
        {
          "output_type": "stream",
          "name": "stderr",
          "text": [
            "WARNING:tensorflow:Can save best model only with acc available, skipping.\n"
          ]
        },
        {
          "output_type": "stream",
          "name": "stdout",
          "text": [
            "\b\b\b\b\b\b\b\b\b\b\b\b\b\b\b\b\b\b\b\b\b\b\b\b\b\b\b\b\b\b\b\b\b\b\b\b\b\b\b\b\b\b\b\b\b\b\b\b\b\b\b\b\b\b\b\b\b\b\b\b\b\b\b\b\b\b\b\b\b\b\b\b\b\b\b\b\b\b\b\b\b\b\b\b\b\b\b\b\b\b\b\b\b\b\b\b\b\b\b\b\b\b\b\b\b\b\b\b\b\b\b\b\b\b\b\b\b\b\b\r57/57 [==============================] - 19s 334ms/step - loss: 0.8372 - accuracy: 0.6977 - precision: 0.8116 - recall: 0.5712 - val_loss: 0.7937 - val_accuracy: 0.7206 - val_precision: 0.8634 - val_recall: 0.5606\n",
            "Epoch 665/800\n",
            "58/57 [==============================] - ETA: 0s - loss: 0.8359 - accuracy: 0.6962 - precision: 0.8106 - recall: 0.5690"
          ]
        },
        {
          "output_type": "stream",
          "name": "stderr",
          "text": [
            "WARNING:tensorflow:Can save best model only with acc available, skipping.\n"
          ]
        },
        {
          "output_type": "stream",
          "name": "stdout",
          "text": [
            "\b\b\b\b\b\b\b\b\b\b\b\b\b\b\b\b\b\b\b\b\b\b\b\b\b\b\b\b\b\b\b\b\b\b\b\b\b\b\b\b\b\b\b\b\b\b\b\b\b\b\b\b\b\b\b\b\b\b\b\b\b\b\b\b\b\b\b\b\b\b\b\b\b\b\b\b\b\b\b\b\b\b\b\b\b\b\b\b\b\b\b\b\b\b\b\b\b\b\b\b\b\b\b\b\b\b\b\b\b\b\b\b\b\b\b\b\b\b\b\r57/57 [==============================] - 20s 340ms/step - loss: 0.8359 - accuracy: 0.6962 - precision: 0.8106 - recall: 0.5690 - val_loss: 0.7929 - val_accuracy: 0.7209 - val_precision: 0.8641 - val_recall: 0.5608\n",
            "Epoch 666/800\n",
            "58/57 [==============================] - ETA: 0s - loss: 0.8403 - accuracy: 0.6965 - precision: 0.8094 - recall: 0.5695"
          ]
        },
        {
          "output_type": "stream",
          "name": "stderr",
          "text": [
            "WARNING:tensorflow:Can save best model only with acc available, skipping.\n"
          ]
        },
        {
          "output_type": "stream",
          "name": "stdout",
          "text": [
            "\b\b\b\b\b\b\b\b\b\b\b\b\b\b\b\b\b\b\b\b\b\b\b\b\b\b\b\b\b\b\b\b\b\b\b\b\b\b\b\b\b\b\b\b\b\b\b\b\b\b\b\b\b\b\b\b\b\b\b\b\b\b\b\b\b\b\b\b\b\b\b\b\b\b\b\b\b\b\b\b\b\b\b\b\b\b\b\b\b\b\b\b\b\b\b\b\b\b\b\b\b\b\b\b\b\b\b\b\b\b\b\b\b\b\b\b\b\b\b\r57/57 [==============================] - 21s 362ms/step - loss: 0.8403 - accuracy: 0.6965 - precision: 0.8094 - recall: 0.5695 - val_loss: 0.7933 - val_accuracy: 0.7202 - val_precision: 0.8632 - val_recall: 0.5608\n",
            "Epoch 667/800\n",
            "58/57 [==============================] - ETA: 0s - loss: 0.8357 - accuracy: 0.6961 - precision: 0.8096 - recall: 0.5709"
          ]
        },
        {
          "output_type": "stream",
          "name": "stderr",
          "text": [
            "WARNING:tensorflow:Can save best model only with acc available, skipping.\n"
          ]
        },
        {
          "output_type": "stream",
          "name": "stdout",
          "text": [
            "\b\b\b\b\b\b\b\b\b\b\b\b\b\b\b\b\b\b\b\b\b\b\b\b\b\b\b\b\b\b\b\b\b\b\b\b\b\b\b\b\b\b\b\b\b\b\b\b\b\b\b\b\b\b\b\b\b\b\b\b\b\b\b\b\b\b\b\b\b\b\b\b\b\b\b\b\b\b\b\b\b\b\b\b\b\b\b\b\b\b\b\b\b\b\b\b\b\b\b\b\b\b\b\b\b\b\b\b\b\b\b\b\b\b\b\b\b\b\b\r57/57 [==============================] - 21s 355ms/step - loss: 0.8357 - accuracy: 0.6961 - precision: 0.8096 - recall: 0.5709 - val_loss: 0.7929 - val_accuracy: 0.7202 - val_precision: 0.8628 - val_recall: 0.5613\n",
            "Epoch 668/800\n",
            "58/57 [==============================] - ETA: 0s - loss: 0.8369 - accuracy: 0.6959 - precision: 0.8114 - recall: 0.5706"
          ]
        },
        {
          "output_type": "stream",
          "name": "stderr",
          "text": [
            "WARNING:tensorflow:Can save best model only with acc available, skipping.\n"
          ]
        },
        {
          "output_type": "stream",
          "name": "stdout",
          "text": [
            "\b\b\b\b\b\b\b\b\b\b\b\b\b\b\b\b\b\b\b\b\b\b\b\b\b\b\b\b\b\b\b\b\b\b\b\b\b\b\b\b\b\b\b\b\b\b\b\b\b\b\b\b\b\b\b\b\b\b\b\b\b\b\b\b\b\b\b\b\b\b\b\b\b\b\b\b\b\b\b\b\b\b\b\b\b\b\b\b\b\b\b\b\b\b\b\b\b\b\b\b\b\b\b\b\b\b\b\b\b\b\b\b\b\b\b\b\b\b\b\r57/57 [==============================] - 20s 354ms/step - loss: 0.8369 - accuracy: 0.6959 - precision: 0.8114 - recall: 0.5706 - val_loss: 0.7921 - val_accuracy: 0.7208 - val_precision: 0.8634 - val_recall: 0.5612\n",
            "Epoch 669/800\n",
            "58/57 [==============================] - ETA: 0s - loss: 0.8378 - accuracy: 0.6950 - precision: 0.8086 - recall: 0.5677"
          ]
        },
        {
          "output_type": "stream",
          "name": "stderr",
          "text": [
            "WARNING:tensorflow:Can save best model only with acc available, skipping.\n"
          ]
        },
        {
          "output_type": "stream",
          "name": "stdout",
          "text": [
            "\b\b\b\b\b\b\b\b\b\b\b\b\b\b\b\b\b\b\b\b\b\b\b\b\b\b\b\b\b\b\b\b\b\b\b\b\b\b\b\b\b\b\b\b\b\b\b\b\b\b\b\b\b\b\b\b\b\b\b\b\b\b\b\b\b\b\b\b\b\b\b\b\b\b\b\b\b\b\b\b\b\b\b\b\b\b\b\b\b\b\b\b\b\b\b\b\b\b\b\b\b\b\b\b\b\b\b\b\b\b\b\b\b\b\b\b\b\b\b\r57/57 [==============================] - 19s 323ms/step - loss: 0.8378 - accuracy: 0.6950 - precision: 0.8086 - recall: 0.5677 - val_loss: 0.7923 - val_accuracy: 0.7205 - val_precision: 0.8630 - val_recall: 0.5613\n",
            "Epoch 670/800\n",
            "58/57 [==============================] - ETA: 0s - loss: 0.8352 - accuracy: 0.6965 - precision: 0.8112 - recall: 0.5706"
          ]
        },
        {
          "output_type": "stream",
          "name": "stderr",
          "text": [
            "WARNING:tensorflow:Can save best model only with acc available, skipping.\n"
          ]
        },
        {
          "output_type": "stream",
          "name": "stdout",
          "text": [
            "\b\b\b\b\b\b\b\b\b\b\b\b\b\b\b\b\b\b\b\b\b\b\b\b\b\b\b\b\b\b\b\b\b\b\b\b\b\b\b\b\b\b\b\b\b\b\b\b\b\b\b\b\b\b\b\b\b\b\b\b\b\b\b\b\b\b\b\b\b\b\b\b\b\b\b\b\b\b\b\b\b\b\b\b\b\b\b\b\b\b\b\b\b\b\b\b\b\b\b\b\b\b\b\b\b\b\b\b\b\b\b\b\b\b\b\b\b\b\b\r57/57 [==============================] - 20s 351ms/step - loss: 0.8352 - accuracy: 0.6965 - precision: 0.8112 - recall: 0.5706 - val_loss: 0.7913 - val_accuracy: 0.7212 - val_precision: 0.8635 - val_recall: 0.5617\n",
            "Epoch 671/800\n",
            "58/57 [==============================] - ETA: 0s - loss: 0.8323 - accuracy: 0.6980 - precision: 0.8110 - recall: 0.5702"
          ]
        },
        {
          "output_type": "stream",
          "name": "stderr",
          "text": [
            "WARNING:tensorflow:Can save best model only with acc available, skipping.\n"
          ]
        },
        {
          "output_type": "stream",
          "name": "stdout",
          "text": [
            "\b\b\b\b\b\b\b\b\b\b\b\b\b\b\b\b\b\b\b\b\b\b\b\b\b\b\b\b\b\b\b\b\b\b\b\b\b\b\b\b\b\b\b\b\b\b\b\b\b\b\b\b\b\b\b\b\b\b\b\b\b\b\b\b\b\b\b\b\b\b\b\b\b\b\b\b\b\b\b\b\b\b\b\b\b\b\b\b\b\b\b\b\b\b\b\b\b\b\b\b\b\b\b\b\b\b\b\b\b\b\b\b\b\b\b\b\b\b\b\r57/57 [==============================] - 20s 352ms/step - loss: 0.8323 - accuracy: 0.6980 - precision: 0.8110 - recall: 0.5702 - val_loss: 0.7907 - val_accuracy: 0.7212 - val_precision: 0.8633 - val_recall: 0.5618\n",
            "Epoch 672/800\n",
            "58/57 [==============================] - ETA: 0s - loss: 0.8337 - accuracy: 0.6986 - precision: 0.8119 - recall: 0.5710"
          ]
        },
        {
          "output_type": "stream",
          "name": "stderr",
          "text": [
            "WARNING:tensorflow:Can save best model only with acc available, skipping.\n"
          ]
        },
        {
          "output_type": "stream",
          "name": "stdout",
          "text": [
            "\b\b\b\b\b\b\b\b\b\b\b\b\b\b\b\b\b\b\b\b\b\b\b\b\b\b\b\b\b\b\b\b\b\b\b\b\b\b\b\b\b\b\b\b\b\b\b\b\b\b\b\b\b\b\b\b\b\b\b\b\b\b\b\b\b\b\b\b\b\b\b\b\b\b\b\b\b\b\b\b\b\b\b\b\b\b\b\b\b\b\b\b\b\b\b\b\b\b\b\b\b\b\b\b\b\b\b\b\b\b\b\b\b\b\b\b\b\b\b\r57/57 [==============================] - 19s 336ms/step - loss: 0.8337 - accuracy: 0.6986 - precision: 0.8119 - recall: 0.5710 - val_loss: 0.7909 - val_accuracy: 0.7211 - val_precision: 0.8630 - val_recall: 0.5622\n",
            "Epoch 673/800\n",
            "58/57 [==============================] - ETA: 0s - loss: 0.8308 - accuracy: 0.6980 - precision: 0.8114 - recall: 0.5735"
          ]
        },
        {
          "output_type": "stream",
          "name": "stderr",
          "text": [
            "WARNING:tensorflow:Can save best model only with acc available, skipping.\n"
          ]
        },
        {
          "output_type": "stream",
          "name": "stdout",
          "text": [
            "\b\b\b\b\b\b\b\b\b\b\b\b\b\b\b\b\b\b\b\b\b\b\b\b\b\b\b\b\b\b\b\b\b\b\b\b\b\b\b\b\b\b\b\b\b\b\b\b\b\b\b\b\b\b\b\b\b\b\b\b\b\b\b\b\b\b\b\b\b\b\b\b\b\b\b\b\b\b\b\b\b\b\b\b\b\b\b\b\b\b\b\b\b\b\b\b\b\b\b\b\b\b\b\b\b\b\b\b\b\b\b\b\b\b\b\b\b\b\b\r57/57 [==============================] - 20s 343ms/step - loss: 0.8308 - accuracy: 0.6980 - precision: 0.8114 - recall: 0.5735 - val_loss: 0.7901 - val_accuracy: 0.7217 - val_precision: 0.8637 - val_recall: 0.5623\n",
            "Epoch 674/800\n",
            "58/57 [==============================] - ETA: 0s - loss: 0.8345 - accuracy: 0.6973 - precision: 0.8099 - recall: 0.5686"
          ]
        },
        {
          "output_type": "stream",
          "name": "stderr",
          "text": [
            "WARNING:tensorflow:Can save best model only with acc available, skipping.\n"
          ]
        },
        {
          "output_type": "stream",
          "name": "stdout",
          "text": [
            "\b\b\b\b\b\b\b\b\b\b\b\b\b\b\b\b\b\b\b\b\b\b\b\b\b\b\b\b\b\b\b\b\b\b\b\b\b\b\b\b\b\b\b\b\b\b\b\b\b\b\b\b\b\b\b\b\b\b\b\b\b\b\b\b\b\b\b\b\b\b\b\b\b\b\b\b\b\b\b\b\b\b\b\b\b\b\b\b\b\b\b\b\b\b\b\b\b\b\b\b\b\b\b\b\b\b\b\b\b\b\b\b\b\b\b\b\b\b\b\r57/57 [==============================] - 20s 343ms/step - loss: 0.8345 - accuracy: 0.6973 - precision: 0.8099 - recall: 0.5686 - val_loss: 0.7897 - val_accuracy: 0.7217 - val_precision: 0.8637 - val_recall: 0.5625\n",
            "Epoch 675/800\n",
            "58/57 [==============================] - ETA: 0s - loss: 0.8350 - accuracy: 0.6959 - precision: 0.8079 - recall: 0.5743"
          ]
        },
        {
          "output_type": "stream",
          "name": "stderr",
          "text": [
            "WARNING:tensorflow:Can save best model only with acc available, skipping.\n"
          ]
        },
        {
          "output_type": "stream",
          "name": "stdout",
          "text": [
            "\b\b\b\b\b\b\b\b\b\b\b\b\b\b\b\b\b\b\b\b\b\b\b\b\b\b\b\b\b\b\b\b\b\b\b\b\b\b\b\b\b\b\b\b\b\b\b\b\b\b\b\b\b\b\b\b\b\b\b\b\b\b\b\b\b\b\b\b\b\b\b\b\b\b\b\b\b\b\b\b\b\b\b\b\b\b\b\b\b\b\b\b\b\b\b\b\b\b\b\b\b\b\b\b\b\b\b\b\b\b\b\b\b\b\b\b\b\b\b\r57/57 [==============================] - 20s 344ms/step - loss: 0.8350 - accuracy: 0.6959 - precision: 0.8079 - recall: 0.5743 - val_loss: 0.7890 - val_accuracy: 0.7224 - val_precision: 0.8639 - val_recall: 0.5626\n",
            "Epoch 676/800\n",
            "58/57 [==============================] - ETA: 0s - loss: 0.8324 - accuracy: 0.6952 - precision: 0.8123 - recall: 0.5713"
          ]
        },
        {
          "output_type": "stream",
          "name": "stderr",
          "text": [
            "WARNING:tensorflow:Can save best model only with acc available, skipping.\n"
          ]
        },
        {
          "output_type": "stream",
          "name": "stdout",
          "text": [
            "\b\b\b\b\b\b\b\b\b\b\b\b\b\b\b\b\b\b\b\b\b\b\b\b\b\b\b\b\b\b\b\b\b\b\b\b\b\b\b\b\b\b\b\b\b\b\b\b\b\b\b\b\b\b\b\b\b\b\b\b\b\b\b\b\b\b\b\b\b\b\b\b\b\b\b\b\b\b\b\b\b\b\b\b\b\b\b\b\b\b\b\b\b\b\b\b\b\b\b\b\b\b\b\b\b\b\b\b\b\b\b\b\b\b\b\b\b\b\b\r57/57 [==============================] - 20s 347ms/step - loss: 0.8324 - accuracy: 0.6952 - precision: 0.8123 - recall: 0.5713 - val_loss: 0.7889 - val_accuracy: 0.7221 - val_precision: 0.8636 - val_recall: 0.5629\n",
            "Epoch 677/800\n",
            "58/57 [==============================] - ETA: 0s - loss: 0.8344 - accuracy: 0.6962 - precision: 0.8096 - recall: 0.5707"
          ]
        },
        {
          "output_type": "stream",
          "name": "stderr",
          "text": [
            "WARNING:tensorflow:Can save best model only with acc available, skipping.\n"
          ]
        },
        {
          "output_type": "stream",
          "name": "stdout",
          "text": [
            "\b\b\b\b\b\b\b\b\b\b\b\b\b\b\b\b\b\b\b\b\b\b\b\b\b\b\b\b\b\b\b\b\b\b\b\b\b\b\b\b\b\b\b\b\b\b\b\b\b\b\b\b\b\b\b\b\b\b\b\b\b\b\b\b\b\b\b\b\b\b\b\b\b\b\b\b\b\b\b\b\b\b\b\b\b\b\b\b\b\b\b\b\b\b\b\b\b\b\b\b\b\b\b\b\b\b\b\b\b\b\b\b\b\b\b\b\b\b\b\r57/57 [==============================] - 19s 324ms/step - loss: 0.8344 - accuracy: 0.6962 - precision: 0.8096 - recall: 0.5707 - val_loss: 0.7883 - val_accuracy: 0.7226 - val_precision: 0.8638 - val_recall: 0.5633\n",
            "Epoch 678/800\n",
            "58/57 [==============================] - ETA: 0s - loss: 0.8308 - accuracy: 0.6995 - precision: 0.8122 - recall: 0.5725"
          ]
        },
        {
          "output_type": "stream",
          "name": "stderr",
          "text": [
            "WARNING:tensorflow:Can save best model only with acc available, skipping.\n"
          ]
        },
        {
          "output_type": "stream",
          "name": "stdout",
          "text": [
            "\b\b\b\b\b\b\b\b\b\b\b\b\b\b\b\b\b\b\b\b\b\b\b\b\b\b\b\b\b\b\b\b\b\b\b\b\b\b\b\b\b\b\b\b\b\b\b\b\b\b\b\b\b\b\b\b\b\b\b\b\b\b\b\b\b\b\b\b\b\b\b\b\b\b\b\b\b\b\b\b\b\b\b\b\b\b\b\b\b\b\b\b\b\b\b\b\b\b\b\b\b\b\b\b\b\b\b\b\b\b\b\b\b\b\b\b\b\b\b\r57/57 [==============================] - 19s 326ms/step - loss: 0.8308 - accuracy: 0.6995 - precision: 0.8122 - recall: 0.5725 - val_loss: 0.7879 - val_accuracy: 0.7225 - val_precision: 0.8635 - val_recall: 0.5635\n",
            "Epoch 679/800\n",
            "58/57 [==============================] - ETA: 0s - loss: 0.8362 - accuracy: 0.6948 - precision: 0.8086 - recall: 0.5712"
          ]
        },
        {
          "output_type": "stream",
          "name": "stderr",
          "text": [
            "WARNING:tensorflow:Can save best model only with acc available, skipping.\n"
          ]
        },
        {
          "output_type": "stream",
          "name": "stdout",
          "text": [
            "\b\b\b\b\b\b\b\b\b\b\b\b\b\b\b\b\b\b\b\b\b\b\b\b\b\b\b\b\b\b\b\b\b\b\b\b\b\b\b\b\b\b\b\b\b\b\b\b\b\b\b\b\b\b\b\b\b\b\b\b\b\b\b\b\b\b\b\b\b\b\b\b\b\b\b\b\b\b\b\b\b\b\b\b\b\b\b\b\b\b\b\b\b\b\b\b\b\b\b\b\b\b\b\b\b\b\b\b\b\b\b\b\b\b\b\b\b\b\b\r57/57 [==============================] - 18s 311ms/step - loss: 0.8362 - accuracy: 0.6948 - precision: 0.8086 - recall: 0.5712 - val_loss: 0.7875 - val_accuracy: 0.7233 - val_precision: 0.8638 - val_recall: 0.5638\n",
            "Epoch 680/800\n",
            "58/57 [==============================] - ETA: 0s - loss: 0.8317 - accuracy: 0.6964 - precision: 0.8113 - recall: 0.5711"
          ]
        },
        {
          "output_type": "stream",
          "name": "stderr",
          "text": [
            "WARNING:tensorflow:Can save best model only with acc available, skipping.\n"
          ]
        },
        {
          "output_type": "stream",
          "name": "stdout",
          "text": [
            "\b\b\b\b\b\b\b\b\b\b\b\b\b\b\b\b\b\b\b\b\b\b\b\b\b\b\b\b\b\b\b\b\b\b\b\b\b\b\b\b\b\b\b\b\b\b\b\b\b\b\b\b\b\b\b\b\b\b\b\b\b\b\b\b\b\b\b\b\b\b\b\b\b\b\b\b\b\b\b\b\b\b\b\b\b\b\b\b\b\b\b\b\b\b\b\b\b\b\b\b\b\b\b\b\b\b\b\b\b\b\b\b\b\b\b\b\b\b\b\r57/57 [==============================] - 19s 334ms/step - loss: 0.8317 - accuracy: 0.6964 - precision: 0.8113 - recall: 0.5711 - val_loss: 0.7870 - val_accuracy: 0.7232 - val_precision: 0.8637 - val_recall: 0.5636\n",
            "Epoch 681/800\n",
            "58/57 [==============================] - ETA: 0s - loss: 0.8279 - accuracy: 0.6992 - precision: 0.8104 - recall: 0.5727"
          ]
        },
        {
          "output_type": "stream",
          "name": "stderr",
          "text": [
            "WARNING:tensorflow:Can save best model only with acc available, skipping.\n"
          ]
        },
        {
          "output_type": "stream",
          "name": "stdout",
          "text": [
            "\b\b\b\b\b\b\b\b\b\b\b\b\b\b\b\b\b\b\b\b\b\b\b\b\b\b\b\b\b\b\b\b\b\b\b\b\b\b\b\b\b\b\b\b\b\b\b\b\b\b\b\b\b\b\b\b\b\b\b\b\b\b\b\b\b\b\b\b\b\b\b\b\b\b\b\b\b\b\b\b\b\b\b\b\b\b\b\b\b\b\b\b\b\b\b\b\b\b\b\b\b\b\b\b\b\b\b\b\b\b\b\b\b\b\b\b\b\b\b\r57/57 [==============================] - 19s 328ms/step - loss: 0.8279 - accuracy: 0.6992 - precision: 0.8104 - recall: 0.5727 - val_loss: 0.7870 - val_accuracy: 0.7229 - val_precision: 0.8637 - val_recall: 0.5643\n",
            "Epoch 682/800\n",
            "58/57 [==============================] - ETA: 0s - loss: 0.8288 - accuracy: 0.6976 - precision: 0.8128 - recall: 0.5731"
          ]
        },
        {
          "output_type": "stream",
          "name": "stderr",
          "text": [
            "WARNING:tensorflow:Can save best model only with acc available, skipping.\n"
          ]
        },
        {
          "output_type": "stream",
          "name": "stdout",
          "text": [
            "\b\b\b\b\b\b\b\b\b\b\b\b\b\b\b\b\b\b\b\b\b\b\b\b\b\b\b\b\b\b\b\b\b\b\b\b\b\b\b\b\b\b\b\b\b\b\b\b\b\b\b\b\b\b\b\b\b\b\b\b\b\b\b\b\b\b\b\b\b\b\b\b\b\b\b\b\b\b\b\b\b\b\b\b\b\b\b\b\b\b\b\b\b\b\b\b\b\b\b\b\b\b\b\b\b\b\b\b\b\b\b\b\b\b\b\b\b\b\b\r57/57 [==============================] - 19s 323ms/step - loss: 0.8288 - accuracy: 0.6976 - precision: 0.8128 - recall: 0.5731 - val_loss: 0.7866 - val_accuracy: 0.7234 - val_precision: 0.8637 - val_recall: 0.5640\n",
            "Epoch 683/800\n",
            "58/57 [==============================] - ETA: 0s - loss: 0.8312 - accuracy: 0.6980 - precision: 0.8103 - recall: 0.5736"
          ]
        },
        {
          "output_type": "stream",
          "name": "stderr",
          "text": [
            "WARNING:tensorflow:Can save best model only with acc available, skipping.\n"
          ]
        },
        {
          "output_type": "stream",
          "name": "stdout",
          "text": [
            "\b\b\b\b\b\b\b\b\b\b\b\b\b\b\b\b\b\b\b\b\b\b\b\b\b\b\b\b\b\b\b\b\b\b\b\b\b\b\b\b\b\b\b\b\b\b\b\b\b\b\b\b\b\b\b\b\b\b\b\b\b\b\b\b\b\b\b\b\b\b\b\b\b\b\b\b\b\b\b\b\b\b\b\b\b\b\b\b\b\b\b\b\b\b\b\b\b\b\b\b\b\b\b\b\b\b\b\b\b\b\b\b\b\b\b\b\b\b\b\r57/57 [==============================] - 19s 330ms/step - loss: 0.8312 - accuracy: 0.6980 - precision: 0.8103 - recall: 0.5736 - val_loss: 0.7866 - val_accuracy: 0.7229 - val_precision: 0.8637 - val_recall: 0.5642\n",
            "Epoch 684/800\n",
            "58/57 [==============================] - ETA: 0s - loss: 0.8318 - accuracy: 0.6970 - precision: 0.8083 - recall: 0.5729"
          ]
        },
        {
          "output_type": "stream",
          "name": "stderr",
          "text": [
            "WARNING:tensorflow:Can save best model only with acc available, skipping.\n"
          ]
        },
        {
          "output_type": "stream",
          "name": "stdout",
          "text": [
            "\b\b\b\b\b\b\b\b\b\b\b\b\b\b\b\b\b\b\b\b\b\b\b\b\b\b\b\b\b\b\b\b\b\b\b\b\b\b\b\b\b\b\b\b\b\b\b\b\b\b\b\b\b\b\b\b\b\b\b\b\b\b\b\b\b\b\b\b\b\b\b\b\b\b\b\b\b\b\b\b\b\b\b\b\b\b\b\b\b\b\b\b\b\b\b\b\b\b\b\b\b\b\b\b\b\b\b\b\b\b\b\b\b\b\b\b\b\b\b\r57/57 [==============================] - 19s 333ms/step - loss: 0.8318 - accuracy: 0.6970 - precision: 0.8083 - recall: 0.5729 - val_loss: 0.7860 - val_accuracy: 0.7234 - val_precision: 0.8640 - val_recall: 0.5642\n",
            "Epoch 685/800\n",
            "58/57 [==============================] - ETA: 0s - loss: 0.8279 - accuracy: 0.6984 - precision: 0.8146 - recall: 0.5735"
          ]
        },
        {
          "output_type": "stream",
          "name": "stderr",
          "text": [
            "WARNING:tensorflow:Can save best model only with acc available, skipping.\n"
          ]
        },
        {
          "output_type": "stream",
          "name": "stdout",
          "text": [
            "\b\b\b\b\b\b\b\b\b\b\b\b\b\b\b\b\b\b\b\b\b\b\b\b\b\b\b\b\b\b\b\b\b\b\b\b\b\b\b\b\b\b\b\b\b\b\b\b\b\b\b\b\b\b\b\b\b\b\b\b\b\b\b\b\b\b\b\b\b\b\b\b\b\b\b\b\b\b\b\b\b\b\b\b\b\b\b\b\b\b\b\b\b\b\b\b\b\b\b\b\b\b\b\b\b\b\b\b\b\b\b\b\b\b\b\b\b\b\b\r57/57 [==============================] - 19s 327ms/step - loss: 0.8279 - accuracy: 0.6984 - precision: 0.8146 - recall: 0.5735 - val_loss: 0.7857 - val_accuracy: 0.7236 - val_precision: 0.8638 - val_recall: 0.5649\n",
            "Epoch 686/800\n",
            "58/57 [==============================] - ETA: 0s - loss: 0.8311 - accuracy: 0.6983 - precision: 0.8103 - recall: 0.5724"
          ]
        },
        {
          "output_type": "stream",
          "name": "stderr",
          "text": [
            "WARNING:tensorflow:Can save best model only with acc available, skipping.\n"
          ]
        },
        {
          "output_type": "stream",
          "name": "stdout",
          "text": [
            "\b\b\b\b\b\b\b\b\b\b\b\b\b\b\b\b\b\b\b\b\b\b\b\b\b\b\b\b\b\b\b\b\b\b\b\b\b\b\b\b\b\b\b\b\b\b\b\b\b\b\b\b\b\b\b\b\b\b\b\b\b\b\b\b\b\b\b\b\b\b\b\b\b\b\b\b\b\b\b\b\b\b\b\b\b\b\b\b\b\b\b\b\b\b\b\b\b\b\b\b\b\b\b\b\b\b\b\b\b\b\b\b\b\b\b\b\b\b\b\r57/57 [==============================] - 19s 332ms/step - loss: 0.8311 - accuracy: 0.6983 - precision: 0.8103 - recall: 0.5724 - val_loss: 0.7851 - val_accuracy: 0.7239 - val_precision: 0.8638 - val_recall: 0.5652\n",
            "Epoch 687/800\n",
            "58/57 [==============================] - ETA: 0s - loss: 0.8307 - accuracy: 0.6983 - precision: 0.8101 - recall: 0.5725"
          ]
        },
        {
          "output_type": "stream",
          "name": "stderr",
          "text": [
            "WARNING:tensorflow:Can save best model only with acc available, skipping.\n"
          ]
        },
        {
          "output_type": "stream",
          "name": "stdout",
          "text": [
            "\b\b\b\b\b\b\b\b\b\b\b\b\b\b\b\b\b\b\b\b\b\b\b\b\b\b\b\b\b\b\b\b\b\b\b\b\b\b\b\b\b\b\b\b\b\b\b\b\b\b\b\b\b\b\b\b\b\b\b\b\b\b\b\b\b\b\b\b\b\b\b\b\b\b\b\b\b\b\b\b\b\b\b\b\b\b\b\b\b\b\b\b\b\b\b\b\b\b\b\b\b\b\b\b\b\b\b\b\b\b\b\b\b\b\b\b\b\b\b\r57/57 [==============================] - 19s 333ms/step - loss: 0.8307 - accuracy: 0.6983 - precision: 0.8101 - recall: 0.5725 - val_loss: 0.7846 - val_accuracy: 0.7241 - val_precision: 0.8643 - val_recall: 0.5653\n",
            "Epoch 688/800\n",
            "58/57 [==============================] - ETA: 0s - loss: 0.8251 - accuracy: 0.7026 - precision: 0.8153 - recall: 0.5741"
          ]
        },
        {
          "output_type": "stream",
          "name": "stderr",
          "text": [
            "WARNING:tensorflow:Can save best model only with acc available, skipping.\n"
          ]
        },
        {
          "output_type": "stream",
          "name": "stdout",
          "text": [
            "\b\b\b\b\b\b\b\b\b\b\b\b\b\b\b\b\b\b\b\b\b\b\b\b\b\b\b\b\b\b\b\b\b\b\b\b\b\b\b\b\b\b\b\b\b\b\b\b\b\b\b\b\b\b\b\b\b\b\b\b\b\b\b\b\b\b\b\b\b\b\b\b\b\b\b\b\b\b\b\b\b\b\b\b\b\b\b\b\b\b\b\b\b\b\b\b\b\b\b\b\b\b\b\b\b\b\b\b\b\b\b\b\b\b\b\b\b\b\b\r57/57 [==============================] - 18s 318ms/step - loss: 0.8251 - accuracy: 0.7026 - precision: 0.8153 - recall: 0.5741 - val_loss: 0.7841 - val_accuracy: 0.7242 - val_precision: 0.8641 - val_recall: 0.5658\n",
            "Epoch 689/800\n",
            "58/57 [==============================] - ETA: 0s - loss: 0.8253 - accuracy: 0.6998 - precision: 0.8129 - recall: 0.5756"
          ]
        },
        {
          "output_type": "stream",
          "name": "stderr",
          "text": [
            "WARNING:tensorflow:Can save best model only with acc available, skipping.\n"
          ]
        },
        {
          "output_type": "stream",
          "name": "stdout",
          "text": [
            "\b\b\b\b\b\b\b\b\b\b\b\b\b\b\b\b\b\b\b\b\b\b\b\b\b\b\b\b\b\b\b\b\b\b\b\b\b\b\b\b\b\b\b\b\b\b\b\b\b\b\b\b\b\b\b\b\b\b\b\b\b\b\b\b\b\b\b\b\b\b\b\b\b\b\b\b\b\b\b\b\b\b\b\b\b\b\b\b\b\b\b\b\b\b\b\b\b\b\b\b\b\b\b\b\b\b\b\b\b\b\b\b\b\b\b\b\b\b\b\r57/57 [==============================] - 19s 328ms/step - loss: 0.8253 - accuracy: 0.6998 - precision: 0.8129 - recall: 0.5756 - val_loss: 0.7838 - val_accuracy: 0.7245 - val_precision: 0.8641 - val_recall: 0.5664\n",
            "Epoch 690/800\n",
            "58/57 [==============================] - ETA: 0s - loss: 0.8278 - accuracy: 0.6988 - precision: 0.8119 - recall: 0.5742"
          ]
        },
        {
          "output_type": "stream",
          "name": "stderr",
          "text": [
            "WARNING:tensorflow:Can save best model only with acc available, skipping.\n"
          ]
        },
        {
          "output_type": "stream",
          "name": "stdout",
          "text": [
            "\b\b\b\b\b\b\b\b\b\b\b\b\b\b\b\b\b\b\b\b\b\b\b\b\b\b\b\b\b\b\b\b\b\b\b\b\b\b\b\b\b\b\b\b\b\b\b\b\b\b\b\b\b\b\b\b\b\b\b\b\b\b\b\b\b\b\b\b\b\b\b\b\b\b\b\b\b\b\b\b\b\b\b\b\b\b\b\b\b\b\b\b\b\b\b\b\b\b\b\b\b\b\b\b\b\b\b\b\b\b\b\b\b\b\b\b\b\b\b\r57/57 [==============================] - 20s 340ms/step - loss: 0.8278 - accuracy: 0.6988 - precision: 0.8119 - recall: 0.5742 - val_loss: 0.7838 - val_accuracy: 0.7240 - val_precision: 0.8635 - val_recall: 0.5659\n",
            "Epoch 691/800\n",
            "58/57 [==============================] - ETA: 0s - loss: 0.8291 - accuracy: 0.7013 - precision: 0.8120 - recall: 0.5738"
          ]
        },
        {
          "output_type": "stream",
          "name": "stderr",
          "text": [
            "WARNING:tensorflow:Can save best model only with acc available, skipping.\n"
          ]
        },
        {
          "output_type": "stream",
          "name": "stdout",
          "text": [
            "\b\b\b\b\b\b\b\b\b\b\b\b\b\b\b\b\b\b\b\b\b\b\b\b\b\b\b\b\b\b\b\b\b\b\b\b\b\b\b\b\b\b\b\b\b\b\b\b\b\b\b\b\b\b\b\b\b\b\b\b\b\b\b\b\b\b\b\b\b\b\b\b\b\b\b\b\b\b\b\b\b\b\b\b\b\b\b\b\b\b\b\b\b\b\b\b\b\b\b\b\b\b\b\b\b\b\b\b\b\b\b\b\b\b\b\b\b\b\b\r57/57 [==============================] - 19s 335ms/step - loss: 0.8291 - accuracy: 0.7013 - precision: 0.8120 - recall: 0.5738 - val_loss: 0.7824 - val_accuracy: 0.7246 - val_precision: 0.8641 - val_recall: 0.5670\n",
            "Epoch 692/800\n",
            "58/57 [==============================] - ETA: 0s - loss: 0.8271 - accuracy: 0.7012 - precision: 0.8130 - recall: 0.5767"
          ]
        },
        {
          "output_type": "stream",
          "name": "stderr",
          "text": [
            "WARNING:tensorflow:Can save best model only with acc available, skipping.\n"
          ]
        },
        {
          "output_type": "stream",
          "name": "stdout",
          "text": [
            "\b\b\b\b\b\b\b\b\b\b\b\b\b\b\b\b\b\b\b\b\b\b\b\b\b\b\b\b\b\b\b\b\b\b\b\b\b\b\b\b\b\b\b\b\b\b\b\b\b\b\b\b\b\b\b\b\b\b\b\b\b\b\b\b\b\b\b\b\b\b\b\b\b\b\b\b\b\b\b\b\b\b\b\b\b\b\b\b\b\b\b\b\b\b\b\b\b\b\b\b\b\b\b\b\b\b\b\b\b\b\b\b\b\b\b\b\b\b\b\r57/57 [==============================] - 19s 333ms/step - loss: 0.8271 - accuracy: 0.7012 - precision: 0.8130 - recall: 0.5767 - val_loss: 0.7822 - val_accuracy: 0.7243 - val_precision: 0.8640 - val_recall: 0.5672\n",
            "Epoch 693/800\n",
            "58/57 [==============================] - ETA: 0s - loss: 0.8266 - accuracy: 0.6989 - precision: 0.8127 - recall: 0.5757"
          ]
        },
        {
          "output_type": "stream",
          "name": "stderr",
          "text": [
            "WARNING:tensorflow:Can save best model only with acc available, skipping.\n"
          ]
        },
        {
          "output_type": "stream",
          "name": "stdout",
          "text": [
            "\b\b\b\b\b\b\b\b\b\b\b\b\b\b\b\b\b\b\b\b\b\b\b\b\b\b\b\b\b\b\b\b\b\b\b\b\b\b\b\b\b\b\b\b\b\b\b\b\b\b\b\b\b\b\b\b\b\b\b\b\b\b\b\b\b\b\b\b\b\b\b\b\b\b\b\b\b\b\b\b\b\b\b\b\b\b\b\b\b\b\b\b\b\b\b\b\b\b\b\b\b\b\b\b\b\b\b\b\b\b\b\b\b\b\b\b\b\b\b\r57/57 [==============================] - 19s 334ms/step - loss: 0.8266 - accuracy: 0.6989 - precision: 0.8127 - recall: 0.5757 - val_loss: 0.7812 - val_accuracy: 0.7257 - val_precision: 0.8643 - val_recall: 0.5673\n",
            "Epoch 694/800\n",
            "58/57 [==============================] - ETA: 0s - loss: 0.8245 - accuracy: 0.7031 - precision: 0.8133 - recall: 0.5758"
          ]
        },
        {
          "output_type": "stream",
          "name": "stderr",
          "text": [
            "WARNING:tensorflow:Can save best model only with acc available, skipping.\n"
          ]
        },
        {
          "output_type": "stream",
          "name": "stdout",
          "text": [
            "\b\b\b\b\b\b\b\b\b\b\b\b\b\b\b\b\b\b\b\b\b\b\b\b\b\b\b\b\b\b\b\b\b\b\b\b\b\b\b\b\b\b\b\b\b\b\b\b\b\b\b\b\b\b\b\b\b\b\b\b\b\b\b\b\b\b\b\b\b\b\b\b\b\b\b\b\b\b\b\b\b\b\b\b\b\b\b\b\b\b\b\b\b\b\b\b\b\b\b\b\b\b\b\b\b\b\b\b\b\b\b\b\b\b\b\b\b\b\b\r57/57 [==============================] - 19s 332ms/step - loss: 0.8245 - accuracy: 0.7031 - precision: 0.8133 - recall: 0.5758 - val_loss: 0.7815 - val_accuracy: 0.7247 - val_precision: 0.8642 - val_recall: 0.5675\n",
            "Epoch 695/800\n",
            "58/57 [==============================] - ETA: 0s - loss: 0.8257 - accuracy: 0.7006 - precision: 0.8138 - recall: 0.5780"
          ]
        },
        {
          "output_type": "stream",
          "name": "stderr",
          "text": [
            "WARNING:tensorflow:Can save best model only with acc available, skipping.\n"
          ]
        },
        {
          "output_type": "stream",
          "name": "stdout",
          "text": [
            "\b\b\b\b\b\b\b\b\b\b\b\b\b\b\b\b\b\b\b\b\b\b\b\b\b\b\b\b\b\b\b\b\b\b\b\b\b\b\b\b\b\b\b\b\b\b\b\b\b\b\b\b\b\b\b\b\b\b\b\b\b\b\b\b\b\b\b\b\b\b\b\b\b\b\b\b\b\b\b\b\b\b\b\b\b\b\b\b\b\b\b\b\b\b\b\b\b\b\b\b\b\b\b\b\b\b\b\b\b\b\b\b\b\b\b\b\b\b\b\r57/57 [==============================] - 19s 327ms/step - loss: 0.8257 - accuracy: 0.7006 - precision: 0.8138 - recall: 0.5780 - val_loss: 0.7810 - val_accuracy: 0.7248 - val_precision: 0.8645 - val_recall: 0.5678\n",
            "Epoch 696/800\n",
            "58/57 [==============================] - ETA: 0s - loss: 0.8251 - accuracy: 0.7030 - precision: 0.8128 - recall: 0.5750"
          ]
        },
        {
          "output_type": "stream",
          "name": "stderr",
          "text": [
            "WARNING:tensorflow:Can save best model only with acc available, skipping.\n"
          ]
        },
        {
          "output_type": "stream",
          "name": "stdout",
          "text": [
            "\b\b\b\b\b\b\b\b\b\b\b\b\b\b\b\b\b\b\b\b\b\b\b\b\b\b\b\b\b\b\b\b\b\b\b\b\b\b\b\b\b\b\b\b\b\b\b\b\b\b\b\b\b\b\b\b\b\b\b\b\b\b\b\b\b\b\b\b\b\b\b\b\b\b\b\b\b\b\b\b\b\b\b\b\b\b\b\b\b\b\b\b\b\b\b\b\b\b\b\b\b\b\b\b\b\b\b\b\b\b\b\b\b\b\b\b\b\b\b\r57/57 [==============================] - 18s 318ms/step - loss: 0.8251 - accuracy: 0.7030 - precision: 0.8128 - recall: 0.5750 - val_loss: 0.7808 - val_accuracy: 0.7249 - val_precision: 0.8645 - val_recall: 0.5682\n",
            "Epoch 697/800\n",
            "58/57 [==============================] - ETA: 0s - loss: 0.8232 - accuracy: 0.7010 - precision: 0.8136 - recall: 0.5782"
          ]
        },
        {
          "output_type": "stream",
          "name": "stderr",
          "text": [
            "WARNING:tensorflow:Can save best model only with acc available, skipping.\n"
          ]
        },
        {
          "output_type": "stream",
          "name": "stdout",
          "text": [
            "\b\b\b\b\b\b\b\b\b\b\b\b\b\b\b\b\b\b\b\b\b\b\b\b\b\b\b\b\b\b\b\b\b\b\b\b\b\b\b\b\b\b\b\b\b\b\b\b\b\b\b\b\b\b\b\b\b\b\b\b\b\b\b\b\b\b\b\b\b\b\b\b\b\b\b\b\b\b\b\b\b\b\b\b\b\b\b\b\b\b\b\b\b\b\b\b\b\b\b\b\b\b\b\b\b\b\b\b\b\b\b\b\b\b\b\b\b\b\b\r57/57 [==============================] - 19s 320ms/step - loss: 0.8232 - accuracy: 0.7010 - precision: 0.8136 - recall: 0.5782 - val_loss: 0.7807 - val_accuracy: 0.7254 - val_precision: 0.8643 - val_recall: 0.5680\n",
            "Epoch 698/800\n",
            "58/57 [==============================] - ETA: 0s - loss: 0.8237 - accuracy: 0.6998 - precision: 0.8131 - recall: 0.5751"
          ]
        },
        {
          "output_type": "stream",
          "name": "stderr",
          "text": [
            "WARNING:tensorflow:Can save best model only with acc available, skipping.\n"
          ]
        },
        {
          "output_type": "stream",
          "name": "stdout",
          "text": [
            "\b\b\b\b\b\b\b\b\b\b\b\b\b\b\b\b\b\b\b\b\b\b\b\b\b\b\b\b\b\b\b\b\b\b\b\b\b\b\b\b\b\b\b\b\b\b\b\b\b\b\b\b\b\b\b\b\b\b\b\b\b\b\b\b\b\b\b\b\b\b\b\b\b\b\b\b\b\b\b\b\b\b\b\b\b\b\b\b\b\b\b\b\b\b\b\b\b\b\b\b\b\b\b\b\b\b\b\b\b\b\b\b\b\b\b\b\b\b\b\r57/57 [==============================] - 19s 334ms/step - loss: 0.8237 - accuracy: 0.6998 - precision: 0.8131 - recall: 0.5751 - val_loss: 0.7800 - val_accuracy: 0.7255 - val_precision: 0.8647 - val_recall: 0.5687\n",
            "Epoch 699/800\n",
            "58/57 [==============================] - ETA: 0s - loss: 0.8259 - accuracy: 0.6995 - precision: 0.8124 - recall: 0.5779"
          ]
        },
        {
          "output_type": "stream",
          "name": "stderr",
          "text": [
            "WARNING:tensorflow:Can save best model only with acc available, skipping.\n"
          ]
        },
        {
          "output_type": "stream",
          "name": "stdout",
          "text": [
            "\b\b\b\b\b\b\b\b\b\b\b\b\b\b\b\b\b\b\b\b\b\b\b\b\b\b\b\b\b\b\b\b\b\b\b\b\b\b\b\b\b\b\b\b\b\b\b\b\b\b\b\b\b\b\b\b\b\b\b\b\b\b\b\b\b\b\b\b\b\b\b\b\b\b\b\b\b\b\b\b\b\b\b\b\b\b\b\b\b\b\b\b\b\b\b\b\b\b\b\b\b\b\b\b\b\b\b\b\b\b\b\b\b\b\b\b\b\b\b\r57/57 [==============================] - 19s 337ms/step - loss: 0.8259 - accuracy: 0.6995 - precision: 0.8124 - recall: 0.5779 - val_loss: 0.7798 - val_accuracy: 0.7255 - val_precision: 0.8645 - val_recall: 0.5685\n",
            "Epoch 700/800\n",
            "58/57 [==============================] - ETA: 0s - loss: 0.8248 - accuracy: 0.6992 - precision: 0.8107 - recall: 0.5757"
          ]
        },
        {
          "output_type": "stream",
          "name": "stderr",
          "text": [
            "WARNING:tensorflow:Can save best model only with acc available, skipping.\n"
          ]
        },
        {
          "output_type": "stream",
          "name": "stdout",
          "text": [
            "\b\b\b\b\b\b\b\b\b\b\b\b\b\b\b\b\b\b\b\b\b\b\b\b\b\b\b\b\b\b\b\b\b\b\b\b\b\b\b\b\b\b\b\b\b\b\b\b\b\b\b\b\b\b\b\b\b\b\b\b\b\b\b\b\b\b\b\b\b\b\b\b\b\b\b\b\b\b\b\b\b\b\b\b\b\b\b\b\b\b\b\b\b\b\b\b\b\b\b\b\b\b\b\b\b\b\b\b\b\b\b\b\b\b\b\b\b\b\b\r57/57 [==============================] - 19s 324ms/step - loss: 0.8248 - accuracy: 0.6992 - precision: 0.8107 - recall: 0.5757 - val_loss: 0.7795 - val_accuracy: 0.7257 - val_precision: 0.8645 - val_recall: 0.5685\n",
            "Epoch 701/800\n",
            "58/57 [==============================] - ETA: 0s - loss: 0.8200 - accuracy: 0.7023 - precision: 0.8129 - recall: 0.5779"
          ]
        },
        {
          "output_type": "stream",
          "name": "stderr",
          "text": [
            "WARNING:tensorflow:Can save best model only with acc available, skipping.\n"
          ]
        },
        {
          "output_type": "stream",
          "name": "stdout",
          "text": [
            "\b\b\b\b\b\b\b\b\b\b\b\b\b\b\b\b\b\b\b\b\b\b\b\b\b\b\b\b\b\b\b\b\b\b\b\b\b\b\b\b\b\b\b\b\b\b\b\b\b\b\b\b\b\b\b\b\b\b\b\b\b\b\b\b\b\b\b\b\b\b\b\b\b\b\b\b\b\b\b\b\b\b\b\b\b\b\b\b\b\b\b\b\b\b\b\b\b\b\b\b\b\b\b\b\b\b\b\b\b\b\b\b\b\b\b\b\b\b\b\r57/57 [==============================] - 19s 324ms/step - loss: 0.8200 - accuracy: 0.7023 - precision: 0.8129 - recall: 0.5779 - val_loss: 0.7794 - val_accuracy: 0.7253 - val_precision: 0.8639 - val_recall: 0.5686\n",
            "Epoch 702/800\n",
            "58/57 [==============================] - ETA: 0s - loss: 0.8215 - accuracy: 0.7012 - precision: 0.8149 - recall: 0.5782"
          ]
        },
        {
          "output_type": "stream",
          "name": "stderr",
          "text": [
            "WARNING:tensorflow:Can save best model only with acc available, skipping.\n"
          ]
        },
        {
          "output_type": "stream",
          "name": "stdout",
          "text": [
            "\b\b\b\b\b\b\b\b\b\b\b\b\b\b\b\b\b\b\b\b\b\b\b\b\b\b\b\b\b\b\b\b\b\b\b\b\b\b\b\b\b\b\b\b\b\b\b\b\b\b\b\b\b\b\b\b\b\b\b\b\b\b\b\b\b\b\b\b\b\b\b\b\b\b\b\b\b\b\b\b\b\b\b\b\b\b\b\b\b\b\b\b\b\b\b\b\b\b\b\b\b\b\b\b\b\b\b\b\b\b\b\b\b\b\b\b\b\b\b\r57/57 [==============================] - 18s 313ms/step - loss: 0.8215 - accuracy: 0.7012 - precision: 0.8149 - recall: 0.5782 - val_loss: 0.7790 - val_accuracy: 0.7255 - val_precision: 0.8639 - val_recall: 0.5689\n",
            "Epoch 703/800\n",
            "58/57 [==============================] - ETA: 0s - loss: 0.8200 - accuracy: 0.7016 - precision: 0.8143 - recall: 0.5790"
          ]
        },
        {
          "output_type": "stream",
          "name": "stderr",
          "text": [
            "WARNING:tensorflow:Can save best model only with acc available, skipping.\n"
          ]
        },
        {
          "output_type": "stream",
          "name": "stdout",
          "text": [
            "\b\b\b\b\b\b\b\b\b\b\b\b\b\b\b\b\b\b\b\b\b\b\b\b\b\b\b\b\b\b\b\b\b\b\b\b\b\b\b\b\b\b\b\b\b\b\b\b\b\b\b\b\b\b\b\b\b\b\b\b\b\b\b\b\b\b\b\b\b\b\b\b\b\b\b\b\b\b\b\b\b\b\b\b\b\b\b\b\b\b\b\b\b\b\b\b\b\b\b\b\b\b\b\b\b\b\b\b\b\b\b\b\b\b\b\b\b\b\b\r57/57 [==============================] - 19s 334ms/step - loss: 0.8200 - accuracy: 0.7016 - precision: 0.8143 - recall: 0.5790 - val_loss: 0.7787 - val_accuracy: 0.7256 - val_precision: 0.8636 - val_recall: 0.5691\n",
            "Epoch 704/800\n",
            "58/57 [==============================] - ETA: 0s - loss: 0.8179 - accuracy: 0.7041 - precision: 0.8139 - recall: 0.5777"
          ]
        },
        {
          "output_type": "stream",
          "name": "stderr",
          "text": [
            "WARNING:tensorflow:Can save best model only with acc available, skipping.\n"
          ]
        },
        {
          "output_type": "stream",
          "name": "stdout",
          "text": [
            "\b\b\b\b\b\b\b\b\b\b\b\b\b\b\b\b\b\b\b\b\b\b\b\b\b\b\b\b\b\b\b\b\b\b\b\b\b\b\b\b\b\b\b\b\b\b\b\b\b\b\b\b\b\b\b\b\b\b\b\b\b\b\b\b\b\b\b\b\b\b\b\b\b\b\b\b\b\b\b\b\b\b\b\b\b\b\b\b\b\b\b\b\b\b\b\b\b\b\b\b\b\b\b\b\b\b\b\b\b\b\b\b\b\b\b\b\b\b\b\r57/57 [==============================] - 19s 334ms/step - loss: 0.8179 - accuracy: 0.7041 - precision: 0.8139 - recall: 0.5777 - val_loss: 0.7776 - val_accuracy: 0.7262 - val_precision: 0.8641 - val_recall: 0.5699\n",
            "Epoch 705/800\n",
            "58/57 [==============================] - ETA: 0s - loss: 0.8233 - accuracy: 0.7002 - precision: 0.8110 - recall: 0.5759"
          ]
        },
        {
          "output_type": "stream",
          "name": "stderr",
          "text": [
            "WARNING:tensorflow:Can save best model only with acc available, skipping.\n"
          ]
        },
        {
          "output_type": "stream",
          "name": "stdout",
          "text": [
            "\b\b\b\b\b\b\b\b\b\b\b\b\b\b\b\b\b\b\b\b\b\b\b\b\b\b\b\b\b\b\b\b\b\b\b\b\b\b\b\b\b\b\b\b\b\b\b\b\b\b\b\b\b\b\b\b\b\b\b\b\b\b\b\b\b\b\b\b\b\b\b\b\b\b\b\b\b\b\b\b\b\b\b\b\b\b\b\b\b\b\b\b\b\b\b\b\b\b\b\b\b\b\b\b\b\b\b\b\b\b\b\b\b\b\b\b\b\b\b\r57/57 [==============================] - 19s 327ms/step - loss: 0.8233 - accuracy: 0.7002 - precision: 0.8110 - recall: 0.5759 - val_loss: 0.7771 - val_accuracy: 0.7263 - val_precision: 0.8645 - val_recall: 0.5701\n",
            "Epoch 706/800\n",
            "58/57 [==============================] - ETA: 0s - loss: 0.8238 - accuracy: 0.7001 - precision: 0.8130 - recall: 0.5752"
          ]
        },
        {
          "output_type": "stream",
          "name": "stderr",
          "text": [
            "WARNING:tensorflow:Can save best model only with acc available, skipping.\n"
          ]
        },
        {
          "output_type": "stream",
          "name": "stdout",
          "text": [
            "\b\b\b\b\b\b\b\b\b\b\b\b\b\b\b\b\b\b\b\b\b\b\b\b\b\b\b\b\b\b\b\b\b\b\b\b\b\b\b\b\b\b\b\b\b\b\b\b\b\b\b\b\b\b\b\b\b\b\b\b\b\b\b\b\b\b\b\b\b\b\b\b\b\b\b\b\b\b\b\b\b\b\b\b\b\b\b\b\b\b\b\b\b\b\b\b\b\b\b\b\b\b\b\b\b\b\b\b\b\b\b\b\b\b\b\b\b\b\b\r57/57 [==============================] - 20s 339ms/step - loss: 0.8238 - accuracy: 0.7001 - precision: 0.8130 - recall: 0.5752 - val_loss: 0.7770 - val_accuracy: 0.7261 - val_precision: 0.8644 - val_recall: 0.5702\n",
            "Epoch 707/800\n",
            "58/57 [==============================] - ETA: 0s - loss: 0.8176 - accuracy: 0.7016 - precision: 0.8145 - recall: 0.5793"
          ]
        },
        {
          "output_type": "stream",
          "name": "stderr",
          "text": [
            "WARNING:tensorflow:Can save best model only with acc available, skipping.\n"
          ]
        },
        {
          "output_type": "stream",
          "name": "stdout",
          "text": [
            "\b\b\b\b\b\b\b\b\b\b\b\b\b\b\b\b\b\b\b\b\b\b\b\b\b\b\b\b\b\b\b\b\b\b\b\b\b\b\b\b\b\b\b\b\b\b\b\b\b\b\b\b\b\b\b\b\b\b\b\b\b\b\b\b\b\b\b\b\b\b\b\b\b\b\b\b\b\b\b\b\b\b\b\b\b\b\b\b\b\b\b\b\b\b\b\b\b\b\b\b\b\b\b\b\b\b\b\b\b\b\b\b\b\b\b\b\b\b\b\r57/57 [==============================] - 18s 313ms/step - loss: 0.8176 - accuracy: 0.7016 - precision: 0.8145 - recall: 0.5793 - val_loss: 0.7763 - val_accuracy: 0.7264 - val_precision: 0.8645 - val_recall: 0.5705\n",
            "Epoch 708/800\n",
            "58/57 [==============================] - ETA: 0s - loss: 0.8174 - accuracy: 0.7050 - precision: 0.8155 - recall: 0.5805"
          ]
        },
        {
          "output_type": "stream",
          "name": "stderr",
          "text": [
            "WARNING:tensorflow:Can save best model only with acc available, skipping.\n"
          ]
        },
        {
          "output_type": "stream",
          "name": "stdout",
          "text": [
            "\b\b\b\b\b\b\b\b\b\b\b\b\b\b\b\b\b\b\b\b\b\b\b\b\b\b\b\b\b\b\b\b\b\b\b\b\b\b\b\b\b\b\b\b\b\b\b\b\b\b\b\b\b\b\b\b\b\b\b\b\b\b\b\b\b\b\b\b\b\b\b\b\b\b\b\b\b\b\b\b\b\b\b\b\b\b\b\b\b\b\b\b\b\b\b\b\b\b\b\b\b\b\b\b\b\b\b\b\b\b\b\b\b\b\b\b\b\b\b\r57/57 [==============================] - 18s 311ms/step - loss: 0.8174 - accuracy: 0.7050 - precision: 0.8155 - recall: 0.5805 - val_loss: 0.7760 - val_accuracy: 0.7270 - val_precision: 0.8646 - val_recall: 0.5703\n",
            "Epoch 709/800\n",
            "58/57 [==============================] - ETA: 0s - loss: 0.8213 - accuracy: 0.7008 - precision: 0.8135 - recall: 0.5773"
          ]
        },
        {
          "output_type": "stream",
          "name": "stderr",
          "text": [
            "WARNING:tensorflow:Can save best model only with acc available, skipping.\n"
          ]
        },
        {
          "output_type": "stream",
          "name": "stdout",
          "text": [
            "\b\b\b\b\b\b\b\b\b\b\b\b\b\b\b\b\b\b\b\b\b\b\b\b\b\b\b\b\b\b\b\b\b\b\b\b\b\b\b\b\b\b\b\b\b\b\b\b\b\b\b\b\b\b\b\b\b\b\b\b\b\b\b\b\b\b\b\b\b\b\b\b\b\b\b\b\b\b\b\b\b\b\b\b\b\b\b\b\b\b\b\b\b\b\b\b\b\b\b\b\b\b\b\b\b\b\b\b\b\b\b\b\b\b\b\b\b\b\b\r57/57 [==============================] - 18s 309ms/step - loss: 0.8213 - accuracy: 0.7008 - precision: 0.8135 - recall: 0.5773 - val_loss: 0.7756 - val_accuracy: 0.7275 - val_precision: 0.8648 - val_recall: 0.5705\n",
            "Epoch 710/800\n",
            "58/57 [==============================] - ETA: 0s - loss: 0.8205 - accuracy: 0.7008 - precision: 0.8156 - recall: 0.5790"
          ]
        },
        {
          "output_type": "stream",
          "name": "stderr",
          "text": [
            "WARNING:tensorflow:Can save best model only with acc available, skipping.\n"
          ]
        },
        {
          "output_type": "stream",
          "name": "stdout",
          "text": [
            "\b\b\b\b\b\b\b\b\b\b\b\b\b\b\b\b\b\b\b\b\b\b\b\b\b\b\b\b\b\b\b\b\b\b\b\b\b\b\b\b\b\b\b\b\b\b\b\b\b\b\b\b\b\b\b\b\b\b\b\b\b\b\b\b\b\b\b\b\b\b\b\b\b\b\b\b\b\b\b\b\b\b\b\b\b\b\b\b\b\b\b\b\b\b\b\b\b\b\b\b\b\b\b\b\b\b\b\b\b\b\b\b\b\b\b\b\b\b\b\r57/57 [==============================] - 18s 309ms/step - loss: 0.8205 - accuracy: 0.7008 - precision: 0.8156 - recall: 0.5790 - val_loss: 0.7755 - val_accuracy: 0.7270 - val_precision: 0.8643 - val_recall: 0.5706\n",
            "Epoch 711/800\n",
            "58/57 [==============================] - ETA: 0s - loss: 0.8203 - accuracy: 0.7003 - precision: 0.8127 - recall: 0.5767"
          ]
        },
        {
          "output_type": "stream",
          "name": "stderr",
          "text": [
            "WARNING:tensorflow:Can save best model only with acc available, skipping.\n"
          ]
        },
        {
          "output_type": "stream",
          "name": "stdout",
          "text": [
            "\b\b\b\b\b\b\b\b\b\b\b\b\b\b\b\b\b\b\b\b\b\b\b\b\b\b\b\b\b\b\b\b\b\b\b\b\b\b\b\b\b\b\b\b\b\b\b\b\b\b\b\b\b\b\b\b\b\b\b\b\b\b\b\b\b\b\b\b\b\b\b\b\b\b\b\b\b\b\b\b\b\b\b\b\b\b\b\b\b\b\b\b\b\b\b\b\b\b\b\b\b\b\b\b\b\b\b\b\b\b\b\b\b\b\b\b\b\b\b\r57/57 [==============================] - 18s 314ms/step - loss: 0.8203 - accuracy: 0.7003 - precision: 0.8127 - recall: 0.5767 - val_loss: 0.7752 - val_accuracy: 0.7270 - val_precision: 0.8643 - val_recall: 0.5708\n",
            "Epoch 712/800\n",
            "58/57 [==============================] - ETA: 0s - loss: 0.8162 - accuracy: 0.7034 - precision: 0.8155 - recall: 0.5810"
          ]
        },
        {
          "output_type": "stream",
          "name": "stderr",
          "text": [
            "WARNING:tensorflow:Can save best model only with acc available, skipping.\n"
          ]
        },
        {
          "output_type": "stream",
          "name": "stdout",
          "text": [
            "\b\b\b\b\b\b\b\b\b\b\b\b\b\b\b\b\b\b\b\b\b\b\b\b\b\b\b\b\b\b\b\b\b\b\b\b\b\b\b\b\b\b\b\b\b\b\b\b\b\b\b\b\b\b\b\b\b\b\b\b\b\b\b\b\b\b\b\b\b\b\b\b\b\b\b\b\b\b\b\b\b\b\b\b\b\b\b\b\b\b\b\b\b\b\b\b\b\b\b\b\b\b\b\b\b\b\b\b\b\b\b\b\b\b\b\b\b\b\b\r57/57 [==============================] - 18s 310ms/step - loss: 0.8162 - accuracy: 0.7034 - precision: 0.8155 - recall: 0.5810 - val_loss: 0.7741 - val_accuracy: 0.7277 - val_precision: 0.8646 - val_recall: 0.5713\n",
            "Epoch 713/800\n",
            "58/57 [==============================] - ETA: 0s - loss: 0.8182 - accuracy: 0.7036 - precision: 0.8132 - recall: 0.5785"
          ]
        },
        {
          "output_type": "stream",
          "name": "stderr",
          "text": [
            "WARNING:tensorflow:Can save best model only with acc available, skipping.\n"
          ]
        },
        {
          "output_type": "stream",
          "name": "stdout",
          "text": [
            "\b\b\b\b\b\b\b\b\b\b\b\b\b\b\b\b\b\b\b\b\b\b\b\b\b\b\b\b\b\b\b\b\b\b\b\b\b\b\b\b\b\b\b\b\b\b\b\b\b\b\b\b\b\b\b\b\b\b\b\b\b\b\b\b\b\b\b\b\b\b\b\b\b\b\b\b\b\b\b\b\b\b\b\b\b\b\b\b\b\b\b\b\b\b\b\b\b\b\b\b\b\b\b\b\b\b\b\b\b\b\b\b\b\b\b\b\b\b\b\r57/57 [==============================] - 18s 312ms/step - loss: 0.8182 - accuracy: 0.7036 - precision: 0.8132 - recall: 0.5785 - val_loss: 0.7743 - val_accuracy: 0.7273 - val_precision: 0.8647 - val_recall: 0.5718\n",
            "Epoch 714/800\n",
            "58/57 [==============================] - ETA: 0s - loss: 0.8180 - accuracy: 0.7046 - precision: 0.8161 - recall: 0.5818"
          ]
        },
        {
          "output_type": "stream",
          "name": "stderr",
          "text": [
            "WARNING:tensorflow:Can save best model only with acc available, skipping.\n"
          ]
        },
        {
          "output_type": "stream",
          "name": "stdout",
          "text": [
            "\b\b\b\b\b\b\b\b\b\b\b\b\b\b\b\b\b\b\b\b\b\b\b\b\b\b\b\b\b\b\b\b\b\b\b\b\b\b\b\b\b\b\b\b\b\b\b\b\b\b\b\b\b\b\b\b\b\b\b\b\b\b\b\b\b\b\b\b\b\b\b\b\b\b\b\b\b\b\b\b\b\b\b\b\b\b\b\b\b\b\b\b\b\b\b\b\b\b\b\b\b\b\b\b\b\b\b\b\b\b\b\b\b\b\b\b\b\b\b\r57/57 [==============================] - 18s 315ms/step - loss: 0.8180 - accuracy: 0.7046 - precision: 0.8161 - recall: 0.5818 - val_loss: 0.7734 - val_accuracy: 0.7276 - val_precision: 0.8648 - val_recall: 0.5719\n",
            "Epoch 715/800\n",
            "58/57 [==============================] - ETA: 0s - loss: 0.8155 - accuracy: 0.7039 - precision: 0.8142 - recall: 0.5824"
          ]
        },
        {
          "output_type": "stream",
          "name": "stderr",
          "text": [
            "WARNING:tensorflow:Can save best model only with acc available, skipping.\n"
          ]
        },
        {
          "output_type": "stream",
          "name": "stdout",
          "text": [
            "\b\b\b\b\b\b\b\b\b\b\b\b\b\b\b\b\b\b\b\b\b\b\b\b\b\b\b\b\b\b\b\b\b\b\b\b\b\b\b\b\b\b\b\b\b\b\b\b\b\b\b\b\b\b\b\b\b\b\b\b\b\b\b\b\b\b\b\b\b\b\b\b\b\b\b\b\b\b\b\b\b\b\b\b\b\b\b\b\b\b\b\b\b\b\b\b\b\b\b\b\b\b\b\b\b\b\b\b\b\b\b\b\b\b\b\b\b\b\b\r57/57 [==============================] - 18s 312ms/step - loss: 0.8155 - accuracy: 0.7039 - precision: 0.8142 - recall: 0.5824 - val_loss: 0.7734 - val_accuracy: 0.7272 - val_precision: 0.8645 - val_recall: 0.5725\n",
            "Epoch 716/800\n",
            "58/57 [==============================] - ETA: 0s - loss: 0.8178 - accuracy: 0.7030 - precision: 0.8140 - recall: 0.5801"
          ]
        },
        {
          "output_type": "stream",
          "name": "stderr",
          "text": [
            "WARNING:tensorflow:Can save best model only with acc available, skipping.\n"
          ]
        },
        {
          "output_type": "stream",
          "name": "stdout",
          "text": [
            "\b\b\b\b\b\b\b\b\b\b\b\b\b\b\b\b\b\b\b\b\b\b\b\b\b\b\b\b\b\b\b\b\b\b\b\b\b\b\b\b\b\b\b\b\b\b\b\b\b\b\b\b\b\b\b\b\b\b\b\b\b\b\b\b\b\b\b\b\b\b\b\b\b\b\b\b\b\b\b\b\b\b\b\b\b\b\b\b\b\b\b\b\b\b\b\b\b\b\b\b\b\b\b\b\b\b\b\b\b\b\b\b\b\b\b\b\b\b\b\r57/57 [==============================] - 18s 310ms/step - loss: 0.8178 - accuracy: 0.7030 - precision: 0.8140 - recall: 0.5801 - val_loss: 0.7729 - val_accuracy: 0.7278 - val_precision: 0.8645 - val_recall: 0.5728\n",
            "Epoch 717/800\n",
            "58/57 [==============================] - ETA: 0s - loss: 0.8176 - accuracy: 0.7064 - precision: 0.8132 - recall: 0.5800"
          ]
        },
        {
          "output_type": "stream",
          "name": "stderr",
          "text": [
            "WARNING:tensorflow:Can save best model only with acc available, skipping.\n"
          ]
        },
        {
          "output_type": "stream",
          "name": "stdout",
          "text": [
            "\b\b\b\b\b\b\b\b\b\b\b\b\b\b\b\b\b\b\b\b\b\b\b\b\b\b\b\b\b\b\b\b\b\b\b\b\b\b\b\b\b\b\b\b\b\b\b\b\b\b\b\b\b\b\b\b\b\b\b\b\b\b\b\b\b\b\b\b\b\b\b\b\b\b\b\b\b\b\b\b\b\b\b\b\b\b\b\b\b\b\b\b\b\b\b\b\b\b\b\b\b\b\b\b\b\b\b\b\b\b\b\b\b\b\b\b\b\b\b\r57/57 [==============================] - 18s 313ms/step - loss: 0.8176 - accuracy: 0.7064 - precision: 0.8132 - recall: 0.5800 - val_loss: 0.7723 - val_accuracy: 0.7283 - val_precision: 0.8648 - val_recall: 0.5729\n",
            "Epoch 718/800\n",
            "58/57 [==============================] - ETA: 0s - loss: 0.8162 - accuracy: 0.7052 - precision: 0.8163 - recall: 0.5803"
          ]
        },
        {
          "output_type": "stream",
          "name": "stderr",
          "text": [
            "WARNING:tensorflow:Can save best model only with acc available, skipping.\n"
          ]
        },
        {
          "output_type": "stream",
          "name": "stdout",
          "text": [
            "\b\b\b\b\b\b\b\b\b\b\b\b\b\b\b\b\b\b\b\b\b\b\b\b\b\b\b\b\b\b\b\b\b\b\b\b\b\b\b\b\b\b\b\b\b\b\b\b\b\b\b\b\b\b\b\b\b\b\b\b\b\b\b\b\b\b\b\b\b\b\b\b\b\b\b\b\b\b\b\b\b\b\b\b\b\b\b\b\b\b\b\b\b\b\b\b\b\b\b\b\b\b\b\b\b\b\b\b\b\b\b\b\b\b\b\b\b\b\b\r57/57 [==============================] - 18s 310ms/step - loss: 0.8162 - accuracy: 0.7052 - precision: 0.8163 - recall: 0.5803 - val_loss: 0.7724 - val_accuracy: 0.7279 - val_precision: 0.8646 - val_recall: 0.5731\n",
            "Epoch 719/800\n",
            "58/57 [==============================] - ETA: 0s - loss: 0.8159 - accuracy: 0.7038 - precision: 0.8141 - recall: 0.5831"
          ]
        },
        {
          "output_type": "stream",
          "name": "stderr",
          "text": [
            "WARNING:tensorflow:Can save best model only with acc available, skipping.\n"
          ]
        },
        {
          "output_type": "stream",
          "name": "stdout",
          "text": [
            "\b\b\b\b\b\b\b\b\b\b\b\b\b\b\b\b\b\b\b\b\b\b\b\b\b\b\b\b\b\b\b\b\b\b\b\b\b\b\b\b\b\b\b\b\b\b\b\b\b\b\b\b\b\b\b\b\b\b\b\b\b\b\b\b\b\b\b\b\b\b\b\b\b\b\b\b\b\b\b\b\b\b\b\b\b\b\b\b\b\b\b\b\b\b\b\b\b\b\b\b\b\b\b\b\b\b\b\b\b\b\b\b\b\b\b\b\b\b\b\r57/57 [==============================] - 18s 313ms/step - loss: 0.8159 - accuracy: 0.7038 - precision: 0.8141 - recall: 0.5831 - val_loss: 0.7717 - val_accuracy: 0.7280 - val_precision: 0.8649 - val_recall: 0.5731\n",
            "Epoch 720/800\n",
            "58/57 [==============================] - ETA: 0s - loss: 0.8175 - accuracy: 0.7029 - precision: 0.8134 - recall: 0.5806"
          ]
        },
        {
          "output_type": "stream",
          "name": "stderr",
          "text": [
            "WARNING:tensorflow:Can save best model only with acc available, skipping.\n"
          ]
        },
        {
          "output_type": "stream",
          "name": "stdout",
          "text": [
            "\b\b\b\b\b\b\b\b\b\b\b\b\b\b\b\b\b\b\b\b\b\b\b\b\b\b\b\b\b\b\b\b\b\b\b\b\b\b\b\b\b\b\b\b\b\b\b\b\b\b\b\b\b\b\b\b\b\b\b\b\b\b\b\b\b\b\b\b\b\b\b\b\b\b\b\b\b\b\b\b\b\b\b\b\b\b\b\b\b\b\b\b\b\b\b\b\b\b\b\b\b\b\b\b\b\b\b\b\b\b\b\b\b\b\b\b\b\b\b\r57/57 [==============================] - 18s 317ms/step - loss: 0.8175 - accuracy: 0.7029 - precision: 0.8134 - recall: 0.5806 - val_loss: 0.7720 - val_accuracy: 0.7276 - val_precision: 0.8645 - val_recall: 0.5729\n",
            "Epoch 721/800\n",
            "58/57 [==============================] - ETA: 0s - loss: 0.8121 - accuracy: 0.7051 - precision: 0.8146 - recall: 0.5808"
          ]
        },
        {
          "output_type": "stream",
          "name": "stderr",
          "text": [
            "WARNING:tensorflow:Can save best model only with acc available, skipping.\n"
          ]
        },
        {
          "output_type": "stream",
          "name": "stdout",
          "text": [
            "\b\b\b\b\b\b\b\b\b\b\b\b\b\b\b\b\b\b\b\b\b\b\b\b\b\b\b\b\b\b\b\b\b\b\b\b\b\b\b\b\b\b\b\b\b\b\b\b\b\b\b\b\b\b\b\b\b\b\b\b\b\b\b\b\b\b\b\b\b\b\b\b\b\b\b\b\b\b\b\b\b\b\b\b\b\b\b\b\b\b\b\b\b\b\b\b\b\b\b\b\b\b\b\b\b\b\b\b\b\b\b\b\b\b\b\b\b\b\b\r57/57 [==============================] - 18s 312ms/step - loss: 0.8121 - accuracy: 0.7051 - precision: 0.8146 - recall: 0.5808 - val_loss: 0.7715 - val_accuracy: 0.7279 - val_precision: 0.8645 - val_recall: 0.5733\n",
            "Epoch 722/800\n",
            "58/57 [==============================] - ETA: 0s - loss: 0.8162 - accuracy: 0.7064 - precision: 0.8155 - recall: 0.5820"
          ]
        },
        {
          "output_type": "stream",
          "name": "stderr",
          "text": [
            "WARNING:tensorflow:Can save best model only with acc available, skipping.\n"
          ]
        },
        {
          "output_type": "stream",
          "name": "stdout",
          "text": [
            "\b\b\b\b\b\b\b\b\b\b\b\b\b\b\b\b\b\b\b\b\b\b\b\b\b\b\b\b\b\b\b\b\b\b\b\b\b\b\b\b\b\b\b\b\b\b\b\b\b\b\b\b\b\b\b\b\b\b\b\b\b\b\b\b\b\b\b\b\b\b\b\b\b\b\b\b\b\b\b\b\b\b\b\b\b\b\b\b\b\b\b\b\b\b\b\b\b\b\b\b\b\b\b\b\b\b\b\b\b\b\b\b\b\b\b\b\b\b\b\r57/57 [==============================] - 18s 310ms/step - loss: 0.8162 - accuracy: 0.7064 - precision: 0.8155 - recall: 0.5820 - val_loss: 0.7700 - val_accuracy: 0.7287 - val_precision: 0.8654 - val_recall: 0.5742\n",
            "Epoch 723/800\n",
            "58/57 [==============================] - ETA: 0s - loss: 0.8105 - accuracy: 0.7052 - precision: 0.8165 - recall: 0.5836"
          ]
        },
        {
          "output_type": "stream",
          "name": "stderr",
          "text": [
            "WARNING:tensorflow:Can save best model only with acc available, skipping.\n"
          ]
        },
        {
          "output_type": "stream",
          "name": "stdout",
          "text": [
            "\b\b\b\b\b\b\b\b\b\b\b\b\b\b\b\b\b\b\b\b\b\b\b\b\b\b\b\b\b\b\b\b\b\b\b\b\b\b\b\b\b\b\b\b\b\b\b\b\b\b\b\b\b\b\b\b\b\b\b\b\b\b\b\b\b\b\b\b\b\b\b\b\b\b\b\b\b\b\b\b\b\b\b\b\b\b\b\b\b\b\b\b\b\b\b\b\b\b\b\b\b\b\b\b\b\b\b\b\b\b\b\b\b\b\b\b\b\b\b\r57/57 [==============================] - 18s 313ms/step - loss: 0.8105 - accuracy: 0.7052 - precision: 0.8165 - recall: 0.5836 - val_loss: 0.7697 - val_accuracy: 0.7289 - val_precision: 0.8651 - val_recall: 0.5747\n",
            "Epoch 724/800\n",
            "58/57 [==============================] - ETA: 0s - loss: 0.8117 - accuracy: 0.7062 - precision: 0.8148 - recall: 0.5834"
          ]
        },
        {
          "output_type": "stream",
          "name": "stderr",
          "text": [
            "WARNING:tensorflow:Can save best model only with acc available, skipping.\n"
          ]
        },
        {
          "output_type": "stream",
          "name": "stdout",
          "text": [
            "\b\b\b\b\b\b\b\b\b\b\b\b\b\b\b\b\b\b\b\b\b\b\b\b\b\b\b\b\b\b\b\b\b\b\b\b\b\b\b\b\b\b\b\b\b\b\b\b\b\b\b\b\b\b\b\b\b\b\b\b\b\b\b\b\b\b\b\b\b\b\b\b\b\b\b\b\b\b\b\b\b\b\b\b\b\b\b\b\b\b\b\b\b\b\b\b\b\b\b\b\b\b\b\b\b\b\b\b\b\b\b\b\b\b\b\b\b\b\b\r57/57 [==============================] - 18s 314ms/step - loss: 0.8117 - accuracy: 0.7062 - precision: 0.8148 - recall: 0.5834 - val_loss: 0.7699 - val_accuracy: 0.7287 - val_precision: 0.8648 - val_recall: 0.5749\n",
            "Epoch 725/800\n",
            "58/57 [==============================] - ETA: 0s - loss: 0.8133 - accuracy: 0.7059 - precision: 0.8141 - recall: 0.5824"
          ]
        },
        {
          "output_type": "stream",
          "name": "stderr",
          "text": [
            "WARNING:tensorflow:Can save best model only with acc available, skipping.\n"
          ]
        },
        {
          "output_type": "stream",
          "name": "stdout",
          "text": [
            "\b\b\b\b\b\b\b\b\b\b\b\b\b\b\b\b\b\b\b\b\b\b\b\b\b\b\b\b\b\b\b\b\b\b\b\b\b\b\b\b\b\b\b\b\b\b\b\b\b\b\b\b\b\b\b\b\b\b\b\b\b\b\b\b\b\b\b\b\b\b\b\b\b\b\b\b\b\b\b\b\b\b\b\b\b\b\b\b\b\b\b\b\b\b\b\b\b\b\b\b\b\b\b\b\b\b\b\b\b\b\b\b\b\b\b\b\b\b\b\r57/57 [==============================] - 18s 310ms/step - loss: 0.8133 - accuracy: 0.7059 - precision: 0.8141 - recall: 0.5824 - val_loss: 0.7695 - val_accuracy: 0.7287 - val_precision: 0.8646 - val_recall: 0.5748\n",
            "Epoch 726/800\n",
            "58/57 [==============================] - ETA: 0s - loss: 0.8085 - accuracy: 0.7066 - precision: 0.8199 - recall: 0.5847"
          ]
        },
        {
          "output_type": "stream",
          "name": "stderr",
          "text": [
            "WARNING:tensorflow:Can save best model only with acc available, skipping.\n"
          ]
        },
        {
          "output_type": "stream",
          "name": "stdout",
          "text": [
            "\b\b\b\b\b\b\b\b\b\b\b\b\b\b\b\b\b\b\b\b\b\b\b\b\b\b\b\b\b\b\b\b\b\b\b\b\b\b\b\b\b\b\b\b\b\b\b\b\b\b\b\b\b\b\b\b\b\b\b\b\b\b\b\b\b\b\b\b\b\b\b\b\b\b\b\b\b\b\b\b\b\b\b\b\b\b\b\b\b\b\b\b\b\b\b\b\b\b\b\b\b\b\b\b\b\b\b\b\b\b\b\b\b\b\b\b\b\b\b\r57/57 [==============================] - 18s 313ms/step - loss: 0.8085 - accuracy: 0.7066 - precision: 0.8199 - recall: 0.5847 - val_loss: 0.7692 - val_accuracy: 0.7287 - val_precision: 0.8647 - val_recall: 0.5751\n",
            "Epoch 727/800\n",
            "58/57 [==============================] - ETA: 0s - loss: 0.8136 - accuracy: 0.7049 - precision: 0.8136 - recall: 0.5828"
          ]
        },
        {
          "output_type": "stream",
          "name": "stderr",
          "text": [
            "WARNING:tensorflow:Can save best model only with acc available, skipping.\n"
          ]
        },
        {
          "output_type": "stream",
          "name": "stdout",
          "text": [
            "\b\b\b\b\b\b\b\b\b\b\b\b\b\b\b\b\b\b\b\b\b\b\b\b\b\b\b\b\b\b\b\b\b\b\b\b\b\b\b\b\b\b\b\b\b\b\b\b\b\b\b\b\b\b\b\b\b\b\b\b\b\b\b\b\b\b\b\b\b\b\b\b\b\b\b\b\b\b\b\b\b\b\b\b\b\b\b\b\b\b\b\b\b\b\b\b\b\b\b\b\b\b\b\b\b\b\b\b\b\b\b\b\b\b\b\b\b\b\b\r57/57 [==============================] - 18s 310ms/step - loss: 0.8136 - accuracy: 0.7049 - precision: 0.8136 - recall: 0.5828 - val_loss: 0.7686 - val_accuracy: 0.7291 - val_precision: 0.8646 - val_recall: 0.5756\n",
            "Epoch 728/800\n",
            "58/57 [==============================] - ETA: 0s - loss: 0.8127 - accuracy: 0.7050 - precision: 0.8142 - recall: 0.5847"
          ]
        },
        {
          "output_type": "stream",
          "name": "stderr",
          "text": [
            "WARNING:tensorflow:Can save best model only with acc available, skipping.\n"
          ]
        },
        {
          "output_type": "stream",
          "name": "stdout",
          "text": [
            "\b\b\b\b\b\b\b\b\b\b\b\b\b\b\b\b\b\b\b\b\b\b\b\b\b\b\b\b\b\b\b\b\b\b\b\b\b\b\b\b\b\b\b\b\b\b\b\b\b\b\b\b\b\b\b\b\b\b\b\b\b\b\b\b\b\b\b\b\b\b\b\b\b\b\b\b\b\b\b\b\b\b\b\b\b\b\b\b\b\b\b\b\b\b\b\b\b\b\b\b\b\b\b\b\b\b\b\b\b\b\b\b\b\b\b\b\b\b\b\r57/57 [==============================] - 18s 312ms/step - loss: 0.8127 - accuracy: 0.7050 - precision: 0.8142 - recall: 0.5847 - val_loss: 0.7681 - val_accuracy: 0.7290 - val_precision: 0.8650 - val_recall: 0.5756\n",
            "Epoch 729/800\n",
            "58/57 [==============================] - ETA: 0s - loss: 0.8127 - accuracy: 0.7060 - precision: 0.8139 - recall: 0.5841"
          ]
        },
        {
          "output_type": "stream",
          "name": "stderr",
          "text": [
            "WARNING:tensorflow:Can save best model only with acc available, skipping.\n"
          ]
        },
        {
          "output_type": "stream",
          "name": "stdout",
          "text": [
            "\b\b\b\b\b\b\b\b\b\b\b\b\b\b\b\b\b\b\b\b\b\b\b\b\b\b\b\b\b\b\b\b\b\b\b\b\b\b\b\b\b\b\b\b\b\b\b\b\b\b\b\b\b\b\b\b\b\b\b\b\b\b\b\b\b\b\b\b\b\b\b\b\b\b\b\b\b\b\b\b\b\b\b\b\b\b\b\b\b\b\b\b\b\b\b\b\b\b\b\b\b\b\b\b\b\b\b\b\b\b\b\b\b\b\b\b\b\b\b\r57/57 [==============================] - 18s 309ms/step - loss: 0.8127 - accuracy: 0.7060 - precision: 0.8139 - recall: 0.5841 - val_loss: 0.7674 - val_accuracy: 0.7296 - val_precision: 0.8651 - val_recall: 0.5757\n",
            "Epoch 730/800\n",
            "58/57 [==============================] - ETA: 0s - loss: 0.8097 - accuracy: 0.7069 - precision: 0.8178 - recall: 0.5843"
          ]
        },
        {
          "output_type": "stream",
          "name": "stderr",
          "text": [
            "WARNING:tensorflow:Can save best model only with acc available, skipping.\n"
          ]
        },
        {
          "output_type": "stream",
          "name": "stdout",
          "text": [
            "\b\b\b\b\b\b\b\b\b\b\b\b\b\b\b\b\b\b\b\b\b\b\b\b\b\b\b\b\b\b\b\b\b\b\b\b\b\b\b\b\b\b\b\b\b\b\b\b\b\b\b\b\b\b\b\b\b\b\b\b\b\b\b\b\b\b\b\b\b\b\b\b\b\b\b\b\b\b\b\b\b\b\b\b\b\b\b\b\b\b\b\b\b\b\b\b\b\b\b\b\b\b\b\b\b\b\b\b\b\b\b\b\b\b\b\b\b\b\b\r57/57 [==============================] - 18s 309ms/step - loss: 0.8097 - accuracy: 0.7069 - precision: 0.8178 - recall: 0.5843 - val_loss: 0.7668 - val_accuracy: 0.7298 - val_precision: 0.8654 - val_recall: 0.5759\n",
            "Epoch 731/800\n",
            "58/57 [==============================] - ETA: 0s - loss: 0.8108 - accuracy: 0.7075 - precision: 0.8157 - recall: 0.5832"
          ]
        },
        {
          "output_type": "stream",
          "name": "stderr",
          "text": [
            "WARNING:tensorflow:Can save best model only with acc available, skipping.\n"
          ]
        },
        {
          "output_type": "stream",
          "name": "stdout",
          "text": [
            "\b\b\b\b\b\b\b\b\b\b\b\b\b\b\b\b\b\b\b\b\b\b\b\b\b\b\b\b\b\b\b\b\b\b\b\b\b\b\b\b\b\b\b\b\b\b\b\b\b\b\b\b\b\b\b\b\b\b\b\b\b\b\b\b\b\b\b\b\b\b\b\b\b\b\b\b\b\b\b\b\b\b\b\b\b\b\b\b\b\b\b\b\b\b\b\b\b\b\b\b\b\b\b\b\b\b\b\b\b\b\b\b\b\b\b\b\b\b\b\r57/57 [==============================] - 18s 312ms/step - loss: 0.8108 - accuracy: 0.7075 - precision: 0.8157 - recall: 0.5832 - val_loss: 0.7672 - val_accuracy: 0.7291 - val_precision: 0.8651 - val_recall: 0.5762\n",
            "Epoch 732/800\n",
            "58/57 [==============================] - ETA: 0s - loss: 0.8087 - accuracy: 0.7059 - precision: 0.8144 - recall: 0.5837"
          ]
        },
        {
          "output_type": "stream",
          "name": "stderr",
          "text": [
            "WARNING:tensorflow:Can save best model only with acc available, skipping.\n"
          ]
        },
        {
          "output_type": "stream",
          "name": "stdout",
          "text": [
            "\b\b\b\b\b\b\b\b\b\b\b\b\b\b\b\b\b\b\b\b\b\b\b\b\b\b\b\b\b\b\b\b\b\b\b\b\b\b\b\b\b\b\b\b\b\b\b\b\b\b\b\b\b\b\b\b\b\b\b\b\b\b\b\b\b\b\b\b\b\b\b\b\b\b\b\b\b\b\b\b\b\b\b\b\b\b\b\b\b\b\b\b\b\b\b\b\b\b\b\b\b\b\b\b\b\b\b\b\b\b\b\b\b\b\b\b\b\b\b\r57/57 [==============================] - 18s 313ms/step - loss: 0.8087 - accuracy: 0.7059 - precision: 0.8144 - recall: 0.5837 - val_loss: 0.7667 - val_accuracy: 0.7294 - val_precision: 0.8651 - val_recall: 0.5764\n",
            "Epoch 733/800\n",
            "58/57 [==============================] - ETA: 0s - loss: 0.8106 - accuracy: 0.7050 - precision: 0.8156 - recall: 0.5821"
          ]
        },
        {
          "output_type": "stream",
          "name": "stderr",
          "text": [
            "WARNING:tensorflow:Can save best model only with acc available, skipping.\n"
          ]
        },
        {
          "output_type": "stream",
          "name": "stdout",
          "text": [
            "\b\b\b\b\b\b\b\b\b\b\b\b\b\b\b\b\b\b\b\b\b\b\b\b\b\b\b\b\b\b\b\b\b\b\b\b\b\b\b\b\b\b\b\b\b\b\b\b\b\b\b\b\b\b\b\b\b\b\b\b\b\b\b\b\b\b\b\b\b\b\b\b\b\b\b\b\b\b\b\b\b\b\b\b\b\b\b\b\b\b\b\b\b\b\b\b\b\b\b\b\b\b\b\b\b\b\b\b\b\b\b\b\b\b\b\b\b\b\b\r57/57 [==============================] - 18s 311ms/step - loss: 0.8106 - accuracy: 0.7050 - precision: 0.8156 - recall: 0.5821 - val_loss: 0.7670 - val_accuracy: 0.7291 - val_precision: 0.8649 - val_recall: 0.5768\n",
            "Epoch 734/800\n",
            "58/57 [==============================] - ETA: 0s - loss: 0.8093 - accuracy: 0.7074 - precision: 0.8154 - recall: 0.5859"
          ]
        },
        {
          "output_type": "stream",
          "name": "stderr",
          "text": [
            "WARNING:tensorflow:Can save best model only with acc available, skipping.\n"
          ]
        },
        {
          "output_type": "stream",
          "name": "stdout",
          "text": [
            "\b\b\b\b\b\b\b\b\b\b\b\b\b\b\b\b\b\b\b\b\b\b\b\b\b\b\b\b\b\b\b\b\b\b\b\b\b\b\b\b\b\b\b\b\b\b\b\b\b\b\b\b\b\b\b\b\b\b\b\b\b\b\b\b\b\b\b\b\b\b\b\b\b\b\b\b\b\b\b\b\b\b\b\b\b\b\b\b\b\b\b\b\b\b\b\b\b\b\b\b\b\b\b\b\b\b\b\b\b\b\b\b\b\b\b\b\b\b\b\r57/57 [==============================] - 18s 310ms/step - loss: 0.8093 - accuracy: 0.7074 - precision: 0.8154 - recall: 0.5859 - val_loss: 0.7658 - val_accuracy: 0.7299 - val_precision: 0.8652 - val_recall: 0.5763\n",
            "Epoch 735/800\n",
            "58/57 [==============================] - ETA: 0s - loss: 0.8091 - accuracy: 0.7049 - precision: 0.8146 - recall: 0.5843"
          ]
        },
        {
          "output_type": "stream",
          "name": "stderr",
          "text": [
            "WARNING:tensorflow:Can save best model only with acc available, skipping.\n"
          ]
        },
        {
          "output_type": "stream",
          "name": "stdout",
          "text": [
            "\b\b\b\b\b\b\b\b\b\b\b\b\b\b\b\b\b\b\b\b\b\b\b\b\b\b\b\b\b\b\b\b\b\b\b\b\b\b\b\b\b\b\b\b\b\b\b\b\b\b\b\b\b\b\b\b\b\b\b\b\b\b\b\b\b\b\b\b\b\b\b\b\b\b\b\b\b\b\b\b\b\b\b\b\b\b\b\b\b\b\b\b\b\b\b\b\b\b\b\b\b\b\b\b\b\b\b\b\b\b\b\b\b\b\b\b\b\b\b\r57/57 [==============================] - 18s 314ms/step - loss: 0.8091 - accuracy: 0.7049 - precision: 0.8146 - recall: 0.5843 - val_loss: 0.7661 - val_accuracy: 0.7295 - val_precision: 0.8648 - val_recall: 0.5771\n",
            "Epoch 736/800\n",
            "58/57 [==============================] - ETA: 0s - loss: 0.8076 - accuracy: 0.7080 - precision: 0.8167 - recall: 0.5858"
          ]
        },
        {
          "output_type": "stream",
          "name": "stderr",
          "text": [
            "WARNING:tensorflow:Can save best model only with acc available, skipping.\n"
          ]
        },
        {
          "output_type": "stream",
          "name": "stdout",
          "text": [
            "\b\b\b\b\b\b\b\b\b\b\b\b\b\b\b\b\b\b\b\b\b\b\b\b\b\b\b\b\b\b\b\b\b\b\b\b\b\b\b\b\b\b\b\b\b\b\b\b\b\b\b\b\b\b\b\b\b\b\b\b\b\b\b\b\b\b\b\b\b\b\b\b\b\b\b\b\b\b\b\b\b\b\b\b\b\b\b\b\b\b\b\b\b\b\b\b\b\b\b\b\b\b\b\b\b\b\b\b\b\b\b\b\b\b\b\b\b\b\b\r57/57 [==============================] - 18s 313ms/step - loss: 0.8076 - accuracy: 0.7080 - precision: 0.8167 - recall: 0.5858 - val_loss: 0.7653 - val_accuracy: 0.7297 - val_precision: 0.8649 - val_recall: 0.5771\n",
            "Epoch 737/800\n",
            "58/57 [==============================] - ETA: 0s - loss: 0.8078 - accuracy: 0.7068 - precision: 0.8151 - recall: 0.5839"
          ]
        },
        {
          "output_type": "stream",
          "name": "stderr",
          "text": [
            "WARNING:tensorflow:Can save best model only with acc available, skipping.\n"
          ]
        },
        {
          "output_type": "stream",
          "name": "stdout",
          "text": [
            "\b\b\b\b\b\b\b\b\b\b\b\b\b\b\b\b\b\b\b\b\b\b\b\b\b\b\b\b\b\b\b\b\b\b\b\b\b\b\b\b\b\b\b\b\b\b\b\b\b\b\b\b\b\b\b\b\b\b\b\b\b\b\b\b\b\b\b\b\b\b\b\b\b\b\b\b\b\b\b\b\b\b\b\b\b\b\b\b\b\b\b\b\b\b\b\b\b\b\b\b\b\b\b\b\b\b\b\b\b\b\b\b\b\b\b\b\b\b\b\r57/57 [==============================] - 18s 309ms/step - loss: 0.8078 - accuracy: 0.7068 - precision: 0.8151 - recall: 0.5839 - val_loss: 0.7651 - val_accuracy: 0.7297 - val_precision: 0.8647 - val_recall: 0.5774\n",
            "Epoch 738/800\n",
            "58/57 [==============================] - ETA: 0s - loss: 0.8110 - accuracy: 0.7053 - precision: 0.8159 - recall: 0.5835"
          ]
        },
        {
          "output_type": "stream",
          "name": "stderr",
          "text": [
            "WARNING:tensorflow:Can save best model only with acc available, skipping.\n"
          ]
        },
        {
          "output_type": "stream",
          "name": "stdout",
          "text": [
            "\b\b\b\b\b\b\b\b\b\b\b\b\b\b\b\b\b\b\b\b\b\b\b\b\b\b\b\b\b\b\b\b\b\b\b\b\b\b\b\b\b\b\b\b\b\b\b\b\b\b\b\b\b\b\b\b\b\b\b\b\b\b\b\b\b\b\b\b\b\b\b\b\b\b\b\b\b\b\b\b\b\b\b\b\b\b\b\b\b\b\b\b\b\b\b\b\b\b\b\b\b\b\b\b\b\b\b\b\b\b\b\b\b\b\b\b\b\b\b\r57/57 [==============================] - 18s 312ms/step - loss: 0.8110 - accuracy: 0.7053 - precision: 0.8159 - recall: 0.5835 - val_loss: 0.7651 - val_accuracy: 0.7298 - val_precision: 0.8646 - val_recall: 0.5774\n",
            "Epoch 739/800\n",
            "58/57 [==============================] - ETA: 0s - loss: 0.8084 - accuracy: 0.7061 - precision: 0.8167 - recall: 0.5829"
          ]
        },
        {
          "output_type": "stream",
          "name": "stderr",
          "text": [
            "WARNING:tensorflow:Can save best model only with acc available, skipping.\n"
          ]
        },
        {
          "output_type": "stream",
          "name": "stdout",
          "text": [
            "\b\b\b\b\b\b\b\b\b\b\b\b\b\b\b\b\b\b\b\b\b\b\b\b\b\b\b\b\b\b\b\b\b\b\b\b\b\b\b\b\b\b\b\b\b\b\b\b\b\b\b\b\b\b\b\b\b\b\b\b\b\b\b\b\b\b\b\b\b\b\b\b\b\b\b\b\b\b\b\b\b\b\b\b\b\b\b\b\b\b\b\b\b\b\b\b\b\b\b\b\b\b\b\b\b\b\b\b\b\b\b\b\b\b\b\b\b\b\b\r57/57 [==============================] - 18s 310ms/step - loss: 0.8084 - accuracy: 0.7061 - precision: 0.8167 - recall: 0.5829 - val_loss: 0.7648 - val_accuracy: 0.7299 - val_precision: 0.8646 - val_recall: 0.5773\n",
            "Epoch 740/800\n",
            "58/57 [==============================] - ETA: 0s - loss: 0.8068 - accuracy: 0.7047 - precision: 0.8163 - recall: 0.5851"
          ]
        },
        {
          "output_type": "stream",
          "name": "stderr",
          "text": [
            "WARNING:tensorflow:Can save best model only with acc available, skipping.\n"
          ]
        },
        {
          "output_type": "stream",
          "name": "stdout",
          "text": [
            "\b\b\b\b\b\b\b\b\b\b\b\b\b\b\b\b\b\b\b\b\b\b\b\b\b\b\b\b\b\b\b\b\b\b\b\b\b\b\b\b\b\b\b\b\b\b\b\b\b\b\b\b\b\b\b\b\b\b\b\b\b\b\b\b\b\b\b\b\b\b\b\b\b\b\b\b\b\b\b\b\b\b\b\b\b\b\b\b\b\b\b\b\b\b\b\b\b\b\b\b\b\b\b\b\b\b\b\b\b\b\b\b\b\b\b\b\b\b\b\r57/57 [==============================] - 18s 312ms/step - loss: 0.8068 - accuracy: 0.7047 - precision: 0.8163 - recall: 0.5851 - val_loss: 0.7637 - val_accuracy: 0.7304 - val_precision: 0.8654 - val_recall: 0.5778\n",
            "Epoch 741/800\n",
            "58/57 [==============================] - ETA: 0s - loss: 0.8065 - accuracy: 0.7062 - precision: 0.8180 - recall: 0.5858"
          ]
        },
        {
          "output_type": "stream",
          "name": "stderr",
          "text": [
            "WARNING:tensorflow:Can save best model only with acc available, skipping.\n"
          ]
        },
        {
          "output_type": "stream",
          "name": "stdout",
          "text": [
            "\b\b\b\b\b\b\b\b\b\b\b\b\b\b\b\b\b\b\b\b\b\b\b\b\b\b\b\b\b\b\b\b\b\b\b\b\b\b\b\b\b\b\b\b\b\b\b\b\b\b\b\b\b\b\b\b\b\b\b\b\b\b\b\b\b\b\b\b\b\b\b\b\b\b\b\b\b\b\b\b\b\b\b\b\b\b\b\b\b\b\b\b\b\b\b\b\b\b\b\b\b\b\b\b\b\b\b\b\b\b\b\b\b\b\b\b\b\b\b\r57/57 [==============================] - 18s 315ms/step - loss: 0.8065 - accuracy: 0.7062 - precision: 0.8180 - recall: 0.5858 - val_loss: 0.7629 - val_accuracy: 0.7310 - val_precision: 0.8660 - val_recall: 0.5778\n",
            "Epoch 742/800\n",
            "58/57 [==============================] - ETA: 0s - loss: 0.8078 - accuracy: 0.7079 - precision: 0.8155 - recall: 0.5839"
          ]
        },
        {
          "output_type": "stream",
          "name": "stderr",
          "text": [
            "WARNING:tensorflow:Can save best model only with acc available, skipping.\n"
          ]
        },
        {
          "output_type": "stream",
          "name": "stdout",
          "text": [
            "\b\b\b\b\b\b\b\b\b\b\b\b\b\b\b\b\b\b\b\b\b\b\b\b\b\b\b\b\b\b\b\b\b\b\b\b\b\b\b\b\b\b\b\b\b\b\b\b\b\b\b\b\b\b\b\b\b\b\b\b\b\b\b\b\b\b\b\b\b\b\b\b\b\b\b\b\b\b\b\b\b\b\b\b\b\b\b\b\b\b\b\b\b\b\b\b\b\b\b\b\b\b\b\b\b\b\b\b\b\b\b\b\b\b\b\b\b\b\b\r57/57 [==============================] - 18s 310ms/step - loss: 0.8078 - accuracy: 0.7079 - precision: 0.8155 - recall: 0.5839 - val_loss: 0.7625 - val_accuracy: 0.7310 - val_precision: 0.8659 - val_recall: 0.5781\n",
            "Epoch 743/800\n",
            "58/57 [==============================] - ETA: 0s - loss: 0.8055 - accuracy: 0.7060 - precision: 0.8146 - recall: 0.5862"
          ]
        },
        {
          "output_type": "stream",
          "name": "stderr",
          "text": [
            "WARNING:tensorflow:Can save best model only with acc available, skipping.\n"
          ]
        },
        {
          "output_type": "stream",
          "name": "stdout",
          "text": [
            "\b\b\b\b\b\b\b\b\b\b\b\b\b\b\b\b\b\b\b\b\b\b\b\b\b\b\b\b\b\b\b\b\b\b\b\b\b\b\b\b\b\b\b\b\b\b\b\b\b\b\b\b\b\b\b\b\b\b\b\b\b\b\b\b\b\b\b\b\b\b\b\b\b\b\b\b\b\b\b\b\b\b\b\b\b\b\b\b\b\b\b\b\b\b\b\b\b\b\b\b\b\b\b\b\b\b\b\b\b\b\b\b\b\b\b\b\b\b\b\r57/57 [==============================] - 18s 314ms/step - loss: 0.8055 - accuracy: 0.7060 - precision: 0.8146 - recall: 0.5862 - val_loss: 0.7626 - val_accuracy: 0.7311 - val_precision: 0.8657 - val_recall: 0.5785\n",
            "Epoch 744/800\n",
            "58/57 [==============================] - ETA: 0s - loss: 0.8056 - accuracy: 0.7076 - precision: 0.8178 - recall: 0.5839"
          ]
        },
        {
          "output_type": "stream",
          "name": "stderr",
          "text": [
            "WARNING:tensorflow:Can save best model only with acc available, skipping.\n"
          ]
        },
        {
          "output_type": "stream",
          "name": "stdout",
          "text": [
            "\b\b\b\b\b\b\b\b\b\b\b\b\b\b\b\b\b\b\b\b\b\b\b\b\b\b\b\b\b\b\b\b\b\b\b\b\b\b\b\b\b\b\b\b\b\b\b\b\b\b\b\b\b\b\b\b\b\b\b\b\b\b\b\b\b\b\b\b\b\b\b\b\b\b\b\b\b\b\b\b\b\b\b\b\b\b\b\b\b\b\b\b\b\b\b\b\b\b\b\b\b\b\b\b\b\b\b\b\b\b\b\b\b\b\b\b\b\b\b\r57/57 [==============================] - 18s 313ms/step - loss: 0.8056 - accuracy: 0.7076 - precision: 0.8178 - recall: 0.5839 - val_loss: 0.7624 - val_accuracy: 0.7310 - val_precision: 0.8652 - val_recall: 0.5788\n",
            "Epoch 745/800\n",
            "58/57 [==============================] - ETA: 0s - loss: 0.8078 - accuracy: 0.7087 - precision: 0.8179 - recall: 0.5871"
          ]
        },
        {
          "output_type": "stream",
          "name": "stderr",
          "text": [
            "WARNING:tensorflow:Can save best model only with acc available, skipping.\n"
          ]
        },
        {
          "output_type": "stream",
          "name": "stdout",
          "text": [
            "\b\b\b\b\b\b\b\b\b\b\b\b\b\b\b\b\b\b\b\b\b\b\b\b\b\b\b\b\b\b\b\b\b\b\b\b\b\b\b\b\b\b\b\b\b\b\b\b\b\b\b\b\b\b\b\b\b\b\b\b\b\b\b\b\b\b\b\b\b\b\b\b\b\b\b\b\b\b\b\b\b\b\b\b\b\b\b\b\b\b\b\b\b\b\b\b\b\b\b\b\b\b\b\b\b\b\b\b\b\b\b\b\b\b\b\b\b\b\b\r57/57 [==============================] - 18s 314ms/step - loss: 0.8078 - accuracy: 0.7087 - precision: 0.8179 - recall: 0.5871 - val_loss: 0.7615 - val_accuracy: 0.7314 - val_precision: 0.8659 - val_recall: 0.5788\n",
            "Epoch 746/800\n",
            "58/57 [==============================] - ETA: 0s - loss: 0.8046 - accuracy: 0.7086 - precision: 0.8176 - recall: 0.5861"
          ]
        },
        {
          "output_type": "stream",
          "name": "stderr",
          "text": [
            "WARNING:tensorflow:Can save best model only with acc available, skipping.\n"
          ]
        },
        {
          "output_type": "stream",
          "name": "stdout",
          "text": [
            "\b\b\b\b\b\b\b\b\b\b\b\b\b\b\b\b\b\b\b\b\b\b\b\b\b\b\b\b\b\b\b\b\b\b\b\b\b\b\b\b\b\b\b\b\b\b\b\b\b\b\b\b\b\b\b\b\b\b\b\b\b\b\b\b\b\b\b\b\b\b\b\b\b\b\b\b\b\b\b\b\b\b\b\b\b\b\b\b\b\b\b\b\b\b\b\b\b\b\b\b\b\b\b\b\b\b\b\b\b\b\b\b\b\b\b\b\b\b\b\r57/57 [==============================] - 18s 315ms/step - loss: 0.8046 - accuracy: 0.7086 - precision: 0.8176 - recall: 0.5861 - val_loss: 0.7619 - val_accuracy: 0.7306 - val_precision: 0.8650 - val_recall: 0.5787\n",
            "Epoch 747/800\n",
            "58/57 [==============================] - ETA: 0s - loss: 0.8041 - accuracy: 0.7086 - precision: 0.8159 - recall: 0.5861"
          ]
        },
        {
          "output_type": "stream",
          "name": "stderr",
          "text": [
            "WARNING:tensorflow:Can save best model only with acc available, skipping.\n"
          ]
        },
        {
          "output_type": "stream",
          "name": "stdout",
          "text": [
            "\b\b\b\b\b\b\b\b\b\b\b\b\b\b\b\b\b\b\b\b\b\b\b\b\b\b\b\b\b\b\b\b\b\b\b\b\b\b\b\b\b\b\b\b\b\b\b\b\b\b\b\b\b\b\b\b\b\b\b\b\b\b\b\b\b\b\b\b\b\b\b\b\b\b\b\b\b\b\b\b\b\b\b\b\b\b\b\b\b\b\b\b\b\b\b\b\b\b\b\b\b\b\b\b\b\b\b\b\b\b\b\b\b\b\b\b\b\b\b\r57/57 [==============================] - 18s 312ms/step - loss: 0.8041 - accuracy: 0.7086 - precision: 0.8159 - recall: 0.5861 - val_loss: 0.7605 - val_accuracy: 0.7318 - val_precision: 0.8660 - val_recall: 0.5790\n",
            "Epoch 748/800\n",
            "58/57 [==============================] - ETA: 0s - loss: 0.8002 - accuracy: 0.7084 - precision: 0.8191 - recall: 0.5901"
          ]
        },
        {
          "output_type": "stream",
          "name": "stderr",
          "text": [
            "WARNING:tensorflow:Can save best model only with acc available, skipping.\n"
          ]
        },
        {
          "output_type": "stream",
          "name": "stdout",
          "text": [
            "\b\b\b\b\b\b\b\b\b\b\b\b\b\b\b\b\b\b\b\b\b\b\b\b\b\b\b\b\b\b\b\b\b\b\b\b\b\b\b\b\b\b\b\b\b\b\b\b\b\b\b\b\b\b\b\b\b\b\b\b\b\b\b\b\b\b\b\b\b\b\b\b\b\b\b\b\b\b\b\b\b\b\b\b\b\b\b\b\b\b\b\b\b\b\b\b\b\b\b\b\b\b\b\b\b\b\b\b\b\b\b\b\b\b\b\b\b\b\b\r57/57 [==============================] - 18s 312ms/step - loss: 0.8002 - accuracy: 0.7084 - precision: 0.8191 - recall: 0.5901 - val_loss: 0.7602 - val_accuracy: 0.7318 - val_precision: 0.8658 - val_recall: 0.5791\n",
            "Epoch 749/800\n",
            "58/57 [==============================] - ETA: 0s - loss: 0.8031 - accuracy: 0.7071 - precision: 0.8170 - recall: 0.5862"
          ]
        },
        {
          "output_type": "stream",
          "name": "stderr",
          "text": [
            "WARNING:tensorflow:Can save best model only with acc available, skipping.\n"
          ]
        },
        {
          "output_type": "stream",
          "name": "stdout",
          "text": [
            "\b\b\b\b\b\b\b\b\b\b\b\b\b\b\b\b\b\b\b\b\b\b\b\b\b\b\b\b\b\b\b\b\b\b\b\b\b\b\b\b\b\b\b\b\b\b\b\b\b\b\b\b\b\b\b\b\b\b\b\b\b\b\b\b\b\b\b\b\b\b\b\b\b\b\b\b\b\b\b\b\b\b\b\b\b\b\b\b\b\b\b\b\b\b\b\b\b\b\b\b\b\b\b\b\b\b\b\b\b\b\b\b\b\b\b\b\b\b\b\r57/57 [==============================] - 18s 311ms/step - loss: 0.8031 - accuracy: 0.7071 - precision: 0.8170 - recall: 0.5862 - val_loss: 0.7598 - val_accuracy: 0.7318 - val_precision: 0.8660 - val_recall: 0.5791\n",
            "Epoch 750/800\n",
            "58/57 [==============================] - ETA: 0s - loss: 0.8022 - accuracy: 0.7095 - precision: 0.8162 - recall: 0.5871"
          ]
        },
        {
          "output_type": "stream",
          "name": "stderr",
          "text": [
            "WARNING:tensorflow:Can save best model only with acc available, skipping.\n"
          ]
        },
        {
          "output_type": "stream",
          "name": "stdout",
          "text": [
            "\b\b\b\b\b\b\b\b\b\b\b\b\b\b\b\b\b\b\b\b\b\b\b\b\b\b\b\b\b\b\b\b\b\b\b\b\b\b\b\b\b\b\b\b\b\b\b\b\b\b\b\b\b\b\b\b\b\b\b\b\b\b\b\b\b\b\b\b\b\b\b\b\b\b\b\b\b\b\b\b\b\b\b\b\b\b\b\b\b\b\b\b\b\b\b\b\b\b\b\b\b\b\b\b\b\b\b\b\b\b\b\b\b\b\b\b\b\b\b\r57/57 [==============================] - 18s 310ms/step - loss: 0.8022 - accuracy: 0.7095 - precision: 0.8162 - recall: 0.5871 - val_loss: 0.7598 - val_accuracy: 0.7317 - val_precision: 0.8652 - val_recall: 0.5795\n",
            "Epoch 751/800\n",
            "58/57 [==============================] - ETA: 0s - loss: 0.8043 - accuracy: 0.7086 - precision: 0.8170 - recall: 0.5877"
          ]
        },
        {
          "output_type": "stream",
          "name": "stderr",
          "text": [
            "WARNING:tensorflow:Can save best model only with acc available, skipping.\n"
          ]
        },
        {
          "output_type": "stream",
          "name": "stdout",
          "text": [
            "\b\b\b\b\b\b\b\b\b\b\b\b\b\b\b\b\b\b\b\b\b\b\b\b\b\b\b\b\b\b\b\b\b\b\b\b\b\b\b\b\b\b\b\b\b\b\b\b\b\b\b\b\b\b\b\b\b\b\b\b\b\b\b\b\b\b\b\b\b\b\b\b\b\b\b\b\b\b\b\b\b\b\b\b\b\b\b\b\b\b\b\b\b\b\b\b\b\b\b\b\b\b\b\b\b\b\b\b\b\b\b\b\b\b\b\b\b\b\b\r57/57 [==============================] - 18s 315ms/step - loss: 0.8043 - accuracy: 0.7086 - precision: 0.8170 - recall: 0.5877 - val_loss: 0.7596 - val_accuracy: 0.7316 - val_precision: 0.8652 - val_recall: 0.5797\n",
            "Epoch 752/800\n",
            "58/57 [==============================] - ETA: 0s - loss: 0.8018 - accuracy: 0.7102 - precision: 0.8152 - recall: 0.5868"
          ]
        },
        {
          "output_type": "stream",
          "name": "stderr",
          "text": [
            "WARNING:tensorflow:Can save best model only with acc available, skipping.\n"
          ]
        },
        {
          "output_type": "stream",
          "name": "stdout",
          "text": [
            "\b\b\b\b\b\b\b\b\b\b\b\b\b\b\b\b\b\b\b\b\b\b\b\b\b\b\b\b\b\b\b\b\b\b\b\b\b\b\b\b\b\b\b\b\b\b\b\b\b\b\b\b\b\b\b\b\b\b\b\b\b\b\b\b\b\b\b\b\b\b\b\b\b\b\b\b\b\b\b\b\b\b\b\b\b\b\b\b\b\b\b\b\b\b\b\b\b\b\b\b\b\b\b\b\b\b\b\b\b\b\b\b\b\b\b\b\b\b\b\r57/57 [==============================] - 18s 311ms/step - loss: 0.8018 - accuracy: 0.7102 - precision: 0.8152 - recall: 0.5868 - val_loss: 0.7597 - val_accuracy: 0.7312 - val_precision: 0.8651 - val_recall: 0.5802\n",
            "Epoch 753/800\n",
            "58/57 [==============================] - ETA: 0s - loss: 0.8006 - accuracy: 0.7066 - precision: 0.8175 - recall: 0.5889"
          ]
        },
        {
          "output_type": "stream",
          "name": "stderr",
          "text": [
            "WARNING:tensorflow:Can save best model only with acc available, skipping.\n"
          ]
        },
        {
          "output_type": "stream",
          "name": "stdout",
          "text": [
            "\b\b\b\b\b\b\b\b\b\b\b\b\b\b\b\b\b\b\b\b\b\b\b\b\b\b\b\b\b\b\b\b\b\b\b\b\b\b\b\b\b\b\b\b\b\b\b\b\b\b\b\b\b\b\b\b\b\b\b\b\b\b\b\b\b\b\b\b\b\b\b\b\b\b\b\b\b\b\b\b\b\b\b\b\b\b\b\b\b\b\b\b\b\b\b\b\b\b\b\b\b\b\b\b\b\b\b\b\b\b\b\b\b\b\b\b\b\b\b\r57/57 [==============================] - 18s 314ms/step - loss: 0.8006 - accuracy: 0.7066 - precision: 0.8175 - recall: 0.5889 - val_loss: 0.7589 - val_accuracy: 0.7316 - val_precision: 0.8654 - val_recall: 0.5805\n",
            "Epoch 754/800\n",
            "58/57 [==============================] - ETA: 0s - loss: 0.7971 - accuracy: 0.7094 - precision: 0.8222 - recall: 0.5914"
          ]
        },
        {
          "output_type": "stream",
          "name": "stderr",
          "text": [
            "WARNING:tensorflow:Can save best model only with acc available, skipping.\n"
          ]
        },
        {
          "output_type": "stream",
          "name": "stdout",
          "text": [
            "\b\b\b\b\b\b\b\b\b\b\b\b\b\b\b\b\b\b\b\b\b\b\b\b\b\b\b\b\b\b\b\b\b\b\b\b\b\b\b\b\b\b\b\b\b\b\b\b\b\b\b\b\b\b\b\b\b\b\b\b\b\b\b\b\b\b\b\b\b\b\b\b\b\b\b\b\b\b\b\b\b\b\b\b\b\b\b\b\b\b\b\b\b\b\b\b\b\b\b\b\b\b\b\b\b\b\b\b\b\b\b\b\b\b\b\b\b\b\b\r57/57 [==============================] - 18s 312ms/step - loss: 0.7971 - accuracy: 0.7094 - precision: 0.8222 - recall: 0.5914 - val_loss: 0.7586 - val_accuracy: 0.7319 - val_precision: 0.8654 - val_recall: 0.5810\n",
            "Epoch 755/800\n",
            "58/57 [==============================] - ETA: 0s - loss: 0.7979 - accuracy: 0.7099 - precision: 0.8186 - recall: 0.5916"
          ]
        },
        {
          "output_type": "stream",
          "name": "stderr",
          "text": [
            "WARNING:tensorflow:Can save best model only with acc available, skipping.\n"
          ]
        },
        {
          "output_type": "stream",
          "name": "stdout",
          "text": [
            "\b\b\b\b\b\b\b\b\b\b\b\b\b\b\b\b\b\b\b\b\b\b\b\b\b\b\b\b\b\b\b\b\b\b\b\b\b\b\b\b\b\b\b\b\b\b\b\b\b\b\b\b\b\b\b\b\b\b\b\b\b\b\b\b\b\b\b\b\b\b\b\b\b\b\b\b\b\b\b\b\b\b\b\b\b\b\b\b\b\b\b\b\b\b\b\b\b\b\b\b\b\b\b\b\b\b\b\b\b\b\b\b\b\b\b\b\b\b\b\r57/57 [==============================] - 18s 313ms/step - loss: 0.7979 - accuracy: 0.7099 - precision: 0.8186 - recall: 0.5916 - val_loss: 0.7583 - val_accuracy: 0.7320 - val_precision: 0.8655 - val_recall: 0.5811\n",
            "Epoch 756/800\n",
            "58/57 [==============================] - ETA: 0s - loss: 0.8024 - accuracy: 0.7087 - precision: 0.8164 - recall: 0.5893"
          ]
        },
        {
          "output_type": "stream",
          "name": "stderr",
          "text": [
            "WARNING:tensorflow:Can save best model only with acc available, skipping.\n"
          ]
        },
        {
          "output_type": "stream",
          "name": "stdout",
          "text": [
            "\b\b\b\b\b\b\b\b\b\b\b\b\b\b\b\b\b\b\b\b\b\b\b\b\b\b\b\b\b\b\b\b\b\b\b\b\b\b\b\b\b\b\b\b\b\b\b\b\b\b\b\b\b\b\b\b\b\b\b\b\b\b\b\b\b\b\b\b\b\b\b\b\b\b\b\b\b\b\b\b\b\b\b\b\b\b\b\b\b\b\b\b\b\b\b\b\b\b\b\b\b\b\b\b\b\b\b\b\b\b\b\b\b\b\b\b\b\b\b\r57/57 [==============================] - 18s 311ms/step - loss: 0.8024 - accuracy: 0.7087 - precision: 0.8164 - recall: 0.5893 - val_loss: 0.7577 - val_accuracy: 0.7327 - val_precision: 0.8656 - val_recall: 0.5814\n",
            "Epoch 757/800\n",
            "58/57 [==============================] - ETA: 0s - loss: 0.7994 - accuracy: 0.7093 - precision: 0.8185 - recall: 0.5889"
          ]
        },
        {
          "output_type": "stream",
          "name": "stderr",
          "text": [
            "WARNING:tensorflow:Can save best model only with acc available, skipping.\n"
          ]
        },
        {
          "output_type": "stream",
          "name": "stdout",
          "text": [
            "\b\b\b\b\b\b\b\b\b\b\b\b\b\b\b\b\b\b\b\b\b\b\b\b\b\b\b\b\b\b\b\b\b\b\b\b\b\b\b\b\b\b\b\b\b\b\b\b\b\b\b\b\b\b\b\b\b\b\b\b\b\b\b\b\b\b\b\b\b\b\b\b\b\b\b\b\b\b\b\b\b\b\b\b\b\b\b\b\b\b\b\b\b\b\b\b\b\b\b\b\b\b\b\b\b\b\b\b\b\b\b\b\b\b\b\b\b\b\b\r57/57 [==============================] - 18s 317ms/step - loss: 0.7994 - accuracy: 0.7093 - precision: 0.8185 - recall: 0.5889 - val_loss: 0.7570 - val_accuracy: 0.7330 - val_precision: 0.8664 - val_recall: 0.5815\n",
            "Epoch 758/800\n",
            "58/57 [==============================] - ETA: 0s - loss: 0.8016 - accuracy: 0.7085 - precision: 0.8147 - recall: 0.5855"
          ]
        },
        {
          "output_type": "stream",
          "name": "stderr",
          "text": [
            "WARNING:tensorflow:Can save best model only with acc available, skipping.\n"
          ]
        },
        {
          "output_type": "stream",
          "name": "stdout",
          "text": [
            "\b\b\b\b\b\b\b\b\b\b\b\b\b\b\b\b\b\b\b\b\b\b\b\b\b\b\b\b\b\b\b\b\b\b\b\b\b\b\b\b\b\b\b\b\b\b\b\b\b\b\b\b\b\b\b\b\b\b\b\b\b\b\b\b\b\b\b\b\b\b\b\b\b\b\b\b\b\b\b\b\b\b\b\b\b\b\b\b\b\b\b\b\b\b\b\b\b\b\b\b\b\b\b\b\b\b\b\b\b\b\b\b\b\b\b\b\b\b\b\r57/57 [==============================] - 18s 315ms/step - loss: 0.8016 - accuracy: 0.7085 - precision: 0.8147 - recall: 0.5855 - val_loss: 0.7563 - val_accuracy: 0.7334 - val_precision: 0.8666 - val_recall: 0.5816\n",
            "Epoch 759/800\n",
            "58/57 [==============================] - ETA: 0s - loss: 0.7990 - accuracy: 0.7089 - precision: 0.8157 - recall: 0.5890"
          ]
        },
        {
          "output_type": "stream",
          "name": "stderr",
          "text": [
            "WARNING:tensorflow:Can save best model only with acc available, skipping.\n"
          ]
        },
        {
          "output_type": "stream",
          "name": "stdout",
          "text": [
            "\b\b\b\b\b\b\b\b\b\b\b\b\b\b\b\b\b\b\b\b\b\b\b\b\b\b\b\b\b\b\b\b\b\b\b\b\b\b\b\b\b\b\b\b\b\b\b\b\b\b\b\b\b\b\b\b\b\b\b\b\b\b\b\b\b\b\b\b\b\b\b\b\b\b\b\b\b\b\b\b\b\b\b\b\b\b\b\b\b\b\b\b\b\b\b\b\b\b\b\b\b\b\b\b\b\b\b\b\b\b\b\b\b\b\b\b\b\b\b\r57/57 [==============================] - 18s 311ms/step - loss: 0.7990 - accuracy: 0.7089 - precision: 0.8157 - recall: 0.5890 - val_loss: 0.7567 - val_accuracy: 0.7328 - val_precision: 0.8657 - val_recall: 0.5818\n",
            "Epoch 760/800\n",
            "58/57 [==============================] - ETA: 0s - loss: 0.7968 - accuracy: 0.7104 - precision: 0.8185 - recall: 0.5912"
          ]
        },
        {
          "output_type": "stream",
          "name": "stderr",
          "text": [
            "WARNING:tensorflow:Can save best model only with acc available, skipping.\n"
          ]
        },
        {
          "output_type": "stream",
          "name": "stdout",
          "text": [
            "\b\b\b\b\b\b\b\b\b\b\b\b\b\b\b\b\b\b\b\b\b\b\b\b\b\b\b\b\b\b\b\b\b\b\b\b\b\b\b\b\b\b\b\b\b\b\b\b\b\b\b\b\b\b\b\b\b\b\b\b\b\b\b\b\b\b\b\b\b\b\b\b\b\b\b\b\b\b\b\b\b\b\b\b\b\b\b\b\b\b\b\b\b\b\b\b\b\b\b\b\b\b\b\b\b\b\b\b\b\b\b\b\b\b\b\b\b\b\b\r57/57 [==============================] - 18s 314ms/step - loss: 0.7968 - accuracy: 0.7104 - precision: 0.8185 - recall: 0.5912 - val_loss: 0.7566 - val_accuracy: 0.7326 - val_precision: 0.8655 - val_recall: 0.5822\n",
            "Epoch 761/800\n",
            "58/57 [==============================] - ETA: 0s - loss: 0.7963 - accuracy: 0.7120 - precision: 0.8196 - recall: 0.5926"
          ]
        },
        {
          "output_type": "stream",
          "name": "stderr",
          "text": [
            "WARNING:tensorflow:Can save best model only with acc available, skipping.\n"
          ]
        },
        {
          "output_type": "stream",
          "name": "stdout",
          "text": [
            "\b\b\b\b\b\b\b\b\b\b\b\b\b\b\b\b\b\b\b\b\b\b\b\b\b\b\b\b\b\b\b\b\b\b\b\b\b\b\b\b\b\b\b\b\b\b\b\b\b\b\b\b\b\b\b\b\b\b\b\b\b\b\b\b\b\b\b\b\b\b\b\b\b\b\b\b\b\b\b\b\b\b\b\b\b\b\b\b\b\b\b\b\b\b\b\b\b\b\b\b\b\b\b\b\b\b\b\b\b\b\b\b\b\b\b\b\b\b\b\r57/57 [==============================] - 18s 312ms/step - loss: 0.7963 - accuracy: 0.7120 - precision: 0.8196 - recall: 0.5926 - val_loss: 0.7558 - val_accuracy: 0.7331 - val_precision: 0.8659 - val_recall: 0.5824\n",
            "Epoch 762/800\n",
            "58/57 [==============================] - ETA: 0s - loss: 0.7990 - accuracy: 0.7114 - precision: 0.8195 - recall: 0.5905"
          ]
        },
        {
          "output_type": "stream",
          "name": "stderr",
          "text": [
            "WARNING:tensorflow:Can save best model only with acc available, skipping.\n"
          ]
        },
        {
          "output_type": "stream",
          "name": "stdout",
          "text": [
            "\b\b\b\b\b\b\b\b\b\b\b\b\b\b\b\b\b\b\b\b\b\b\b\b\b\b\b\b\b\b\b\b\b\b\b\b\b\b\b\b\b\b\b\b\b\b\b\b\b\b\b\b\b\b\b\b\b\b\b\b\b\b\b\b\b\b\b\b\b\b\b\b\b\b\b\b\b\b\b\b\b\b\b\b\b\b\b\b\b\b\b\b\b\b\b\b\b\b\b\b\b\b\b\b\b\b\b\b\b\b\b\b\b\b\b\b\b\b\b\r57/57 [==============================] - 18s 314ms/step - loss: 0.7990 - accuracy: 0.7114 - precision: 0.8195 - recall: 0.5905 - val_loss: 0.7555 - val_accuracy: 0.7333 - val_precision: 0.8659 - val_recall: 0.5827\n",
            "Epoch 763/800\n",
            "58/57 [==============================] - ETA: 0s - loss: 0.7973 - accuracy: 0.7123 - precision: 0.8194 - recall: 0.5906"
          ]
        },
        {
          "output_type": "stream",
          "name": "stderr",
          "text": [
            "WARNING:tensorflow:Can save best model only with acc available, skipping.\n"
          ]
        },
        {
          "output_type": "stream",
          "name": "stdout",
          "text": [
            "\b\b\b\b\b\b\b\b\b\b\b\b\b\b\b\b\b\b\b\b\b\b\b\b\b\b\b\b\b\b\b\b\b\b\b\b\b\b\b\b\b\b\b\b\b\b\b\b\b\b\b\b\b\b\b\b\b\b\b\b\b\b\b\b\b\b\b\b\b\b\b\b\b\b\b\b\b\b\b\b\b\b\b\b\b\b\b\b\b\b\b\b\b\b\b\b\b\b\b\b\b\b\b\b\b\b\b\b\b\b\b\b\b\b\b\b\b\b\b\r57/57 [==============================] - 18s 315ms/step - loss: 0.7973 - accuracy: 0.7123 - precision: 0.8194 - recall: 0.5906 - val_loss: 0.7550 - val_accuracy: 0.7334 - val_precision: 0.8661 - val_recall: 0.5826\n",
            "Epoch 764/800\n",
            "58/57 [==============================] - ETA: 0s - loss: 0.7967 - accuracy: 0.7126 - precision: 0.8194 - recall: 0.5914"
          ]
        },
        {
          "output_type": "stream",
          "name": "stderr",
          "text": [
            "WARNING:tensorflow:Can save best model only with acc available, skipping.\n"
          ]
        },
        {
          "output_type": "stream",
          "name": "stdout",
          "text": [
            "\b\b\b\b\b\b\b\b\b\b\b\b\b\b\b\b\b\b\b\b\b\b\b\b\b\b\b\b\b\b\b\b\b\b\b\b\b\b\b\b\b\b\b\b\b\b\b\b\b\b\b\b\b\b\b\b\b\b\b\b\b\b\b\b\b\b\b\b\b\b\b\b\b\b\b\b\b\b\b\b\b\b\b\b\b\b\b\b\b\b\b\b\b\b\b\b\b\b\b\b\b\b\b\b\b\b\b\b\b\b\b\b\b\b\b\b\b\b\b\r57/57 [==============================] - 18s 313ms/step - loss: 0.7967 - accuracy: 0.7126 - precision: 0.8194 - recall: 0.5914 - val_loss: 0.7551 - val_accuracy: 0.7335 - val_precision: 0.8658 - val_recall: 0.5828\n",
            "Epoch 765/800\n",
            "58/57 [==============================] - ETA: 0s - loss: 0.7937 - accuracy: 0.7125 - precision: 0.8189 - recall: 0.5914"
          ]
        },
        {
          "output_type": "stream",
          "name": "stderr",
          "text": [
            "WARNING:tensorflow:Can save best model only with acc available, skipping.\n"
          ]
        },
        {
          "output_type": "stream",
          "name": "stdout",
          "text": [
            "\b\b\b\b\b\b\b\b\b\b\b\b\b\b\b\b\b\b\b\b\b\b\b\b\b\b\b\b\b\b\b\b\b\b\b\b\b\b\b\b\b\b\b\b\b\b\b\b\b\b\b\b\b\b\b\b\b\b\b\b\b\b\b\b\b\b\b\b\b\b\b\b\b\b\b\b\b\b\b\b\b\b\b\b\b\b\b\b\b\b\b\b\b\b\b\b\b\b\b\b\b\b\b\b\b\b\b\b\b\b\b\b\b\b\b\b\b\b\b\r57/57 [==============================] - 18s 311ms/step - loss: 0.7937 - accuracy: 0.7125 - precision: 0.8189 - recall: 0.5914 - val_loss: 0.7547 - val_accuracy: 0.7337 - val_precision: 0.8658 - val_recall: 0.5831\n",
            "Epoch 766/800\n",
            "58/57 [==============================] - ETA: 0s - loss: 0.7958 - accuracy: 0.7083 - precision: 0.8177 - recall: 0.5920"
          ]
        },
        {
          "output_type": "stream",
          "name": "stderr",
          "text": [
            "WARNING:tensorflow:Can save best model only with acc available, skipping.\n"
          ]
        },
        {
          "output_type": "stream",
          "name": "stdout",
          "text": [
            "\b\b\b\b\b\b\b\b\b\b\b\b\b\b\b\b\b\b\b\b\b\b\b\b\b\b\b\b\b\b\b\b\b\b\b\b\b\b\b\b\b\b\b\b\b\b\b\b\b\b\b\b\b\b\b\b\b\b\b\b\b\b\b\b\b\b\b\b\b\b\b\b\b\b\b\b\b\b\b\b\b\b\b\b\b\b\b\b\b\b\b\b\b\b\b\b\b\b\b\b\b\b\b\b\b\b\b\b\b\b\b\b\b\b\b\b\b\b\b\r57/57 [==============================] - 18s 309ms/step - loss: 0.7958 - accuracy: 0.7083 - precision: 0.8177 - recall: 0.5920 - val_loss: 0.7537 - val_accuracy: 0.7343 - val_precision: 0.8658 - val_recall: 0.5830\n",
            "Epoch 767/800\n",
            "58/57 [==============================] - ETA: 0s - loss: 0.7954 - accuracy: 0.7116 - precision: 0.8189 - recall: 0.5937"
          ]
        },
        {
          "output_type": "stream",
          "name": "stderr",
          "text": [
            "WARNING:tensorflow:Can save best model only with acc available, skipping.\n"
          ]
        },
        {
          "output_type": "stream",
          "name": "stdout",
          "text": [
            "\b\b\b\b\b\b\b\b\b\b\b\b\b\b\b\b\b\b\b\b\b\b\b\b\b\b\b\b\b\b\b\b\b\b\b\b\b\b\b\b\b\b\b\b\b\b\b\b\b\b\b\b\b\b\b\b\b\b\b\b\b\b\b\b\b\b\b\b\b\b\b\b\b\b\b\b\b\b\b\b\b\b\b\b\b\b\b\b\b\b\b\b\b\b\b\b\b\b\b\b\b\b\b\b\b\b\b\b\b\b\b\b\b\b\b\b\b\b\b\r57/57 [==============================] - 18s 311ms/step - loss: 0.7954 - accuracy: 0.7116 - precision: 0.8189 - recall: 0.5937 - val_loss: 0.7535 - val_accuracy: 0.7345 - val_precision: 0.8662 - val_recall: 0.5831\n",
            "Epoch 768/800\n",
            "58/57 [==============================] - ETA: 0s - loss: 0.7948 - accuracy: 0.7090 - precision: 0.8194 - recall: 0.5923"
          ]
        },
        {
          "output_type": "stream",
          "name": "stderr",
          "text": [
            "WARNING:tensorflow:Can save best model only with acc available, skipping.\n"
          ]
        },
        {
          "output_type": "stream",
          "name": "stdout",
          "text": [
            "\b\b\b\b\b\b\b\b\b\b\b\b\b\b\b\b\b\b\b\b\b\b\b\b\b\b\b\b\b\b\b\b\b\b\b\b\b\b\b\b\b\b\b\b\b\b\b\b\b\b\b\b\b\b\b\b\b\b\b\b\b\b\b\b\b\b\b\b\b\b\b\b\b\b\b\b\b\b\b\b\b\b\b\b\b\b\b\b\b\b\b\b\b\b\b\b\b\b\b\b\b\b\b\b\b\b\b\b\b\b\b\b\b\b\b\b\b\b\b\r57/57 [==============================] - 18s 313ms/step - loss: 0.7948 - accuracy: 0.7090 - precision: 0.8194 - recall: 0.5923 - val_loss: 0.7528 - val_accuracy: 0.7348 - val_precision: 0.8664 - val_recall: 0.5838\n",
            "Epoch 769/800\n",
            "58/57 [==============================] - ETA: 0s - loss: 0.7961 - accuracy: 0.7128 - precision: 0.8180 - recall: 0.5931"
          ]
        },
        {
          "output_type": "stream",
          "name": "stderr",
          "text": [
            "WARNING:tensorflow:Can save best model only with acc available, skipping.\n"
          ]
        },
        {
          "output_type": "stream",
          "name": "stdout",
          "text": [
            "\b\b\b\b\b\b\b\b\b\b\b\b\b\b\b\b\b\b\b\b\b\b\b\b\b\b\b\b\b\b\b\b\b\b\b\b\b\b\b\b\b\b\b\b\b\b\b\b\b\b\b\b\b\b\b\b\b\b\b\b\b\b\b\b\b\b\b\b\b\b\b\b\b\b\b\b\b\b\b\b\b\b\b\b\b\b\b\b\b\b\b\b\b\b\b\b\b\b\b\b\b\b\b\b\b\b\b\b\b\b\b\b\b\b\b\b\b\b\b\r57/57 [==============================] - 18s 317ms/step - loss: 0.7961 - accuracy: 0.7128 - precision: 0.8180 - recall: 0.5931 - val_loss: 0.7526 - val_accuracy: 0.7350 - val_precision: 0.8663 - val_recall: 0.5834\n",
            "Epoch 770/800\n",
            "58/57 [==============================] - ETA: 0s - loss: 0.7962 - accuracy: 0.7109 - precision: 0.8179 - recall: 0.5936"
          ]
        },
        {
          "output_type": "stream",
          "name": "stderr",
          "text": [
            "WARNING:tensorflow:Can save best model only with acc available, skipping.\n"
          ]
        },
        {
          "output_type": "stream",
          "name": "stdout",
          "text": [
            "\b\b\b\b\b\b\b\b\b\b\b\b\b\b\b\b\b\b\b\b\b\b\b\b\b\b\b\b\b\b\b\b\b\b\b\b\b\b\b\b\b\b\b\b\b\b\b\b\b\b\b\b\b\b\b\b\b\b\b\b\b\b\b\b\b\b\b\b\b\b\b\b\b\b\b\b\b\b\b\b\b\b\b\b\b\b\b\b\b\b\b\b\b\b\b\b\b\b\b\b\b\b\b\b\b\b\b\b\b\b\b\b\b\b\b\b\b\b\b\r57/57 [==============================] - 19s 324ms/step - loss: 0.7962 - accuracy: 0.7109 - precision: 0.8179 - recall: 0.5936 - val_loss: 0.7524 - val_accuracy: 0.7353 - val_precision: 0.8664 - val_recall: 0.5837\n",
            "Epoch 771/800\n",
            "58/57 [==============================] - ETA: 0s - loss: 0.7951 - accuracy: 0.7106 - precision: 0.8199 - recall: 0.5926"
          ]
        },
        {
          "output_type": "stream",
          "name": "stderr",
          "text": [
            "WARNING:tensorflow:Can save best model only with acc available, skipping.\n"
          ]
        },
        {
          "output_type": "stream",
          "name": "stdout",
          "text": [
            "\b\b\b\b\b\b\b\b\b\b\b\b\b\b\b\b\b\b\b\b\b\b\b\b\b\b\b\b\b\b\b\b\b\b\b\b\b\b\b\b\b\b\b\b\b\b\b\b\b\b\b\b\b\b\b\b\b\b\b\b\b\b\b\b\b\b\b\b\b\b\b\b\b\b\b\b\b\b\b\b\b\b\b\b\b\b\b\b\b\b\b\b\b\b\b\b\b\b\b\b\b\b\b\b\b\b\b\b\b\b\b\b\b\b\b\b\b\b\b\r57/57 [==============================] - 18s 309ms/step - loss: 0.7951 - accuracy: 0.7106 - precision: 0.8199 - recall: 0.5926 - val_loss: 0.7521 - val_accuracy: 0.7353 - val_precision: 0.8662 - val_recall: 0.5841\n",
            "Epoch 772/800\n",
            "58/57 [==============================] - ETA: 0s - loss: 0.7958 - accuracy: 0.7102 - precision: 0.8190 - recall: 0.5909"
          ]
        },
        {
          "output_type": "stream",
          "name": "stderr",
          "text": [
            "WARNING:tensorflow:Can save best model only with acc available, skipping.\n"
          ]
        },
        {
          "output_type": "stream",
          "name": "stdout",
          "text": [
            "\b\b\b\b\b\b\b\b\b\b\b\b\b\b\b\b\b\b\b\b\b\b\b\b\b\b\b\b\b\b\b\b\b\b\b\b\b\b\b\b\b\b\b\b\b\b\b\b\b\b\b\b\b\b\b\b\b\b\b\b\b\b\b\b\b\b\b\b\b\b\b\b\b\b\b\b\b\b\b\b\b\b\b\b\b\b\b\b\b\b\b\b\b\b\b\b\b\b\b\b\b\b\b\b\b\b\b\b\b\b\b\b\b\b\b\b\b\b\b\r57/57 [==============================] - 18s 313ms/step - loss: 0.7958 - accuracy: 0.7102 - precision: 0.8190 - recall: 0.5909 - val_loss: 0.7515 - val_accuracy: 0.7356 - val_precision: 0.8665 - val_recall: 0.5842\n",
            "Epoch 773/800\n",
            "58/57 [==============================] - ETA: 0s - loss: 0.7941 - accuracy: 0.7109 - precision: 0.8197 - recall: 0.5921"
          ]
        },
        {
          "output_type": "stream",
          "name": "stderr",
          "text": [
            "WARNING:tensorflow:Can save best model only with acc available, skipping.\n"
          ]
        },
        {
          "output_type": "stream",
          "name": "stdout",
          "text": [
            "\b\b\b\b\b\b\b\b\b\b\b\b\b\b\b\b\b\b\b\b\b\b\b\b\b\b\b\b\b\b\b\b\b\b\b\b\b\b\b\b\b\b\b\b\b\b\b\b\b\b\b\b\b\b\b\b\b\b\b\b\b\b\b\b\b\b\b\b\b\b\b\b\b\b\b\b\b\b\b\b\b\b\b\b\b\b\b\b\b\b\b\b\b\b\b\b\b\b\b\b\b\b\b\b\b\b\b\b\b\b\b\b\b\b\b\b\b\b\b\r57/57 [==============================] - 18s 312ms/step - loss: 0.7941 - accuracy: 0.7109 - precision: 0.8197 - recall: 0.5921 - val_loss: 0.7513 - val_accuracy: 0.7358 - val_precision: 0.8663 - val_recall: 0.5847\n",
            "Epoch 774/800\n",
            "58/57 [==============================] - ETA: 0s - loss: 0.7968 - accuracy: 0.7101 - precision: 0.8182 - recall: 0.5923"
          ]
        },
        {
          "output_type": "stream",
          "name": "stderr",
          "text": [
            "WARNING:tensorflow:Can save best model only with acc available, skipping.\n"
          ]
        },
        {
          "output_type": "stream",
          "name": "stdout",
          "text": [
            "\b\b\b\b\b\b\b\b\b\b\b\b\b\b\b\b\b\b\b\b\b\b\b\b\b\b\b\b\b\b\b\b\b\b\b\b\b\b\b\b\b\b\b\b\b\b\b\b\b\b\b\b\b\b\b\b\b\b\b\b\b\b\b\b\b\b\b\b\b\b\b\b\b\b\b\b\b\b\b\b\b\b\b\b\b\b\b\b\b\b\b\b\b\b\b\b\b\b\b\b\b\b\b\b\b\b\b\b\b\b\b\b\b\b\b\b\b\b\b\r57/57 [==============================] - 18s 315ms/step - loss: 0.7968 - accuracy: 0.7101 - precision: 0.8182 - recall: 0.5923 - val_loss: 0.7515 - val_accuracy: 0.7352 - val_precision: 0.8659 - val_recall: 0.5849\n",
            "Epoch 775/800\n",
            "58/57 [==============================] - ETA: 0s - loss: 0.7945 - accuracy: 0.7105 - precision: 0.8198 - recall: 0.5919"
          ]
        },
        {
          "output_type": "stream",
          "name": "stderr",
          "text": [
            "WARNING:tensorflow:Can save best model only with acc available, skipping.\n"
          ]
        },
        {
          "output_type": "stream",
          "name": "stdout",
          "text": [
            "\b\b\b\b\b\b\b\b\b\b\b\b\b\b\b\b\b\b\b\b\b\b\b\b\b\b\b\b\b\b\b\b\b\b\b\b\b\b\b\b\b\b\b\b\b\b\b\b\b\b\b\b\b\b\b\b\b\b\b\b\b\b\b\b\b\b\b\b\b\b\b\b\b\b\b\b\b\b\b\b\b\b\b\b\b\b\b\b\b\b\b\b\b\b\b\b\b\b\b\b\b\b\b\b\b\b\b\b\b\b\b\b\b\b\b\b\b\b\b\r57/57 [==============================] - 18s 315ms/step - loss: 0.7945 - accuracy: 0.7105 - precision: 0.8198 - recall: 0.5919 - val_loss: 0.7511 - val_accuracy: 0.7351 - val_precision: 0.8657 - val_recall: 0.5852\n",
            "Epoch 776/800\n",
            "58/57 [==============================] - ETA: 0s - loss: 0.7907 - accuracy: 0.7120 - precision: 0.8192 - recall: 0.5924"
          ]
        },
        {
          "output_type": "stream",
          "name": "stderr",
          "text": [
            "WARNING:tensorflow:Can save best model only with acc available, skipping.\n"
          ]
        },
        {
          "output_type": "stream",
          "name": "stdout",
          "text": [
            "\b\b\b\b\b\b\b\b\b\b\b\b\b\b\b\b\b\b\b\b\b\b\b\b\b\b\b\b\b\b\b\b\b\b\b\b\b\b\b\b\b\b\b\b\b\b\b\b\b\b\b\b\b\b\b\b\b\b\b\b\b\b\b\b\b\b\b\b\b\b\b\b\b\b\b\b\b\b\b\b\b\b\b\b\b\b\b\b\b\b\b\b\b\b\b\b\b\b\b\b\b\b\b\b\b\b\b\b\b\b\b\b\b\b\b\b\b\b\b\r57/57 [==============================] - 18s 315ms/step - loss: 0.7907 - accuracy: 0.7120 - precision: 0.8192 - recall: 0.5924 - val_loss: 0.7497 - val_accuracy: 0.7367 - val_precision: 0.8666 - val_recall: 0.5856\n",
            "Epoch 777/800\n",
            "58/57 [==============================] - ETA: 0s - loss: 0.7942 - accuracy: 0.7116 - precision: 0.8187 - recall: 0.5936"
          ]
        },
        {
          "output_type": "stream",
          "name": "stderr",
          "text": [
            "WARNING:tensorflow:Can save best model only with acc available, skipping.\n"
          ]
        },
        {
          "output_type": "stream",
          "name": "stdout",
          "text": [
            "\b\b\b\b\b\b\b\b\b\b\b\b\b\b\b\b\b\b\b\b\b\b\b\b\b\b\b\b\b\b\b\b\b\b\b\b\b\b\b\b\b\b\b\b\b\b\b\b\b\b\b\b\b\b\b\b\b\b\b\b\b\b\b\b\b\b\b\b\b\b\b\b\b\b\b\b\b\b\b\b\b\b\b\b\b\b\b\b\b\b\b\b\b\b\b\b\b\b\b\b\b\b\b\b\b\b\b\b\b\b\b\b\b\b\b\b\b\b\b\r57/57 [==============================] - 18s 311ms/step - loss: 0.7942 - accuracy: 0.7116 - precision: 0.8187 - recall: 0.5936 - val_loss: 0.7501 - val_accuracy: 0.7357 - val_precision: 0.8660 - val_recall: 0.5855\n",
            "Epoch 778/800\n",
            "58/57 [==============================] - ETA: 0s - loss: 0.7888 - accuracy: 0.7135 - precision: 0.8222 - recall: 0.5942"
          ]
        },
        {
          "output_type": "stream",
          "name": "stderr",
          "text": [
            "WARNING:tensorflow:Can save best model only with acc available, skipping.\n"
          ]
        },
        {
          "output_type": "stream",
          "name": "stdout",
          "text": [
            "\b\b\b\b\b\b\b\b\b\b\b\b\b\b\b\b\b\b\b\b\b\b\b\b\b\b\b\b\b\b\b\b\b\b\b\b\b\b\b\b\b\b\b\b\b\b\b\b\b\b\b\b\b\b\b\b\b\b\b\b\b\b\b\b\b\b\b\b\b\b\b\b\b\b\b\b\b\b\b\b\b\b\b\b\b\b\b\b\b\b\b\b\b\b\b\b\b\b\b\b\b\b\b\b\b\b\b\b\b\b\b\b\b\b\b\b\b\b\b\r57/57 [==============================] - 18s 310ms/step - loss: 0.7888 - accuracy: 0.7135 - precision: 0.8222 - recall: 0.5942 - val_loss: 0.7496 - val_accuracy: 0.7358 - val_precision: 0.8663 - val_recall: 0.5858\n",
            "Epoch 779/800\n",
            "58/57 [==============================] - ETA: 0s - loss: 0.7938 - accuracy: 0.7122 - precision: 0.8188 - recall: 0.5939"
          ]
        },
        {
          "output_type": "stream",
          "name": "stderr",
          "text": [
            "WARNING:tensorflow:Can save best model only with acc available, skipping.\n"
          ]
        },
        {
          "output_type": "stream",
          "name": "stdout",
          "text": [
            "\b\b\b\b\b\b\b\b\b\b\b\b\b\b\b\b\b\b\b\b\b\b\b\b\b\b\b\b\b\b\b\b\b\b\b\b\b\b\b\b\b\b\b\b\b\b\b\b\b\b\b\b\b\b\b\b\b\b\b\b\b\b\b\b\b\b\b\b\b\b\b\b\b\b\b\b\b\b\b\b\b\b\b\b\b\b\b\b\b\b\b\b\b\b\b\b\b\b\b\b\b\b\b\b\b\b\b\b\b\b\b\b\b\b\b\b\b\b\b\r57/57 [==============================] - 18s 312ms/step - loss: 0.7938 - accuracy: 0.7122 - precision: 0.8188 - recall: 0.5939 - val_loss: 0.7490 - val_accuracy: 0.7363 - val_precision: 0.8664 - val_recall: 0.5860\n",
            "Epoch 780/800\n",
            "58/57 [==============================] - ETA: 0s - loss: 0.7899 - accuracy: 0.7131 - precision: 0.8216 - recall: 0.5956"
          ]
        },
        {
          "output_type": "stream",
          "name": "stderr",
          "text": [
            "WARNING:tensorflow:Can save best model only with acc available, skipping.\n"
          ]
        },
        {
          "output_type": "stream",
          "name": "stdout",
          "text": [
            "\b\b\b\b\b\b\b\b\b\b\b\b\b\b\b\b\b\b\b\b\b\b\b\b\b\b\b\b\b\b\b\b\b\b\b\b\b\b\b\b\b\b\b\b\b\b\b\b\b\b\b\b\b\b\b\b\b\b\b\b\b\b\b\b\b\b\b\b\b\b\b\b\b\b\b\b\b\b\b\b\b\b\b\b\b\b\b\b\b\b\b\b\b\b\b\b\b\b\b\b\b\b\b\b\b\b\b\b\b\b\b\b\b\b\b\b\b\b\b\r57/57 [==============================] - 18s 311ms/step - loss: 0.7899 - accuracy: 0.7131 - precision: 0.8216 - recall: 0.5956 - val_loss: 0.7489 - val_accuracy: 0.7364 - val_precision: 0.8663 - val_recall: 0.5860\n",
            "Epoch 781/800\n",
            "58/57 [==============================] - ETA: 0s - loss: 0.7875 - accuracy: 0.7138 - precision: 0.8192 - recall: 0.5951"
          ]
        },
        {
          "output_type": "stream",
          "name": "stderr",
          "text": [
            "WARNING:tensorflow:Can save best model only with acc available, skipping.\n"
          ]
        },
        {
          "output_type": "stream",
          "name": "stdout",
          "text": [
            "\b\b\b\b\b\b\b\b\b\b\b\b\b\b\b\b\b\b\b\b\b\b\b\b\b\b\b\b\b\b\b\b\b\b\b\b\b\b\b\b\b\b\b\b\b\b\b\b\b\b\b\b\b\b\b\b\b\b\b\b\b\b\b\b\b\b\b\b\b\b\b\b\b\b\b\b\b\b\b\b\b\b\b\b\b\b\b\b\b\b\b\b\b\b\b\b\b\b\b\b\b\b\b\b\b\b\b\b\b\b\b\b\b\b\b\b\b\b\b\r57/57 [==============================] - 18s 313ms/step - loss: 0.7875 - accuracy: 0.7138 - precision: 0.8192 - recall: 0.5951 - val_loss: 0.7491 - val_accuracy: 0.7359 - val_precision: 0.8656 - val_recall: 0.5860\n",
            "Epoch 782/800\n",
            "58/57 [==============================] - ETA: 0s - loss: 0.7873 - accuracy: 0.7140 - precision: 0.8237 - recall: 0.5953"
          ]
        },
        {
          "output_type": "stream",
          "name": "stderr",
          "text": [
            "WARNING:tensorflow:Can save best model only with acc available, skipping.\n"
          ]
        },
        {
          "output_type": "stream",
          "name": "stdout",
          "text": [
            "\b\b\b\b\b\b\b\b\b\b\b\b\b\b\b\b\b\b\b\b\b\b\b\b\b\b\b\b\b\b\b\b\b\b\b\b\b\b\b\b\b\b\b\b\b\b\b\b\b\b\b\b\b\b\b\b\b\b\b\b\b\b\b\b\b\b\b\b\b\b\b\b\b\b\b\b\b\b\b\b\b\b\b\b\b\b\b\b\b\b\b\b\b\b\b\b\b\b\b\b\b\b\b\b\b\b\b\b\b\b\b\b\b\b\b\b\b\b\b\r57/57 [==============================] - 18s 311ms/step - loss: 0.7873 - accuracy: 0.7140 - precision: 0.8237 - recall: 0.5953 - val_loss: 0.7489 - val_accuracy: 0.7359 - val_precision: 0.8656 - val_recall: 0.5859\n",
            "Epoch 783/800\n",
            "58/57 [==============================] - ETA: 0s - loss: 0.7904 - accuracy: 0.7141 - precision: 0.8195 - recall: 0.5935"
          ]
        },
        {
          "output_type": "stream",
          "name": "stderr",
          "text": [
            "WARNING:tensorflow:Can save best model only with acc available, skipping.\n"
          ]
        },
        {
          "output_type": "stream",
          "name": "stdout",
          "text": [
            "\b\b\b\b\b\b\b\b\b\b\b\b\b\b\b\b\b\b\b\b\b\b\b\b\b\b\b\b\b\b\b\b\b\b\b\b\b\b\b\b\b\b\b\b\b\b\b\b\b\b\b\b\b\b\b\b\b\b\b\b\b\b\b\b\b\b\b\b\b\b\b\b\b\b\b\b\b\b\b\b\b\b\b\b\b\b\b\b\b\b\b\b\b\b\b\b\b\b\b\b\b\b\b\b\b\b\b\b\b\b\b\b\b\b\b\b\b\b\b\r57/57 [==============================] - 18s 310ms/step - loss: 0.7904 - accuracy: 0.7141 - precision: 0.8195 - recall: 0.5935 - val_loss: 0.7482 - val_accuracy: 0.7361 - val_precision: 0.8657 - val_recall: 0.5865\n",
            "Epoch 784/800\n",
            "58/57 [==============================] - ETA: 0s - loss: 0.7917 - accuracy: 0.7134 - precision: 0.8204 - recall: 0.5945"
          ]
        },
        {
          "output_type": "stream",
          "name": "stderr",
          "text": [
            "WARNING:tensorflow:Can save best model only with acc available, skipping.\n"
          ]
        },
        {
          "output_type": "stream",
          "name": "stdout",
          "text": [
            "\b\b\b\b\b\b\b\b\b\b\b\b\b\b\b\b\b\b\b\b\b\b\b\b\b\b\b\b\b\b\b\b\b\b\b\b\b\b\b\b\b\b\b\b\b\b\b\b\b\b\b\b\b\b\b\b\b\b\b\b\b\b\b\b\b\b\b\b\b\b\b\b\b\b\b\b\b\b\b\b\b\b\b\b\b\b\b\b\b\b\b\b\b\b\b\b\b\b\b\b\b\b\b\b\b\b\b\b\b\b\b\b\b\b\b\b\b\b\b\r57/57 [==============================] - 18s 313ms/step - loss: 0.7917 - accuracy: 0.7134 - precision: 0.8204 - recall: 0.5945 - val_loss: 0.7478 - val_accuracy: 0.7363 - val_precision: 0.8659 - val_recall: 0.5865\n",
            "Epoch 785/800\n",
            "58/57 [==============================] - ETA: 0s - loss: 0.7896 - accuracy: 0.7141 - precision: 0.8210 - recall: 0.5951"
          ]
        },
        {
          "output_type": "stream",
          "name": "stderr",
          "text": [
            "WARNING:tensorflow:Can save best model only with acc available, skipping.\n"
          ]
        },
        {
          "output_type": "stream",
          "name": "stdout",
          "text": [
            "\b\b\b\b\b\b\b\b\b\b\b\b\b\b\b\b\b\b\b\b\b\b\b\b\b\b\b\b\b\b\b\b\b\b\b\b\b\b\b\b\b\b\b\b\b\b\b\b\b\b\b\b\b\b\b\b\b\b\b\b\b\b\b\b\b\b\b\b\b\b\b\b\b\b\b\b\b\b\b\b\b\b\b\b\b\b\b\b\b\b\b\b\b\b\b\b\b\b\b\b\b\b\b\b\b\b\b\b\b\b\b\b\b\b\b\b\b\b\b\r57/57 [==============================] - 18s 313ms/step - loss: 0.7896 - accuracy: 0.7141 - precision: 0.8210 - recall: 0.5951 - val_loss: 0.7472 - val_accuracy: 0.7363 - val_precision: 0.8660 - val_recall: 0.5871\n",
            "Epoch 786/800\n",
            "58/57 [==============================] - ETA: 0s - loss: 0.7861 - accuracy: 0.7141 - precision: 0.8213 - recall: 0.5963"
          ]
        },
        {
          "output_type": "stream",
          "name": "stderr",
          "text": [
            "WARNING:tensorflow:Can save best model only with acc available, skipping.\n"
          ]
        },
        {
          "output_type": "stream",
          "name": "stdout",
          "text": [
            "\b\b\b\b\b\b\b\b\b\b\b\b\b\b\b\b\b\b\b\b\b\b\b\b\b\b\b\b\b\b\b\b\b\b\b\b\b\b\b\b\b\b\b\b\b\b\b\b\b\b\b\b\b\b\b\b\b\b\b\b\b\b\b\b\b\b\b\b\b\b\b\b\b\b\b\b\b\b\b\b\b\b\b\b\b\b\b\b\b\b\b\b\b\b\b\b\b\b\b\b\b\b\b\b\b\b\b\b\b\b\b\b\b\b\b\b\b\b\b\r57/57 [==============================] - 18s 312ms/step - loss: 0.7861 - accuracy: 0.7141 - precision: 0.8213 - recall: 0.5963 - val_loss: 0.7463 - val_accuracy: 0.7368 - val_precision: 0.8661 - val_recall: 0.5876\n",
            "Epoch 787/800\n",
            "58/57 [==============================] - ETA: 0s - loss: 0.7897 - accuracy: 0.7145 - precision: 0.8208 - recall: 0.5951"
          ]
        },
        {
          "output_type": "stream",
          "name": "stderr",
          "text": [
            "WARNING:tensorflow:Can save best model only with acc available, skipping.\n"
          ]
        },
        {
          "output_type": "stream",
          "name": "stdout",
          "text": [
            "\b\b\b\b\b\b\b\b\b\b\b\b\b\b\b\b\b\b\b\b\b\b\b\b\b\b\b\b\b\b\b\b\b\b\b\b\b\b\b\b\b\b\b\b\b\b\b\b\b\b\b\b\b\b\b\b\b\b\b\b\b\b\b\b\b\b\b\b\b\b\b\b\b\b\b\b\b\b\b\b\b\b\b\b\b\b\b\b\b\b\b\b\b\b\b\b\b\b\b\b\b\b\b\b\b\b\b\b\b\b\b\b\b\b\b\b\b\b\b\r57/57 [==============================] - 18s 310ms/step - loss: 0.7897 - accuracy: 0.7145 - precision: 0.8208 - recall: 0.5951 - val_loss: 0.7458 - val_accuracy: 0.7370 - val_precision: 0.8663 - val_recall: 0.5880\n",
            "Epoch 788/800\n",
            "58/57 [==============================] - ETA: 0s - loss: 0.7895 - accuracy: 0.7118 - precision: 0.8191 - recall: 0.5944"
          ]
        },
        {
          "output_type": "stream",
          "name": "stderr",
          "text": [
            "WARNING:tensorflow:Can save best model only with acc available, skipping.\n"
          ]
        },
        {
          "output_type": "stream",
          "name": "stdout",
          "text": [
            "\b\b\b\b\b\b\b\b\b\b\b\b\b\b\b\b\b\b\b\b\b\b\b\b\b\b\b\b\b\b\b\b\b\b\b\b\b\b\b\b\b\b\b\b\b\b\b\b\b\b\b\b\b\b\b\b\b\b\b\b\b\b\b\b\b\b\b\b\b\b\b\b\b\b\b\b\b\b\b\b\b\b\b\b\b\b\b\b\b\b\b\b\b\b\b\b\b\b\b\b\b\b\b\b\b\b\b\b\b\b\b\b\b\b\b\b\b\b\b\r57/57 [==============================] - 18s 312ms/step - loss: 0.7895 - accuracy: 0.7118 - precision: 0.8191 - recall: 0.5944 - val_loss: 0.7455 - val_accuracy: 0.7375 - val_precision: 0.8667 - val_recall: 0.5879\n",
            "Epoch 789/800\n",
            "58/57 [==============================] - ETA: 0s - loss: 0.7879 - accuracy: 0.7149 - precision: 0.8203 - recall: 0.5965"
          ]
        },
        {
          "output_type": "stream",
          "name": "stderr",
          "text": [
            "WARNING:tensorflow:Can save best model only with acc available, skipping.\n"
          ]
        },
        {
          "output_type": "stream",
          "name": "stdout",
          "text": [
            "\b\b\b\b\b\b\b\b\b\b\b\b\b\b\b\b\b\b\b\b\b\b\b\b\b\b\b\b\b\b\b\b\b\b\b\b\b\b\b\b\b\b\b\b\b\b\b\b\b\b\b\b\b\b\b\b\b\b\b\b\b\b\b\b\b\b\b\b\b\b\b\b\b\b\b\b\b\b\b\b\b\b\b\b\b\b\b\b\b\b\b\b\b\b\b\b\b\b\b\b\b\b\b\b\b\b\b\b\b\b\b\b\b\b\b\b\b\b\b\r57/57 [==============================] - 18s 310ms/step - loss: 0.7879 - accuracy: 0.7149 - precision: 0.8203 - recall: 0.5965 - val_loss: 0.7459 - val_accuracy: 0.7365 - val_precision: 0.8663 - val_recall: 0.5879\n",
            "Epoch 790/800\n",
            "58/57 [==============================] - ETA: 0s - loss: 0.7896 - accuracy: 0.7119 - precision: 0.8172 - recall: 0.5951"
          ]
        },
        {
          "output_type": "stream",
          "name": "stderr",
          "text": [
            "WARNING:tensorflow:Can save best model only with acc available, skipping.\n"
          ]
        },
        {
          "output_type": "stream",
          "name": "stdout",
          "text": [
            "\b\b\b\b\b\b\b\b\b\b\b\b\b\b\b\b\b\b\b\b\b\b\b\b\b\b\b\b\b\b\b\b\b\b\b\b\b\b\b\b\b\b\b\b\b\b\b\b\b\b\b\b\b\b\b\b\b\b\b\b\b\b\b\b\b\b\b\b\b\b\b\b\b\b\b\b\b\b\b\b\b\b\b\b\b\b\b\b\b\b\b\b\b\b\b\b\b\b\b\b\b\b\b\b\b\b\b\b\b\b\b\b\b\b\b\b\b\b\b\r57/57 [==============================] - 18s 312ms/step - loss: 0.7896 - accuracy: 0.7119 - precision: 0.8172 - recall: 0.5951 - val_loss: 0.7459 - val_accuracy: 0.7363 - val_precision: 0.8662 - val_recall: 0.5876\n",
            "Epoch 791/800\n",
            "58/57 [==============================] - ETA: 0s - loss: 0.7876 - accuracy: 0.7151 - precision: 0.8203 - recall: 0.5958"
          ]
        },
        {
          "output_type": "stream",
          "name": "stderr",
          "text": [
            "WARNING:tensorflow:Can save best model only with acc available, skipping.\n"
          ]
        },
        {
          "output_type": "stream",
          "name": "stdout",
          "text": [
            "\b\b\b\b\b\b\b\b\b\b\b\b\b\b\b\b\b\b\b\b\b\b\b\b\b\b\b\b\b\b\b\b\b\b\b\b\b\b\b\b\b\b\b\b\b\b\b\b\b\b\b\b\b\b\b\b\b\b\b\b\b\b\b\b\b\b\b\b\b\b\b\b\b\b\b\b\b\b\b\b\b\b\b\b\b\b\b\b\b\b\b\b\b\b\b\b\b\b\b\b\b\b\b\b\b\b\b\b\b\b\b\b\b\b\b\b\b\b\b\r57/57 [==============================] - 18s 311ms/step - loss: 0.7876 - accuracy: 0.7151 - precision: 0.8203 - recall: 0.5958 - val_loss: 0.7452 - val_accuracy: 0.7369 - val_precision: 0.8665 - val_recall: 0.5883\n",
            "Epoch 792/800\n",
            "58/57 [==============================] - ETA: 0s - loss: 0.7879 - accuracy: 0.7176 - precision: 0.8206 - recall: 0.5964"
          ]
        },
        {
          "output_type": "stream",
          "name": "stderr",
          "text": [
            "WARNING:tensorflow:Can save best model only with acc available, skipping.\n"
          ]
        },
        {
          "output_type": "stream",
          "name": "stdout",
          "text": [
            "\b\b\b\b\b\b\b\b\b\b\b\b\b\b\b\b\b\b\b\b\b\b\b\b\b\b\b\b\b\b\b\b\b\b\b\b\b\b\b\b\b\b\b\b\b\b\b\b\b\b\b\b\b\b\b\b\b\b\b\b\b\b\b\b\b\b\b\b\b\b\b\b\b\b\b\b\b\b\b\b\b\b\b\b\b\b\b\b\b\b\b\b\b\b\b\b\b\b\b\b\b\b\b\b\b\b\b\b\b\b\b\b\b\b\b\b\b\b\b\r57/57 [==============================] - 19s 319ms/step - loss: 0.7879 - accuracy: 0.7176 - precision: 0.8206 - recall: 0.5964 - val_loss: 0.7448 - val_accuracy: 0.7369 - val_precision: 0.8664 - val_recall: 0.5883\n",
            "Epoch 793/800\n",
            "58/57 [==============================] - ETA: 0s - loss: 0.7846 - accuracy: 0.7135 - precision: 0.8213 - recall: 0.5964"
          ]
        },
        {
          "output_type": "stream",
          "name": "stderr",
          "text": [
            "WARNING:tensorflow:Can save best model only with acc available, skipping.\n"
          ]
        },
        {
          "output_type": "stream",
          "name": "stdout",
          "text": [
            "\b\b\b\b\b\b\b\b\b\b\b\b\b\b\b\b\b\b\b\b\b\b\b\b\b\b\b\b\b\b\b\b\b\b\b\b\b\b\b\b\b\b\b\b\b\b\b\b\b\b\b\b\b\b\b\b\b\b\b\b\b\b\b\b\b\b\b\b\b\b\b\b\b\b\b\b\b\b\b\b\b\b\b\b\b\b\b\b\b\b\b\b\b\b\b\b\b\b\b\b\b\b\b\b\b\b\b\b\b\b\b\b\b\b\b\b\b\b\b\r57/57 [==============================] - 18s 309ms/step - loss: 0.7846 - accuracy: 0.7135 - precision: 0.8213 - recall: 0.5964 - val_loss: 0.7442 - val_accuracy: 0.7376 - val_precision: 0.8667 - val_recall: 0.5887\n",
            "Epoch 794/800\n",
            "58/57 [==============================] - ETA: 0s - loss: 0.7853 - accuracy: 0.7146 - precision: 0.8219 - recall: 0.5984"
          ]
        },
        {
          "output_type": "stream",
          "name": "stderr",
          "text": [
            "WARNING:tensorflow:Can save best model only with acc available, skipping.\n"
          ]
        },
        {
          "output_type": "stream",
          "name": "stdout",
          "text": [
            "\b\b\b\b\b\b\b\b\b\b\b\b\b\b\b\b\b\b\b\b\b\b\b\b\b\b\b\b\b\b\b\b\b\b\b\b\b\b\b\b\b\b\b\b\b\b\b\b\b\b\b\b\b\b\b\b\b\b\b\b\b\b\b\b\b\b\b\b\b\b\b\b\b\b\b\b\b\b\b\b\b\b\b\b\b\b\b\b\b\b\b\b\b\b\b\b\b\b\b\b\b\b\b\b\b\b\b\b\b\b\b\b\b\b\b\b\b\b\b\r57/57 [==============================] - 18s 309ms/step - loss: 0.7853 - accuracy: 0.7146 - precision: 0.8219 - recall: 0.5984 - val_loss: 0.7440 - val_accuracy: 0.7373 - val_precision: 0.8669 - val_recall: 0.5890\n",
            "Epoch 795/800\n",
            "58/57 [==============================] - ETA: 0s - loss: 0.7824 - accuracy: 0.7151 - precision: 0.8196 - recall: 0.5986"
          ]
        },
        {
          "output_type": "stream",
          "name": "stderr",
          "text": [
            "WARNING:tensorflow:Can save best model only with acc available, skipping.\n"
          ]
        },
        {
          "output_type": "stream",
          "name": "stdout",
          "text": [
            "\b\b\b\b\b\b\b\b\b\b\b\b\b\b\b\b\b\b\b\b\b\b\b\b\b\b\b\b\b\b\b\b\b\b\b\b\b\b\b\b\b\b\b\b\b\b\b\b\b\b\b\b\b\b\b\b\b\b\b\b\b\b\b\b\b\b\b\b\b\b\b\b\b\b\b\b\b\b\b\b\b\b\b\b\b\b\b\b\b\b\b\b\b\b\b\b\b\b\b\b\b\b\b\b\b\b\b\b\b\b\b\b\b\b\b\b\b\b\b\r57/57 [==============================] - 18s 311ms/step - loss: 0.7824 - accuracy: 0.7151 - precision: 0.8196 - recall: 0.5986 - val_loss: 0.7434 - val_accuracy: 0.7381 - val_precision: 0.8670 - val_recall: 0.5890\n",
            "Epoch 796/800\n",
            "58/57 [==============================] - ETA: 0s - loss: 0.7844 - accuracy: 0.7145 - precision: 0.8194 - recall: 0.5969"
          ]
        },
        {
          "output_type": "stream",
          "name": "stderr",
          "text": [
            "WARNING:tensorflow:Can save best model only with acc available, skipping.\n"
          ]
        },
        {
          "output_type": "stream",
          "name": "stdout",
          "text": [
            "\b\b\b\b\b\b\b\b\b\b\b\b\b\b\b\b\b\b\b\b\b\b\b\b\b\b\b\b\b\b\b\b\b\b\b\b\b\b\b\b\b\b\b\b\b\b\b\b\b\b\b\b\b\b\b\b\b\b\b\b\b\b\b\b\b\b\b\b\b\b\b\b\b\b\b\b\b\b\b\b\b\b\b\b\b\b\b\b\b\b\b\b\b\b\b\b\b\b\b\b\b\b\b\b\b\b\b\b\b\b\b\b\b\b\b\b\b\b\b\r57/57 [==============================] - 18s 308ms/step - loss: 0.7844 - accuracy: 0.7145 - precision: 0.8194 - recall: 0.5969 - val_loss: 0.7427 - val_accuracy: 0.7388 - val_precision: 0.8673 - val_recall: 0.5894\n",
            "Epoch 797/800\n",
            "58/57 [==============================] - ETA: 0s - loss: 0.7860 - accuracy: 0.7155 - precision: 0.8214 - recall: 0.5964"
          ]
        },
        {
          "output_type": "stream",
          "name": "stderr",
          "text": [
            "WARNING:tensorflow:Can save best model only with acc available, skipping.\n"
          ]
        },
        {
          "output_type": "stream",
          "name": "stdout",
          "text": [
            "\b\b\b\b\b\b\b\b\b\b\b\b\b\b\b\b\b\b\b\b\b\b\b\b\b\b\b\b\b\b\b\b\b\b\b\b\b\b\b\b\b\b\b\b\b\b\b\b\b\b\b\b\b\b\b\b\b\b\b\b\b\b\b\b\b\b\b\b\b\b\b\b\b\b\b\b\b\b\b\b\b\b\b\b\b\b\b\b\b\b\b\b\b\b\b\b\b\b\b\b\b\b\b\b\b\b\b\b\b\b\b\b\b\b\b\b\b\b\b\r57/57 [==============================] - 18s 311ms/step - loss: 0.7860 - accuracy: 0.7155 - precision: 0.8214 - recall: 0.5964 - val_loss: 0.7431 - val_accuracy: 0.7376 - val_precision: 0.8667 - val_recall: 0.5893\n",
            "Epoch 798/800\n",
            "58/57 [==============================] - ETA: 0s - loss: 0.7853 - accuracy: 0.7148 - precision: 0.8197 - recall: 0.5981"
          ]
        },
        {
          "output_type": "stream",
          "name": "stderr",
          "text": [
            "WARNING:tensorflow:Can save best model only with acc available, skipping.\n"
          ]
        },
        {
          "output_type": "stream",
          "name": "stdout",
          "text": [
            "\b\b\b\b\b\b\b\b\b\b\b\b\b\b\b\b\b\b\b\b\b\b\b\b\b\b\b\b\b\b\b\b\b\b\b\b\b\b\b\b\b\b\b\b\b\b\b\b\b\b\b\b\b\b\b\b\b\b\b\b\b\b\b\b\b\b\b\b\b\b\b\b\b\b\b\b\b\b\b\b\b\b\b\b\b\b\b\b\b\b\b\b\b\b\b\b\b\b\b\b\b\b\b\b\b\b\b\b\b\b\b\b\b\b\b\b\b\b\b\r57/57 [==============================] - 18s 312ms/step - loss: 0.7853 - accuracy: 0.7148 - precision: 0.8197 - recall: 0.5981 - val_loss: 0.7421 - val_accuracy: 0.7389 - val_precision: 0.8672 - val_recall: 0.5898\n",
            "Epoch 799/800\n",
            "58/57 [==============================] - ETA: 0s - loss: 0.7861 - accuracy: 0.7142 - precision: 0.8208 - recall: 0.5964"
          ]
        },
        {
          "output_type": "stream",
          "name": "stderr",
          "text": [
            "WARNING:tensorflow:Can save best model only with acc available, skipping.\n"
          ]
        },
        {
          "output_type": "stream",
          "name": "stdout",
          "text": [
            "\b\b\b\b\b\b\b\b\b\b\b\b\b\b\b\b\b\b\b\b\b\b\b\b\b\b\b\b\b\b\b\b\b\b\b\b\b\b\b\b\b\b\b\b\b\b\b\b\b\b\b\b\b\b\b\b\b\b\b\b\b\b\b\b\b\b\b\b\b\b\b\b\b\b\b\b\b\b\b\b\b\b\b\b\b\b\b\b\b\b\b\b\b\b\b\b\b\b\b\b\b\b\b\b\b\b\b\b\b\b\b\b\b\b\b\b\b\b\b\r57/57 [==============================] - 18s 315ms/step - loss: 0.7861 - accuracy: 0.7142 - precision: 0.8208 - recall: 0.5964 - val_loss: 0.7424 - val_accuracy: 0.7381 - val_precision: 0.8670 - val_recall: 0.5896\n",
            "Epoch 800/800\n",
            "58/57 [==============================] - ETA: 0s - loss: 0.7833 - accuracy: 0.7152 - precision: 0.8185 - recall: 0.5975"
          ]
        },
        {
          "output_type": "stream",
          "name": "stderr",
          "text": [
            "WARNING:tensorflow:Can save best model only with acc available, skipping.\n"
          ]
        },
        {
          "output_type": "stream",
          "name": "stdout",
          "text": [
            "57/57 [==============================] - 18s 312ms/step - loss: 0.7833 - accuracy: 0.7152 - precision: 0.8185 - recall: 0.5975 - val_loss: 0.7419 - val_accuracy: 0.7388 - val_precision: 0.8672 - val_recall: 0.5898\n",
            "619/619 [==============================] - 3s 6ms/step - loss: 0.7419 - accuracy: 0.7388 - precision: 0.8672 - recall: 0.5898\n",
            "\n",
            "SUBMIT THIS BLOCK for the Competition\n",
            "\n",
            "              precision    recall  f1-score   support\n",
            "\n",
            "           0       0.74      0.76      0.75      2051\n",
            "           1       0.86      0.90      0.88      1956\n",
            "           2       0.49      0.75      0.60      2013\n",
            "           3       0.74      0.75      0.74      2008\n",
            "           4       0.65      0.47      0.55      2031\n",
            "           5       0.79      0.89      0.84      1923\n",
            "           6       0.49      0.29      0.36      1952\n",
            "           7       0.83      0.84      0.84      1920\n",
            "           8       0.92      0.84      0.88      1911\n",
            "           9       0.91      0.90      0.90      2035\n",
            "\n",
            "    accuracy                           0.74     19800\n",
            "   macro avg       0.74      0.74      0.73     19800\n",
            "weighted avg       0.74      0.74      0.73     19800\n",
            "\n",
            "Testing Loss: 0.741866946220398\n",
            "Testing Accuracy: 0.7388383746147156\n",
            "END SUBMISSION BLOCK\n",
            "\n",
            "Model: \"sequential\"\n",
            "_________________________________________________________________\n",
            " Layer (type)                Output Shape              Param #   \n",
            "=================================================================\n",
            " conv2d (Conv2D)             (None, 28, 28, 32)        320       \n",
            "                                                                 \n",
            " dropout (Dropout)           (None, 28, 28, 32)        0         \n",
            "                                                                 \n",
            " activation (Activation)     (None, 28, 28, 32)        0         \n",
            "                                                                 \n",
            " max_pooling2d (MaxPooling2D  (None, 14, 14, 32)       0         \n",
            " )                                                               \n",
            "                                                                 \n",
            " conv2d_1 (Conv2D)           (None, 14, 14, 64)        18496     \n",
            "                                                                 \n",
            " leaky_re_lu (LeakyReLU)     (None, 14, 14, 64)        0         \n",
            "                                                                 \n",
            " dropout_1 (Dropout)         (None, 14, 14, 64)        0         \n",
            "                                                                 \n",
            " max_pooling2d_1 (MaxPooling  (None, 7, 7, 64)         0         \n",
            " 2D)                                                             \n",
            "                                                                 \n",
            " activation_1 (Activation)   (None, 7, 7, 64)          0         \n",
            "                                                                 \n",
            " conv2d_2 (Conv2D)           (None, 7, 7, 64)          36928     \n",
            "                                                                 \n",
            " leaky_re_lu_1 (LeakyReLU)   (None, 7, 7, 64)          0         \n",
            "                                                                 \n",
            " dropout_2 (Dropout)         (None, 7, 7, 64)          0         \n",
            "                                                                 \n",
            " conv2d_3 (Conv2D)           (None, 7, 7, 64)          36928     \n",
            "                                                                 \n",
            " leaky_re_lu_2 (LeakyReLU)   (None, 7, 7, 64)          0         \n",
            "                                                                 \n",
            " dropout_3 (Dropout)         (None, 7, 7, 64)          0         \n",
            "                                                                 \n",
            " flatten (Flatten)           (None, 3136)              0         \n",
            "                                                                 \n",
            " dropout_4 (Dropout)         (None, 3136)              0         \n",
            "                                                                 \n",
            " dense (Dense)               (None, 10)                31370     \n",
            "                                                                 \n",
            "=================================================================\n",
            "Total params: 124,042\n",
            "Trainable params: 124,042\n",
            "Non-trainable params: 0\n",
            "_________________________________________________________________\n"
          ]
        }
      ]
    },
    {
      "cell_type": "markdown",
      "metadata": {
        "id": "wTXLg2MJMFhy"
      },
      "source": [
        "## Plot the accuracy vs. validation accuracy"
      ]
    },
    {
      "cell_type": "code",
      "metadata": {
        "id": "P2Z97VRkMIRh",
        "colab": {
          "base_uri": "https://localhost:8080/",
          "height": 513
        },
        "outputId": "0f78d7eb-ad9d-4019-9bfc-e7a95f88690b"
      },
      "source": [
        "epoch_list = list(range(1, len(hist.history['accuracy']) + 1))\n",
        "plt.plot(epoch_list, hist.history['accuracy'], epoch_list, hist.history['val_accuracy'])\n",
        "plt.legend((\"Training Accuracy\", \"Validation Accuracy\"))\n",
        "plt.show()\n",
        "\n",
        "plt.plot(epoch_list, hist.history['loss'], epoch_list, hist.history['val_loss'])\n",
        "plt.legend((\"Training Loss\", \"Validation Loss\"))\n",
        "plt.show()"
      ],
      "execution_count": 6,
      "outputs": [
        {
          "output_type": "display_data",
          "data": {
            "text/plain": [
              "<Figure size 432x288 with 1 Axes>"
            ],
            "image/png": "[encoded data removed]"
          },
          "metadata": {
            "needs_background": "light"
          }
        },
        {
          "output_type": "display_data",
          "data": {
            "text/plain": [
              "<Figure size 432x288 with 1 Axes>"
            ],
            "image/png": "[encoded data removed]"
          },
          "metadata": {
            "needs_background": "light"
          }
        }
      ]
    },
    {
      "cell_type": "markdown",
      "metadata": {
        "id": "C-imOV3gbDji"
      },
      "source": [
        "## Visualization of Performance on the Test Set\n",
        "\n",
        "Here is a visualization of how well our classifier can do inference."
      ]
    },
    {
      "cell_type": "code",
      "metadata": {
        "id": "hfsF8TlLwarT",
        "colab": {
          "base_uri": "https://localhost:8080/",
          "height": 418
        },
        "outputId": "c2ccc832-e528-425c-fe3c-d0b459868fb4"
      },
      "source": [
        "import cv2\n",
        "from imutils import build_montages\n",
        "from google.colab.patches import cv2_imshow\n",
        "\n",
        "# initialize our list of output images\n",
        "images = []\n",
        "\n",
        "labelNames = [\"top\", \"trouser\", \"pullover\", \"dress\", \"coat\",\n",
        "\t\"sandal\", \"shirt\", \"sneaker\", \"bag\", \"ankle boot\"]\n",
        " \n",
        "# randomly select a few testing fashion items\n",
        "for i in np.random.choice(np.arange(0, len(y_test)), size=(16,)):\n",
        "\t# classify the clothing\n",
        "\tprobs = model.predict(x_test[np.newaxis, i])\n",
        "\tprediction = probs.argmax(axis=1)\n",
        "\tlabel = labelNames[prediction[0]]\n",
        " \n",
        "\t# extract the image from the testData if using \"channels_first\"\n",
        "\t# ordering\n",
        "\tif K.image_data_format() == \"channels_first\":\n",
        "\t\timage = (x_test[i][0] * 255).astype(\"uint8\")\n",
        " \n",
        "\t# otherwise we are using \"channels_last\" ordering\n",
        "\telse:\n",
        "\t\timage = (x_test[i] * 255).astype(\"uint8\")\n",
        "    # initialize the text label color as green (correct)\n",
        "\tcolor = (0, 255, 0)\n",
        " \n",
        "\t# otherwise, the class label prediction is incorrect\n",
        "\tif prediction[0] != np.argmax(y_test[i]):\n",
        "\t\tcolor = (0, 0, 255)\n",
        " \n",
        "\t# merge the channels into one image and resize the image from\n",
        "\t# 28x28 to 96x96 so we can better see it and then draw the\n",
        "\t# predicted label on the image\n",
        "\timage = cv2.merge([image] * 3)\n",
        "\timage = cv2.resize(image, (96, 96), interpolation=cv2.INTER_LINEAR)\n",
        "\tcv2.putText(image, label, (5, 20), cv2.FONT_HERSHEY_SIMPLEX, 0.75,\n",
        "\t\tcolor, 2)\n",
        " \n",
        "\t# add the image to our list of output images\n",
        "\timages.append(image)\n",
        "# construct the montage for the images\n",
        "montage = build_montages(images, (96, 96), (4, 4))[0]\n",
        " \n",
        "# show the output montage\n",
        "cv2_imshow( montage)\n",
        "cv2.waitKey(0)"
      ],
      "execution_count": 7,
      "outputs": [
        {
          "output_type": "display_data",
          "data": {
            "text/plain": [
              "<PIL.Image.Image image mode=RGB size=384x384 at 0x7F685E600C90>"
            ],
            "image/png": "[encoded data removed]"
          },
          "metadata": {}
        },
        {
          "output_type": "execute_result",
          "data": {
            "text/plain": [
              "-1"
            ]
          },
          "metadata": {},
          "execution_count": 7
        }
      ]
    },
    {
      "cell_type": "code",
      "metadata": {
        "id": "dMDjuN_anxKM",
        "colab": {
          "base_uri": "https://localhost:8080/",
          "height": 499
        },
        "outputId": "824ae2ab-c0d6-44cd-b8f6-387636a84162"
      },
      "source": [
        "from seaborn import heatmap\n",
        "allprobs = model.predict(x_test)\n",
        "preds = allprobs.argmax(axis=1)\n",
        "conmat = confusion_matrix(y_dec,preds,normalize='true')\n",
        "fig,ax = plt.subplots(figsize = (10,8));\n",
        "heatmap(conmat, annot=True, fmt=\"0.3f\", ax=ax, cmap=\"rocket\");\n",
        "ax.set_xticklabels(labelNames);\n",
        "ax.set_yticklabels(labelNames);\n",
        "ax.set_title(\"True vs Predicted Labels\");"
      ],
      "execution_count": 8,
      "outputs": [
        {
          "output_type": "display_data",
          "data": {
            "text/plain": [
              "<Figure size 720x576 with 2 Axes>"
            ],
            "image/png": "[encoded data removed]"
          },
          "metadata": {
            "needs_background": "light"
          }
        }
      ]
    }
  ]
}